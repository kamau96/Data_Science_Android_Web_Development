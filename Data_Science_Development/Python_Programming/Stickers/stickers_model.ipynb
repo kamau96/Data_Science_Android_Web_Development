{
 "cells": [
  {
   "cell_type": "markdown",
   "id": "2cc5d3b6-c4ce-41d6-aa5e-8d7543008bd1",
   "metadata": {},
   "source": [
    "# Stickers Sold Notebook\n",
    "**Author: *Kamau Wa Wainaina***"
   ]
  },
  {
   "cell_type": "markdown",
   "id": "9472d361-41a9-490d-aa18-0297e008dc62",
   "metadata": {},
   "source": [
    "## Frame the problem and look at the big picture\n",
    "The problem is trying to know sticker sales in different parts of the world. Performance will be assessed using root mean squared error."
   ]
  },
  {
   "cell_type": "markdown",
   "id": "f7e6b4b5-4c58-4ffc-b629-a3abc8e0498f",
   "metadata": {},
   "source": [
    "## Get the data"
   ]
  },
  {
   "cell_type": "code",
   "execution_count": 4,
   "id": "2a5839d4-ab64-49d9-bc02-49c5bcb55c9f",
   "metadata": {
    "tags": []
   },
   "outputs": [],
   "source": [
    "# Libraries used in the notebook\n",
    "import pandas as pd\n",
    "import matplotlib.pyplot as plt\n",
    "import seaborn as sns"
   ]
  },
  {
   "cell_type": "code",
   "execution_count": 5,
   "id": "45d67542-d415-4f0f-8d26-e9867415a9aa",
   "metadata": {
    "tags": []
   },
   "outputs": [],
   "source": [
    "path = \"../../../Data/playground-series-s5e1/\"\n",
    "train = pd.read_csv(path+\"train.csv\", \n",
    "                    parse_dates=[\"date\"])\n",
    "test = pd.read_csv(path+\"test.csv\", \n",
    "                   parse_dates=[\"date\"])"
   ]
  },
  {
   "cell_type": "markdown",
   "id": "72d4a1a4-e857-457a-a1a9-7f777e69d7e9",
   "metadata": {},
   "source": [
    "## Explore data to gain insights"
   ]
  },
  {
   "cell_type": "markdown",
   "id": "55627445-43d9-4091-93f3-175a531c758a",
   "metadata": {
    "tags": []
   },
   "source": [
    "### Light Exploration"
   ]
  },
  {
   "cell_type": "code",
   "execution_count": 8,
   "id": "86c34f23-0a52-4130-afa2-da918aba2f53",
   "metadata": {
    "tags": []
   },
   "outputs": [
    {
     "data": {
      "text/html": [
       "<div>\n",
       "<style scoped>\n",
       "    .dataframe tbody tr th:only-of-type {\n",
       "        vertical-align: middle;\n",
       "    }\n",
       "\n",
       "    .dataframe tbody tr th {\n",
       "        vertical-align: top;\n",
       "    }\n",
       "\n",
       "    .dataframe thead th {\n",
       "        text-align: right;\n",
       "    }\n",
       "</style>\n",
       "<table border=\"1\" class=\"dataframe\">\n",
       "  <thead>\n",
       "    <tr style=\"text-align: right;\">\n",
       "      <th></th>\n",
       "      <th>id</th>\n",
       "      <th>date</th>\n",
       "      <th>country</th>\n",
       "      <th>store</th>\n",
       "      <th>product</th>\n",
       "      <th>num_sold</th>\n",
       "    </tr>\n",
       "  </thead>\n",
       "  <tbody>\n",
       "    <tr>\n",
       "      <th>0</th>\n",
       "      <td>0</td>\n",
       "      <td>2010-01-01</td>\n",
       "      <td>Canada</td>\n",
       "      <td>Discount Stickers</td>\n",
       "      <td>Holographic Goose</td>\n",
       "      <td>NaN</td>\n",
       "    </tr>\n",
       "    <tr>\n",
       "      <th>1</th>\n",
       "      <td>1</td>\n",
       "      <td>2010-01-01</td>\n",
       "      <td>Canada</td>\n",
       "      <td>Discount Stickers</td>\n",
       "      <td>Kaggle</td>\n",
       "      <td>973.0</td>\n",
       "    </tr>\n",
       "    <tr>\n",
       "      <th>2</th>\n",
       "      <td>2</td>\n",
       "      <td>2010-01-01</td>\n",
       "      <td>Canada</td>\n",
       "      <td>Discount Stickers</td>\n",
       "      <td>Kaggle Tiers</td>\n",
       "      <td>906.0</td>\n",
       "    </tr>\n",
       "    <tr>\n",
       "      <th>3</th>\n",
       "      <td>3</td>\n",
       "      <td>2010-01-01</td>\n",
       "      <td>Canada</td>\n",
       "      <td>Discount Stickers</td>\n",
       "      <td>Kerneler</td>\n",
       "      <td>423.0</td>\n",
       "    </tr>\n",
       "    <tr>\n",
       "      <th>4</th>\n",
       "      <td>4</td>\n",
       "      <td>2010-01-01</td>\n",
       "      <td>Canada</td>\n",
       "      <td>Discount Stickers</td>\n",
       "      <td>Kerneler Dark Mode</td>\n",
       "      <td>491.0</td>\n",
       "    </tr>\n",
       "  </tbody>\n",
       "</table>\n",
       "</div>"
      ],
      "text/plain": [
       "   id       date country              store             product  num_sold\n",
       "0   0 2010-01-01  Canada  Discount Stickers   Holographic Goose       NaN\n",
       "1   1 2010-01-01  Canada  Discount Stickers              Kaggle     973.0\n",
       "2   2 2010-01-01  Canada  Discount Stickers        Kaggle Tiers     906.0\n",
       "3   3 2010-01-01  Canada  Discount Stickers            Kerneler     423.0\n",
       "4   4 2010-01-01  Canada  Discount Stickers  Kerneler Dark Mode     491.0"
      ]
     },
     "execution_count": 8,
     "metadata": {},
     "output_type": "execute_result"
    }
   ],
   "source": [
    "train.head()"
   ]
  },
  {
   "cell_type": "code",
   "execution_count": 9,
   "id": "3b259e9c-d876-4279-a855-2621ffe2237d",
   "metadata": {
    "tags": []
   },
   "outputs": [],
   "source": [
    "# Let's explicitly make id column the index\n",
    "train = train.set_index(\"id\")\n",
    "test = test.set_index(\"id\")"
   ]
  },
  {
   "cell_type": "code",
   "execution_count": 10,
   "id": "48abebf9-960e-43ac-bf1e-3c0ccfc25dc0",
   "metadata": {
    "tags": []
   },
   "outputs": [
    {
     "name": "stdout",
     "output_type": "stream",
     "text": [
      "<class 'pandas.core.frame.DataFrame'>\n",
      "Index: 230130 entries, 0 to 230129\n",
      "Data columns (total 5 columns):\n",
      " #   Column    Non-Null Count   Dtype         \n",
      "---  ------    --------------   -----         \n",
      " 0   date      230130 non-null  datetime64[ns]\n",
      " 1   country   230130 non-null  object        \n",
      " 2   store     230130 non-null  object        \n",
      " 3   product   230130 non-null  object        \n",
      " 4   num_sold  221259 non-null  float64       \n",
      "dtypes: datetime64[ns](1), float64(1), object(3)\n",
      "memory usage: 10.5+ MB\n"
     ]
    }
   ],
   "source": [
    "train.info()"
   ]
  },
  {
   "cell_type": "markdown",
   "id": "22121007-ffd0-4366-b5d0-96e068a895ca",
   "metadata": {},
   "source": [
    "Only number sold column is missing values."
   ]
  },
  {
   "cell_type": "code",
   "execution_count": 12,
   "id": "102abae4-5b1c-4149-8ca3-476c471017c4",
   "metadata": {
    "tags": []
   },
   "outputs": [
    {
     "data": {
      "text/html": [
       "<div>\n",
       "<style scoped>\n",
       "    .dataframe tbody tr th:only-of-type {\n",
       "        vertical-align: middle;\n",
       "    }\n",
       "\n",
       "    .dataframe tbody tr th {\n",
       "        vertical-align: top;\n",
       "    }\n",
       "\n",
       "    .dataframe thead th {\n",
       "        text-align: right;\n",
       "    }\n",
       "</style>\n",
       "<table border=\"1\" class=\"dataframe\">\n",
       "  <thead>\n",
       "    <tr style=\"text-align: right;\">\n",
       "      <th></th>\n",
       "      <th>date</th>\n",
       "      <th>country</th>\n",
       "      <th>store</th>\n",
       "      <th>product</th>\n",
       "      <th>num_sold</th>\n",
       "    </tr>\n",
       "  </thead>\n",
       "  <tbody>\n",
       "    <tr>\n",
       "      <th>count</th>\n",
       "      <td>230130</td>\n",
       "      <td>230130</td>\n",
       "      <td>230130</td>\n",
       "      <td>230130</td>\n",
       "      <td>221259.000000</td>\n",
       "    </tr>\n",
       "    <tr>\n",
       "      <th>unique</th>\n",
       "      <td>NaN</td>\n",
       "      <td>6</td>\n",
       "      <td>3</td>\n",
       "      <td>5</td>\n",
       "      <td>NaN</td>\n",
       "    </tr>\n",
       "    <tr>\n",
       "      <th>top</th>\n",
       "      <td>NaN</td>\n",
       "      <td>Canada</td>\n",
       "      <td>Discount Stickers</td>\n",
       "      <td>Holographic Goose</td>\n",
       "      <td>NaN</td>\n",
       "    </tr>\n",
       "    <tr>\n",
       "      <th>freq</th>\n",
       "      <td>NaN</td>\n",
       "      <td>38355</td>\n",
       "      <td>76710</td>\n",
       "      <td>46026</td>\n",
       "      <td>NaN</td>\n",
       "    </tr>\n",
       "    <tr>\n",
       "      <th>mean</th>\n",
       "      <td>2013-07-02 00:00:00</td>\n",
       "      <td>NaN</td>\n",
       "      <td>NaN</td>\n",
       "      <td>NaN</td>\n",
       "      <td>752.527382</td>\n",
       "    </tr>\n",
       "    <tr>\n",
       "      <th>min</th>\n",
       "      <td>2010-01-01 00:00:00</td>\n",
       "      <td>NaN</td>\n",
       "      <td>NaN</td>\n",
       "      <td>NaN</td>\n",
       "      <td>5.000000</td>\n",
       "    </tr>\n",
       "    <tr>\n",
       "      <th>25%</th>\n",
       "      <td>2011-10-02 00:00:00</td>\n",
       "      <td>NaN</td>\n",
       "      <td>NaN</td>\n",
       "      <td>NaN</td>\n",
       "      <td>219.000000</td>\n",
       "    </tr>\n",
       "    <tr>\n",
       "      <th>50%</th>\n",
       "      <td>2013-07-02 00:00:00</td>\n",
       "      <td>NaN</td>\n",
       "      <td>NaN</td>\n",
       "      <td>NaN</td>\n",
       "      <td>605.000000</td>\n",
       "    </tr>\n",
       "    <tr>\n",
       "      <th>75%</th>\n",
       "      <td>2015-04-02 00:00:00</td>\n",
       "      <td>NaN</td>\n",
       "      <td>NaN</td>\n",
       "      <td>NaN</td>\n",
       "      <td>1114.000000</td>\n",
       "    </tr>\n",
       "    <tr>\n",
       "      <th>max</th>\n",
       "      <td>2016-12-31 00:00:00</td>\n",
       "      <td>NaN</td>\n",
       "      <td>NaN</td>\n",
       "      <td>NaN</td>\n",
       "      <td>5939.000000</td>\n",
       "    </tr>\n",
       "    <tr>\n",
       "      <th>std</th>\n",
       "      <td>NaN</td>\n",
       "      <td>NaN</td>\n",
       "      <td>NaN</td>\n",
       "      <td>NaN</td>\n",
       "      <td>690.165445</td>\n",
       "    </tr>\n",
       "  </tbody>\n",
       "</table>\n",
       "</div>"
      ],
      "text/plain": [
       "                       date country              store            product  \\\n",
       "count                230130  230130             230130             230130   \n",
       "unique                  NaN       6                  3                  5   \n",
       "top                     NaN  Canada  Discount Stickers  Holographic Goose   \n",
       "freq                    NaN   38355              76710              46026   \n",
       "mean    2013-07-02 00:00:00     NaN                NaN                NaN   \n",
       "min     2010-01-01 00:00:00     NaN                NaN                NaN   \n",
       "25%     2011-10-02 00:00:00     NaN                NaN                NaN   \n",
       "50%     2013-07-02 00:00:00     NaN                NaN                NaN   \n",
       "75%     2015-04-02 00:00:00     NaN                NaN                NaN   \n",
       "max     2016-12-31 00:00:00     NaN                NaN                NaN   \n",
       "std                     NaN     NaN                NaN                NaN   \n",
       "\n",
       "             num_sold  \n",
       "count   221259.000000  \n",
       "unique            NaN  \n",
       "top               NaN  \n",
       "freq              NaN  \n",
       "mean       752.527382  \n",
       "min          5.000000  \n",
       "25%        219.000000  \n",
       "50%        605.000000  \n",
       "75%       1114.000000  \n",
       "max       5939.000000  \n",
       "std        690.165445  "
      ]
     },
     "execution_count": 12,
     "metadata": {},
     "output_type": "execute_result"
    }
   ],
   "source": [
    "train.describe(include=\"all\")"
   ]
  },
  {
   "cell_type": "markdown",
   "id": "7252223b-7082-42d2-92a1-6d4d1ac5cadc",
   "metadata": {},
   "source": [
    "### Exploratory Data Analysis"
   ]
  },
  {
   "cell_type": "code",
   "execution_count": 14,
   "id": "38ec805c-c479-4e48-b79e-d6359bbeec91",
   "metadata": {
    "tags": []
   },
   "outputs": [],
   "source": [
    "exploration_data = train.copy()"
   ]
  },
  {
   "cell_type": "markdown",
   "id": "75b20185-6984-475b-b609-8324e93e9e34",
   "metadata": {},
   "source": [
    "Let's see number sold per country"
   ]
  },
  {
   "cell_type": "code",
   "execution_count": 16,
   "id": "03978406-3d61-4943-a33b-d55b53fbb9c1",
   "metadata": {
    "tags": []
   },
   "outputs": [
    {
     "data": {
      "image/png": "[encoded data removed]",
      "text/plain": [
       "<Figure size 800x500 with 1 Axes>"
      ]
     },
     "metadata": {},
     "output_type": "display_data"
    }
   ],
   "source": [
    "num_sold_country = exploration_data.groupby(\"country\")[\"num_sold\"].mean()\n",
    "num_sold_country = num_sold_country.reset_index()\n",
    "fig, ax = plt.subplots(figsize=(8, 5))\n",
    "sns.barplot(x=\"country\", \n",
    "            y=\"num_sold\", \n",
    "            data=num_sold_country, \n",
    "            order=[\"Norway\", \"Singapore\", \"Canada\", \"Finland\", \"Italy\", \"Kenya\"],\n",
    "            ax=ax)\n",
    "ax.set_ylabel(\"Stickers sold\")\n",
    "ax.set_title(\"Average stickers sold\", size=20)\n",
    "plt.show()"
   ]
  },
  {
   "cell_type": "code",
   "execution_count": 38,
   "id": "50fb17c7-1130-477f-9e78-3df9b5b41864",
   "metadata": {
    "tags": []
   },
   "outputs": [
    {
     "data": {
      "image/png": "[encoded data removed]",
      "text/plain": [
       "<Figure size 800x500 with 1 Axes>"
      ]
     },
     "metadata": {},
     "output_type": "display_data"
    }
   ],
   "source": [
    "num_sold_product = exploration_data.groupby(\"product\")[\"num_sold\"].mean().reset_index()\n",
    "fig, ax = plt.subplots(figsize=(8, 5))\n",
    "sns.barplot(x=\"product\", \n",
    "            y=\"num_sold\", \n",
    "            data=num_sold_product, \n",
    "            order=[\"Kaggle\", \"Kaggle Tiers\", \"Kerneler Dark Mode\", \"Kerneler\", \"Holographic Goose\"],\n",
    "            ax=ax)\n",
    "ax.set_ylabel(\"Stickers sold\")\n",
    "ax.set_title(\"Average product sales\", size=20)\n",
    "plt.show()"
   ]
  },
  {
   "cell_type": "code",
   "execution_count": null,
   "id": "85f2a39f-45b1-49b0-9d49-10b134a5ac38",
   "metadata": {},
   "outputs": [],
   "source": []
  }
 ],
 "metadata": {
  "kernelspec": {
   "display_name": "Python 3 (ipykernel)",
   "language": "python",
   "name": "python3"
  },
  "language_info": {
   "codemirror_mode": {
    "name": "ipython",
    "version": 3
   },
   "file_extension": ".py",
   "mimetype": "text/x-python",
   "name": "python",
   "nbconvert_exporter": "python",
   "pygments_lexer": "ipython3",
   "version": "3.11.5"
  },
  "toc-autonumbering": true
 },
 "nbformat": 4,
 "nbformat_minor": 5
}
