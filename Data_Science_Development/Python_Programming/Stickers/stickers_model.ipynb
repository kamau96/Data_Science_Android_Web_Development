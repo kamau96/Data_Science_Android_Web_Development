{
 "cells": [
  {
   "cell_type": "markdown",
   "id": "2cc5d3b6-c4ce-41d6-aa5e-8d7543008bd1",
   "metadata": {},
   "source": [
    "# Stickers Sold Notebook\n",
    "**Author: *Kamau Wa Wainaina***"
   ]
  },
  {
   "cell_type": "markdown",
   "id": "9472d361-41a9-490d-aa18-0297e008dc62",
   "metadata": {},
   "source": [
    "## Frame the problem and look at the big picture\n",
    "The problem is trying to know sticker sales in different parts of the world. Performance will be assessed using root mean squared error."
   ]
  },
  {
   "cell_type": "markdown",
   "id": "f7e6b4b5-4c58-4ffc-b629-a3abc8e0498f",
   "metadata": {},
   "source": [
    "## Get the data"
   ]
  },
  {
   "cell_type": "code",
   "execution_count": 5,
   "id": "2a5839d4-ab64-49d9-bc02-49c5bcb55c9f",
   "metadata": {
    "tags": []
   },
   "outputs": [],
   "source": [
    "# Libraries used in the notebook\n",
    "import pandas as pd"
   ]
  },
  {
   "cell_type": "code",
   "execution_count": 11,
   "id": "45d67542-d415-4f0f-8d26-e9867415a9aa",
   "metadata": {
    "tags": []
   },
   "outputs": [],
   "source": [
    "path = \"../../../Data/playground-series-s5e1/\"\n",
    "train = pd.read_csv(path+\"train.csv\")\n",
    "test = pd.read_csv(path+\"test.csv\")"
   ]
  },
  {
   "cell_type": "markdown",
   "id": "72d4a1a4-e857-457a-a1a9-7f777e69d7e9",
   "metadata": {},
   "source": [
    "## Explore data to gain insights"
   ]
  },
  {
   "cell_type": "code",
   "execution_count": null,
   "id": "86c34f23-0a52-4130-afa2-da918aba2f53",
   "metadata": {},
   "outputs": [],
   "source": []
  }
 ],
 "metadata": {
  "kernelspec": {
   "display_name": "Python 3 (ipykernel)",
   "language": "python",
   "name": "python3"
  },
  "language_info": {
   "codemirror_mode": {
    "name": "ipython",
    "version": 3
   },
   "file_extension": ".py",
   "mimetype": "text/x-python",
   "name": "python",
   "nbconvert_exporter": "python",
   "pygments_lexer": "ipython3",
   "version": "3.11.5"
  }
 },
 "nbformat": 4,
 "nbformat_minor": 5
}
