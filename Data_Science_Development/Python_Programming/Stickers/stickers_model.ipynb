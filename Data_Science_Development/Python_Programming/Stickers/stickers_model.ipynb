{
 "cells": [
  {
   "cell_type": "markdown",
   "id": "2cc5d3b6-c4ce-41d6-aa5e-8d7543008bd1",
   "metadata": {},
   "source": [
    "# This Notebook tries to Predict number of Stickers Sold."
   ]
  }
 ],
 "metadata": {
  "kernelspec": {
   "display_name": "Python 3 (ipykernel)",
   "language": "python",
   "name": "python3"
  },
  "language_info": {
   "codemirror_mode": {
    "name": "ipython",
    "version": 3
   },
   "file_extension": ".py",
   "mimetype": "text/x-python",
   "name": "python",
   "nbconvert_exporter": "python",
   "pygments_lexer": "ipython3",
   "version": "3.11.5"
  }
 },
 "nbformat": 4,
 "nbformat_minor": 5
}
