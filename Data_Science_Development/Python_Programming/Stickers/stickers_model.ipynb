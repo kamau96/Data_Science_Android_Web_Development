{
 "cells": [
  {
   "cell_type": "markdown",
   "id": "2cc5d3b6-c4ce-41d6-aa5e-8d7543008bd1",
   "metadata": {},
   "source": [
    "# This Notebook tries to Predict number of Stickers Sold."
   ]
  },
  {
   "cell_type": "markdown",
   "id": "86284fe4-9037-4585-acbd-5822d1394ff6",
   "metadata": {
    "tags": []
   },
   "source": [
    "### Loading Dataset."
   ]
  },
  {
   "cell_type": "markdown",
   "id": "84f170ae-5095-40be-853c-abbfc8c7408a",
   "metadata": {},
   "source": [
    "Let's start by loading the data for exploration."
   ]
  },
  {
   "cell_type": "code",
   "execution_count": 3,
   "id": "147ec9a0-2dd2-43a0-8538-cb455d9b7882",
   "metadata": {
    "tags": []
   },
   "outputs": [],
   "source": [
    "# Necessary libraries.\n",
    "import pandas as pd\n",
    "import numpy as np\n",
    "import matplotlib.pyplot as plt"
   ]
  },
  {
   "cell_type": "code",
   "execution_count": 6,
   "id": "aa31bf35-c337-4248-b47f-ceecd4a36193",
   "metadata": {
    "tags": []
   },
   "outputs": [],
   "source": [
    "path = \"../../../Data/playground-series-s5e1/\"\n",
    "train = pd.read_csv(path+\"train.csv\")\n",
    "test = pd.read_csv(path+\"test.csv\")"
   ]
  },
  {
   "cell_type": "markdown",
   "id": "0423c345-1eb7-4ff8-9a50-bd16dad1926c",
   "metadata": {},
   "source": [
    "A quick peek at the data."
   ]
  },
  {
   "cell_type": "code",
   "execution_count": 9,
   "id": "6844ccce-f826-44a3-8795-fd0aab5960d0",
   "metadata": {
    "tags": []
   },
   "outputs": [
    {
     "data": {
      "text/html": [
       "<div>\n",
       "<style scoped>\n",
       "    .dataframe tbody tr th:only-of-type {\n",
       "        vertical-align: middle;\n",
       "    }\n",
       "\n",
       "    .dataframe tbody tr th {\n",
       "        vertical-align: top;\n",
       "    }\n",
       "\n",
       "    .dataframe thead th {\n",
       "        text-align: right;\n",
       "    }\n",
       "</style>\n",
       "<table border=\"1\" class=\"dataframe\">\n",
       "  <thead>\n",
       "    <tr style=\"text-align: right;\">\n",
       "      <th></th>\n",
       "      <th>id</th>\n",
       "      <th>date</th>\n",
       "      <th>country</th>\n",
       "      <th>store</th>\n",
       "      <th>product</th>\n",
       "      <th>num_sold</th>\n",
       "    </tr>\n",
       "  </thead>\n",
       "  <tbody>\n",
       "    <tr>\n",
       "      <th>0</th>\n",
       "      <td>0</td>\n",
       "      <td>2010-01-01</td>\n",
       "      <td>Canada</td>\n",
       "      <td>Discount Stickers</td>\n",
       "      <td>Holographic Goose</td>\n",
       "      <td>NaN</td>\n",
       "    </tr>\n",
       "    <tr>\n",
       "      <th>1</th>\n",
       "      <td>1</td>\n",
       "      <td>2010-01-01</td>\n",
       "      <td>Canada</td>\n",
       "      <td>Discount Stickers</td>\n",
       "      <td>Kaggle</td>\n",
       "      <td>973.0</td>\n",
       "    </tr>\n",
       "    <tr>\n",
       "      <th>2</th>\n",
       "      <td>2</td>\n",
       "      <td>2010-01-01</td>\n",
       "      <td>Canada</td>\n",
       "      <td>Discount Stickers</td>\n",
       "      <td>Kaggle Tiers</td>\n",
       "      <td>906.0</td>\n",
       "    </tr>\n",
       "    <tr>\n",
       "      <th>3</th>\n",
       "      <td>3</td>\n",
       "      <td>2010-01-01</td>\n",
       "      <td>Canada</td>\n",
       "      <td>Discount Stickers</td>\n",
       "      <td>Kerneler</td>\n",
       "      <td>423.0</td>\n",
       "    </tr>\n",
       "    <tr>\n",
       "      <th>4</th>\n",
       "      <td>4</td>\n",
       "      <td>2010-01-01</td>\n",
       "      <td>Canada</td>\n",
       "      <td>Discount Stickers</td>\n",
       "      <td>Kerneler Dark Mode</td>\n",
       "      <td>491.0</td>\n",
       "    </tr>\n",
       "  </tbody>\n",
       "</table>\n",
       "</div>"
      ],
      "text/plain": [
       "   id        date country              store             product  num_sold\n",
       "0   0  2010-01-01  Canada  Discount Stickers   Holographic Goose       NaN\n",
       "1   1  2010-01-01  Canada  Discount Stickers              Kaggle     973.0\n",
       "2   2  2010-01-01  Canada  Discount Stickers        Kaggle Tiers     906.0\n",
       "3   3  2010-01-01  Canada  Discount Stickers            Kerneler     423.0\n",
       "4   4  2010-01-01  Canada  Discount Stickers  Kerneler Dark Mode     491.0"
      ]
     },
     "execution_count": 9,
     "metadata": {},
     "output_type": "execute_result"
    }
   ],
   "source": [
    "train.head()"
   ]
  },
  {
   "cell_type": "code",
   "execution_count": 70,
   "id": "19060c86-1343-4f9f-b1a4-45fb5acb7a3c",
   "metadata": {
    "tags": []
   },
   "outputs": [
    {
     "data": {
      "text/html": [
       "<div>\n",
       "<style scoped>\n",
       "    .dataframe tbody tr th:only-of-type {\n",
       "        vertical-align: middle;\n",
       "    }\n",
       "\n",
       "    .dataframe tbody tr th {\n",
       "        vertical-align: top;\n",
       "    }\n",
       "\n",
       "    .dataframe thead th {\n",
       "        text-align: right;\n",
       "    }\n",
       "</style>\n",
       "<table border=\"1\" class=\"dataframe\">\n",
       "  <thead>\n",
       "    <tr style=\"text-align: right;\">\n",
       "      <th></th>\n",
       "      <th>date</th>\n",
       "      <th>country</th>\n",
       "      <th>store</th>\n",
       "      <th>product</th>\n",
       "      <th>num_sold</th>\n",
       "    </tr>\n",
       "    <tr>\n",
       "      <th>id</th>\n",
       "      <th></th>\n",
       "      <th></th>\n",
       "      <th></th>\n",
       "      <th></th>\n",
       "      <th></th>\n",
       "    </tr>\n",
       "  </thead>\n",
       "  <tbody>\n",
       "    <tr>\n",
       "      <th>230125</th>\n",
       "      <td>2016-12-31</td>\n",
       "      <td>Singapore</td>\n",
       "      <td>Premium Sticker Mart</td>\n",
       "      <td>Holographic Goose</td>\n",
       "      <td>466.0</td>\n",
       "    </tr>\n",
       "    <tr>\n",
       "      <th>230126</th>\n",
       "      <td>2016-12-31</td>\n",
       "      <td>Singapore</td>\n",
       "      <td>Premium Sticker Mart</td>\n",
       "      <td>Kaggle</td>\n",
       "      <td>2907.0</td>\n",
       "    </tr>\n",
       "    <tr>\n",
       "      <th>230127</th>\n",
       "      <td>2016-12-31</td>\n",
       "      <td>Singapore</td>\n",
       "      <td>Premium Sticker Mart</td>\n",
       "      <td>Kaggle Tiers</td>\n",
       "      <td>2299.0</td>\n",
       "    </tr>\n",
       "    <tr>\n",
       "      <th>230128</th>\n",
       "      <td>2016-12-31</td>\n",
       "      <td>Singapore</td>\n",
       "      <td>Premium Sticker Mart</td>\n",
       "      <td>Kerneler</td>\n",
       "      <td>1242.0</td>\n",
       "    </tr>\n",
       "    <tr>\n",
       "      <th>230129</th>\n",
       "      <td>2016-12-31</td>\n",
       "      <td>Singapore</td>\n",
       "      <td>Premium Sticker Mart</td>\n",
       "      <td>Kerneler Dark Mode</td>\n",
       "      <td>1622.0</td>\n",
       "    </tr>\n",
       "  </tbody>\n",
       "</table>\n",
       "</div>"
      ],
      "text/plain": [
       "              date    country                 store             product  \\\n",
       "id                                                                        \n",
       "230125  2016-12-31  Singapore  Premium Sticker Mart   Holographic Goose   \n",
       "230126  2016-12-31  Singapore  Premium Sticker Mart              Kaggle   \n",
       "230127  2016-12-31  Singapore  Premium Sticker Mart        Kaggle Tiers   \n",
       "230128  2016-12-31  Singapore  Premium Sticker Mart            Kerneler   \n",
       "230129  2016-12-31  Singapore  Premium Sticker Mart  Kerneler Dark Mode   \n",
       "\n",
       "        num_sold  \n",
       "id                \n",
       "230125     466.0  \n",
       "230126    2907.0  \n",
       "230127    2299.0  \n",
       "230128    1242.0  \n",
       "230129    1622.0  "
      ]
     },
     "execution_count": 70,
     "metadata": {},
     "output_type": "execute_result"
    }
   ],
   "source": [
    "train.tail()"
   ]
  },
  {
   "cell_type": "code",
   "execution_count": 11,
   "id": "9bc4117b-bf79-41a6-9497-22e243e9d944",
   "metadata": {
    "tags": []
   },
   "outputs": [
    {
     "data": {
      "text/html": [
       "<div>\n",
       "<style scoped>\n",
       "    .dataframe tbody tr th:only-of-type {\n",
       "        vertical-align: middle;\n",
       "    }\n",
       "\n",
       "    .dataframe tbody tr th {\n",
       "        vertical-align: top;\n",
       "    }\n",
       "\n",
       "    .dataframe thead th {\n",
       "        text-align: right;\n",
       "    }\n",
       "</style>\n",
       "<table border=\"1\" class=\"dataframe\">\n",
       "  <thead>\n",
       "    <tr style=\"text-align: right;\">\n",
       "      <th></th>\n",
       "      <th>id</th>\n",
       "      <th>date</th>\n",
       "      <th>country</th>\n",
       "      <th>store</th>\n",
       "      <th>product</th>\n",
       "    </tr>\n",
       "  </thead>\n",
       "  <tbody>\n",
       "    <tr>\n",
       "      <th>0</th>\n",
       "      <td>230130</td>\n",
       "      <td>2017-01-01</td>\n",
       "      <td>Canada</td>\n",
       "      <td>Discount Stickers</td>\n",
       "      <td>Holographic Goose</td>\n",
       "    </tr>\n",
       "    <tr>\n",
       "      <th>1</th>\n",
       "      <td>230131</td>\n",
       "      <td>2017-01-01</td>\n",
       "      <td>Canada</td>\n",
       "      <td>Discount Stickers</td>\n",
       "      <td>Kaggle</td>\n",
       "    </tr>\n",
       "    <tr>\n",
       "      <th>2</th>\n",
       "      <td>230132</td>\n",
       "      <td>2017-01-01</td>\n",
       "      <td>Canada</td>\n",
       "      <td>Discount Stickers</td>\n",
       "      <td>Kaggle Tiers</td>\n",
       "    </tr>\n",
       "    <tr>\n",
       "      <th>3</th>\n",
       "      <td>230133</td>\n",
       "      <td>2017-01-01</td>\n",
       "      <td>Canada</td>\n",
       "      <td>Discount Stickers</td>\n",
       "      <td>Kerneler</td>\n",
       "    </tr>\n",
       "    <tr>\n",
       "      <th>4</th>\n",
       "      <td>230134</td>\n",
       "      <td>2017-01-01</td>\n",
       "      <td>Canada</td>\n",
       "      <td>Discount Stickers</td>\n",
       "      <td>Kerneler Dark Mode</td>\n",
       "    </tr>\n",
       "  </tbody>\n",
       "</table>\n",
       "</div>"
      ],
      "text/plain": [
       "       id        date country              store             product\n",
       "0  230130  2017-01-01  Canada  Discount Stickers   Holographic Goose\n",
       "1  230131  2017-01-01  Canada  Discount Stickers              Kaggle\n",
       "2  230132  2017-01-01  Canada  Discount Stickers        Kaggle Tiers\n",
       "3  230133  2017-01-01  Canada  Discount Stickers            Kerneler\n",
       "4  230134  2017-01-01  Canada  Discount Stickers  Kerneler Dark Mode"
      ]
     },
     "execution_count": 11,
     "metadata": {},
     "output_type": "execute_result"
    }
   ],
   "source": [
    "test.head()"
   ]
  },
  {
   "cell_type": "code",
   "execution_count": 72,
   "id": "14aab39c-3634-48e1-af9e-b2568d770458",
   "metadata": {
    "tags": []
   },
   "outputs": [
    {
     "data": {
      "text/html": [
       "<div>\n",
       "<style scoped>\n",
       "    .dataframe tbody tr th:only-of-type {\n",
       "        vertical-align: middle;\n",
       "    }\n",
       "\n",
       "    .dataframe tbody tr th {\n",
       "        vertical-align: top;\n",
       "    }\n",
       "\n",
       "    .dataframe thead th {\n",
       "        text-align: right;\n",
       "    }\n",
       "</style>\n",
       "<table border=\"1\" class=\"dataframe\">\n",
       "  <thead>\n",
       "    <tr style=\"text-align: right;\">\n",
       "      <th></th>\n",
       "      <th>date</th>\n",
       "      <th>country</th>\n",
       "      <th>store</th>\n",
       "      <th>product</th>\n",
       "    </tr>\n",
       "    <tr>\n",
       "      <th>id</th>\n",
       "      <th></th>\n",
       "      <th></th>\n",
       "      <th></th>\n",
       "      <th></th>\n",
       "    </tr>\n",
       "  </thead>\n",
       "  <tbody>\n",
       "    <tr>\n",
       "      <th>328675</th>\n",
       "      <td>2019-12-31</td>\n",
       "      <td>Singapore</td>\n",
       "      <td>Premium Sticker Mart</td>\n",
       "      <td>Holographic Goose</td>\n",
       "    </tr>\n",
       "    <tr>\n",
       "      <th>328676</th>\n",
       "      <td>2019-12-31</td>\n",
       "      <td>Singapore</td>\n",
       "      <td>Premium Sticker Mart</td>\n",
       "      <td>Kaggle</td>\n",
       "    </tr>\n",
       "    <tr>\n",
       "      <th>328677</th>\n",
       "      <td>2019-12-31</td>\n",
       "      <td>Singapore</td>\n",
       "      <td>Premium Sticker Mart</td>\n",
       "      <td>Kaggle Tiers</td>\n",
       "    </tr>\n",
       "    <tr>\n",
       "      <th>328678</th>\n",
       "      <td>2019-12-31</td>\n",
       "      <td>Singapore</td>\n",
       "      <td>Premium Sticker Mart</td>\n",
       "      <td>Kerneler</td>\n",
       "    </tr>\n",
       "    <tr>\n",
       "      <th>328679</th>\n",
       "      <td>2019-12-31</td>\n",
       "      <td>Singapore</td>\n",
       "      <td>Premium Sticker Mart</td>\n",
       "      <td>Kerneler Dark Mode</td>\n",
       "    </tr>\n",
       "  </tbody>\n",
       "</table>\n",
       "</div>"
      ],
      "text/plain": [
       "              date    country                 store             product\n",
       "id                                                                     \n",
       "328675  2019-12-31  Singapore  Premium Sticker Mart   Holographic Goose\n",
       "328676  2019-12-31  Singapore  Premium Sticker Mart              Kaggle\n",
       "328677  2019-12-31  Singapore  Premium Sticker Mart        Kaggle Tiers\n",
       "328678  2019-12-31  Singapore  Premium Sticker Mart            Kerneler\n",
       "328679  2019-12-31  Singapore  Premium Sticker Mart  Kerneler Dark Mode"
      ]
     },
     "execution_count": 72,
     "metadata": {},
     "output_type": "execute_result"
    }
   ],
   "source": [
    "test.tail()"
   ]
  },
  {
   "cell_type": "code",
   "execution_count": 15,
   "id": "ce97ef84-5bc7-48a4-90ac-9a3819da8dc9",
   "metadata": {
    "tags": []
   },
   "outputs": [],
   "source": [
    "# Let's make the id column the index of the dataframes. \n",
    "train = train.set_index(\"id\")\n",
    "test = test.set_index(\"id\")"
   ]
  },
  {
   "cell_type": "markdown",
   "id": "2aef0bd9-dab9-46b6-a348-a27b5fe57806",
   "metadata": {
    "tags": []
   },
   "source": [
    "### Exploratory Data Analysis."
   ]
  },
  {
   "cell_type": "code",
   "execution_count": 27,
   "id": "afcee0de-c3db-4f3a-b3db-4f7beabb50f7",
   "metadata": {
    "tags": []
   },
   "outputs": [
    {
     "name": "stdout",
     "output_type": "stream",
     "text": [
      "<class 'pandas.core.frame.DataFrame'>\n",
      "Index: 230130 entries, 0 to 230129\n",
      "Data columns (total 5 columns):\n",
      " #   Column    Non-Null Count   Dtype  \n",
      "---  ------    --------------   -----  \n",
      " 0   date      230130 non-null  object \n",
      " 1   country   230130 non-null  object \n",
      " 2   store     230130 non-null  object \n",
      " 3   product   230130 non-null  object \n",
      " 4   num_sold  221259 non-null  float64\n",
      "dtypes: float64(1), object(4)\n",
      "memory usage: 10.5+ MB\n"
     ]
    }
   ],
   "source": [
    "train.info()"
   ]
  },
  {
   "cell_type": "code",
   "execution_count": 58,
   "id": "219f8dae-2eaa-4838-9474-d3fe10166d9e",
   "metadata": {
    "tags": []
   },
   "outputs": [
    {
     "name": "stdout",
     "output_type": "stream",
     "text": [
      "<class 'pandas.core.frame.DataFrame'>\n",
      "Index: 98550 entries, 230130 to 328679\n",
      "Data columns (total 4 columns):\n",
      " #   Column   Non-Null Count  Dtype \n",
      "---  ------   --------------  ----- \n",
      " 0   date     98550 non-null  object\n",
      " 1   country  98550 non-null  object\n",
      " 2   store    98550 non-null  object\n",
      " 3   product  98550 non-null  object\n",
      "dtypes: object(4)\n",
      "memory usage: 3.8+ MB\n"
     ]
    }
   ],
   "source": [
    "test.info()"
   ]
  },
  {
   "cell_type": "code",
   "execution_count": 102,
   "id": "fbc17089-7787-4b77-8266-949cfb86f76f",
   "metadata": {
    "tags": []
   },
   "outputs": [
    {
     "name": "stdout",
     "output_type": "stream",
     "text": [
      "8871 stickers have missing values out of 230130 total sticketrs representing 3.85%\n"
     ]
    }
   ],
   "source": [
    "# Number of stickers sale missing.\n",
    "null_num_sold = train.loc[train[\"num_sold\"].isnull() == True, [\"num_sold\"]]\n",
    "null_num_sold_count = len(null_num_sold)\n",
    "percent_missing = np.round((null_num_sold_count/len(train))*100, 2)\n",
    "print(f\"{null_num_sold_count} stickers have missing values out of {len(train)} total sticketrs representing {percent_missing}%\")"
   ]
  },
  {
   "cell_type": "code",
   "execution_count": 64,
   "id": "96d9dca7-dbfd-43ab-8348-e1a0b9e12b65",
   "metadata": {
    "tags": []
   },
   "outputs": [
    {
     "data": {
      "text/plain": [
       "country\n",
       "Canada       38355\n",
       "Finland      38355\n",
       "Italy        38355\n",
       "Kenya        38355\n",
       "Norway       38355\n",
       "Singapore    38355\n",
       "Name: count, dtype: int64"
      ]
     },
     "execution_count": 64,
     "metadata": {},
     "output_type": "execute_result"
    }
   ],
   "source": [
    "# Countries in train.\n",
    "train[\"country\"].value_counts()"
   ]
  },
  {
   "cell_type": "code",
   "execution_count": 66,
   "id": "a8b7162b-1c3c-4fbc-9da5-b38a8a46fd61",
   "metadata": {
    "tags": []
   },
   "outputs": [
    {
     "data": {
      "text/plain": [
       "store\n",
       "Discount Stickers       76710\n",
       "Stickers for Less       76710\n",
       "Premium Sticker Mart    76710\n",
       "Name: count, dtype: int64"
      ]
     },
     "execution_count": 66,
     "metadata": {},
     "output_type": "execute_result"
    }
   ],
   "source": [
    "# Stores selling stickers.\n",
    "train[\"store\"].value_counts()"
   ]
  },
  {
   "cell_type": "code",
   "execution_count": 92,
   "id": "6735199a-d2bc-4658-ab7a-02103b32fd56",
   "metadata": {
    "tags": []
   },
   "outputs": [
    {
     "data": {
      "text/plain": [
       "product\n",
       "Holographic Goose     46026\n",
       "Kaggle                46026\n",
       "Kaggle Tiers          46026\n",
       "Kerneler              46026\n",
       "Kerneler Dark Mode    46026\n",
       "Name: count, dtype: int64"
      ]
     },
     "execution_count": 92,
     "metadata": {},
     "output_type": "execute_result"
    }
   ],
   "source": [
    " # Products sold.\n",
    "train[\"product\"].value_counts()"
   ]
  },
  {
   "cell_type": "markdown",
   "id": "4d59be9f-c316-4f6f-a415-d0b394f74cb1",
   "metadata": {},
   "source": [
    "### Visualization."
   ]
  },
  {
   "cell_type": "markdown",
   "id": "a796c1a6-de80-478e-b9f5-56b9bbeeefd8",
   "metadata": {},
   "source": [
    "We will make a barplot, histogram and line for various aspects of the dataset."
   ]
  },
  {
   "cell_type": "code",
   "execution_count": 242,
   "id": "194af51b-84ba-4441-9c48-90fa46b3b80f",
   "metadata": {
    "tags": []
   },
   "outputs": [
    {
     "data": {
      "image/png": "[encoded data removed]",
      "text/plain": [
       "<Figure size 640x480 with 1 Axes>"
      ]
     },
     "metadata": {},
     "output_type": "display_data"
    }
   ],
   "source": [
    "# Barplot for the different stores in each country.\n",
    "stores_country = train.groupby([\"country\", \"store\"])[[\"store\"]].count()\n",
    "stores_country = stores_country.rename(columns = {\"store\": \"store_count\"})\n",
    "stores_country = stores_country.reset_index()\n",
    "fig, ax = plt.subplots()\n",
    "ax.bar(x=\"country\", height=\"store_count\", data=stores_country)\n",
    "plt.show()"
   ]
  },
  {
   "cell_type": "code",
   "execution_count": 260,
   "id": "a48fdb4b-cf35-407c-8e26-878780a5955e",
   "metadata": {
    "tags": []
   },
   "outputs": [
    {
     "data": {
      "text/html": [
       "<div>\n",
       "<style scoped>\n",
       "    .dataframe tbody tr th:only-of-type {\n",
       "        vertical-align: middle;\n",
       "    }\n",
       "\n",
       "    .dataframe tbody tr th {\n",
       "        vertical-align: top;\n",
       "    }\n",
       "\n",
       "    .dataframe thead th {\n",
       "        text-align: right;\n",
       "    }\n",
       "</style>\n",
       "<table border=\"1\" class=\"dataframe\">\n",
       "  <thead>\n",
       "    <tr style=\"text-align: right;\">\n",
       "      <th></th>\n",
       "      <th>variable</th>\n",
       "      <th>value</th>\n",
       "    </tr>\n",
       "  </thead>\n",
       "  <tbody>\n",
       "    <tr>\n",
       "      <th>0</th>\n",
       "      <td>country</td>\n",
       "      <td>Canada</td>\n",
       "    </tr>\n",
       "    <tr>\n",
       "      <th>1</th>\n",
       "      <td>country</td>\n",
       "      <td>Canada</td>\n",
       "    </tr>\n",
       "    <tr>\n",
       "      <th>2</th>\n",
       "      <td>country</td>\n",
       "      <td>Canada</td>\n",
       "    </tr>\n",
       "    <tr>\n",
       "      <th>3</th>\n",
       "      <td>country</td>\n",
       "      <td>Finland</td>\n",
       "    </tr>\n",
       "    <tr>\n",
       "      <th>4</th>\n",
       "      <td>country</td>\n",
       "      <td>Finland</td>\n",
       "    </tr>\n",
       "    <tr>\n",
       "      <th>5</th>\n",
       "      <td>country</td>\n",
       "      <td>Finland</td>\n",
       "    </tr>\n",
       "    <tr>\n",
       "      <th>6</th>\n",
       "      <td>country</td>\n",
       "      <td>Italy</td>\n",
       "    </tr>\n",
       "    <tr>\n",
       "      <th>7</th>\n",
       "      <td>country</td>\n",
       "      <td>Italy</td>\n",
       "    </tr>\n",
       "    <tr>\n",
       "      <th>8</th>\n",
       "      <td>country</td>\n",
       "      <td>Italy</td>\n",
       "    </tr>\n",
       "    <tr>\n",
       "      <th>9</th>\n",
       "      <td>country</td>\n",
       "      <td>Kenya</td>\n",
       "    </tr>\n",
       "    <tr>\n",
       "      <th>10</th>\n",
       "      <td>country</td>\n",
       "      <td>Kenya</td>\n",
       "    </tr>\n",
       "    <tr>\n",
       "      <th>11</th>\n",
       "      <td>country</td>\n",
       "      <td>Kenya</td>\n",
       "    </tr>\n",
       "    <tr>\n",
       "      <th>12</th>\n",
       "      <td>country</td>\n",
       "      <td>Norway</td>\n",
       "    </tr>\n",
       "    <tr>\n",
       "      <th>13</th>\n",
       "      <td>country</td>\n",
       "      <td>Norway</td>\n",
       "    </tr>\n",
       "    <tr>\n",
       "      <th>14</th>\n",
       "      <td>country</td>\n",
       "      <td>Norway</td>\n",
       "    </tr>\n",
       "    <tr>\n",
       "      <th>15</th>\n",
       "      <td>country</td>\n",
       "      <td>Singapore</td>\n",
       "    </tr>\n",
       "    <tr>\n",
       "      <th>16</th>\n",
       "      <td>country</td>\n",
       "      <td>Singapore</td>\n",
       "    </tr>\n",
       "    <tr>\n",
       "      <th>17</th>\n",
       "      <td>country</td>\n",
       "      <td>Singapore</td>\n",
       "    </tr>\n",
       "    <tr>\n",
       "      <th>18</th>\n",
       "      <td>store</td>\n",
       "      <td>Discount Stickers</td>\n",
       "    </tr>\n",
       "    <tr>\n",
       "      <th>19</th>\n",
       "      <td>store</td>\n",
       "      <td>Premium Sticker Mart</td>\n",
       "    </tr>\n",
       "    <tr>\n",
       "      <th>20</th>\n",
       "      <td>store</td>\n",
       "      <td>Stickers for Less</td>\n",
       "    </tr>\n",
       "    <tr>\n",
       "      <th>21</th>\n",
       "      <td>store</td>\n",
       "      <td>Discount Stickers</td>\n",
       "    </tr>\n",
       "    <tr>\n",
       "      <th>22</th>\n",
       "      <td>store</td>\n",
       "      <td>Premium Sticker Mart</td>\n",
       "    </tr>\n",
       "    <tr>\n",
       "      <th>23</th>\n",
       "      <td>store</td>\n",
       "      <td>Stickers for Less</td>\n",
       "    </tr>\n",
       "    <tr>\n",
       "      <th>24</th>\n",
       "      <td>store</td>\n",
       "      <td>Discount Stickers</td>\n",
       "    </tr>\n",
       "    <tr>\n",
       "      <th>25</th>\n",
       "      <td>store</td>\n",
       "      <td>Premium Sticker Mart</td>\n",
       "    </tr>\n",
       "    <tr>\n",
       "      <th>26</th>\n",
       "      <td>store</td>\n",
       "      <td>Stickers for Less</td>\n",
       "    </tr>\n",
       "    <tr>\n",
       "      <th>27</th>\n",
       "      <td>store</td>\n",
       "      <td>Discount Stickers</td>\n",
       "    </tr>\n",
       "    <tr>\n",
       "      <th>28</th>\n",
       "      <td>store</td>\n",
       "      <td>Premium Sticker Mart</td>\n",
       "    </tr>\n",
       "    <tr>\n",
       "      <th>29</th>\n",
       "      <td>store</td>\n",
       "      <td>Stickers for Less</td>\n",
       "    </tr>\n",
       "    <tr>\n",
       "      <th>30</th>\n",
       "      <td>store</td>\n",
       "      <td>Discount Stickers</td>\n",
       "    </tr>\n",
       "    <tr>\n",
       "      <th>31</th>\n",
       "      <td>store</td>\n",
       "      <td>Premium Sticker Mart</td>\n",
       "    </tr>\n",
       "    <tr>\n",
       "      <th>32</th>\n",
       "      <td>store</td>\n",
       "      <td>Stickers for Less</td>\n",
       "    </tr>\n",
       "    <tr>\n",
       "      <th>33</th>\n",
       "      <td>store</td>\n",
       "      <td>Discount Stickers</td>\n",
       "    </tr>\n",
       "    <tr>\n",
       "      <th>34</th>\n",
       "      <td>store</td>\n",
       "      <td>Premium Sticker Mart</td>\n",
       "    </tr>\n",
       "    <tr>\n",
       "      <th>35</th>\n",
       "      <td>store</td>\n",
       "      <td>Stickers for Less</td>\n",
       "    </tr>\n",
       "    <tr>\n",
       "      <th>36</th>\n",
       "      <td>store_count</td>\n",
       "      <td>12785</td>\n",
       "    </tr>\n",
       "    <tr>\n",
       "      <th>37</th>\n",
       "      <td>store_count</td>\n",
       "      <td>12785</td>\n",
       "    </tr>\n",
       "    <tr>\n",
       "      <th>38</th>\n",
       "      <td>store_count</td>\n",
       "      <td>12785</td>\n",
       "    </tr>\n",
       "    <tr>\n",
       "      <th>39</th>\n",
       "      <td>store_count</td>\n",
       "      <td>12785</td>\n",
       "    </tr>\n",
       "    <tr>\n",
       "      <th>40</th>\n",
       "      <td>store_count</td>\n",
       "      <td>12785</td>\n",
       "    </tr>\n",
       "    <tr>\n",
       "      <th>41</th>\n",
       "      <td>store_count</td>\n",
       "      <td>12785</td>\n",
       "    </tr>\n",
       "    <tr>\n",
       "      <th>42</th>\n",
       "      <td>store_count</td>\n",
       "      <td>12785</td>\n",
       "    </tr>\n",
       "    <tr>\n",
       "      <th>43</th>\n",
       "      <td>store_count</td>\n",
       "      <td>12785</td>\n",
       "    </tr>\n",
       "    <tr>\n",
       "      <th>44</th>\n",
       "      <td>store_count</td>\n",
       "      <td>12785</td>\n",
       "    </tr>\n",
       "    <tr>\n",
       "      <th>45</th>\n",
       "      <td>store_count</td>\n",
       "      <td>12785</td>\n",
       "    </tr>\n",
       "    <tr>\n",
       "      <th>46</th>\n",
       "      <td>store_count</td>\n",
       "      <td>12785</td>\n",
       "    </tr>\n",
       "    <tr>\n",
       "      <th>47</th>\n",
       "      <td>store_count</td>\n",
       "      <td>12785</td>\n",
       "    </tr>\n",
       "    <tr>\n",
       "      <th>48</th>\n",
       "      <td>store_count</td>\n",
       "      <td>12785</td>\n",
       "    </tr>\n",
       "    <tr>\n",
       "      <th>49</th>\n",
       "      <td>store_count</td>\n",
       "      <td>12785</td>\n",
       "    </tr>\n",
       "    <tr>\n",
       "      <th>50</th>\n",
       "      <td>store_count</td>\n",
       "      <td>12785</td>\n",
       "    </tr>\n",
       "    <tr>\n",
       "      <th>51</th>\n",
       "      <td>store_count</td>\n",
       "      <td>12785</td>\n",
       "    </tr>\n",
       "    <tr>\n",
       "      <th>52</th>\n",
       "      <td>store_count</td>\n",
       "      <td>12785</td>\n",
       "    </tr>\n",
       "    <tr>\n",
       "      <th>53</th>\n",
       "      <td>store_count</td>\n",
       "      <td>12785</td>\n",
       "    </tr>\n",
       "  </tbody>\n",
       "</table>\n",
       "</div>"
      ],
      "text/plain": [
       "       variable                 value\n",
       "0       country                Canada\n",
       "1       country                Canada\n",
       "2       country                Canada\n",
       "3       country               Finland\n",
       "4       country               Finland\n",
       "5       country               Finland\n",
       "6       country                 Italy\n",
       "7       country                 Italy\n",
       "8       country                 Italy\n",
       "9       country                 Kenya\n",
       "10      country                 Kenya\n",
       "11      country                 Kenya\n",
       "12      country                Norway\n",
       "13      country                Norway\n",
       "14      country                Norway\n",
       "15      country             Singapore\n",
       "16      country             Singapore\n",
       "17      country             Singapore\n",
       "18        store     Discount Stickers\n",
       "19        store  Premium Sticker Mart\n",
       "20        store     Stickers for Less\n",
       "21        store     Discount Stickers\n",
       "22        store  Premium Sticker Mart\n",
       "23        store     Stickers for Less\n",
       "24        store     Discount Stickers\n",
       "25        store  Premium Sticker Mart\n",
       "26        store     Stickers for Less\n",
       "27        store     Discount Stickers\n",
       "28        store  Premium Sticker Mart\n",
       "29        store     Stickers for Less\n",
       "30        store     Discount Stickers\n",
       "31        store  Premium Sticker Mart\n",
       "32        store     Stickers for Less\n",
       "33        store     Discount Stickers\n",
       "34        store  Premium Sticker Mart\n",
       "35        store     Stickers for Less\n",
       "36  store_count                 12785\n",
       "37  store_count                 12785\n",
       "38  store_count                 12785\n",
       "39  store_count                 12785\n",
       "40  store_count                 12785\n",
       "41  store_count                 12785\n",
       "42  store_count                 12785\n",
       "43  store_count                 12785\n",
       "44  store_count                 12785\n",
       "45  store_count                 12785\n",
       "46  store_count                 12785\n",
       "47  store_count                 12785\n",
       "48  store_count                 12785\n",
       "49  store_count                 12785\n",
       "50  store_count                 12785\n",
       "51  store_count                 12785\n",
       "52  store_count                 12785\n",
       "53  store_count                 12785"
      ]
     },
     "execution_count": 260,
     "metadata": {},
     "output_type": "execute_result"
    }
   ],
   "source": [
    "pd.melt(stores_country)"
   ]
  },
  {
   "cell_type": "markdown",
   "id": "e9109ecf-cc5c-41e2-a549-b0f231fd7308",
   "metadata": {},
   "source": [
    "### Experimentation"
   ]
  },
  {
   "cell_type": "code",
   "execution_count": 258,
   "id": "1facae2f-0647-4051-bdc5-89c6f227ae62",
   "metadata": {
    "tags": []
   },
   "outputs": [
    {
     "name": "stdout",
     "output_type": "stream",
     "text": [
      "Before loop. x: [0 1 2], width: 0.25, multiplier: 0\n",
      "In loop. offset: 0.0, multiplier: 1, new_location: [0. 1. 2.]\n",
      "In loop. offset: 0.25, multiplier: 2, new_location: [0.25 1.25 2.25]\n",
      "In loop. offset: 0.5, multiplier: 3, new_location: [0.5 1.5 2.5]\n"
     ]
    },
    {
     "data": {
      "image/png": "[encoded data removed]",
      "text/plain": [
       "<Figure size 640x480 with 1 Axes>"
      ]
     },
     "metadata": {},
     "output_type": "display_data"
    }
   ],
   "source": [
    "import matplotlib.pyplot as plt\n",
    "import numpy as np\n",
    "\n",
    "species = (\"Adelie\", \"Chinstrap\", \"Gentoo\")\n",
    "penguin_means = {\n",
    "    'Bill Depth': (18.35, 18.43, 14.98),\n",
    "    'Bill Length': (38.79, 48.83, 47.50),\n",
    "    'Flipper Length': (189.95, 195.82, 217.19),\n",
    "}\n",
    "\n",
    "x = np.arange(len(species))  # the label locations\n",
    "width = 0.25  # the width of the bars\n",
    "multiplier = 0\n",
    "print(f\"Before loop. x: {x}, width: {width}, multiplier: {multiplier}\")\n",
    "\n",
    "fig, ax = plt.subplots(layout='constrained')\n",
    "\n",
    "for attribute, measurement in penguin_means.items():\n",
    "    offset = width * multiplier\n",
    "    new_location = x+offset\n",
    "    rects = ax.bar(x + offset, measurement, width, label=attribute)\n",
    "    ax.bar_label(rects, padding=3)\n",
    "    multiplier += 1\n",
    "\n",
    "# Add some text for labels, title and custom x-axis tick labels, etc.\n",
    "ax.set_ylabel('Length (mm)')\n",
    "ax.set_title('Penguin attributes by species')\n",
    "ax.set_xticks(x + width, species)\n",
    "ax.legend(loc='upper left', ncols=3)\n",
    "ax.set_ylim(0, 250)\n",
    "\n",
    "plt.show()\n"
   ]
  },
  {
   "cell_type": "code",
   "execution_count": null,
   "id": "10f17a51-eff9-43b0-8e39-9078b22ddd5f",
   "metadata": {},
   "outputs": [],
   "source": []
  }
 ],
 "metadata": {
  "kernelspec": {
   "display_name": "Python 3 (ipykernel)",
   "language": "python",
   "name": "python3"
  },
  "language_info": {
   "codemirror_mode": {
    "name": "ipython",
    "version": 3
   },
   "file_extension": ".py",
   "mimetype": "text/x-python",
   "name": "python",
   "nbconvert_exporter": "python",
   "pygments_lexer": "ipython3",
   "version": "3.11.5"
  }
 },
 "nbformat": 4,
 "nbformat_minor": 5
}
