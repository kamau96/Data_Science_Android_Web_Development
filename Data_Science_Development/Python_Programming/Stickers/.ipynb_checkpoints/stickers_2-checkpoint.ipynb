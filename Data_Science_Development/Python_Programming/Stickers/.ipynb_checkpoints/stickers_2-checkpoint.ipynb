{
 "cells": [
  {
   "cell_type": "code",
   "execution_count": null,
   "id": "7bf86192-238d-4938-a575-ab09b99290e0",
   "metadata": {
    "tags": []
   },
   "outputs": [],
   "source": [
    "# Libraries that I'll use throughout the notebook.\n",
    "import pandas as pd\n",
    "import numpy as np\n",
    "import matplotlib.pyplot as plt\n",
    "import seaborn as sns\n",
    "from sklearn.linear_model import LinearRegression\n",
    "from sklearn.model_selection import cross_val_score, TimeSeriesSplit\n",
    "from sklearn.preprocessing import OneHotEncoder\n",
    "from sklearn.preprocessing import StandardScaler"
   ]
  },
  {
   "cell_type": "code",
   "execution_count": null,
   "id": "af2f7c2c-8e5d-4f07-97c6-87a8bd4231bf",
   "metadata": {
    "tags": []
   },
   "outputs": [],
   "source": [
    "# Data used for time series analysis.\n",
    "path = \"../../../Data/playground-series-s5e1/\"\n",
    "train = pd.read_csv(path+\"train.csv\", \n",
    "                    index_col=[\"date\"], \n",
    "                    parse_dates=[\"date\"], \n",
    "                    usecols=[\"date\", \"country\", \"store\", \"product\", \"num_sold\"])\n",
    "test = pd.read_csv(path+\"test.csv\", \n",
    "                   index_col=[\"date\"],\n",
    "                   parse_dates=[\"date\"], \n",
    "                   usecols=[\"date\", \"country\", \"store\", \"product\"])"
   ]
  },
  {
   "cell_type": "code",
   "execution_count": null,
   "id": "43f01e28-af4c-4914-ac7b-5c3e4e84390e",
   "metadata": {},
   "outputs": [],
   "source": [
    "train.head()"
   ]
  },
  {
   "cell_type": "code",
   "execution_count": null,
   "id": "39a181be-f88b-4540-bcf6-8a470211fdcc",
   "metadata": {
    "tags": []
   },
   "outputs": [],
   "source": [
    "product_mean = train.groupby([\"date\", \"country\", \"product\"])[\"num_sold\"].mean()"
   ]
  },
  {
   "cell_type": "code",
   "execution_count": null,
   "id": "2faf772f-ae78-404e-bbe8-c8232da4f754",
   "metadata": {
    "tags": []
   },
   "outputs": [],
   "source": [
    "for i in train.iterrows():\n",
    "    print(i[1][\"country\"])"
   ]
  },
  {
   "cell_type": "code",
   "execution_count": null,
   "id": "04388a24-9177-41cb-8cbc-9a131a4042c4",
   "metadata": {
    "tags": []
   },
   "outputs": [],
   "source": [
    "product_mean[(\"2010-01-01\", \"Canada\", \"Holographic Goose\")]"
   ]
  },
  {
   "cell_type": "code",
   "execution_count": null,
   "id": "9b41bf98-9772-46fd-8ab4-8aa551bac6ef",
   "metadata": {
    "tags": []
   },
   "outputs": [],
   "source": [
    "train.groupby([\"date\", \"country\", \"store\"]).fillna(0)"
   ]
  },
  {
   "cell_type": "code",
   "execution_count": null,
   "id": "173c7e40-f91e-4a34-8932-5c2462954488",
   "metadata": {},
   "outputs": [],
   "source": []
  }
 ],
 "metadata": {
  "kernelspec": {
   "display_name": "Python 3 (ipykernel)",
   "language": "python",
   "name": "python3"
  },
  "language_info": {
   "codemirror_mode": {
    "name": "ipython",
    "version": 3
   },
   "file_extension": ".py",
   "mimetype": "text/x-python",
   "name": "python",
   "nbconvert_exporter": "python",
   "pygments_lexer": "ipython3",
   "version": "3.11.5"
  }
 },
 "nbformat": 4,
 "nbformat_minor": 5
}
