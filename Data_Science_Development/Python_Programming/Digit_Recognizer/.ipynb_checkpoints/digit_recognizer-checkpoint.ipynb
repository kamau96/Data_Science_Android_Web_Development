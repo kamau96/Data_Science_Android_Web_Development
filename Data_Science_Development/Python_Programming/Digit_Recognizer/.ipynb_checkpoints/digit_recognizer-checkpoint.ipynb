{
 "cells": [
  {
   "cell_type": "markdown",
   "id": "1a77685d-c1b0-4de8-861c-22e8a4503d44",
   "metadata": {},
   "source": [
    "# This Notebook Explores Computer Vision Using MNIST Dataset."
   ]
  },
  {
   "cell_type": "code",
   "execution_count": 2,
   "id": "ca610fa4-ac1a-4e56-8276-bdb92e4c900a",
   "metadata": {
    "tags": []
   },
   "outputs": [],
   "source": [
    "# Required libraries are loaded. \n",
    "import pandas as pd\n",
    "import numpy as np\n",
    "import matplotlib.pyplot as plt\n",
    "from sklearn.model_selection import cross_val_score, cross_val_predict, GridSearchCV\n",
    "from sklearn.preprocessing import StandardScaler\n",
    "from sklearn.metrics import confusion_matrix\n",
    "from sklearn.neighbors import KNeighborsClassifier\n",
    "from sklearn.ensemble import RandomForestClassifier\n",
    "from sklearn.linear_model import SGDClassifier"
   ]
  },
  {
   "cell_type": "code",
   "execution_count": 3,
   "id": "c628f06f-8cda-4cf7-b40f-c65f6f72e077",
   "metadata": {
    "tags": []
   },
   "outputs": [],
   "source": [
    "# Files to be used.\n",
    "path = \"../../../Data/digit-recognizer/\"\n",
    "train = pd.read_csv(path + \"train.csv\")\n",
    "test = pd.read_csv(path + \"test.csv\")"
   ]
  },
  {
   "cell_type": "code",
   "execution_count": 4,
   "id": "28e57a08-17af-4f75-b20f-dd1bc5904b76",
   "metadata": {
    "tags": []
   },
   "outputs": [
    {
     "data": {
      "text/html": [
       "<div>\n",
       "<style scoped>\n",
       "    .dataframe tbody tr th:only-of-type {\n",
       "        vertical-align: middle;\n",
       "    }\n",
       "\n",
       "    .dataframe tbody tr th {\n",
       "        vertical-align: top;\n",
       "    }\n",
       "\n",
       "    .dataframe thead th {\n",
       "        text-align: right;\n",
       "    }\n",
       "</style>\n",
       "<table border=\"1\" class=\"dataframe\">\n",
       "  <thead>\n",
       "    <tr style=\"text-align: right;\">\n",
       "      <th></th>\n",
       "      <th>label</th>\n",
       "      <th>pixel0</th>\n",
       "      <th>pixel1</th>\n",
       "      <th>pixel2</th>\n",
       "      <th>pixel3</th>\n",
       "      <th>pixel4</th>\n",
       "      <th>pixel5</th>\n",
       "      <th>pixel6</th>\n",
       "      <th>pixel7</th>\n",
       "      <th>pixel8</th>\n",
       "      <th>...</th>\n",
       "      <th>pixel774</th>\n",
       "      <th>pixel775</th>\n",
       "      <th>pixel776</th>\n",
       "      <th>pixel777</th>\n",
       "      <th>pixel778</th>\n",
       "      <th>pixel779</th>\n",
       "      <th>pixel780</th>\n",
       "      <th>pixel781</th>\n",
       "      <th>pixel782</th>\n",
       "      <th>pixel783</th>\n",
       "    </tr>\n",
       "  </thead>\n",
       "  <tbody>\n",
       "    <tr>\n",
       "      <th>0</th>\n",
       "      <td>1</td>\n",
       "      <td>0</td>\n",
       "      <td>0</td>\n",
       "      <td>0</td>\n",
       "      <td>0</td>\n",
       "      <td>0</td>\n",
       "      <td>0</td>\n",
       "      <td>0</td>\n",
       "      <td>0</td>\n",
       "      <td>0</td>\n",
       "      <td>...</td>\n",
       "      <td>0</td>\n",
       "      <td>0</td>\n",
       "      <td>0</td>\n",
       "      <td>0</td>\n",
       "      <td>0</td>\n",
       "      <td>0</td>\n",
       "      <td>0</td>\n",
       "      <td>0</td>\n",
       "      <td>0</td>\n",
       "      <td>0</td>\n",
       "    </tr>\n",
       "    <tr>\n",
       "      <th>1</th>\n",
       "      <td>0</td>\n",
       "      <td>0</td>\n",
       "      <td>0</td>\n",
       "      <td>0</td>\n",
       "      <td>0</td>\n",
       "      <td>0</td>\n",
       "      <td>0</td>\n",
       "      <td>0</td>\n",
       "      <td>0</td>\n",
       "      <td>0</td>\n",
       "      <td>...</td>\n",
       "      <td>0</td>\n",
       "      <td>0</td>\n",
       "      <td>0</td>\n",
       "      <td>0</td>\n",
       "      <td>0</td>\n",
       "      <td>0</td>\n",
       "      <td>0</td>\n",
       "      <td>0</td>\n",
       "      <td>0</td>\n",
       "      <td>0</td>\n",
       "    </tr>\n",
       "    <tr>\n",
       "      <th>2</th>\n",
       "      <td>1</td>\n",
       "      <td>0</td>\n",
       "      <td>0</td>\n",
       "      <td>0</td>\n",
       "      <td>0</td>\n",
       "      <td>0</td>\n",
       "      <td>0</td>\n",
       "      <td>0</td>\n",
       "      <td>0</td>\n",
       "      <td>0</td>\n",
       "      <td>...</td>\n",
       "      <td>0</td>\n",
       "      <td>0</td>\n",
       "      <td>0</td>\n",
       "      <td>0</td>\n",
       "      <td>0</td>\n",
       "      <td>0</td>\n",
       "      <td>0</td>\n",
       "      <td>0</td>\n",
       "      <td>0</td>\n",
       "      <td>0</td>\n",
       "    </tr>\n",
       "    <tr>\n",
       "      <th>3</th>\n",
       "      <td>4</td>\n",
       "      <td>0</td>\n",
       "      <td>0</td>\n",
       "      <td>0</td>\n",
       "      <td>0</td>\n",
       "      <td>0</td>\n",
       "      <td>0</td>\n",
       "      <td>0</td>\n",
       "      <td>0</td>\n",
       "      <td>0</td>\n",
       "      <td>...</td>\n",
       "      <td>0</td>\n",
       "      <td>0</td>\n",
       "      <td>0</td>\n",
       "      <td>0</td>\n",
       "      <td>0</td>\n",
       "      <td>0</td>\n",
       "      <td>0</td>\n",
       "      <td>0</td>\n",
       "      <td>0</td>\n",
       "      <td>0</td>\n",
       "    </tr>\n",
       "    <tr>\n",
       "      <th>4</th>\n",
       "      <td>0</td>\n",
       "      <td>0</td>\n",
       "      <td>0</td>\n",
       "      <td>0</td>\n",
       "      <td>0</td>\n",
       "      <td>0</td>\n",
       "      <td>0</td>\n",
       "      <td>0</td>\n",
       "      <td>0</td>\n",
       "      <td>0</td>\n",
       "      <td>...</td>\n",
       "      <td>0</td>\n",
       "      <td>0</td>\n",
       "      <td>0</td>\n",
       "      <td>0</td>\n",
       "      <td>0</td>\n",
       "      <td>0</td>\n",
       "      <td>0</td>\n",
       "      <td>0</td>\n",
       "      <td>0</td>\n",
       "      <td>0</td>\n",
       "    </tr>\n",
       "  </tbody>\n",
       "</table>\n",
       "<p>5 rows × 785 columns</p>\n",
       "</div>"
      ],
      "text/plain": [
       "   label  pixel0  pixel1  pixel2  pixel3  pixel4  pixel5  pixel6  pixel7  \\\n",
       "0      1       0       0       0       0       0       0       0       0   \n",
       "1      0       0       0       0       0       0       0       0       0   \n",
       "2      1       0       0       0       0       0       0       0       0   \n",
       "3      4       0       0       0       0       0       0       0       0   \n",
       "4      0       0       0       0       0       0       0       0       0   \n",
       "\n",
       "   pixel8  ...  pixel774  pixel775  pixel776  pixel777  pixel778  pixel779  \\\n",
       "0       0  ...         0         0         0         0         0         0   \n",
       "1       0  ...         0         0         0         0         0         0   \n",
       "2       0  ...         0         0         0         0         0         0   \n",
       "3       0  ...         0         0         0         0         0         0   \n",
       "4       0  ...         0         0         0         0         0         0   \n",
       "\n",
       "   pixel780  pixel781  pixel782  pixel783  \n",
       "0         0         0         0         0  \n",
       "1         0         0         0         0  \n",
       "2         0         0         0         0  \n",
       "3         0         0         0         0  \n",
       "4         0         0         0         0  \n",
       "\n",
       "[5 rows x 785 columns]"
      ]
     },
     "execution_count": 4,
     "metadata": {},
     "output_type": "execute_result"
    }
   ],
   "source": [
    "train.head()"
   ]
  },
  {
   "cell_type": "code",
   "execution_count": 5,
   "id": "35b97b42-45b1-4740-9318-d16deac65749",
   "metadata": {
    "tags": []
   },
   "outputs": [
    {
     "data": {
      "text/html": [
       "<div>\n",
       "<style scoped>\n",
       "    .dataframe tbody tr th:only-of-type {\n",
       "        vertical-align: middle;\n",
       "    }\n",
       "\n",
       "    .dataframe tbody tr th {\n",
       "        vertical-align: top;\n",
       "    }\n",
       "\n",
       "    .dataframe thead th {\n",
       "        text-align: right;\n",
       "    }\n",
       "</style>\n",
       "<table border=\"1\" class=\"dataframe\">\n",
       "  <thead>\n",
       "    <tr style=\"text-align: right;\">\n",
       "      <th></th>\n",
       "      <th>pixel0</th>\n",
       "      <th>pixel1</th>\n",
       "      <th>pixel2</th>\n",
       "      <th>pixel3</th>\n",
       "      <th>pixel4</th>\n",
       "      <th>pixel5</th>\n",
       "      <th>pixel6</th>\n",
       "      <th>pixel7</th>\n",
       "      <th>pixel8</th>\n",
       "      <th>pixel9</th>\n",
       "      <th>...</th>\n",
       "      <th>pixel774</th>\n",
       "      <th>pixel775</th>\n",
       "      <th>pixel776</th>\n",
       "      <th>pixel777</th>\n",
       "      <th>pixel778</th>\n",
       "      <th>pixel779</th>\n",
       "      <th>pixel780</th>\n",
       "      <th>pixel781</th>\n",
       "      <th>pixel782</th>\n",
       "      <th>pixel783</th>\n",
       "    </tr>\n",
       "  </thead>\n",
       "  <tbody>\n",
       "    <tr>\n",
       "      <th>0</th>\n",
       "      <td>0</td>\n",
       "      <td>0</td>\n",
       "      <td>0</td>\n",
       "      <td>0</td>\n",
       "      <td>0</td>\n",
       "      <td>0</td>\n",
       "      <td>0</td>\n",
       "      <td>0</td>\n",
       "      <td>0</td>\n",
       "      <td>0</td>\n",
       "      <td>...</td>\n",
       "      <td>0</td>\n",
       "      <td>0</td>\n",
       "      <td>0</td>\n",
       "      <td>0</td>\n",
       "      <td>0</td>\n",
       "      <td>0</td>\n",
       "      <td>0</td>\n",
       "      <td>0</td>\n",
       "      <td>0</td>\n",
       "      <td>0</td>\n",
       "    </tr>\n",
       "    <tr>\n",
       "      <th>1</th>\n",
       "      <td>0</td>\n",
       "      <td>0</td>\n",
       "      <td>0</td>\n",
       "      <td>0</td>\n",
       "      <td>0</td>\n",
       "      <td>0</td>\n",
       "      <td>0</td>\n",
       "      <td>0</td>\n",
       "      <td>0</td>\n",
       "      <td>0</td>\n",
       "      <td>...</td>\n",
       "      <td>0</td>\n",
       "      <td>0</td>\n",
       "      <td>0</td>\n",
       "      <td>0</td>\n",
       "      <td>0</td>\n",
       "      <td>0</td>\n",
       "      <td>0</td>\n",
       "      <td>0</td>\n",
       "      <td>0</td>\n",
       "      <td>0</td>\n",
       "    </tr>\n",
       "    <tr>\n",
       "      <th>2</th>\n",
       "      <td>0</td>\n",
       "      <td>0</td>\n",
       "      <td>0</td>\n",
       "      <td>0</td>\n",
       "      <td>0</td>\n",
       "      <td>0</td>\n",
       "      <td>0</td>\n",
       "      <td>0</td>\n",
       "      <td>0</td>\n",
       "      <td>0</td>\n",
       "      <td>...</td>\n",
       "      <td>0</td>\n",
       "      <td>0</td>\n",
       "      <td>0</td>\n",
       "      <td>0</td>\n",
       "      <td>0</td>\n",
       "      <td>0</td>\n",
       "      <td>0</td>\n",
       "      <td>0</td>\n",
       "      <td>0</td>\n",
       "      <td>0</td>\n",
       "    </tr>\n",
       "    <tr>\n",
       "      <th>3</th>\n",
       "      <td>0</td>\n",
       "      <td>0</td>\n",
       "      <td>0</td>\n",
       "      <td>0</td>\n",
       "      <td>0</td>\n",
       "      <td>0</td>\n",
       "      <td>0</td>\n",
       "      <td>0</td>\n",
       "      <td>0</td>\n",
       "      <td>0</td>\n",
       "      <td>...</td>\n",
       "      <td>0</td>\n",
       "      <td>0</td>\n",
       "      <td>0</td>\n",
       "      <td>0</td>\n",
       "      <td>0</td>\n",
       "      <td>0</td>\n",
       "      <td>0</td>\n",
       "      <td>0</td>\n",
       "      <td>0</td>\n",
       "      <td>0</td>\n",
       "    </tr>\n",
       "    <tr>\n",
       "      <th>4</th>\n",
       "      <td>0</td>\n",
       "      <td>0</td>\n",
       "      <td>0</td>\n",
       "      <td>0</td>\n",
       "      <td>0</td>\n",
       "      <td>0</td>\n",
       "      <td>0</td>\n",
       "      <td>0</td>\n",
       "      <td>0</td>\n",
       "      <td>0</td>\n",
       "      <td>...</td>\n",
       "      <td>0</td>\n",
       "      <td>0</td>\n",
       "      <td>0</td>\n",
       "      <td>0</td>\n",
       "      <td>0</td>\n",
       "      <td>0</td>\n",
       "      <td>0</td>\n",
       "      <td>0</td>\n",
       "      <td>0</td>\n",
       "      <td>0</td>\n",
       "    </tr>\n",
       "  </tbody>\n",
       "</table>\n",
       "<p>5 rows × 784 columns</p>\n",
       "</div>"
      ],
      "text/plain": [
       "   pixel0  pixel1  pixel2  pixel3  pixel4  pixel5  pixel6  pixel7  pixel8  \\\n",
       "0       0       0       0       0       0       0       0       0       0   \n",
       "1       0       0       0       0       0       0       0       0       0   \n",
       "2       0       0       0       0       0       0       0       0       0   \n",
       "3       0       0       0       0       0       0       0       0       0   \n",
       "4       0       0       0       0       0       0       0       0       0   \n",
       "\n",
       "   pixel9  ...  pixel774  pixel775  pixel776  pixel777  pixel778  pixel779  \\\n",
       "0       0  ...         0         0         0         0         0         0   \n",
       "1       0  ...         0         0         0         0         0         0   \n",
       "2       0  ...         0         0         0         0         0         0   \n",
       "3       0  ...         0         0         0         0         0         0   \n",
       "4       0  ...         0         0         0         0         0         0   \n",
       "\n",
       "   pixel780  pixel781  pixel782  pixel783  \n",
       "0         0         0         0         0  \n",
       "1         0         0         0         0  \n",
       "2         0         0         0         0  \n",
       "3         0         0         0         0  \n",
       "4         0         0         0         0  \n",
       "\n",
       "[5 rows x 784 columns]"
      ]
     },
     "execution_count": 5,
     "metadata": {},
     "output_type": "execute_result"
    }
   ],
   "source": [
    "test.head()"
   ]
  },
  {
   "cell_type": "code",
   "execution_count": 6,
   "id": "9e5245d3-a86a-47c6-92c4-16703684e2de",
   "metadata": {
    "tags": []
   },
   "outputs": [
    {
     "data": {
      "image/png": "[encoded data removed]",
      "text/plain": [
       "<Figure size 640x480 with 1 Axes>"
      ]
     },
     "metadata": {},
     "output_type": "display_data"
    }
   ],
   "source": [
    "# Here we are visualizing a sample observation.\n",
    "obs = train.iloc[0,][1:].to_numpy()\n",
    "im = obs.reshape(28, 28)\n",
    "plt.imshow(im, cmap=\"binary\")\n",
    "plt.axis(\"off\")\n",
    "plt.show()"
   ]
  },
  {
   "cell_type": "code",
   "execution_count": 7,
   "id": "66033a40-5197-407c-9033-ed415347b7f1",
   "metadata": {
    "tags": []
   },
   "outputs": [],
   "source": [
    "# Working with numpy is easier on sklearn.\n",
    "X_train = train.loc[:,\"pixel0\":].to_numpy()\n",
    "y_train = train.loc[:,\"label\"].to_numpy()\n",
    "test = test.to_numpy()"
   ]
  },
  {
   "cell_type": "markdown",
   "id": "cda34266-ef0c-4eec-892c-928b6a56df6f",
   "metadata": {},
   "source": [
    "### Grid Search KNeighbors for best parameter space."
   ]
  },
  {
   "cell_type": "code",
   "execution_count": 9,
   "id": "dd48db4c-9429-435f-aad5-9f353e7cd8f2",
   "metadata": {},
   "outputs": [],
   "source": [
    "knn_clf = KNeighborsClassifier()"
   ]
  },
  {
   "cell_type": "code",
   "execution_count": 10,
   "id": "5bdf35ae-9889-46c0-a986-e1dcc79c386c",
   "metadata": {},
   "outputs": [],
   "source": [
    "# Parameters to search for the best model.\n",
    "params = [{\"n_neighbors\": [2, 3, 4, 6], \"weights\": [\"distance\", \"uniform\"]}]"
   ]
  },
  {
   "cell_type": "code",
   "execution_count": 11,
   "id": "6d6f992f-0a81-4f7f-96b9-d3add8a12b6e",
   "metadata": {},
   "outputs": [
    {
     "name": "stdout",
     "output_type": "stream",
     "text": [
      "Fitting 5 folds for each of 8 candidates, totalling 40 fits\n",
      "[CV 1/5] END ...n_neighbors=2, weights=distance;, score=0.966 total time=  11.5s\n",
      "[CV 2/5] END ...n_neighbors=2, weights=distance;, score=0.968 total time=  10.2s\n",
      "[CV 3/5] END ...n_neighbors=2, weights=distance;, score=0.963 total time=  10.3s\n",
      "[CV 4/5] END ...n_neighbors=2, weights=distance;, score=0.967 total time=  10.6s\n",
      "[CV 5/5] END ...n_neighbors=2, weights=distance;, score=0.967 total time=   9.8s\n",
      "[CV 1/5] END ....n_neighbors=2, weights=uniform;, score=0.960 total time=  11.0s\n",
      "[CV 2/5] END ....n_neighbors=2, weights=uniform;, score=0.959 total time=  10.3s\n",
      "[CV 3/5] END ....n_neighbors=2, weights=uniform;, score=0.958 total time=  10.3s\n",
      "[CV 4/5] END ....n_neighbors=2, weights=uniform;, score=0.960 total time=  11.4s\n",
      "[CV 5/5] END ....n_neighbors=2, weights=uniform;, score=0.962 total time=  11.3s\n",
      "[CV 1/5] END ...n_neighbors=3, weights=distance;, score=0.970 total time=   9.8s\n",
      "[CV 2/5] END ...n_neighbors=3, weights=distance;, score=0.969 total time=   7.8s\n",
      "[CV 3/5] END ...n_neighbors=3, weights=distance;, score=0.964 total time=   7.8s\n",
      "[CV 4/5] END ...n_neighbors=3, weights=distance;, score=0.966 total time=   9.8s\n",
      "[CV 5/5] END ...n_neighbors=3, weights=distance;, score=0.971 total time=  10.6s\n",
      "[CV 1/5] END ....n_neighbors=3, weights=uniform;, score=0.970 total time=  10.8s\n",
      "[CV 2/5] END ....n_neighbors=3, weights=uniform;, score=0.967 total time=  11.3s\n",
      "[CV 3/5] END ....n_neighbors=3, weights=uniform;, score=0.963 total time=  11.1s\n",
      "[CV 4/5] END ....n_neighbors=3, weights=uniform;, score=0.964 total time=  10.9s\n",
      "[CV 5/5] END ....n_neighbors=3, weights=uniform;, score=0.969 total time=  10.3s\n",
      "[CV 1/5] END ...n_neighbors=4, weights=distance;, score=0.971 total time=  10.5s\n",
      "[CV 2/5] END ...n_neighbors=4, weights=distance;, score=0.969 total time=   9.1s\n",
      "[CV 3/5] END ...n_neighbors=4, weights=distance;, score=0.966 total time=   9.0s\n",
      "[CV 4/5] END ...n_neighbors=4, weights=distance;, score=0.967 total time=   9.5s\n",
      "[CV 5/5] END ...n_neighbors=4, weights=distance;, score=0.972 total time=  11.9s\n",
      "[CV 1/5] END ....n_neighbors=4, weights=uniform;, score=0.967 total time=  12.7s\n",
      "[CV 2/5] END ....n_neighbors=4, weights=uniform;, score=0.964 total time=  11.9s\n",
      "[CV 3/5] END ....n_neighbors=4, weights=uniform;, score=0.963 total time=  12.9s\n",
      "[CV 4/5] END ....n_neighbors=4, weights=uniform;, score=0.963 total time=  11.7s\n",
      "[CV 5/5] END ....n_neighbors=4, weights=uniform;, score=0.968 total time=  12.2s\n",
      "[CV 1/5] END ...n_neighbors=6, weights=distance;, score=0.969 total time=   9.3s\n",
      "[CV 2/5] END ...n_neighbors=6, weights=distance;, score=0.967 total time=   9.0s\n",
      "[CV 3/5] END ...n_neighbors=6, weights=distance;, score=0.966 total time=  11.4s\n",
      "[CV 4/5] END ...n_neighbors=6, weights=distance;, score=0.965 total time=  11.8s\n",
      "[CV 5/5] END ...n_neighbors=6, weights=distance;, score=0.971 total time=  13.9s\n",
      "[CV 1/5] END ....n_neighbors=6, weights=uniform;, score=0.966 total time=  12.2s\n",
      "[CV 2/5] END ....n_neighbors=6, weights=uniform;, score=0.966 total time=  11.8s\n",
      "[CV 3/5] END ....n_neighbors=6, weights=uniform;, score=0.964 total time=  11.3s\n",
      "[CV 4/5] END ....n_neighbors=6, weights=uniform;, score=0.962 total time=   9.2s\n",
      "[CV 5/5] END ....n_neighbors=6, weights=uniform;, score=0.968 total time=   9.8s\n"
     ]
    },
    {
     "data": {
      "text/html": [
       "<style>#sk-container-id-1 {color: black;}#sk-container-id-1 pre{padding: 0;}#sk-container-id-1 div.sk-toggleable {background-color: white;}#sk-container-id-1 label.sk-toggleable__label {cursor: pointer;display: block;width: 100%;margin-bottom: 0;padding: 0.3em;box-sizing: border-box;text-align: center;}#sk-container-id-1 label.sk-toggleable__label-arrow:before {content: \"▸\";float: left;margin-right: 0.25em;color: #696969;}#sk-container-id-1 label.sk-toggleable__label-arrow:hover:before {color: black;}#sk-container-id-1 div.sk-estimator:hover label.sk-toggleable__label-arrow:before {color: black;}#sk-container-id-1 div.sk-toggleable__content {max-height: 0;max-width: 0;overflow: hidden;text-align: left;background-color: #f0f8ff;}#sk-container-id-1 div.sk-toggleable__content pre {margin: 0.2em;color: black;border-radius: 0.25em;background-color: #f0f8ff;}#sk-container-id-1 input.sk-toggleable__control:checked~div.sk-toggleable__content {max-height: 200px;max-width: 100%;overflow: auto;}#sk-container-id-1 input.sk-toggleable__control:checked~label.sk-toggleable__label-arrow:before {content: \"▾\";}#sk-container-id-1 div.sk-estimator input.sk-toggleable__control:checked~label.sk-toggleable__label {background-color: #d4ebff;}#sk-container-id-1 div.sk-label input.sk-toggleable__control:checked~label.sk-toggleable__label {background-color: #d4ebff;}#sk-container-id-1 input.sk-hidden--visually {border: 0;clip: rect(1px 1px 1px 1px);clip: rect(1px, 1px, 1px, 1px);height: 1px;margin: -1px;overflow: hidden;padding: 0;position: absolute;width: 1px;}#sk-container-id-1 div.sk-estimator {font-family: monospace;background-color: #f0f8ff;border: 1px dotted black;border-radius: 0.25em;box-sizing: border-box;margin-bottom: 0.5em;}#sk-container-id-1 div.sk-estimator:hover {background-color: #d4ebff;}#sk-container-id-1 div.sk-parallel-item::after {content: \"\";width: 100%;border-bottom: 1px solid gray;flex-grow: 1;}#sk-container-id-1 div.sk-label:hover label.sk-toggleable__label {background-color: #d4ebff;}#sk-container-id-1 div.sk-serial::before {content: \"\";position: absolute;border-left: 1px solid gray;box-sizing: border-box;top: 0;bottom: 0;left: 50%;z-index: 0;}#sk-container-id-1 div.sk-serial {display: flex;flex-direction: column;align-items: center;background-color: white;padding-right: 0.2em;padding-left: 0.2em;position: relative;}#sk-container-id-1 div.sk-item {position: relative;z-index: 1;}#sk-container-id-1 div.sk-parallel {display: flex;align-items: stretch;justify-content: center;background-color: white;position: relative;}#sk-container-id-1 div.sk-item::before, #sk-container-id-1 div.sk-parallel-item::before {content: \"\";position: absolute;border-left: 1px solid gray;box-sizing: border-box;top: 0;bottom: 0;left: 50%;z-index: -1;}#sk-container-id-1 div.sk-parallel-item {display: flex;flex-direction: column;z-index: 1;position: relative;background-color: white;}#sk-container-id-1 div.sk-parallel-item:first-child::after {align-self: flex-end;width: 50%;}#sk-container-id-1 div.sk-parallel-item:last-child::after {align-self: flex-start;width: 50%;}#sk-container-id-1 div.sk-parallel-item:only-child::after {width: 0;}#sk-container-id-1 div.sk-dashed-wrapped {border: 1px dashed gray;margin: 0 0.4em 0.5em 0.4em;box-sizing: border-box;padding-bottom: 0.4em;background-color: white;}#sk-container-id-1 div.sk-label label {font-family: monospace;font-weight: bold;display: inline-block;line-height: 1.2em;}#sk-container-id-1 div.sk-label-container {text-align: center;}#sk-container-id-1 div.sk-container {/* jupyter's `normalize.less` sets `[hidden] { display: none; }` but bootstrap.min.css set `[hidden] { display: none !important; }` so we also need the `!important` here to be able to override the default hidden behavior on the sphinx rendered scikit-learn.org. See: https://github.com/scikit-learn/scikit-learn/issues/21755 */display: inline-block !important;position: relative;}#sk-container-id-1 div.sk-text-repr-fallback {display: none;}</style><div id=\"sk-container-id-1\" class=\"sk-top-container\"><div class=\"sk-text-repr-fallback\"><pre>GridSearchCV(cv=5, estimator=KNeighborsClassifier(),\n",
       "             param_grid=[{&#x27;n_neighbors&#x27;: [2, 3, 4, 6],\n",
       "                          &#x27;weights&#x27;: [&#x27;distance&#x27;, &#x27;uniform&#x27;]}],\n",
       "             scoring=&#x27;accuracy&#x27;, verbose=3)</pre><b>In a Jupyter environment, please rerun this cell to show the HTML representation or trust the notebook. <br />On GitHub, the HTML representation is unable to render, please try loading this page with nbviewer.org.</b></div><div class=\"sk-container\" hidden><div class=\"sk-item sk-dashed-wrapped\"><div class=\"sk-label-container\"><div class=\"sk-label sk-toggleable\"><input class=\"sk-toggleable__control sk-hidden--visually\" id=\"sk-estimator-id-1\" type=\"checkbox\" ><label for=\"sk-estimator-id-1\" class=\"sk-toggleable__label sk-toggleable__label-arrow\">GridSearchCV</label><div class=\"sk-toggleable__content\"><pre>GridSearchCV(cv=5, estimator=KNeighborsClassifier(),\n",
       "             param_grid=[{&#x27;n_neighbors&#x27;: [2, 3, 4, 6],\n",
       "                          &#x27;weights&#x27;: [&#x27;distance&#x27;, &#x27;uniform&#x27;]}],\n",
       "             scoring=&#x27;accuracy&#x27;, verbose=3)</pre></div></div></div><div class=\"sk-parallel\"><div class=\"sk-parallel-item\"><div class=\"sk-item\"><div class=\"sk-label-container\"><div class=\"sk-label sk-toggleable\"><input class=\"sk-toggleable__control sk-hidden--visually\" id=\"sk-estimator-id-2\" type=\"checkbox\" ><label for=\"sk-estimator-id-2\" class=\"sk-toggleable__label sk-toggleable__label-arrow\">estimator: KNeighborsClassifier</label><div class=\"sk-toggleable__content\"><pre>KNeighborsClassifier()</pre></div></div></div><div class=\"sk-serial\"><div class=\"sk-item\"><div class=\"sk-estimator sk-toggleable\"><input class=\"sk-toggleable__control sk-hidden--visually\" id=\"sk-estimator-id-3\" type=\"checkbox\" ><label for=\"sk-estimator-id-3\" class=\"sk-toggleable__label sk-toggleable__label-arrow\">KNeighborsClassifier</label><div class=\"sk-toggleable__content\"><pre>KNeighborsClassifier()</pre></div></div></div></div></div></div></div></div></div></div>"
      ],
      "text/plain": [
       "GridSearchCV(cv=5, estimator=KNeighborsClassifier(),\n",
       "             param_grid=[{'n_neighbors': [2, 3, 4, 6],\n",
       "                          'weights': ['distance', 'uniform']}],\n",
       "             scoring='accuracy', verbose=3)"
      ]
     },
     "execution_count": 11,
     "metadata": {},
     "output_type": "execute_result"
    }
   ],
   "source": [
    "grid_search = GridSearchCV(knn_clf, params, cv=5, scoring=\"accuracy\", verbose=3)\n",
    "grid_search.fit(X_train, y_train)"
   ]
  },
  {
   "cell_type": "code",
   "execution_count": 12,
   "id": "6773c11b-a2f7-4dab-aceb-b31ff312af2e",
   "metadata": {},
   "outputs": [
    {
     "name": "stdout",
     "output_type": "stream",
     "text": [
      "The mean_test_score is: 0.9662380952380953 and params: {'n_neighbors': 2, 'weights': 'distance'}\n",
      "The mean_test_score is: 0.9599523809523809 and params: {'n_neighbors': 2, 'weights': 'uniform'}\n",
      "The mean_test_score is: 0.9678095238095239 and params: {'n_neighbors': 3, 'weights': 'distance'}\n",
      "The mean_test_score is: 0.9666904761904762 and params: {'n_neighbors': 3, 'weights': 'uniform'}\n",
      "The mean_test_score is: 0.9691428571428571 and params: {'n_neighbors': 4, 'weights': 'distance'}\n",
      "The mean_test_score is: 0.9651190476190477 and params: {'n_neighbors': 4, 'weights': 'uniform'}\n",
      "The mean_test_score is: 0.9677857142857142 and params: {'n_neighbors': 6, 'weights': 'distance'}\n",
      "The mean_test_score is: 0.9650714285714287 and params: {'n_neighbors': 6, 'weights': 'uniform'}\n"
     ]
    }
   ],
   "source": [
    "cvres = grid_search.cv_results_\n",
    "\n",
    "for mean_test_score, params in zip(cvres[\"mean_test_score\"], cvres[\"params\"]):\n",
    "    print(f\"The mean_test_score is: {mean_test_score} and params: {params}\")"
   ]
  },
  {
   "cell_type": "markdown",
   "id": "bd030dbb-ae0f-4f02-9d9d-f41ed28a0921",
   "metadata": {
    "tags": []
   },
   "source": [
    "### Error Analysis"
   ]
  },
  {
   "cell_type": "code",
   "execution_count": 14,
   "id": "39fe6118-660c-4a6b-8ce3-151524b5d72c",
   "metadata": {
    "tags": []
   },
   "outputs": [
    {
     "data": {
      "text/plain": [
       "array([[4104,    0,    5,    0,    0,    6,   11,    3,    2,    1],\n",
       "       [   0, 4653,    9,    2,    4,    1,    4,    7,    2,    2],\n",
       "       [  26,   36, 4003,   15,    4,    3,    3,   74,    9,    4],\n",
       "       [   3,   10,   27, 4188,    0,   50,    3,   23,   26,   21],\n",
       "       [   2,   44,    0,    0, 3905,    0,   15,    8,    0,   98],\n",
       "       [   8,    3,    2,   55,    2, 3642,   47,    4,    5,   27],\n",
       "       [  21,    6,    0,    0,    6,   17, 4085,    0,    2,    0],\n",
       "       [   1,   54,    9,    2,    9,    0,    0, 4271,    0,   55],\n",
       "       [  11,   43,   13,   54,   15,   65,   19,   12, 3788,   43],\n",
       "       [  13,   10,    3,   26,   43,   12,    2,   61,   11, 4007]],\n",
       "      dtype=int64)"
      ]
     },
     "execution_count": 14,
     "metadata": {},
     "output_type": "execute_result"
    }
   ],
   "source": [
    "y_train_pred = cross_val_predict(grid_search.best_estimator_, X_train, y_train, cv=3)\n",
    "conf_mx = confusion_matrix(y_train, y_train_pred)\n",
    "conf_mx"
   ]
  },
  {
   "cell_type": "markdown",
   "id": "374359fd-a6f2-425a-b4d2-fd0d0df4dd73",
   "metadata": {},
   "source": [
    "Let's visualize the above matrix"
   ]
  },
  {
   "cell_type": "code",
   "execution_count": 16,
   "id": "908d2e7d-0357-4c1a-8d04-f6c3960b6c66",
   "metadata": {
    "tags": []
   },
   "outputs": [
    {
     "data": {
      "image/png": "[encoded data removed]",
      "text/plain": [
       "<Figure size 480x480 with 1 Axes>"
      ]
     },
     "metadata": {},
     "output_type": "display_data"
    }
   ],
   "source": [
    "plt.matshow(conf_mx, cmap=\"gray\")\n",
    "plt.show()"
   ]
  },
  {
   "cell_type": "markdown",
   "id": "34fa7de3-691c-4326-9da6-894b8913e7cc",
   "metadata": {},
   "source": [
    "The image shows that the classifier did a good job classifying the digits. However, let's focus on the errors."
   ]
  },
  {
   "cell_type": "code",
   "execution_count": 18,
   "id": "f1dfaef5-42cc-40b7-8ea5-c5049f8a281e",
   "metadata": {
    "tags": []
   },
   "outputs": [
    {
     "data": {
      "text/plain": [
       "array([[9.93223621e-01, 0.00000000e+00, 1.21006776e-03, 0.00000000e+00,\n",
       "        0.00000000e+00, 1.45208132e-03, 2.66214908e-03, 7.26040658e-04,\n",
       "        4.84027106e-04, 2.42013553e-04],\n",
       "       [0.00000000e+00, 9.93381725e-01, 1.92143467e-03, 4.26985482e-04,\n",
       "        8.53970965e-04, 2.13492741e-04, 8.53970965e-04, 1.49444919e-03,\n",
       "        4.26985482e-04, 4.26985482e-04],\n",
       "       [6.22456308e-03, 8.61862581e-03, 9.58343309e-01, 3.59109409e-03,\n",
       "        9.57625090e-04, 7.18218817e-04, 7.18218817e-04, 1.77160642e-02,\n",
       "        2.15465645e-03, 9.57625090e-04],\n",
       "       [6.89496667e-04, 2.29832222e-03, 6.20547001e-03, 9.62537348e-01,\n",
       "        0.00000000e+00, 1.14916111e-02, 6.89496667e-04, 5.28614112e-03,\n",
       "        5.97563778e-03, 4.82647667e-03],\n",
       "       [4.91159136e-04, 1.08055010e-02, 0.00000000e+00, 0.00000000e+00,\n",
       "        9.58988212e-01, 0.00000000e+00, 3.68369352e-03, 1.96463654e-03,\n",
       "        0.00000000e+00, 2.40667976e-02],\n",
       "       [2.10803689e-03, 7.90513834e-04, 5.27009223e-04, 1.44927536e-02,\n",
       "        5.27009223e-04, 9.59683794e-01, 1.23847167e-02, 1.05401845e-03,\n",
       "        1.31752306e-03, 7.11462451e-03],\n",
       "       [5.07614213e-03, 1.45032632e-03, 0.00000000e+00, 0.00000000e+00,\n",
       "        1.45032632e-03, 4.10925792e-03, 9.87430505e-01, 0.00000000e+00,\n",
       "        4.83442108e-04, 0.00000000e+00],\n",
       "       [2.27221086e-04, 1.22699387e-02, 2.04498978e-03, 4.54442172e-04,\n",
       "        2.04498978e-03, 0.00000000e+00, 0.00000000e+00, 9.70461259e-01,\n",
       "        0.00000000e+00, 1.24971597e-02],\n",
       "       [2.70735909e-03, 1.05833128e-02, 3.19960620e-03, 1.32906719e-02,\n",
       "        3.69185331e-03, 1.59980310e-02, 4.67634753e-03, 2.95348265e-03,\n",
       "        9.32316023e-01, 1.05833128e-02],\n",
       "       [3.10410697e-03, 2.38777459e-03, 7.16332378e-04, 6.20821394e-03,\n",
       "        1.02674308e-02, 2.86532951e-03, 4.77554919e-04, 1.45654250e-02,\n",
       "        2.62655205e-03, 9.56781280e-01]])"
      ]
     },
     "execution_count": 18,
     "metadata": {},
     "output_type": "execute_result"
    }
   ],
   "source": [
    "row_sums = conf_mx.sum(axis=1, keepdims=True)\n",
    "norm_conf_mx = conf_mx/row_sums\n",
    "norm_conf_mx"
   ]
  },
  {
   "cell_type": "code",
   "execution_count": 19,
   "id": "1347845e-7f1f-4c5c-8e3d-4ff2b3f21793",
   "metadata": {
    "tags": []
   },
   "outputs": [],
   "source": [
    "np.fill_diagonal(norm_conf_mx, 0) # This elliminates correctly classified digits"
   ]
  },
  {
   "cell_type": "code",
   "execution_count": 20,
   "id": "d91b75f3-e96d-4ef4-ab3e-9344c296d150",
   "metadata": {
    "tags": []
   },
   "outputs": [
    {
     "data": {
      "image/png": "[encoded data removed]",
      "text/plain": [
       "<Figure size 480x480 with 1 Axes>"
      ]
     },
     "metadata": {},
     "output_type": "display_data"
    }
   ],
   "source": [
    "plt.matshow(norm_conf_mx, cmap=\"gray\")\n",
    "plt.show()"
   ]
  },
  {
   "cell_type": "markdown",
   "id": "3e7d357f-fe9c-429a-85c5-408e057aa1dd",
   "metadata": {
    "tags": []
   },
   "source": [
    "### Data Augmentation"
   ]
  },
  {
   "cell_type": "code",
   "execution_count": 22,
   "id": "776b26a1-af41-4182-ba9e-7e48f8e4ed1f",
   "metadata": {
    "tags": []
   },
   "outputs": [],
   "source": [
    "from scipy.ndimage import shift"
   ]
  },
  {
   "cell_type": "code",
   "execution_count": 23,
   "id": "0feb46f9-c759-4ed3-ad33-3a589f214e57",
   "metadata": {},
   "outputs": [],
   "source": [
    "def shift_image(image, dx, dy):\n",
    "    \"\"\"\n",
    "    This function is used to shift an image down, up, left and right.\n",
    "    \"\"\"\n",
    "    \n",
    "    image = image.reshape(28, 28)\n",
    "    shifted_image = shift(image, [dx, dy], cval=0)\n",
    "    shifted_image = shifted_image.reshape([-1])\n",
    "    return shifted_image"
   ]
  },
  {
   "cell_type": "code",
   "execution_count": 24,
   "id": "82810457-f368-4490-8173-8258a8481b69",
   "metadata": {},
   "outputs": [],
   "source": [
    "def augment_data(predictors, labels):\n",
    "    \"\"\"\n",
    "    This function augments both the predictors and labels.\n",
    "    \"\"\"\n",
    "    augmented_predictors = [image for image in predictors]\n",
    "    augmented_labels = [label for label in labels]\n",
    "    \n",
    "    rotations = [(1,0),(-1,0),(0,-1),(0,1)]\n",
    "    for dx, dy in rotations:\n",
    "        for image, label in zip(predictors, labels):\n",
    "            shifted_image = shift_image(image, dx, dy)\n",
    "            augmented_predictors.append(shifted_image)\n",
    "            augmented_labels.append(label)\n",
    "    augmented_predictors = np.array(augmented_predictors)\n",
    "    augmented_labels = np.array(augmented_labels)\n",
    "    return augmented_predictors, augmented_labels\n",
    "X_train_augmented, y_train_augmented = augment_data(X_train, y_train)"
   ]
  },
  {
   "cell_type": "code",
   "execution_count": 25,
   "id": "0a98a532-68fe-4d35-a85b-441ece008bf2",
   "metadata": {},
   "outputs": [],
   "source": [
    "shuffle_idx = np.random.permutation(len(X_train_augmented))\n",
    "X_train_augmented = X_train_augmented[shuffle_idx]\n",
    "y_train_augmented = y_train_augmented[shuffle_idx]"
   ]
  },
  {
   "cell_type": "markdown",
   "id": "4ddd54e1-1447-49b4-bc88-aa73f6a1e63a",
   "metadata": {
    "tags": []
   },
   "source": [
    "### Additional Preprocessing"
   ]
  },
  {
   "cell_type": "code",
   "execution_count": null,
   "id": "9b8910f9-dcd2-46d6-9c74-c5e1cba5fd67",
   "metadata": {},
   "outputs": [],
   "source": [
    "def highlight_closed_loops(image):\n",
    "    # Reshape to 28 x 28 pixel image\n",
    "    image = image.reshape(28, 28)\n",
    "    # (Example: Thresholding to highlight closed loops)\n",
    "    _, thresholded = cv2.threshold(image, 128, 255, cv2.THRESH_BINARY_INV)\n",
    "\n",
    "    # Apply morphological operations (optional)\n",
    "    kernel = cv2.getStructuringElement(cv2.MORPH_ELLIPSE, (3, 3))\n",
    "    processed_image = cv2.morphologyEx(thresholded, cv2.MORPH_CLOSE, kernel)\n",
    "    \n",
    "    return processed_image.reshape([-1])"
   ]
  },
  {
   "cell_type": "code",
   "execution_count": null,
   "id": "0e01cf40-cc0b-4e36-b186-d15c021a67cd",
   "metadata": {},
   "outputs": [],
   "source": [
    "X_train_augmented_cv = []\n",
    "for image in X_train_augmented:\n",
    "    processed_image = highlight_closed_loops(image)\n",
    "    X_train_augmented_cv.append(processed_image)\n",
    "\n",
    "X_train_augmented_cv = np.array(X_train_augmented_cv)"
   ]
  },
  {
   "cell_type": "code",
   "execution_count": null,
   "id": "c963e201-65e3-49a8-a440-eab3cceca561",
   "metadata": {},
   "outputs": [],
   "source": [
    "# Standardize the training set.\n",
    "scaler = StandardScaler()\n",
    "X_train_augmented_scaled = scaler.fit_transform(X_train_augmented_cv)"
   ]
  },
  {
   "cell_type": "markdown",
   "id": "d23c6119-27f5-43e7-baf9-9a796b019c0e",
   "metadata": {
    "tags": []
   },
   "source": [
    "### Train KNeighbors on best parameters and augmented data."
   ]
  },
  {
   "cell_type": "code",
   "execution_count": 29,
   "id": "4dd536da-6cdf-474e-a607-8d82b45d603c",
   "metadata": {},
   "outputs": [],
   "source": [
    "knn_clf = KNeighborsClassifier(**grid_search.best_params_)"
   ]
  },
  {
   "cell_type": "code",
   "execution_count": 30,
   "id": "c7272015-2708-4729-88cf-6cd6007e035c",
   "metadata": {},
   "outputs": [],
   "source": [
    "knn_clf.fit(X_train_augmented_scaled, y_train_augmented)\n",
    "predictions = knn_clf.predict(test)"
   ]
  },
  {
   "cell_type": "code",
   "execution_count": null,
   "id": "5fb52bbc-6c03-471e-82f7-c7787c464ed4",
   "metadata": {},
   "outputs": [],
   "source": [
    "scores = cross_val_score(knn_clf, X_train_augmented_scaled, y_train_augmented, cv=5)\n",
    "print(np.mean(scores))"
   ]
  },
  {
   "cell_type": "code",
   "execution_count": null,
   "id": "9717fb47-5dee-4a07-8bd8-c399b9f4bcdf",
   "metadata": {
    "tags": []
   },
   "outputs": [],
   "source": [
    "df = pd.DataFrame()\n",
    "df[\"ImageId\"] = np.arange(1, 28001)\n",
    "df[\"Label\"] = predictions\n",
    "df.to_csv(\"kneighbors_predictions.csv\", index=False)"
   ]
  }
 ],
 "metadata": {
  "kernelspec": {
   "display_name": "Python 3 (ipykernel)",
   "language": "python",
   "name": "python3"
  },
  "language_info": {
   "codemirror_mode": {
    "name": "ipython",
    "version": 3
   },
   "file_extension": ".py",
   "mimetype": "text/x-python",
   "name": "python",
   "nbconvert_exporter": "python",
   "pygments_lexer": "ipython3",
   "version": "3.11.5"
  }
 },
 "nbformat": 4,
 "nbformat_minor": 5
}
