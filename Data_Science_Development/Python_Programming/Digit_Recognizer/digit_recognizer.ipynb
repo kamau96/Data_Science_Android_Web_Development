{
 "cells": [
  {
   "cell_type": "markdown",
   "id": "1a77685d-c1b0-4de8-861c-22e8a4503d44",
   "metadata": {},
   "source": [
    "# This Notebook Explores Computer Vision Using MNIST Dataset."
   ]
  },
  {
   "cell_type": "code",
   "execution_count": 2,
   "id": "ca610fa4-ac1a-4e56-8276-bdb92e4c900a",
   "metadata": {
    "tags": []
   },
   "outputs": [],
   "source": [
    "# Required libraries are loaded. \n",
    "import pandas as pd\n",
    "import numpy as np\n",
    "import matplotlib.pyplot as plt\n",
    "from sklearn.model_selection import cross_val_score, cross_val_predict, GridSearchCV\n",
    "from sklearn.metrics import confusion_matrix\n",
    "from sklearn.neighbors import KNeighborsClassifier\n",
    "from sklearn.ensemble import RandomForestClassifier\n",
    "from sklearn.linear_model import SGDClassifier"
   ]
  },
  {
   "cell_type": "code",
   "execution_count": 3,
   "id": "c628f06f-8cda-4cf7-b40f-c65f6f72e077",
   "metadata": {
    "tags": []
   },
   "outputs": [],
   "source": [
    "# Files to be used.\n",
    "path = \"../../../Data/digit-recognizer/\"\n",
    "train = pd.read_csv(path + \"train.csv\")\n",
    "test = pd.read_csv(path + \"test.csv\")"
   ]
  },
  {
   "cell_type": "code",
   "execution_count": 4,
   "id": "28e57a08-17af-4f75-b20f-dd1bc5904b76",
   "metadata": {
    "tags": []
   },
   "outputs": [
    {
     "data": {
      "text/html": [
       "<div>\n",
       "<style scoped>\n",
       "    .dataframe tbody tr th:only-of-type {\n",
       "        vertical-align: middle;\n",
       "    }\n",
       "\n",
       "    .dataframe tbody tr th {\n",
       "        vertical-align: top;\n",
       "    }\n",
       "\n",
       "    .dataframe thead th {\n",
       "        text-align: right;\n",
       "    }\n",
       "</style>\n",
       "<table border=\"1\" class=\"dataframe\">\n",
       "  <thead>\n",
       "    <tr style=\"text-align: right;\">\n",
       "      <th></th>\n",
       "      <th>label</th>\n",
       "      <th>pixel0</th>\n",
       "      <th>pixel1</th>\n",
       "      <th>pixel2</th>\n",
       "      <th>pixel3</th>\n",
       "      <th>pixel4</th>\n",
       "      <th>pixel5</th>\n",
       "      <th>pixel6</th>\n",
       "      <th>pixel7</th>\n",
       "      <th>pixel8</th>\n",
       "      <th>...</th>\n",
       "      <th>pixel774</th>\n",
       "      <th>pixel775</th>\n",
       "      <th>pixel776</th>\n",
       "      <th>pixel777</th>\n",
       "      <th>pixel778</th>\n",
       "      <th>pixel779</th>\n",
       "      <th>pixel780</th>\n",
       "      <th>pixel781</th>\n",
       "      <th>pixel782</th>\n",
       "      <th>pixel783</th>\n",
       "    </tr>\n",
       "  </thead>\n",
       "  <tbody>\n",
       "    <tr>\n",
       "      <th>0</th>\n",
       "      <td>1</td>\n",
       "      <td>0</td>\n",
       "      <td>0</td>\n",
       "      <td>0</td>\n",
       "      <td>0</td>\n",
       "      <td>0</td>\n",
       "      <td>0</td>\n",
       "      <td>0</td>\n",
       "      <td>0</td>\n",
       "      <td>0</td>\n",
       "      <td>...</td>\n",
       "      <td>0</td>\n",
       "      <td>0</td>\n",
       "      <td>0</td>\n",
       "      <td>0</td>\n",
       "      <td>0</td>\n",
       "      <td>0</td>\n",
       "      <td>0</td>\n",
       "      <td>0</td>\n",
       "      <td>0</td>\n",
       "      <td>0</td>\n",
       "    </tr>\n",
       "    <tr>\n",
       "      <th>1</th>\n",
       "      <td>0</td>\n",
       "      <td>0</td>\n",
       "      <td>0</td>\n",
       "      <td>0</td>\n",
       "      <td>0</td>\n",
       "      <td>0</td>\n",
       "      <td>0</td>\n",
       "      <td>0</td>\n",
       "      <td>0</td>\n",
       "      <td>0</td>\n",
       "      <td>...</td>\n",
       "      <td>0</td>\n",
       "      <td>0</td>\n",
       "      <td>0</td>\n",
       "      <td>0</td>\n",
       "      <td>0</td>\n",
       "      <td>0</td>\n",
       "      <td>0</td>\n",
       "      <td>0</td>\n",
       "      <td>0</td>\n",
       "      <td>0</td>\n",
       "    </tr>\n",
       "    <tr>\n",
       "      <th>2</th>\n",
       "      <td>1</td>\n",
       "      <td>0</td>\n",
       "      <td>0</td>\n",
       "      <td>0</td>\n",
       "      <td>0</td>\n",
       "      <td>0</td>\n",
       "      <td>0</td>\n",
       "      <td>0</td>\n",
       "      <td>0</td>\n",
       "      <td>0</td>\n",
       "      <td>...</td>\n",
       "      <td>0</td>\n",
       "      <td>0</td>\n",
       "      <td>0</td>\n",
       "      <td>0</td>\n",
       "      <td>0</td>\n",
       "      <td>0</td>\n",
       "      <td>0</td>\n",
       "      <td>0</td>\n",
       "      <td>0</td>\n",
       "      <td>0</td>\n",
       "    </tr>\n",
       "    <tr>\n",
       "      <th>3</th>\n",
       "      <td>4</td>\n",
       "      <td>0</td>\n",
       "      <td>0</td>\n",
       "      <td>0</td>\n",
       "      <td>0</td>\n",
       "      <td>0</td>\n",
       "      <td>0</td>\n",
       "      <td>0</td>\n",
       "      <td>0</td>\n",
       "      <td>0</td>\n",
       "      <td>...</td>\n",
       "      <td>0</td>\n",
       "      <td>0</td>\n",
       "      <td>0</td>\n",
       "      <td>0</td>\n",
       "      <td>0</td>\n",
       "      <td>0</td>\n",
       "      <td>0</td>\n",
       "      <td>0</td>\n",
       "      <td>0</td>\n",
       "      <td>0</td>\n",
       "    </tr>\n",
       "    <tr>\n",
       "      <th>4</th>\n",
       "      <td>0</td>\n",
       "      <td>0</td>\n",
       "      <td>0</td>\n",
       "      <td>0</td>\n",
       "      <td>0</td>\n",
       "      <td>0</td>\n",
       "      <td>0</td>\n",
       "      <td>0</td>\n",
       "      <td>0</td>\n",
       "      <td>0</td>\n",
       "      <td>...</td>\n",
       "      <td>0</td>\n",
       "      <td>0</td>\n",
       "      <td>0</td>\n",
       "      <td>0</td>\n",
       "      <td>0</td>\n",
       "      <td>0</td>\n",
       "      <td>0</td>\n",
       "      <td>0</td>\n",
       "      <td>0</td>\n",
       "      <td>0</td>\n",
       "    </tr>\n",
       "  </tbody>\n",
       "</table>\n",
       "<p>5 rows × 785 columns</p>\n",
       "</div>"
      ],
      "text/plain": [
       "   label  pixel0  pixel1  pixel2  pixel3  pixel4  pixel5  pixel6  pixel7  \\\n",
       "0      1       0       0       0       0       0       0       0       0   \n",
       "1      0       0       0       0       0       0       0       0       0   \n",
       "2      1       0       0       0       0       0       0       0       0   \n",
       "3      4       0       0       0       0       0       0       0       0   \n",
       "4      0       0       0       0       0       0       0       0       0   \n",
       "\n",
       "   pixel8  ...  pixel774  pixel775  pixel776  pixel777  pixel778  pixel779  \\\n",
       "0       0  ...         0         0         0         0         0         0   \n",
       "1       0  ...         0         0         0         0         0         0   \n",
       "2       0  ...         0         0         0         0         0         0   \n",
       "3       0  ...         0         0         0         0         0         0   \n",
       "4       0  ...         0         0         0         0         0         0   \n",
       "\n",
       "   pixel780  pixel781  pixel782  pixel783  \n",
       "0         0         0         0         0  \n",
       "1         0         0         0         0  \n",
       "2         0         0         0         0  \n",
       "3         0         0         0         0  \n",
       "4         0         0         0         0  \n",
       "\n",
       "[5 rows x 785 columns]"
      ]
     },
     "execution_count": 4,
     "metadata": {},
     "output_type": "execute_result"
    }
   ],
   "source": [
    "train.head()"
   ]
  },
  {
   "cell_type": "code",
   "execution_count": 5,
   "id": "35b97b42-45b1-4740-9318-d16deac65749",
   "metadata": {
    "tags": []
   },
   "outputs": [
    {
     "data": {
      "text/html": [
       "<div>\n",
       "<style scoped>\n",
       "    .dataframe tbody tr th:only-of-type {\n",
       "        vertical-align: middle;\n",
       "    }\n",
       "\n",
       "    .dataframe tbody tr th {\n",
       "        vertical-align: top;\n",
       "    }\n",
       "\n",
       "    .dataframe thead th {\n",
       "        text-align: right;\n",
       "    }\n",
       "</style>\n",
       "<table border=\"1\" class=\"dataframe\">\n",
       "  <thead>\n",
       "    <tr style=\"text-align: right;\">\n",
       "      <th></th>\n",
       "      <th>pixel0</th>\n",
       "      <th>pixel1</th>\n",
       "      <th>pixel2</th>\n",
       "      <th>pixel3</th>\n",
       "      <th>pixel4</th>\n",
       "      <th>pixel5</th>\n",
       "      <th>pixel6</th>\n",
       "      <th>pixel7</th>\n",
       "      <th>pixel8</th>\n",
       "      <th>pixel9</th>\n",
       "      <th>...</th>\n",
       "      <th>pixel774</th>\n",
       "      <th>pixel775</th>\n",
       "      <th>pixel776</th>\n",
       "      <th>pixel777</th>\n",
       "      <th>pixel778</th>\n",
       "      <th>pixel779</th>\n",
       "      <th>pixel780</th>\n",
       "      <th>pixel781</th>\n",
       "      <th>pixel782</th>\n",
       "      <th>pixel783</th>\n",
       "    </tr>\n",
       "  </thead>\n",
       "  <tbody>\n",
       "    <tr>\n",
       "      <th>0</th>\n",
       "      <td>0</td>\n",
       "      <td>0</td>\n",
       "      <td>0</td>\n",
       "      <td>0</td>\n",
       "      <td>0</td>\n",
       "      <td>0</td>\n",
       "      <td>0</td>\n",
       "      <td>0</td>\n",
       "      <td>0</td>\n",
       "      <td>0</td>\n",
       "      <td>...</td>\n",
       "      <td>0</td>\n",
       "      <td>0</td>\n",
       "      <td>0</td>\n",
       "      <td>0</td>\n",
       "      <td>0</td>\n",
       "      <td>0</td>\n",
       "      <td>0</td>\n",
       "      <td>0</td>\n",
       "      <td>0</td>\n",
       "      <td>0</td>\n",
       "    </tr>\n",
       "    <tr>\n",
       "      <th>1</th>\n",
       "      <td>0</td>\n",
       "      <td>0</td>\n",
       "      <td>0</td>\n",
       "      <td>0</td>\n",
       "      <td>0</td>\n",
       "      <td>0</td>\n",
       "      <td>0</td>\n",
       "      <td>0</td>\n",
       "      <td>0</td>\n",
       "      <td>0</td>\n",
       "      <td>...</td>\n",
       "      <td>0</td>\n",
       "      <td>0</td>\n",
       "      <td>0</td>\n",
       "      <td>0</td>\n",
       "      <td>0</td>\n",
       "      <td>0</td>\n",
       "      <td>0</td>\n",
       "      <td>0</td>\n",
       "      <td>0</td>\n",
       "      <td>0</td>\n",
       "    </tr>\n",
       "    <tr>\n",
       "      <th>2</th>\n",
       "      <td>0</td>\n",
       "      <td>0</td>\n",
       "      <td>0</td>\n",
       "      <td>0</td>\n",
       "      <td>0</td>\n",
       "      <td>0</td>\n",
       "      <td>0</td>\n",
       "      <td>0</td>\n",
       "      <td>0</td>\n",
       "      <td>0</td>\n",
       "      <td>...</td>\n",
       "      <td>0</td>\n",
       "      <td>0</td>\n",
       "      <td>0</td>\n",
       "      <td>0</td>\n",
       "      <td>0</td>\n",
       "      <td>0</td>\n",
       "      <td>0</td>\n",
       "      <td>0</td>\n",
       "      <td>0</td>\n",
       "      <td>0</td>\n",
       "    </tr>\n",
       "    <tr>\n",
       "      <th>3</th>\n",
       "      <td>0</td>\n",
       "      <td>0</td>\n",
       "      <td>0</td>\n",
       "      <td>0</td>\n",
       "      <td>0</td>\n",
       "      <td>0</td>\n",
       "      <td>0</td>\n",
       "      <td>0</td>\n",
       "      <td>0</td>\n",
       "      <td>0</td>\n",
       "      <td>...</td>\n",
       "      <td>0</td>\n",
       "      <td>0</td>\n",
       "      <td>0</td>\n",
       "      <td>0</td>\n",
       "      <td>0</td>\n",
       "      <td>0</td>\n",
       "      <td>0</td>\n",
       "      <td>0</td>\n",
       "      <td>0</td>\n",
       "      <td>0</td>\n",
       "    </tr>\n",
       "    <tr>\n",
       "      <th>4</th>\n",
       "      <td>0</td>\n",
       "      <td>0</td>\n",
       "      <td>0</td>\n",
       "      <td>0</td>\n",
       "      <td>0</td>\n",
       "      <td>0</td>\n",
       "      <td>0</td>\n",
       "      <td>0</td>\n",
       "      <td>0</td>\n",
       "      <td>0</td>\n",
       "      <td>...</td>\n",
       "      <td>0</td>\n",
       "      <td>0</td>\n",
       "      <td>0</td>\n",
       "      <td>0</td>\n",
       "      <td>0</td>\n",
       "      <td>0</td>\n",
       "      <td>0</td>\n",
       "      <td>0</td>\n",
       "      <td>0</td>\n",
       "      <td>0</td>\n",
       "    </tr>\n",
       "  </tbody>\n",
       "</table>\n",
       "<p>5 rows × 784 columns</p>\n",
       "</div>"
      ],
      "text/plain": [
       "   pixel0  pixel1  pixel2  pixel3  pixel4  pixel5  pixel6  pixel7  pixel8  \\\n",
       "0       0       0       0       0       0       0       0       0       0   \n",
       "1       0       0       0       0       0       0       0       0       0   \n",
       "2       0       0       0       0       0       0       0       0       0   \n",
       "3       0       0       0       0       0       0       0       0       0   \n",
       "4       0       0       0       0       0       0       0       0       0   \n",
       "\n",
       "   pixel9  ...  pixel774  pixel775  pixel776  pixel777  pixel778  pixel779  \\\n",
       "0       0  ...         0         0         0         0         0         0   \n",
       "1       0  ...         0         0         0         0         0         0   \n",
       "2       0  ...         0         0         0         0         0         0   \n",
       "3       0  ...         0         0         0         0         0         0   \n",
       "4       0  ...         0         0         0         0         0         0   \n",
       "\n",
       "   pixel780  pixel781  pixel782  pixel783  \n",
       "0         0         0         0         0  \n",
       "1         0         0         0         0  \n",
       "2         0         0         0         0  \n",
       "3         0         0         0         0  \n",
       "4         0         0         0         0  \n",
       "\n",
       "[5 rows x 784 columns]"
      ]
     },
     "execution_count": 5,
     "metadata": {},
     "output_type": "execute_result"
    }
   ],
   "source": [
    "test.head()"
   ]
  },
  {
   "cell_type": "code",
   "execution_count": 6,
   "id": "9e5245d3-a86a-47c6-92c4-16703684e2de",
   "metadata": {
    "tags": []
   },
   "outputs": [
    {
     "data": {
      "image/png": "[encoded data removed]",
      "text/plain": [
       "<Figure size 640x480 with 1 Axes>"
      ]
     },
     "metadata": {},
     "output_type": "display_data"
    }
   ],
   "source": [
    "# Here we are visualizing a sample observation.\n",
    "obs = train.iloc[0,][1:].to_numpy()\n",
    "im = obs.reshape(28, 28)\n",
    "plt.imshow(im, cmap=\"binary\")\n",
    "plt.axis(\"off\")\n",
    "plt.show()"
   ]
  },
  {
   "cell_type": "code",
   "execution_count": 7,
   "id": "66033a40-5197-407c-9033-ed415347b7f1",
   "metadata": {
    "tags": []
   },
   "outputs": [],
   "source": [
    "# Working with numpy is easier on sklearn.\n",
    "X_train = train.loc[:,\"pixel0\":].to_numpy()\n",
    "y_train = train.loc[:,\"label\"].to_numpy()\n",
    "test = test.to_numpy()"
   ]
  },
  {
   "cell_type": "markdown",
   "id": "cda34266-ef0c-4eec-892c-928b6a56df6f",
   "metadata": {},
   "source": [
    "### Grid Search KNeighbors for best parameter space."
   ]
  },
  {
   "cell_type": "code",
   "execution_count": 9,
   "id": "dd48db4c-9429-435f-aad5-9f353e7cd8f2",
   "metadata": {},
   "outputs": [],
   "source": [
    "knn_clf = KNeighborsClassifier()"
   ]
  },
  {
   "cell_type": "code",
   "execution_count": 10,
   "id": "5bdf35ae-9889-46c0-a986-e1dcc79c386c",
   "metadata": {},
   "outputs": [],
   "source": [
    "# Parameters to search for the best model.\n",
    "params = [{\"n_neighbors\": [2, 3, 4, 6], \"weights\": [\"distance\", \"uniform\"]}]"
   ]
  },
  {
   "cell_type": "code",
   "execution_count": 11,
   "id": "6d6f992f-0a81-4f7f-96b9-d3add8a12b6e",
   "metadata": {},
   "outputs": [
    {
     "name": "stdout",
     "output_type": "stream",
     "text": [
      "Fitting 5 folds for each of 8 candidates, totalling 40 fits\n",
      "[CV 1/5] END ...n_neighbors=2, weights=distance;, score=0.966 total time=   7.2s\n",
      "[CV 2/5] END ...n_neighbors=2, weights=distance;, score=0.968 total time=   7.0s\n",
      "[CV 3/5] END ...n_neighbors=2, weights=distance;, score=0.963 total time=   6.8s\n",
      "[CV 4/5] END ...n_neighbors=2, weights=distance;, score=0.967 total time=   6.4s\n",
      "[CV 5/5] END ...n_neighbors=2, weights=distance;, score=0.967 total time=   6.9s\n",
      "[CV 1/5] END ....n_neighbors=2, weights=uniform;, score=0.960 total time=   7.7s\n",
      "[CV 2/5] END ....n_neighbors=2, weights=uniform;, score=0.959 total time=   7.3s\n",
      "[CV 3/5] END ....n_neighbors=2, weights=uniform;, score=0.958 total time=   7.0s\n",
      "[CV 4/5] END ....n_neighbors=2, weights=uniform;, score=0.960 total time=   7.2s\n",
      "[CV 5/5] END ....n_neighbors=2, weights=uniform;, score=0.962 total time=   7.2s\n",
      "[CV 1/5] END ...n_neighbors=3, weights=distance;, score=0.970 total time=   7.0s\n",
      "[CV 2/5] END ...n_neighbors=3, weights=distance;, score=0.969 total time=   7.2s\n",
      "[CV 3/5] END ...n_neighbors=3, weights=distance;, score=0.964 total time=   7.6s\n",
      "[CV 4/5] END ...n_neighbors=3, weights=distance;, score=0.966 total time=   7.3s\n",
      "[CV 5/5] END ...n_neighbors=3, weights=distance;, score=0.971 total time=   7.4s\n",
      "[CV 1/5] END ....n_neighbors=3, weights=uniform;, score=0.970 total time=   7.5s\n",
      "[CV 2/5] END ....n_neighbors=3, weights=uniform;, score=0.967 total time=   7.2s\n",
      "[CV 3/5] END ....n_neighbors=3, weights=uniform;, score=0.963 total time=   8.1s\n",
      "[CV 4/5] END ....n_neighbors=3, weights=uniform;, score=0.964 total time=   7.0s\n",
      "[CV 5/5] END ....n_neighbors=3, weights=uniform;, score=0.969 total time=   7.4s\n",
      "[CV 1/5] END ...n_neighbors=4, weights=distance;, score=0.971 total time=   8.7s\n",
      "[CV 2/5] END ...n_neighbors=4, weights=distance;, score=0.969 total time=   8.1s\n",
      "[CV 3/5] END ...n_neighbors=4, weights=distance;, score=0.966 total time=   8.4s\n",
      "[CV 4/5] END ...n_neighbors=4, weights=distance;, score=0.967 total time=   7.9s\n",
      "[CV 5/5] END ...n_neighbors=4, weights=distance;, score=0.972 total time=   9.2s\n",
      "[CV 1/5] END ....n_neighbors=4, weights=uniform;, score=0.967 total time=   8.7s\n",
      "[CV 2/5] END ....n_neighbors=4, weights=uniform;, score=0.964 total time=   9.8s\n",
      "[CV 3/5] END ....n_neighbors=4, weights=uniform;, score=0.963 total time=  11.7s\n",
      "[CV 4/5] END ....n_neighbors=4, weights=uniform;, score=0.963 total time=  12.7s\n",
      "[CV 5/5] END ....n_neighbors=4, weights=uniform;, score=0.968 total time=  11.4s\n",
      "[CV 1/5] END ...n_neighbors=6, weights=distance;, score=0.969 total time=   8.4s\n",
      "[CV 2/5] END ...n_neighbors=6, weights=distance;, score=0.967 total time=   8.3s\n",
      "[CV 3/5] END ...n_neighbors=6, weights=distance;, score=0.966 total time=   8.5s\n",
      "[CV 4/5] END ...n_neighbors=6, weights=distance;, score=0.965 total time=   8.5s\n",
      "[CV 5/5] END ...n_neighbors=6, weights=distance;, score=0.971 total time=   8.8s\n",
      "[CV 1/5] END ....n_neighbors=6, weights=uniform;, score=0.966 total time=   9.5s\n",
      "[CV 2/5] END ....n_neighbors=6, weights=uniform;, score=0.966 total time=   9.2s\n",
      "[CV 3/5] END ....n_neighbors=6, weights=uniform;, score=0.964 total time=  11.6s\n",
      "[CV 4/5] END ....n_neighbors=6, weights=uniform;, score=0.962 total time=  13.0s\n",
      "[CV 5/5] END ....n_neighbors=6, weights=uniform;, score=0.968 total time=  11.6s\n"
     ]
    },
    {
     "data": {
      "text/html": [
       "<style>#sk-container-id-1 {color: black;}#sk-container-id-1 pre{padding: 0;}#sk-container-id-1 div.sk-toggleable {background-color: white;}#sk-container-id-1 label.sk-toggleable__label {cursor: pointer;display: block;width: 100%;margin-bottom: 0;padding: 0.3em;box-sizing: border-box;text-align: center;}#sk-container-id-1 label.sk-toggleable__label-arrow:before {content: \"▸\";float: left;margin-right: 0.25em;color: #696969;}#sk-container-id-1 label.sk-toggleable__label-arrow:hover:before {color: black;}#sk-container-id-1 div.sk-estimator:hover label.sk-toggleable__label-arrow:before {color: black;}#sk-container-id-1 div.sk-toggleable__content {max-height: 0;max-width: 0;overflow: hidden;text-align: left;background-color: #f0f8ff;}#sk-container-id-1 div.sk-toggleable__content pre {margin: 0.2em;color: black;border-radius: 0.25em;background-color: #f0f8ff;}#sk-container-id-1 input.sk-toggleable__control:checked~div.sk-toggleable__content {max-height: 200px;max-width: 100%;overflow: auto;}#sk-container-id-1 input.sk-toggleable__control:checked~label.sk-toggleable__label-arrow:before {content: \"▾\";}#sk-container-id-1 div.sk-estimator input.sk-toggleable__control:checked~label.sk-toggleable__label {background-color: #d4ebff;}#sk-container-id-1 div.sk-label input.sk-toggleable__control:checked~label.sk-toggleable__label {background-color: #d4ebff;}#sk-container-id-1 input.sk-hidden--visually {border: 0;clip: rect(1px 1px 1px 1px);clip: rect(1px, 1px, 1px, 1px);height: 1px;margin: -1px;overflow: hidden;padding: 0;position: absolute;width: 1px;}#sk-container-id-1 div.sk-estimator {font-family: monospace;background-color: #f0f8ff;border: 1px dotted black;border-radius: 0.25em;box-sizing: border-box;margin-bottom: 0.5em;}#sk-container-id-1 div.sk-estimator:hover {background-color: #d4ebff;}#sk-container-id-1 div.sk-parallel-item::after {content: \"\";width: 100%;border-bottom: 1px solid gray;flex-grow: 1;}#sk-container-id-1 div.sk-label:hover label.sk-toggleable__label {background-color: #d4ebff;}#sk-container-id-1 div.sk-serial::before {content: \"\";position: absolute;border-left: 1px solid gray;box-sizing: border-box;top: 0;bottom: 0;left: 50%;z-index: 0;}#sk-container-id-1 div.sk-serial {display: flex;flex-direction: column;align-items: center;background-color: white;padding-right: 0.2em;padding-left: 0.2em;position: relative;}#sk-container-id-1 div.sk-item {position: relative;z-index: 1;}#sk-container-id-1 div.sk-parallel {display: flex;align-items: stretch;justify-content: center;background-color: white;position: relative;}#sk-container-id-1 div.sk-item::before, #sk-container-id-1 div.sk-parallel-item::before {content: \"\";position: absolute;border-left: 1px solid gray;box-sizing: border-box;top: 0;bottom: 0;left: 50%;z-index: -1;}#sk-container-id-1 div.sk-parallel-item {display: flex;flex-direction: column;z-index: 1;position: relative;background-color: white;}#sk-container-id-1 div.sk-parallel-item:first-child::after {align-self: flex-end;width: 50%;}#sk-container-id-1 div.sk-parallel-item:last-child::after {align-self: flex-start;width: 50%;}#sk-container-id-1 div.sk-parallel-item:only-child::after {width: 0;}#sk-container-id-1 div.sk-dashed-wrapped {border: 1px dashed gray;margin: 0 0.4em 0.5em 0.4em;box-sizing: border-box;padding-bottom: 0.4em;background-color: white;}#sk-container-id-1 div.sk-label label {font-family: monospace;font-weight: bold;display: inline-block;line-height: 1.2em;}#sk-container-id-1 div.sk-label-container {text-align: center;}#sk-container-id-1 div.sk-container {/* jupyter's `normalize.less` sets `[hidden] { display: none; }` but bootstrap.min.css set `[hidden] { display: none !important; }` so we also need the `!important` here to be able to override the default hidden behavior on the sphinx rendered scikit-learn.org. See: https://github.com/scikit-learn/scikit-learn/issues/21755 */display: inline-block !important;position: relative;}#sk-container-id-1 div.sk-text-repr-fallback {display: none;}</style><div id=\"sk-container-id-1\" class=\"sk-top-container\"><div class=\"sk-text-repr-fallback\"><pre>GridSearchCV(cv=5, estimator=KNeighborsClassifier(),\n",
       "             param_grid=[{&#x27;n_neighbors&#x27;: [2, 3, 4, 6],\n",
       "                          &#x27;weights&#x27;: [&#x27;distance&#x27;, &#x27;uniform&#x27;]}],\n",
       "             scoring=&#x27;accuracy&#x27;, verbose=3)</pre><b>In a Jupyter environment, please rerun this cell to show the HTML representation or trust the notebook. <br />On GitHub, the HTML representation is unable to render, please try loading this page with nbviewer.org.</b></div><div class=\"sk-container\" hidden><div class=\"sk-item sk-dashed-wrapped\"><div class=\"sk-label-container\"><div class=\"sk-label sk-toggleable\"><input class=\"sk-toggleable__control sk-hidden--visually\" id=\"sk-estimator-id-1\" type=\"checkbox\" ><label for=\"sk-estimator-id-1\" class=\"sk-toggleable__label sk-toggleable__label-arrow\">GridSearchCV</label><div class=\"sk-toggleable__content\"><pre>GridSearchCV(cv=5, estimator=KNeighborsClassifier(),\n",
       "             param_grid=[{&#x27;n_neighbors&#x27;: [2, 3, 4, 6],\n",
       "                          &#x27;weights&#x27;: [&#x27;distance&#x27;, &#x27;uniform&#x27;]}],\n",
       "             scoring=&#x27;accuracy&#x27;, verbose=3)</pre></div></div></div><div class=\"sk-parallel\"><div class=\"sk-parallel-item\"><div class=\"sk-item\"><div class=\"sk-label-container\"><div class=\"sk-label sk-toggleable\"><input class=\"sk-toggleable__control sk-hidden--visually\" id=\"sk-estimator-id-2\" type=\"checkbox\" ><label for=\"sk-estimator-id-2\" class=\"sk-toggleable__label sk-toggleable__label-arrow\">estimator: KNeighborsClassifier</label><div class=\"sk-toggleable__content\"><pre>KNeighborsClassifier()</pre></div></div></div><div class=\"sk-serial\"><div class=\"sk-item\"><div class=\"sk-estimator sk-toggleable\"><input class=\"sk-toggleable__control sk-hidden--visually\" id=\"sk-estimator-id-3\" type=\"checkbox\" ><label for=\"sk-estimator-id-3\" class=\"sk-toggleable__label sk-toggleable__label-arrow\">KNeighborsClassifier</label><div class=\"sk-toggleable__content\"><pre>KNeighborsClassifier()</pre></div></div></div></div></div></div></div></div></div></div>"
      ],
      "text/plain": [
       "GridSearchCV(cv=5, estimator=KNeighborsClassifier(),\n",
       "             param_grid=[{'n_neighbors': [2, 3, 4, 6],\n",
       "                          'weights': ['distance', 'uniform']}],\n",
       "             scoring='accuracy', verbose=3)"
      ]
     },
     "execution_count": 11,
     "metadata": {},
     "output_type": "execute_result"
    }
   ],
   "source": [
    "grid_search = GridSearchCV(knn_clf, params, cv=5, scoring=\"accuracy\", verbose=3)\n",
    "grid_search.fit(X_train, y_train)"
   ]
  },
  {
   "cell_type": "code",
   "execution_count": 12,
   "id": "6773c11b-a2f7-4dab-aceb-b31ff312af2e",
   "metadata": {},
   "outputs": [
    {
     "name": "stdout",
     "output_type": "stream",
     "text": [
      "The mean_test_score is: 0.9662380952380953 and params: {'n_neighbors': 2, 'weights': 'distance'}\n",
      "The mean_test_score is: 0.9599523809523809 and params: {'n_neighbors': 2, 'weights': 'uniform'}\n",
      "The mean_test_score is: 0.9678095238095239 and params: {'n_neighbors': 3, 'weights': 'distance'}\n",
      "The mean_test_score is: 0.9666904761904762 and params: {'n_neighbors': 3, 'weights': 'uniform'}\n",
      "The mean_test_score is: 0.9691428571428571 and params: {'n_neighbors': 4, 'weights': 'distance'}\n",
      "The mean_test_score is: 0.9651190476190477 and params: {'n_neighbors': 4, 'weights': 'uniform'}\n",
      "The mean_test_score is: 0.9677857142857142 and params: {'n_neighbors': 6, 'weights': 'distance'}\n",
      "The mean_test_score is: 0.9650714285714287 and params: {'n_neighbors': 6, 'weights': 'uniform'}\n"
     ]
    }
   ],
   "source": [
    "cvres = grid_search.cv_results_\n",
    "\n",
    "for mean_test_score, params in zip(cvres[\"mean_test_score\"], cvres[\"params\"]):\n",
    "    print(f\"The mean_test_score is: {mean_test_score} and params: {params}\")"
   ]
  },
  {
   "cell_type": "markdown",
   "id": "3e7d357f-fe9c-429a-85c5-408e057aa1dd",
   "metadata": {},
   "source": [
    "### Data Augmentation"
   ]
  },
  {
   "cell_type": "code",
   "execution_count": 14,
   "id": "776b26a1-af41-4182-ba9e-7e48f8e4ed1f",
   "metadata": {
    "tags": []
   },
   "outputs": [],
   "source": [
    "from scipy.ndimage import shift"
   ]
  },
  {
   "cell_type": "code",
   "execution_count": 15,
   "id": "0feb46f9-c759-4ed3-ad33-3a589f214e57",
   "metadata": {},
   "outputs": [],
   "source": [
    "def shift_image(image, dx, dy):\n",
    "    \"\"\"\n",
    "    This function is used to shift an image down, up, left and right.\n",
    "    \"\"\"\n",
    "    \n",
    "    image = image.reshape(28, 28)\n",
    "    shifted_image = shift(image, [dx, dy], cval=0)\n",
    "    shifted_image = shifted_image.reshape([-1])\n",
    "    return shifted_image"
   ]
  },
  {
   "cell_type": "code",
   "execution_count": 16,
   "id": "82810457-f368-4490-8173-8258a8481b69",
   "metadata": {},
   "outputs": [],
   "source": [
    "def augment_data(predictors, labels):\n",
    "    \"\"\"\n",
    "    This function augments both the predictors and labels.\n",
    "    \"\"\"\n",
    "    augmented_predictors = [image for image in predictors]\n",
    "    augmented_labels = [label for label in labels]\n",
    "    \n",
    "    rotations = [(1,0),(-1,0),(0,-1),(0,1)]\n",
    "    for dx, dy in rotations:\n",
    "        for image, label in zip(predictors, labels):\n",
    "            shifted_image = shift_image(image, dx, dy)\n",
    "            augmented_predictors.append(shifted_image)\n",
    "            augmented_labels.append(label)\n",
    "    augmented_predictors = np.array(augmented_predictors)\n",
    "    augmented_labels = np.array(augmented_labels)\n",
    "    return augmented_predictors, augmented_labels\n",
    "X_train_augmented, y_train_augmented = augment_data(X_train, y_train)"
   ]
  },
  {
   "cell_type": "code",
   "execution_count": 17,
   "id": "0a98a532-68fe-4d35-a85b-441ece008bf2",
   "metadata": {},
   "outputs": [],
   "source": [
    "shuffle_idx = np.random.permutation(len(X_train_augmented))\n",
    "X_train_augmented = X_train_augmented[shuffle_idx]\n",
    "y_train_augmented = y_train_augmented[shuffle_idx]"
   ]
  },
  {
   "cell_type": "markdown",
   "id": "d23c6119-27f5-43e7-baf9-9a796b019c0e",
   "metadata": {},
   "source": [
    "### Train KNeighbors on best parameters and augmented data."
   ]
  },
  {
   "cell_type": "code",
   "execution_count": 19,
   "id": "4dd536da-6cdf-474e-a607-8d82b45d603c",
   "metadata": {},
   "outputs": [],
   "source": [
    "knn_clf = KNeighborsClassifier(**grid_search.best_params_)"
   ]
  },
  {
   "cell_type": "code",
   "execution_count": 20,
   "id": "c7272015-2708-4729-88cf-6cd6007e035c",
   "metadata": {},
   "outputs": [],
   "source": [
    "knn_clf.fit(X_train_augmented, y_train_augmented)\n",
    "predictions = knn_clf.predict(test)"
   ]
  },
  {
   "cell_type": "code",
   "execution_count": 21,
   "id": "16f3add2-b460-4cd2-9b86-4473c087aebf",
   "metadata": {},
   "outputs": [
    {
     "name": "stdout",
     "output_type": "stream",
     "text": [
      "0.9840238095238096\n"
     ]
    }
   ],
   "source": [
    "scores = cross_val_score(knn_clf, X_train_augmented, y_train_augmented, cv=5)\n",
    "print(np.mean(scores))"
   ]
  },
  {
   "cell_type": "code",
   "execution_count": 22,
   "id": "906c3100-6ef0-4f6a-a5b6-925cefa37ebb",
   "metadata": {
    "tags": []
   },
   "outputs": [],
   "source": [
    "df = pd.DataFrame()\n",
    "df[\"ImageId\"] = np.arange(1, 28001)\n",
    "df[\"Label\"] = predictions\n",
    "df.to_csv(\"kneighbors_predictions.csv\", index=False)"
   ]
  },
  {
   "cell_type": "markdown",
   "id": "bd030dbb-ae0f-4f02-9d9d-f41ed28a0921",
   "metadata": {},
   "source": [
    "### Error Analysis"
   ]
  },
  {
   "cell_type": "code",
   "execution_count": 24,
   "id": "39fe6118-660c-4a6b-8ce3-151524b5d72c",
   "metadata": {
    "tags": []
   },
   "outputs": [
    {
     "data": {
      "text/plain": [
       "array([[20597,     3,     3,     1,     1,    10,    37,     2,     3,\n",
       "            3],\n",
       "       [    0, 23355,    14,     2,     2,     0,     6,    28,     4,\n",
       "            9],\n",
       "       [   78,    91, 20379,    30,     4,     9,     5,   262,     9,\n",
       "           18],\n",
       "       [    7,    19,    47, 21368,     2,   124,     9,    67,    66,\n",
       "           46],\n",
       "       [   11,   161,     0,     0, 19852,     0,    18,    26,     0,\n",
       "          292],\n",
       "       [   26,    17,     0,   125,     8, 18610,   136,     3,     6,\n",
       "           44],\n",
       "       [   67,    40,     2,     1,    12,    50, 20507,     0,     6,\n",
       "            0],\n",
       "       [    2,   202,    38,     2,    12,     3,     0, 21619,     0,\n",
       "          127],\n",
       "       [   32,   144,    29,   202,    35,   148,    69,    39, 19471,\n",
       "          146],\n",
       "       [   45,    42,     8,    75,   147,    29,     4,   189,    16,\n",
       "        20385]], dtype=int64)"
      ]
     },
     "execution_count": 24,
     "metadata": {},
     "output_type": "execute_result"
    }
   ],
   "source": [
    "y_train_pred = cross_val_predict(knn_clf, X_train_augmented, y_train_augmented, cv=3)\n",
    "conf_mx = confusion_matrix(y_train_augmented, y_train_pred)\n",
    "conf_mx"
   ]
  },
  {
   "cell_type": "markdown",
   "id": "374359fd-a6f2-425a-b4d2-fd0d0df4dd73",
   "metadata": {},
   "source": [
    "Let's visualize the above matrix"
   ]
  },
  {
   "cell_type": "code",
   "execution_count": 47,
   "id": "908d2e7d-0357-4c1a-8d04-f6c3960b6c66",
   "metadata": {
    "tags": []
   },
   "outputs": [
    {
     "data": {
      "image/png": "[encoded data removed]",
      "text/plain": [
       "<Figure size 480x480 with 1 Axes>"
      ]
     },
     "metadata": {},
     "output_type": "display_data"
    }
   ],
   "source": [
    "plt.matshow(conf_mx, cmap=\"gray\")\n",
    "plt.show()"
   ]
  },
  {
   "cell_type": "markdown",
   "id": "34fa7de3-691c-4326-9da6-894b8913e7cc",
   "metadata": {},
   "source": [
    "The image shows that the classifier did a good job classifying the digits. However, let's focus on the errors."
   ]
  },
  {
   "cell_type": "code",
   "execution_count": 68,
   "id": "f1dfaef5-42cc-40b7-8ea5-c5049f8a281e",
   "metadata": {
    "tags": []
   },
   "outputs": [
    {
     "data": {
      "text/plain": [
       "array([[9.96950629e-01, 1.45208132e-04, 1.45208132e-04, 4.84027106e-05,\n",
       "        4.84027106e-05, 4.84027106e-04, 1.79090029e-03, 9.68054211e-05,\n",
       "        1.45208132e-04, 1.45208132e-04],\n",
       "       [0.00000000e+00, 9.97224594e-01, 5.97779675e-04, 8.53970965e-05,\n",
       "        8.53970965e-05, 0.00000000e+00, 2.56191289e-04, 1.19555935e-03,\n",
       "        1.70794193e-04, 3.84286934e-04],\n",
       "       [3.73473785e-03, 4.35719416e-03, 9.75772085e-01, 1.43643763e-03,\n",
       "        1.91525018e-04, 4.30931290e-04, 2.39406272e-04, 1.25448887e-02,\n",
       "        4.30931290e-04, 8.61862581e-04],\n",
       "       [3.21765111e-04, 8.73362445e-04, 2.16042289e-03, 9.82210986e-01,\n",
       "        9.19328890e-05, 5.69983912e-03, 4.13698000e-04, 3.07975178e-03,\n",
       "        3.03378534e-03, 2.11445645e-03],\n",
       "       [5.40275049e-04, 7.90766208e-03, 0.00000000e+00, 0.00000000e+00,\n",
       "        9.75049116e-01, 0.00000000e+00, 8.84086444e-04, 1.27701375e-03,\n",
       "        0.00000000e+00, 1.43418468e-02],\n",
       "       [1.37022398e-03, 8.95915679e-04, 0.00000000e+00, 6.58761528e-03,\n",
       "        4.21607378e-04, 9.80764163e-01, 7.16732543e-03, 1.58102767e-04,\n",
       "        3.16205534e-04, 2.31884058e-03],\n",
       "       [3.23906212e-03, 1.93376843e-03, 9.66884216e-05, 4.83442108e-05,\n",
       "        5.80130529e-04, 2.41721054e-03, 9.91394730e-01, 0.00000000e+00,\n",
       "        2.90065265e-04, 0.00000000e+00],\n",
       "       [9.08884344e-05, 9.17973188e-03, 1.72688025e-03, 9.08884344e-05,\n",
       "        5.45330607e-04, 1.36332652e-04, 0.00000000e+00, 9.82458532e-01,\n",
       "        0.00000000e+00, 5.77141559e-03],\n",
       "       [1.57519075e-03, 7.08835836e-03, 1.42751661e-03, 9.94339158e-03,\n",
       "        1.72286488e-03, 7.28525720e-03, 3.39650505e-03, 1.91976372e-03,\n",
       "        9.58454344e-01, 7.18680778e-03],\n",
       "       [2.14899713e-03, 2.00573066e-03, 3.82043935e-04, 3.58166189e-03,\n",
       "        7.02005731e-03, 1.38490926e-03, 1.91021968e-04, 9.02578797e-03,\n",
       "        7.64087870e-04, 9.73495702e-01]])"
      ]
     },
     "execution_count": 68,
     "metadata": {},
     "output_type": "execute_result"
    }
   ],
   "source": [
    "row_sums = conf_mx.sum(axis=1, keepdims=True)\n",
    "norm_conf_mx = conf_mx/row_sums\n",
    "norm_conf_mx"
   ]
  },
  {
   "cell_type": "code",
   "execution_count": 76,
   "id": "1347845e-7f1f-4c5c-8e3d-4ff2b3f21793",
   "metadata": {
    "tags": []
   },
   "outputs": [],
   "source": [
    "np.fill_diagonal(norm_conf_mx, 0) # This elliminates correctly classified digits"
   ]
  },
  {
   "cell_type": "code",
   "execution_count": 78,
   "id": "d91b75f3-e96d-4ef4-ab3e-9344c296d150",
   "metadata": {
    "tags": []
   },
   "outputs": [
    {
     "data": {
      "image/png": "[encoded data removed]",
      "text/plain": [
       "<Figure size 480x480 with 1 Axes>"
      ]
     },
     "metadata": {},
     "output_type": "display_data"
    }
   ],
   "source": [
    "plt.matshow(norm_conf_mx, cmap=\"gray\")\n",
    "plt.show()"
   ]
  },
  {
   "cell_type": "code",
   "execution_count": null,
   "id": "d3adee34-d3ac-4307-89e1-76f2852bb051",
   "metadata": {},
   "outputs": [],
   "source": []
  }
 ],
 "metadata": {
  "kernelspec": {
   "display_name": "Python 3 (ipykernel)",
   "language": "python",
   "name": "python3"
  },
  "language_info": {
   "codemirror_mode": {
    "name": "ipython",
    "version": 3
   },
   "file_extension": ".py",
   "mimetype": "text/x-python",
   "name": "python",
   "nbconvert_exporter": "python",
   "pygments_lexer": "ipython3",
   "version": "3.11.5"
  }
 },
 "nbformat": 4,
 "nbformat_minor": 5
}
