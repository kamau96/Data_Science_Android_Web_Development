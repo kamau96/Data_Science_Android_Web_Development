{
 "cells": [
  {
   "cell_type": "code",
   "execution_count": 1,
   "id": "6b0836e8-4513-4fba-9bd2-05f60854451f",
   "metadata": {
    "tags": []
   },
   "outputs": [],
   "source": [
    "# eda libraries\n",
    "import pandas as pd\n",
    "import numpy as np\n",
    "import matplotlib.pyplot as plt"
   ]
  },
  {
   "cell_type": "code",
   "execution_count": 2,
   "id": "c927b2a6-71f7-4487-9dc3-1ddee5bc7017",
   "metadata": {
    "tags": []
   },
   "outputs": [],
   "source": [
    "path = '../../../Data/digit-recognizer/train.csv'\n",
    "digits = pd.read_csv(path)"
   ]
  },
  {
   "cell_type": "code",
   "execution_count": 3,
   "id": "9b42797d-dd57-427b-afad-18bc7ff6e42c",
   "metadata": {
    "tags": []
   },
   "outputs": [
    {
     "data": {
      "text/html": [
       "<div>\n",
       "<style scoped>\n",
       "    .dataframe tbody tr th:only-of-type {\n",
       "        vertical-align: middle;\n",
       "    }\n",
       "\n",
       "    .dataframe tbody tr th {\n",
       "        vertical-align: top;\n",
       "    }\n",
       "\n",
       "    .dataframe thead th {\n",
       "        text-align: right;\n",
       "    }\n",
       "</style>\n",
       "<table border=\"1\" class=\"dataframe\">\n",
       "  <thead>\n",
       "    <tr style=\"text-align: right;\">\n",
       "      <th></th>\n",
       "      <th>label</th>\n",
       "      <th>pixel0</th>\n",
       "      <th>pixel1</th>\n",
       "      <th>pixel2</th>\n",
       "      <th>pixel3</th>\n",
       "      <th>pixel4</th>\n",
       "      <th>pixel5</th>\n",
       "      <th>pixel6</th>\n",
       "      <th>pixel7</th>\n",
       "      <th>pixel8</th>\n",
       "      <th>...</th>\n",
       "      <th>pixel774</th>\n",
       "      <th>pixel775</th>\n",
       "      <th>pixel776</th>\n",
       "      <th>pixel777</th>\n",
       "      <th>pixel778</th>\n",
       "      <th>pixel779</th>\n",
       "      <th>pixel780</th>\n",
       "      <th>pixel781</th>\n",
       "      <th>pixel782</th>\n",
       "      <th>pixel783</th>\n",
       "    </tr>\n",
       "  </thead>\n",
       "  <tbody>\n",
       "    <tr>\n",
       "      <th>0</th>\n",
       "      <td>1</td>\n",
       "      <td>0</td>\n",
       "      <td>0</td>\n",
       "      <td>0</td>\n",
       "      <td>0</td>\n",
       "      <td>0</td>\n",
       "      <td>0</td>\n",
       "      <td>0</td>\n",
       "      <td>0</td>\n",
       "      <td>0</td>\n",
       "      <td>...</td>\n",
       "      <td>0</td>\n",
       "      <td>0</td>\n",
       "      <td>0</td>\n",
       "      <td>0</td>\n",
       "      <td>0</td>\n",
       "      <td>0</td>\n",
       "      <td>0</td>\n",
       "      <td>0</td>\n",
       "      <td>0</td>\n",
       "      <td>0</td>\n",
       "    </tr>\n",
       "    <tr>\n",
       "      <th>1</th>\n",
       "      <td>0</td>\n",
       "      <td>0</td>\n",
       "      <td>0</td>\n",
       "      <td>0</td>\n",
       "      <td>0</td>\n",
       "      <td>0</td>\n",
       "      <td>0</td>\n",
       "      <td>0</td>\n",
       "      <td>0</td>\n",
       "      <td>0</td>\n",
       "      <td>...</td>\n",
       "      <td>0</td>\n",
       "      <td>0</td>\n",
       "      <td>0</td>\n",
       "      <td>0</td>\n",
       "      <td>0</td>\n",
       "      <td>0</td>\n",
       "      <td>0</td>\n",
       "      <td>0</td>\n",
       "      <td>0</td>\n",
       "      <td>0</td>\n",
       "    </tr>\n",
       "    <tr>\n",
       "      <th>2</th>\n",
       "      <td>1</td>\n",
       "      <td>0</td>\n",
       "      <td>0</td>\n",
       "      <td>0</td>\n",
       "      <td>0</td>\n",
       "      <td>0</td>\n",
       "      <td>0</td>\n",
       "      <td>0</td>\n",
       "      <td>0</td>\n",
       "      <td>0</td>\n",
       "      <td>...</td>\n",
       "      <td>0</td>\n",
       "      <td>0</td>\n",
       "      <td>0</td>\n",
       "      <td>0</td>\n",
       "      <td>0</td>\n",
       "      <td>0</td>\n",
       "      <td>0</td>\n",
       "      <td>0</td>\n",
       "      <td>0</td>\n",
       "      <td>0</td>\n",
       "    </tr>\n",
       "    <tr>\n",
       "      <th>3</th>\n",
       "      <td>4</td>\n",
       "      <td>0</td>\n",
       "      <td>0</td>\n",
       "      <td>0</td>\n",
       "      <td>0</td>\n",
       "      <td>0</td>\n",
       "      <td>0</td>\n",
       "      <td>0</td>\n",
       "      <td>0</td>\n",
       "      <td>0</td>\n",
       "      <td>...</td>\n",
       "      <td>0</td>\n",
       "      <td>0</td>\n",
       "      <td>0</td>\n",
       "      <td>0</td>\n",
       "      <td>0</td>\n",
       "      <td>0</td>\n",
       "      <td>0</td>\n",
       "      <td>0</td>\n",
       "      <td>0</td>\n",
       "      <td>0</td>\n",
       "    </tr>\n",
       "    <tr>\n",
       "      <th>4</th>\n",
       "      <td>0</td>\n",
       "      <td>0</td>\n",
       "      <td>0</td>\n",
       "      <td>0</td>\n",
       "      <td>0</td>\n",
       "      <td>0</td>\n",
       "      <td>0</td>\n",
       "      <td>0</td>\n",
       "      <td>0</td>\n",
       "      <td>0</td>\n",
       "      <td>...</td>\n",
       "      <td>0</td>\n",
       "      <td>0</td>\n",
       "      <td>0</td>\n",
       "      <td>0</td>\n",
       "      <td>0</td>\n",
       "      <td>0</td>\n",
       "      <td>0</td>\n",
       "      <td>0</td>\n",
       "      <td>0</td>\n",
       "      <td>0</td>\n",
       "    </tr>\n",
       "  </tbody>\n",
       "</table>\n",
       "<p>5 rows × 785 columns</p>\n",
       "</div>"
      ],
      "text/plain": [
       "   label  pixel0  pixel1  pixel2  pixel3  pixel4  pixel5  pixel6  pixel7  \\\n",
       "0      1       0       0       0       0       0       0       0       0   \n",
       "1      0       0       0       0       0       0       0       0       0   \n",
       "2      1       0       0       0       0       0       0       0       0   \n",
       "3      4       0       0       0       0       0       0       0       0   \n",
       "4      0       0       0       0       0       0       0       0       0   \n",
       "\n",
       "   pixel8  ...  pixel774  pixel775  pixel776  pixel777  pixel778  pixel779  \\\n",
       "0       0  ...         0         0         0         0         0         0   \n",
       "1       0  ...         0         0         0         0         0         0   \n",
       "2       0  ...         0         0         0         0         0         0   \n",
       "3       0  ...         0         0         0         0         0         0   \n",
       "4       0  ...         0         0         0         0         0         0   \n",
       "\n",
       "   pixel780  pixel781  pixel782  pixel783  \n",
       "0         0         0         0         0  \n",
       "1         0         0         0         0  \n",
       "2         0         0         0         0  \n",
       "3         0         0         0         0  \n",
       "4         0         0         0         0  \n",
       "\n",
       "[5 rows x 785 columns]"
      ]
     },
     "execution_count": 3,
     "metadata": {},
     "output_type": "execute_result"
    }
   ],
   "source": [
    "digits.head()"
   ]
  },
  {
   "cell_type": "code",
   "execution_count": 4,
   "id": "5dc4ce95-0e1f-459d-a962-64d06c8b35c9",
   "metadata": {
    "tags": []
   },
   "outputs": [
    {
     "data": {
      "image/png": "[encoded data removed]",
      "text/plain": [
       "<Figure size 640x480 with 1 Axes>"
      ]
     },
     "metadata": {},
     "output_type": "display_data"
    }
   ],
   "source": [
    "# visualizing one of the digits\n",
    "some_digit = digits.loc[3,'pixel0':]\n",
    "some_digit = np.array(some_digit)\n",
    "some_digit_image = some_digit.reshape(28,28)\n",
    "plt.imshow(some_digit_image, cmap='gray')\n",
    "plt.axis(\"off\")\n",
    "plt.show()"
   ]
  },
  {
   "cell_type": "code",
   "execution_count": 5,
   "id": "23574aad-9416-4bc8-a9b1-ed983cf6998c",
   "metadata": {
    "tags": []
   },
   "outputs": [],
   "source": [
    "# splitting the data into labels and features\n",
    "y, X = digits['label'], digits.drop('label', axis=1)"
   ]
  },
  {
   "cell_type": "code",
   "execution_count": 6,
   "id": "68be6571-009a-4252-965c-7b8b1618afc0",
   "metadata": {
    "tags": []
   },
   "outputs": [],
   "source": [
    "# splitting data into train and test.\n",
    "from sklearn.model_selection import StratifiedShuffleSplit\n",
    "\n",
    "split = StratifiedShuffleSplit(n_splits=1, test_size=0.2, random_state=44)\n",
    "for train_index, test_index in split.split(X, y):\n",
    "    strat_X_train_set = X.loc[train_index]\n",
    "    strat_y_train_set = y.loc[train_index]\n",
    "    strat_X_test_set = X.loc[test_index]\n",
    "    strat_y_test_set = y.loc[test_index]"
   ]
  },
  {
   "cell_type": "code",
   "execution_count": null,
   "id": "2221a7b3-8bd1-45fa-b4b9-5bfe957fb873",
   "metadata": {
    "tags": []
   },
   "outputs": [],
   "source": [
    "# training using OVO and OVR\n",
    "from sklearn.svm import SVC\n",
    "from sklearn.multiclass import OneVsRestClassifier\n",
    "from sklearn.multiclass import OneVsOneClassifier\n",
    "\n",
    "svm_clf = SVC()\n",
    "svm_clf.fit(strat_X_train_set, strat_y_train_set)\n",
    "\n",
    "ovr_clf = OneVsRestClassifier(SVC())\n",
    "ovr_clf.fit(strat_X_train_set, strat_y_train_set)\n",
    "\n",
    "ovo_clf = OneVsOneClassifier(SVC())\n",
    "ovo_clf.fit(strat_X_train_set, strat_y_train_set)\n"
   ]
  },
  {
   "cell_type": "code",
   "execution_count": null,
   "id": "0eaac847-1094-47e4-8201-727ecbe4ce08",
   "metadata": {},
   "outputs": [],
   "source": [
    "test_digit = pd.DataFrame(strat_X_train_set.loc[4192]).T\n",
    "display(svm_clf.decision_function(test_digit))\n",
    "display(ovr_clf.decision_function(test_digit))\n",
    "display(ovo_clf.decision_function(test_digit))\n",
    "print(f\"{' '*10}---------------------------------------------------\")\n",
    "test_digit = pd.DataFrame(strat_X_train_set.loc[34782]).T\n",
    "display(svm_clf.decision_function(test_digit))\n",
    "display(ovr_clf.decision_function(test_digit))\n",
    "display(ovo_clf.decision_function(test_digit))"
   ]
  },
  {
   "cell_type": "code",
   "execution_count": null,
   "id": "af80e2a8-6e1a-4cd8-ab9f-3b7357dcbf4d",
   "metadata": {
    "tags": []
   },
   "outputs": [],
   "source": [
    "y_test_pred_svm = svm_clf.predict(strat_X_test_set)\n",
    "y_test_pred_ovr = ovr_clf.predict(strat_X_test_set)\n",
    "y_test_pred_ovo = ovo_clf.predict(strat_X_test_set)"
   ]
  },
  {
   "cell_type": "code",
   "execution_count": null,
   "id": "9bfe2fbe-5bfe-443a-bb5f-73f63c19ba1d",
   "metadata": {
    "tags": []
   },
   "outputs": [],
   "source": [
    "from sklearn.metrics import confusion_matrix\n",
    "display(confusion_matrix(strat_y_test_set, y_test_pred_svm))\n",
    "print(f\"{' '*7}---------------------------------------------------\")\n",
    "display(confusion_matrix(strat_y_test_set, y_test_pred_ovr))\n",
    "print(f\"{' '*7}---------------------------------------------------\")\n",
    "display(confusion_matrix(strat_y_test_set, y_test_pred_ovo))"
   ]
  },
  {
   "cell_type": "code",
   "execution_count": null,
   "id": "fc572fe6-48a1-43fc-86a7-004be3878036",
   "metadata": {
    "tags": []
   },
   "outputs": [],
   "source": [
    "path = '../../../Data/digit-recognizer/test.csv'\n",
    "digits_test = pd.read_csv(path)"
   ]
  },
  {
   "cell_type": "code",
   "execution_count": null,
   "id": "1557373e-563e-4fcd-b9a2-3adb0baa94d7",
   "metadata": {
    "tags": []
   },
   "outputs": [],
   "source": [
    "y_test_pred = ovo_clf.predict(digits_test)"
   ]
  },
  {
   "cell_type": "code",
   "execution_count": null,
   "id": "d0411b17-6761-4875-ab20-6d45d90b591d",
   "metadata": {
    "tags": []
   },
   "outputs": [],
   "source": [
    "df = pd.DataFrame(y_test_pred, columns=['Label'])\n",
    "df['ImageId'] = df.index+1"
   ]
  },
  {
   "cell_type": "code",
   "execution_count": null,
   "id": "ca257ac9-a158-46f9-988d-000dcea5ddd0",
   "metadata": {
    "tags": []
   },
   "outputs": [],
   "source": [
    "df.to_csv('../../../Data/digit-recognizer/submission.csv', index=False)"
   ]
  },
  {
   "cell_type": "code",
   "execution_count": null,
   "id": "fea6119b-ad7e-495f-9546-09ae36be4e9d",
   "metadata": {},
   "outputs": [],
   "source": [
    "from sklearn.ensemble import RandomForestClassifier\n",
    "forest_clf = RandomForestClassifier(random_state=42)\n"
   ]
  },
  {
   "cell_type": "code",
   "execution_count": null,
   "id": "5f88c066-2db4-4c33-bac1-2cb498a667a6",
   "metadata": {},
   "outputs": [],
   "source": []
  }
 ],
 "metadata": {
  "kernelspec": {
   "display_name": "Python 3 (ipykernel)",
   "language": "python",
   "name": "python3"
  },
  "language_info": {
   "codemirror_mode": {
    "name": "ipython",
    "version": 3
   },
   "file_extension": ".py",
   "mimetype": "text/x-python",
   "name": "python",
   "nbconvert_exporter": "python",
   "pygments_lexer": "ipython3",
   "version": "3.11.5"
  }
 },
 "nbformat": 4,
 "nbformat_minor": 5
}
