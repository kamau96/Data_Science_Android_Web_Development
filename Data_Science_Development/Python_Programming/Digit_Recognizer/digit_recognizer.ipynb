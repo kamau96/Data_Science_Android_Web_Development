{
 "cells": [
  {
   "cell_type": "markdown",
   "id": "1a77685d-c1b0-4de8-861c-22e8a4503d44",
   "metadata": {},
   "source": [
    "# This Notebook Explores Computer Vision Using MNIST Dataset."
   ]
  },
  {
   "cell_type": "code",
   "execution_count": null,
   "id": "ca610fa4-ac1a-4e56-8276-bdb92e4c900a",
   "metadata": {
    "tags": []
   },
   "outputs": [],
   "source": [
    "# Required libraries are loaded. \n",
    "import pandas as pd\n",
    "import numpy as np\n",
    "import matplotlib.pyplot as plt\n",
    "from sklearn.model_selection import cross_val_score, cross_val_predict, GridSearchCV\n",
    "from sklearn.preprocessing import StandardScaler\n",
    "from sklearn.metrics import confusion_matrix\n",
    "from sklearn.neighbors import KNeighborsClassifier\n",
    "from sklearn.ensemble import RandomForestClassifier\n",
    "from sklearn.linear_model import SGDClassifier"
   ]
  },
  {
   "cell_type": "code",
   "execution_count": null,
   "id": "c628f06f-8cda-4cf7-b40f-c65f6f72e077",
   "metadata": {
    "tags": []
   },
   "outputs": [],
   "source": [
    "# Files to be used.\n",
    "path = \"../../../Data/digit-recognizer/\"\n",
    "train = pd.read_csv(path + \"train.csv\")\n",
    "test = pd.read_csv(path + \"test.csv\")"
   ]
  },
  {
   "cell_type": "code",
   "execution_count": null,
   "id": "28e57a08-17af-4f75-b20f-dd1bc5904b76",
   "metadata": {
    "tags": []
   },
   "outputs": [],
   "source": [
    "train.head()"
   ]
  },
  {
   "cell_type": "code",
   "execution_count": null,
   "id": "35b97b42-45b1-4740-9318-d16deac65749",
   "metadata": {
    "tags": []
   },
   "outputs": [],
   "source": [
    "test.head()"
   ]
  },
  {
   "cell_type": "code",
   "execution_count": null,
   "id": "9e5245d3-a86a-47c6-92c4-16703684e2de",
   "metadata": {
    "tags": []
   },
   "outputs": [],
   "source": [
    "# Here we are visualizing a sample observation.\n",
    "obs = train.iloc[0,][1:].to_numpy()\n",
    "im = obs.reshape(28, 28)\n",
    "plt.imshow(im, cmap=\"binary\")\n",
    "plt.axis(\"off\")\n",
    "plt.show()"
   ]
  },
  {
   "cell_type": "code",
   "execution_count": null,
   "id": "66033a40-5197-407c-9033-ed415347b7f1",
   "metadata": {
    "tags": []
   },
   "outputs": [],
   "source": [
    "# Working with numpy is easier on sklearn.\n",
    "X_train = train.loc[:,\"pixel0\":].to_numpy()\n",
    "y_train = train.loc[:,\"label\"].to_numpy()\n",
    "test = test.to_numpy()"
   ]
  },
  {
   "cell_type": "markdown",
   "id": "cda34266-ef0c-4eec-892c-928b6a56df6f",
   "metadata": {},
   "source": [
    "### Grid Search KNeighbors for best parameter space."
   ]
  },
  {
   "cell_type": "code",
   "execution_count": null,
   "id": "dd48db4c-9429-435f-aad5-9f353e7cd8f2",
   "metadata": {},
   "outputs": [],
   "source": [
    "knn_clf = KNeighborsClassifier()"
   ]
  },
  {
   "cell_type": "code",
   "execution_count": null,
   "id": "5bdf35ae-9889-46c0-a986-e1dcc79c386c",
   "metadata": {},
   "outputs": [],
   "source": [
    "# Parameters to search for the best model.\n",
    "params = [{\"n_neighbors\": [2, 3, 4, 6], \"weights\": [\"distance\", \"uniform\"]}]"
   ]
  },
  {
   "cell_type": "code",
   "execution_count": null,
   "id": "6d6f992f-0a81-4f7f-96b9-d3add8a12b6e",
   "metadata": {},
   "outputs": [],
   "source": [
    "grid_search = GridSearchCV(knn_clf, params, cv=5, scoring=\"accuracy\", verbose=3)\n",
    "grid_search.fit(X_train, y_train)"
   ]
  },
  {
   "cell_type": "code",
   "execution_count": null,
   "id": "6773c11b-a2f7-4dab-aceb-b31ff312af2e",
   "metadata": {},
   "outputs": [],
   "source": [
    "cvres = grid_search.cv_results_\n",
    "\n",
    "for mean_test_score, params in zip(cvres[\"mean_test_score\"], cvres[\"params\"]):\n",
    "    print(f\"The mean_test_score is: {mean_test_score} and params: {params}\")"
   ]
  },
  {
   "cell_type": "markdown",
   "id": "bd030dbb-ae0f-4f02-9d9d-f41ed28a0921",
   "metadata": {
    "tags": []
   },
   "source": [
    "### Error Analysis"
   ]
  },
  {
   "cell_type": "code",
   "execution_count": null,
   "id": "39fe6118-660c-4a6b-8ce3-151524b5d72c",
   "metadata": {
    "tags": []
   },
   "outputs": [],
   "source": [
    "y_train_pred = cross_val_predict(grid_search, X_train, y_train, cv=3)\n",
    "conf_mx = confusion_matrix(y_train, y_train_pred)\n",
    "conf_mx"
   ]
  },
  {
   "cell_type": "markdown",
   "id": "374359fd-a6f2-425a-b4d2-fd0d0df4dd73",
   "metadata": {},
   "source": [
    "Let's visualize the above matrix"
   ]
  },
  {
   "cell_type": "code",
   "execution_count": null,
   "id": "908d2e7d-0357-4c1a-8d04-f6c3960b6c66",
   "metadata": {
    "tags": []
   },
   "outputs": [],
   "source": [
    "plt.matshow(conf_mx, cmap=\"gray\")\n",
    "plt.show()"
   ]
  },
  {
   "cell_type": "markdown",
   "id": "34fa7de3-691c-4326-9da6-894b8913e7cc",
   "metadata": {},
   "source": [
    "The image shows that the classifier did a good job classifying the digits. However, let's focus on the errors."
   ]
  },
  {
   "cell_type": "code",
   "execution_count": null,
   "id": "f1dfaef5-42cc-40b7-8ea5-c5049f8a281e",
   "metadata": {
    "tags": []
   },
   "outputs": [],
   "source": [
    "row_sums = conf_mx.sum(axis=1, keepdims=True)\n",
    "norm_conf_mx = conf_mx/row_sums\n",
    "norm_conf_mx"
   ]
  },
  {
   "cell_type": "code",
   "execution_count": null,
   "id": "1347845e-7f1f-4c5c-8e3d-4ff2b3f21793",
   "metadata": {
    "tags": []
   },
   "outputs": [],
   "source": [
    "np.fill_diagonal(norm_conf_mx, 0) # This elliminates correctly classified digits"
   ]
  },
  {
   "cell_type": "code",
   "execution_count": null,
   "id": "d91b75f3-e96d-4ef4-ab3e-9344c296d150",
   "metadata": {
    "tags": []
   },
   "outputs": [],
   "source": [
    "plt.matshow(norm_conf_mx, cmap=\"gray\")\n",
    "plt.show()"
   ]
  },
  {
   "cell_type": "markdown",
   "id": "3e7d357f-fe9c-429a-85c5-408e057aa1dd",
   "metadata": {
    "tags": []
   },
   "source": [
    "### Data Augmentation"
   ]
  },
  {
   "cell_type": "code",
   "execution_count": null,
   "id": "776b26a1-af41-4182-ba9e-7e48f8e4ed1f",
   "metadata": {
    "tags": []
   },
   "outputs": [],
   "source": [
    "from scipy.ndimage import shift"
   ]
  },
  {
   "cell_type": "code",
   "execution_count": null,
   "id": "0feb46f9-c759-4ed3-ad33-3a589f214e57",
   "metadata": {},
   "outputs": [],
   "source": [
    "def shift_image(image, dx, dy):\n",
    "    \"\"\"\n",
    "    This function is used to shift an image down, up, left and right.\n",
    "    \"\"\"\n",
    "    \n",
    "    image = image.reshape(28, 28)\n",
    "    shifted_image = shift(image, [dx, dy], cval=0)\n",
    "    shifted_image = shifted_image.reshape([-1])\n",
    "    return shifted_image"
   ]
  },
  {
   "cell_type": "code",
   "execution_count": null,
   "id": "82810457-f368-4490-8173-8258a8481b69",
   "metadata": {},
   "outputs": [],
   "source": [
    "def augment_data(predictors, labels):\n",
    "    \"\"\"\n",
    "    This function augments both the predictors and labels.\n",
    "    \"\"\"\n",
    "    augmented_predictors = [image for image in predictors]\n",
    "    augmented_labels = [label for label in labels]\n",
    "    \n",
    "    rotations = [(1,0),(-1,0),(0,-1),(0,1)]\n",
    "    for dx, dy in rotations:\n",
    "        for image, label in zip(predictors, labels):\n",
    "            shifted_image = shift_image(image, dx, dy)\n",
    "            augmented_predictors.append(shifted_image)\n",
    "            augmented_labels.append(label)\n",
    "    augmented_predictors = np.array(augmented_predictors)\n",
    "    augmented_labels = np.array(augmented_labels)\n",
    "    return augmented_predictors, augmented_labels\n",
    "X_train_augmented, y_train_augmented = augment_data(X_train, y_train)"
   ]
  },
  {
   "cell_type": "code",
   "execution_count": null,
   "id": "0a98a532-68fe-4d35-a85b-441ece008bf2",
   "metadata": {},
   "outputs": [],
   "source": [
    "shuffle_idx = np.random.permutation(len(X_train_augmented))\n",
    "X_train_augmented = X_train_augmented[shuffle_idx]\n",
    "y_train_augmented = y_train_augmented[shuffle_idx]"
   ]
  },
  {
   "cell_type": "markdown",
   "id": "4ddd54e1-1447-49b4-bc88-aa73f6a1e63a",
   "metadata": {
    "tags": []
   },
   "source": [
    "### Additional Preprocessing"
   ]
  },
  {
   "cell_type": "code",
   "execution_count": null,
   "id": "ab6824f9-fb9a-453e-8064-fc580a26da52",
   "metadata": {},
   "outputs": [],
   "source": [
    "# Standardize the training set.\n",
    "scaler = StandardScaler()\n",
    "X_train = scaler.fit_transform(X_train_augmented)"
   ]
  },
  {
   "cell_type": "markdown",
   "id": "d23c6119-27f5-43e7-baf9-9a796b019c0e",
   "metadata": {
    "tags": []
   },
   "source": [
    "### Train KNeighbors on best parameters and augmented data."
   ]
  },
  {
   "cell_type": "code",
   "execution_count": null,
   "id": "4dd536da-6cdf-474e-a607-8d82b45d603c",
   "metadata": {},
   "outputs": [],
   "source": [
    "knn_clf = KNeighborsClassifier(**grid_search.best_params_)"
   ]
  },
  {
   "cell_type": "code",
   "execution_count": null,
   "id": "c7272015-2708-4729-88cf-6cd6007e035c",
   "metadata": {},
   "outputs": [],
   "source": [
    "knn_clf.fit(X_train_augmented, y_train_augmented)\n",
    "predictions = knn_clf.predict(test)"
   ]
  },
  {
   "cell_type": "code",
   "execution_count": null,
   "id": "5fb52bbc-6c03-471e-82f7-c7787c464ed4",
   "metadata": {},
   "outputs": [],
   "source": [
    "#scores = cross_val_score(knn_clf, X_train_augmented, y_train_augmented, cv=5)\n",
    "#print(np.mean(scores))"
   ]
  },
  {
   "cell_type": "code",
   "execution_count": null,
   "id": "9717fb47-5dee-4a07-8bd8-c399b9f4bcdf",
   "metadata": {
    "tags": []
   },
   "outputs": [],
   "source": [
    "df = pd.DataFrame()\n",
    "df[\"ImageId\"] = np.arange(1, 28001)\n",
    "df[\"Label\"] = predictions\n",
    "df.to_csv(\"kneighbors_predictions.csv\", index=False)"
   ]
  }
 ],
 "metadata": {
  "kernelspec": {
   "display_name": "Python 3 (ipykernel)",
   "language": "python",
   "name": "python3"
  },
  "language_info": {
   "codemirror_mode": {
    "name": "ipython",
    "version": 3
   },
   "file_extension": ".py",
   "mimetype": "text/x-python",
   "name": "python",
   "nbconvert_exporter": "python",
   "pygments_lexer": "ipython3",
   "version": "3.11.5"
  }
 },
 "nbformat": 4,
 "nbformat_minor": 5
}
