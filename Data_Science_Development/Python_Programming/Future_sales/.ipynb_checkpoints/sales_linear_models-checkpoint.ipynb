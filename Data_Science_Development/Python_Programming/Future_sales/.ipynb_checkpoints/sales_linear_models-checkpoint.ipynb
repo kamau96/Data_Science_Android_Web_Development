{
 "cells": [
  {
   "cell_type": "code",
   "execution_count": 1,
   "id": "d1d6182a-822d-4e3e-a40c-e4c4b23a273d",
   "metadata": {
    "tags": []
   },
   "outputs": [],
   "source": [
    "# libraries for data exploration.\n",
    "import pandas as pd\n",
    "import numpy as np\n",
    "\n",
    "# library for splitting data.\n",
    "from sklearn.model_selection import train_test_split\n",
    "\n",
    "# libraries for preparing the data.\n",
    "from sklearn.preprocessing import PolynomialFeatures\n",
    "from sklearn.preprocessing import StandardScaler\n",
    "\n",
    "# libraries for building linear models.\n",
    "from sklearn.linear_model import LinearRegression\n",
    "from sklearn.linear_model import SGDRegressor\n",
    "from sklearn.linear_model import Ridge\n",
    "from sklearn.linear_model import Lasso\n",
    "from sklearn.linear_model import ElasticNet\n",
    "\n",
    "# library for measuring error. \n",
    "from sklearn.metrics import mean_squared_error\n",
    "\n",
    "# user defined.\n",
    "from helpful_functions import MLFunctions"
   ]
  },
  {
   "cell_type": "code",
   "execution_count": 2,
   "id": "7c82619e-af17-42dc-bf26-a8fee80cb667",
   "metadata": {
    "tags": []
   },
   "outputs": [],
   "source": [
    "# load sales data.\n",
    "sales = pd.read_csv(\"../../../Data/future_sales/sales_train.csv\")"
   ]
  },
  {
   "cell_type": "code",
   "execution_count": 3,
   "id": "e973acb3-2e05-4454-b963-88dd826b7510",
   "metadata": {
    "tags": []
   },
   "outputs": [],
   "source": [
    "# use MLfunction class to convert date to equivalent numeric values.\n",
    "user_function = MLFunctions(sales)\n",
    "date_num = user_function.dateNum()"
   ]
  },
  {
   "cell_type": "code",
   "execution_count": 4,
   "id": "435066c4-6d74-4b5f-b465-9e27c87f336d",
   "metadata": {
    "tags": []
   },
   "outputs": [],
   "source": [
    "# create new column with numeric values equivalent to dates. \n",
    "sales[\"date_num\"] = date_num"
   ]
  },
  {
   "cell_type": "code",
   "execution_count": 5,
   "id": "2dd60d2e-7bec-44bc-9242-f3276f1856f0",
   "metadata": {
    "tags": []
   },
   "outputs": [],
   "source": [
    "# split sales into train and test sets. \n",
    "train_set, test_set = train_test_split(sales, test_size=0.2, random_state=44)"
   ]
  },
  {
   "cell_type": "code",
   "execution_count": 6,
   "id": "b7764ecf-9a89-4f01-aa11-17b602c19ea6",
   "metadata": {
    "tags": []
   },
   "outputs": [],
   "source": [
    "# training and test data created.\n",
    "X_train = train_set.loc[:, [\"date_num\", \"shop_id\", \"item_id\", \"item_price\"]]\n",
    "y_train = train_set[\"item_cnt_day\"]\n",
    "X_test = test_set.loc[:, [\"date_num\", \"shop_id\", \"item_id\", \"item_price\"]]\n",
    "y_test = test_set[\"item_cnt_day\"]"
   ]
  },
  {
   "cell_type": "code",
   "execution_count": null,
   "id": "66f9bd37-3eef-4ad3-b984-c189f3bcee5e",
   "metadata": {
    "tags": []
   },
   "outputs": [],
   "source": [
    "# adds additional features to fit the nonlinear data.\n",
    "poly_feat = PolynomialFeatures(degree=3, include_bias=False)\n",
    "X_train_poly = poly_feat.fit_transform(X_train)\n",
    "X_test_poly = poly_feat.fit_transform(X_test)"
   ]
  },
  {
   "cell_type": "code",
   "execution_count": null,
   "id": "35e6cf60-6a42-46c4-b2fc-b7a9093d54f7",
   "metadata": {
    "tags": []
   },
   "outputs": [],
   "source": [
    "# ensures that columns have same scale.\n",
    "scaler = StandardScaler()\n",
    "X_train_scaled = scaler.fit_transform(X_train_poly)\n",
    "X_test_scaled = scaler.fit_transform(X_test_poly)"
   ]
  },
  {
   "cell_type": "code",
   "execution_count": null,
   "id": "5cd6a780-323e-4fe5-958f-86072ede72f9",
   "metadata": {
    "tags": []
   },
   "outputs": [],
   "source": [
    "# linear regression without polynomial features.\n",
    "lin_reg = LinearRegression()\n",
    "lin_reg.fit(X_train_scaled, y_train)"
   ]
  },
  {
   "cell_type": "code",
   "execution_count": null,
   "id": "27521046-1314-43a8-a86d-0f0d2bd1998d",
   "metadata": {
    "tags": []
   },
   "outputs": [],
   "source": [
    "# measures training error.\n",
    "sales_predictions_train = lin_reg.predict(X_train_scaled)\n",
    "lin_mse = mean_squared_error(sales_predictions_train, y_train)\n",
    "lin_rmse = np.sqrt(lin_mse)\n",
    "lin_rmse"
   ]
  },
  {
   "cell_type": "code",
   "execution_count": null,
   "id": "e053b84e-062b-4dd6-b1a2-b1c86c971cc5",
   "metadata": {
    "tags": []
   },
   "outputs": [],
   "source": [
    "# measures test error.\n",
    "sales_predictions_test = lin_reg.predict(X_test_scaled)\n",
    "lin_mse = mean_squared_error(sales_predictions_test, y_test)\n",
    "lin_rmse = np.sqrt(lin_mse)\n",
    "lin_rmse"
   ]
  },
  {
   "cell_type": "code",
   "execution_count": null,
   "id": "e0289dad-c9bd-4d7b-a4cf-d27be8cb1eb2",
   "metadata": {
    "tags": []
   },
   "outputs": [],
   "source": [
    "sgd_reg = SGDRegressor(max_iter=10000, tol=1e-10, penalty=None, eta0=1e-100)\n",
    "sgd_reg.fit(X_train_scaled, y_train)"
   ]
  },
  {
   "cell_type": "code",
   "execution_count": null,
   "id": "6bcb2e50-dfbb-4b1e-8fc8-c21aaa279662",
   "metadata": {
    "tags": []
   },
   "outputs": [],
   "source": [
    "# measures training error.\n",
    "sales_predictions_train = sgd_reg.predict(X_train_scaled)\n",
    "sgd_mse = mean_squared_error(sales_predictions_train, y_train)\n",
    "sgd_rmse = np.sqrt(sgd_mse)\n",
    "sgd_rmse"
   ]
  },
  {
   "cell_type": "code",
   "execution_count": null,
   "id": "f2228d9b-da6f-4a53-a8c9-6dae94a78da0",
   "metadata": {
    "tags": []
   },
   "outputs": [],
   "source": [
    "# measures test error.\n",
    "sales_predictions_test = sgd_reg.predict(X_test_scaled)\n",
    "sgd_mse = mean_squared_error(sales_predictions_test, y_test)\n",
    "sgd_rmse = np.sqrt(sgd_mse)\n",
    "sgd_rmse"
   ]
  },
  {
   "cell_type": "code",
   "execution_count": null,
   "id": "f38e0094-8850-4cd1-83fd-da8e9c0e822f",
   "metadata": {},
   "outputs": [],
   "source": [
    "# regularized linear model. \n",
    "ridge_reg = Ridge(alpha=1, solver=\"cholesky\")\n",
    "ridge_reg.fit(X_train_scaled, y_train)"
   ]
  },
  {
   "cell_type": "code",
   "execution_count": null,
   "id": "754e0706-a49b-415e-a1cd-21981be76f9f",
   "metadata": {},
   "outputs": [],
   "source": [
    "# measures training error.\n",
    "sales_predictions_train = ridge_reg.predict(X_train_scaled)\n",
    "grid_mse = mean_squared_error(sales_predictions_train, y_train)\n",
    "grid_rmse = np.sqrt(grid_mse)\n",
    "grid_rmse"
   ]
  },
  {
   "cell_type": "code",
   "execution_count": null,
   "id": "70410107-bd99-431a-893c-231e776e8c7d",
   "metadata": {
    "tags": []
   },
   "outputs": [],
   "source": [
    "# measures test error.\n",
    "sales_predictions_test = ridge_reg.predict(X_test_scaled)\n",
    "grid_mse = mean_squared_error(sales_predictions_test, y_test)\n",
    "grid_rmse = np.sqrt(grid_mse)\n",
    "grid_rmse"
   ]
  },
  {
   "cell_type": "code",
   "execution_count": null,
   "id": "da9be13a-1cf1-4258-a48c-411aae0be393",
   "metadata": {},
   "outputs": [],
   "source": [
    "# regularized linear model.\n",
    "# unnecessary features are dropped.\n",
    "lasso_reg = Lasso(alpha=0.1)\n",
    "lasso_reg.fit(X_train_scaled, y_train)"
   ]
  },
  {
   "cell_type": "code",
   "execution_count": null,
   "id": "73d7334d-6394-4dab-af06-1ffcc982a270",
   "metadata": {},
   "outputs": [],
   "source": [
    "# measures training error.\n",
    "sales_predictions_train = lasso_reg.predict(X_train_scaled)\n",
    "grid_mse = mean_squared_error(sales_predictions_train, y_train)\n",
    "grid_rmse = np.sqrt(grid_mse)\n",
    "grid_rmse"
   ]
  },
  {
   "cell_type": "code",
   "execution_count": null,
   "id": "2add4e43-7305-4290-8a0b-f4baea90d553",
   "metadata": {},
   "outputs": [],
   "source": [
    "# measures test error.\n",
    "sales_predictions_test = lasso_reg.predict(X_test_scaled)\n",
    "grid_mse = mean_squared_error(sales_predictions_test, y_test)\n",
    "grid_rmse = np.sqrt(grid_mse)\n",
    "grid_rmse"
   ]
  },
  {
   "cell_type": "code",
   "execution_count": null,
   "id": "dcb2d3f1-db90-4801-a32d-7e5706e7daab",
   "metadata": {},
   "outputs": [],
   "source": [
    "# regularized linear model.\n",
    "elastic_net = ElasticNet(alpha=0.1, l1_ratio=0.5)\n",
    "elastic_net.fit(X_train_scaled, y_train)"
   ]
  },
  {
   "cell_type": "code",
   "execution_count": null,
   "id": "39fadc09-be8b-4dbc-aa4f-f6662c14f275",
   "metadata": {},
   "outputs": [],
   "source": [
    "# measures training error.\n",
    "sales_predictions_train = elastic_net.predict(X_train_scaled)\n",
    "grid_mse = mean_squared_error(sales_predictions_train, y_train)\n",
    "grid_rmse = np.sqrt(grid_mse)\n",
    "grid_rmse"
   ]
  },
  {
   "cell_type": "code",
   "execution_count": null,
   "id": "1a7d0d18-d30f-4921-84d0-1334adbc2892",
   "metadata": {
    "tags": []
   },
   "outputs": [],
   "source": [
    "# measures test error.\n",
    "sales_predictions_test = elastic_net.predict(X_test_scaled)\n",
    "grid_mse = mean_squared_error(sales_predictions_test, y_test)\n",
    "grid_rmse = np.sqrt(grid_mse)\n",
    "grid_rmse"
   ]
  }
 ],
 "metadata": {
  "kernelspec": {
   "display_name": "Python 3 (ipykernel)",
   "language": "python",
   "name": "python3"
  },
  "language_info": {
   "codemirror_mode": {
    "name": "ipython",
    "version": 3
   },
   "file_extension": ".py",
   "mimetype": "text/x-python",
   "name": "python",
   "nbconvert_exporter": "python",
   "pygments_lexer": "ipython3",
   "version": "3.11.5"
  }
 },
 "nbformat": 4,
 "nbformat_minor": 5
}
