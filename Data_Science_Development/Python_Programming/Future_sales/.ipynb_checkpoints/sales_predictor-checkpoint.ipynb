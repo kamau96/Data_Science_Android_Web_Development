{
 "cells": [
  {
   "cell_type": "code",
   "execution_count": null,
   "id": "3c35cfa4-8587-4790-88f3-1945425bf78c",
   "metadata": {
    "tags": []
   },
   "outputs": [],
   "source": [
    "# libraries to use\n",
    "import numpy as np\n",
    "import pandas as pd\n",
    "import seaborn as sns\n",
    "import warnings\n",
    "from itertools import product\n",
    "from sklearn.preprocessing import LabelEncoder\n",
    "\n",
    "\n",
    "warnings.filterwarnings(action='ignore')\n",
    "\n",
    "data_path = '../../../Data/future_sales/'\n",
    "\n",
    "sales_train = pd.read_csv(data_path + 'sales_train.csv')\n",
    "shops = pd.read_csv(data_path + 'shops.csv')\n",
    "items = pd.read_csv(data_path + 'items.csv')\n",
    "item_categories = pd.read_csv(data_path + 'item_categories.csv')\n",
    "test = pd.read_csv(data_path + 'test.csv')\n",
    "submission = pd.read_csv(data_path + 'sample_submission.csv')"
   ]
  },
  {
   "cell_type": "code",
   "execution_count": null,
   "id": "154eedf2-6175-4c67-b724-daf369373bc4",
   "metadata": {
    "tags": []
   },
   "outputs": [],
   "source": [
    "def downcast(df, verbose=True):\n",
    "    start_mem = df.memory_usage().sum() / 1024**2\n",
    "    for col in df.columns:\n",
    "        dtype_name = df[col].dtype.name\n",
    "        if dtype_name == 'object':\n",
    "            pass\n",
    "        elif dtype_name == 'bool':\n",
    "            df[col] = df[col].astype('int8')\n",
    "        elif dtype_name.startswith('int') or (df[col].round() == df[col]).all():\n",
    "            df[col] = pd.to_numeric(df[col], downcast='integer')\n",
    "        else:\n",
    "            df[col] = pd.to_numeric(df[col], downcast='float')\n",
    "    end_mem = df.memory_usage().sum() / 1024**2\n",
    "    if verbose:\n",
    "        percent_mem_change = 100 * (start_mem - end_mem) / start_mem\n",
    "        print(f\"The percent memory change is: {percent_mem_change}\")\n",
    "    \n",
    "    return df\n",
    "\n",
    "all_df = [sales_train, shops, items, item_categories, test]\n",
    "for df in all_df:\n",
    "    df = downcast(df)"
   ]
  },
  {
   "cell_type": "code",
   "execution_count": null,
   "id": "75c50e6f-fad5-48cc-bb18-ab60e0f56b42",
   "metadata": {
    "tags": []
   },
   "outputs": [],
   "source": [
    "sns.boxplot(sales_train['item_price'])"
   ]
  },
  {
   "cell_type": "code",
   "execution_count": null,
   "id": "9666935e-c703-4c8f-9d1c-9bb92e74bc66",
   "metadata": {
    "tags": []
   },
   "outputs": [],
   "source": [
    "sns.boxplot(sales_train['item_cnt_day'])"
   ]
  },
  {
   "cell_type": "code",
   "execution_count": null,
   "id": "97e92253-5857-4210-a12d-e6e0dc451876",
   "metadata": {
    "tags": []
   },
   "outputs": [],
   "source": [
    "# This removes outliers in the data. \n",
    "sales_train = sales_train.loc[(sales_train['item_price'] > 0) & (sales_train['item_price'] < 100000)]\n",
    "sales_train = sales_train.loc[(sales_train['item_cnt_day'] > 0) & (sales_train['item_cnt_day'] < 900)]"
   ]
  },
  {
   "cell_type": "code",
   "execution_count": null,
   "id": "555ba0d1-665a-4925-a302-5eda9b48593e",
   "metadata": {
    "tags": []
   },
   "outputs": [],
   "source": [
    "shops[\"shop_first_name\"] = shops[\"shop_name\"].apply(lambda x: x.split()[0])"
   ]
  },
  {
   "cell_type": "code",
   "execution_count": null,
   "id": "fdb6414e-e973-47d7-9be0-061c69f6086c",
   "metadata": {
    "tags": []
   },
   "outputs": [],
   "source": [
    "shops[\"shop_first_name\"].unique()"
   ]
  },
  {
   "cell_type": "code",
   "execution_count": null,
   "id": "4443de1e-458e-41ab-85af-8ea0fb5f4a26",
   "metadata": {
    "tags": []
   },
   "outputs": [],
   "source": [
    "shops.loc[shops[\"shop_first_name\"] =='!Якутск', \"shop_first_name\"] = 'Якутск'"
   ]
  },
  {
   "cell_type": "code",
   "execution_count": null,
   "id": "2ca6c759-b01f-4b51-81c0-4c6c5a4cb55e",
   "metadata": {
    "tags": []
   },
   "outputs": [],
   "source": [
    "# Changes string variables with numeric type. \n",
    "label_encoder = LabelEncoder()\n",
    "shops[\"shop_first_name\"] = label_encoder.fit_transform(shops[\"shop_first_name\"])"
   ]
  },
  {
   "cell_type": "code",
   "execution_count": null,
   "id": "338e5e7d-568d-43d5-9237-2e55d6404f90",
   "metadata": {
    "tags": []
   },
   "outputs": [],
   "source": [
    "shops = shops.drop(\"shop_name\", axis=1)"
   ]
  },
  {
   "cell_type": "code",
   "execution_count": null,
   "id": "3f193e18-c9fa-4d0f-a216-dbb8c96450e4",
   "metadata": {
    "tags": []
   },
   "outputs": [],
   "source": [
    "shops.head()"
   ]
  },
  {
   "cell_type": "code",
   "execution_count": null,
   "id": "bfe92006-f26b-4928-ba80-c130dd5b52ae",
   "metadata": {
    "tags": []
   },
   "outputs": [],
   "source": [
    "items = items.drop([\"item_name\"], axis=1)"
   ]
  },
  {
   "cell_type": "code",
   "execution_count": null,
   "id": "9565913d-e7cb-4396-910c-68e97fdd8e14",
   "metadata": {
    "tags": []
   },
   "outputs": [],
   "source": [
    "items[\"item_date_block\"] = sales_train.groupby(\"item_id\").agg({\"date_block_num\": 'min'})[\"date_block_num\"]\n",
    "items.head()"
   ]
  },
  {
   "cell_type": "code",
   "execution_count": null,
   "id": "bfddb03f-107d-49ee-8623-ade16ad50c93",
   "metadata": {
    "tags": []
   },
   "outputs": [],
   "source": [
    "items.loc[items[\"item_date_block\"].isna()]"
   ]
  },
  {
   "cell_type": "code",
   "execution_count": null,
   "id": "da00fabb-c244-491c-98f3-b8ff6ec8f0db",
   "metadata": {
    "tags": []
   },
   "outputs": [],
   "source": [
    "items[\"item_date_block\"] = items[\"item_date_block\"].fillna(34)"
   ]
  },
  {
   "cell_type": "markdown",
   "id": "5f5206e9-a80a-431a-af36-a06d1b60888c",
   "metadata": {},
   "source": [
    "### Item Category exploration"
   ]
  },
  {
   "cell_type": "code",
   "execution_count": null,
   "id": "0bec7fa6-eb2e-4de3-80eb-5e88a6236e4c",
   "metadata": {
    "tags": []
   },
   "outputs": [],
   "source": [
    "# Extracts first name of the items.\n",
    "item_categories[\"first_item_category_name\"] = item_categories[\"item_category_name\"].apply(lambda x: x.split()[0])  "
   ]
  },
  {
   "cell_type": "code",
   "execution_count": null,
   "id": "36cd1388-6bdc-4ad4-961f-edffcfdb2203",
   "metadata": {
    "tags": []
   },
   "outputs": [],
   "source": [
    "item_categories[\"first_item_category_name\"].value_counts()"
   ]
  },
  {
   "cell_type": "code",
   "execution_count": null,
   "id": "3e318fad-8829-4d4a-b6fe-128e0255e7dd",
   "metadata": {
    "tags": []
   },
   "outputs": [],
   "source": [
    "def make_etc(x):\n",
    "    if len(item_categories[item_categories[\"first_item_category_name\"]==x]) >= 5:\n",
    "        return x\n",
    "    else:\n",
    "        return 'etc'\n",
    "\n",
    "item_categories[\"first_item_category_name\"] = item_categories[\"first_item_category_name\"].apply(make_etc)"
   ]
  },
  {
   "cell_type": "code",
   "execution_count": null,
   "id": "7c9d85be-2a4c-4236-b5cd-ec6e3f3a1381",
   "metadata": {
    "tags": []
   },
   "outputs": [],
   "source": [
    "item_categories.head()"
   ]
  },
  {
   "cell_type": "code",
   "execution_count": null,
   "id": "27ff5f97-8035-4604-8e21-0055c2dc814c",
   "metadata": {
    "tags": []
   },
   "outputs": [],
   "source": [
    "label_encoder = LabelEncoder()\n",
    "item_categories[\"first_item_category_name\"] = label_encoder.fit_transform(item_categories[\"first_item_category_name\"])\n",
    "item_categories = item_categories.drop(\"item_category_name\", axis=1)"
   ]
  },
  {
   "cell_type": "code",
   "execution_count": null,
   "id": "b2c81a99-b28a-4bdf-b1a2-f69246916808",
   "metadata": {
    "tags": []
   },
   "outputs": [],
   "source": [
    "train = []\n",
    "for i in sales_train[\"date_block_num\"].unique():\n",
    "    all_shop = sales_train.loc[sales_train[\"date_block_num\"]==i, \"shop_id\"].unique()\n",
    "    all_item = sales_train.loc[sales_train[\"date_block_num\"]==i, \"item_id\"].unique()\n",
    "    train.append(np.array(list(product([i], all_shop, all_item))))\n",
    "\n",
    "idx_features = [\"date_block_num\", \"shop_id\", \"item_id\"]\n",
    "train = pd.DataFrame(np.vstack(train), columns=idx_features)"
   ]
  },
  {
   "cell_type": "code",
   "execution_count": null,
   "id": "7c33e496-78e5-416f-a88f-05ec51d07ee3",
   "metadata": {},
   "outputs": [],
   "source": []
  }
 ],
 "metadata": {
  "kernelspec": {
   "display_name": "Python 3 (ipykernel)",
   "language": "python",
   "name": "python3"
  },
  "language_info": {
   "codemirror_mode": {
    "name": "ipython",
    "version": 3
   },
   "file_extension": ".py",
   "mimetype": "text/x-python",
   "name": "python",
   "nbconvert_exporter": "python",
   "pygments_lexer": "ipython3",
   "version": "3.11.5"
  }
 },
 "nbformat": 4,
 "nbformat_minor": 5
}
