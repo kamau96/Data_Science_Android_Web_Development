{
 "cells": [
  {
   "cell_type": "code",
   "execution_count": null,
   "id": "4fe08389-51a0-4a11-8c14-02933e55533a",
   "metadata": {},
   "outputs": [],
   "source": [
    "import pandas as pd\n",
    "from sklearn.tree import DecisionTreeRegressor\n",
    "from sklearn.metrics import mean_squared_error\n",
    "from sklearn.model_selection import GridSearchCV\n",
    "# user defined.\n",
    "from helpful_functions import MLFunctions"
   ]
  },
  {
   "cell_type": "code",
   "execution_count": null,
   "id": "a15f7a2e-f109-48d9-9972-145d5f9d1906",
   "metadata": {},
   "outputs": [],
   "source": [
    "# load sales data.\n",
    "sales = pd.read_csv(\"../../../Data/future_sales/sales_train.csv\")"
   ]
  },
  {
   "cell_type": "code",
   "execution_count": null,
   "id": "0395c44c-1962-40ad-8bb6-ab1e8b6e4bf1",
   "metadata": {},
   "outputs": [],
   "source": [
    "# use MLfunction class to convert date to equivalent numeric values.\n",
    "user_function = MLFunctions(sales)\n",
    "date_num = user_function.dateNum()"
   ]
  },
  {
   "cell_type": "code",
   "execution_count": null,
   "id": "aac3730b-3526-4fb5-afb3-719950f14594",
   "metadata": {},
   "outputs": [],
   "source": [
    "# create new column with numeric values equivalent to dates. \n",
    "sales[\"date_num\"] = date_num"
   ]
  },
  {
   "cell_type": "code",
   "execution_count": null,
   "id": "a577dae8-05e3-4720-b8c9-1f4220bd92a3",
   "metadata": {},
   "outputs": [],
   "source": [
    "# split sales into train and test sets. \n",
    "train_set, test_set = train_test_split(sales, test_size=0.2, random_state=44)"
   ]
  },
  {
   "cell_type": "code",
   "execution_count": null,
   "id": "b33692da-1ba7-4acf-afbc-4456a22674ab",
   "metadata": {},
   "outputs": [],
   "source": [
    "X_train = train_set.loc[:, [\"date_num\", \"shop_id\", \"item_id\", \"item_price\"]]\n",
    "y_train = train_set.loc[:, [\"item_cnt_day\"]]\n",
    "X_test = test_set.loc[:, [\"date_num\", \"shop_id\", \"item_id\", \"item_price\"]]\n",
    "y_test = test_set.loc[:, [\"item_cnt_day\"]]"
   ]
  },
  {
   "cell_type": "code",
   "execution_count": null,
   "id": "887a801c-7f1f-4abc-a18f-07457f41a0a1",
   "metadata": {},
   "outputs": [],
   "source": [
    "param_grid = [{\"max_depth\": [25],\n",
    "               \"min_samples_leaf\": [15],\n",
    "               \"max_leaf_nodes\": [7000, 8000, 9000, 10000]}\n",
    "             ]\n",
    "tree_reg = DecisionTreeRegressor()\n",
    "grid_search = GridSearchCV(tree_reg,\n",
    "                           param_grid,\n",
    "                           cv=5,\n",
    "                           scoring=\"neg_mean_squared_error\"\n",
    "                            )\n",
    "grid_search.fit(X_train, y_train)"
   ]
  },
  {
   "cell_type": "code",
   "execution_count": null,
   "id": "122edd82-8e9d-4c9c-a3c1-9c41309a438c",
   "metadata": {},
   "outputs": [],
   "source": [
    "sales_predictions_train = grid_search.predict(X_train)\n",
    "grid_mse = mean_squared_error(sales_predictions_train, y_train)\n",
    "grid_rmse = np.sqrt(grid_mse)\n",
    "grid_rmse"
   ]
  },
  {
   "cell_type": "code",
   "execution_count": null,
   "id": "b630bd1c-bf5f-4954-a30b-c15b72311b9e",
   "metadata": {},
   "outputs": [],
   "source": [
    "sales_predictions_test = grid_search.predict(X_test)\n",
    "grid_mse = mean_squared_error(sales_predictions_test, y_test)\n",
    "grid_rmse = np.sqrt(grid_mse)\n",
    "grid_rmse"
   ]
  }
 ],
 "metadata": {
  "kernelspec": {
   "display_name": "Python 3 (ipykernel)",
   "language": "python",
   "name": "python3"
  },
  "language_info": {
   "codemirror_mode": {
    "name": "ipython",
    "version": 3
   },
   "file_extension": ".py",
   "mimetype": "text/x-python",
   "name": "python",
   "nbconvert_exporter": "python",
   "pygments_lexer": "ipython3",
   "version": "3.11.5"
  }
 },
 "nbformat": 4,
 "nbformat_minor": 5
}
