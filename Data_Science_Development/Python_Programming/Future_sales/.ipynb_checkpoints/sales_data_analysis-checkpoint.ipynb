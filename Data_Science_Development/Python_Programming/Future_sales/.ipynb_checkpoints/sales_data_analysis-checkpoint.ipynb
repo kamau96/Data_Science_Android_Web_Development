{
 "cells": [
  {
   "cell_type": "code",
   "execution_count": null,
   "id": "f28267cd-3233-432f-8d3a-15894a1edf2c",
   "metadata": {
    "tags": []
   },
   "outputs": [],
   "source": [
    "# import eda libraries\n",
    "import pandas as pd\n",
    "import numpy as np\n",
    "import matplotlib.pyplot as plt"
   ]
  },
  {
   "cell_type": "code",
   "execution_count": null,
   "id": "7114cb9e-fb14-4d07-96a2-7e71dca3e336",
   "metadata": {
    "tags": []
   },
   "outputs": [],
   "source": [
    "sales = pd.read_csv(\"../../../Data/future_sales/sales_train.csv\",\n",
    "                    usecols=['date', 'shop_id', 'item_id', 'item_price', 'item_cnt_day'],\n",
    "                    index_col='date', \n",
    "                    parse_dates=['date'], \n",
    "                    date_format=\"%d.%m.%Y\")\n",
    "sales = sales.sort_index()"
   ]
  },
  {
   "cell_type": "code",
   "execution_count": null,
   "id": "3903931e-63e4-4d4f-bbd8-fab2912741e2",
   "metadata": {
    "tags": []
   },
   "outputs": [],
   "source": [
    "sales = sales.loc[sales.index=='2013',:]\n",
    "sales = sales.loc[sales['shop_id']==18]"
   ]
  },
  {
   "cell_type": "code",
   "execution_count": null,
   "id": "53e982f8-e228-45c7-8c08-362aa3540d14",
   "metadata": {},
   "outputs": [],
   "source": []
  }
 ],
 "metadata": {
  "kernelspec": {
   "display_name": "Python 3 (ipykernel)",
   "language": "python",
   "name": "python3"
  },
  "language_info": {
   "codemirror_mode": {
    "name": "ipython",
    "version": 3
   },
   "file_extension": ".py",
   "mimetype": "text/x-python",
   "name": "python",
   "nbconvert_exporter": "python",
   "pygments_lexer": "ipython3",
   "version": "3.11.5"
  }
 },
 "nbformat": 4,
 "nbformat_minor": 5
}
