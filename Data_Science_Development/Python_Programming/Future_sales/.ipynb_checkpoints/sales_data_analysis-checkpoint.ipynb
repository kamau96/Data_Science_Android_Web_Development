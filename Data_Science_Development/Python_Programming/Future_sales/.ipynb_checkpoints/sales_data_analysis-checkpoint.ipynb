{
 "cells": [
  {
   "cell_type": "code",
   "execution_count": null,
   "id": "b4f49b86-b69b-4a0e-b5ca-5bd0236329cb",
   "metadata": {},
   "outputs": [],
   "source": [
    "# libabries for data exploration.\n",
    "import pandas as pd\n",
    "import numpy as np\n",
    "import seaborn as sns\n",
    "import matplotlib.pyplot as plt\n",
    "from helpful_functions import MLFunctions\n",
    "\n",
    "# time series specific libararies\n",
    "from scipy.signal import periodogram\n",
    "from statsmodels.graphics.tsaplots import plot_pacf\n",
    "from matplotlib.offsetbox import AnchoredText\n",
    "from statsmodels.tsa.deterministic import CalendarFourier, DeterministicProcess"
   ]
  },
  {
   "cell_type": "code",
   "execution_count": null,
   "id": "57a49f42-b542-4ba8-a873-8ea9f3b7f7ae",
   "metadata": {
    "tags": []
   },
   "outputs": [],
   "source": [
    "# load sales data.\n",
    "sales = pd.read_csv(\"../../../Data/future_sales/sales_train.csv\",\n",
    "                    usecols=['date', 'shop_id', 'item_id', 'item_price', 'item_cnt_day'],\n",
    "                    index_col=['date'], \n",
    "                    parse_dates=['date'],\n",
    "                    date_format=\"%d.%m.%Y\")"
   ]
  },
  {
   "cell_type": "code",
   "execution_count": null,
   "id": "9c56a027-1c82-4c45-9f36-d926f47620aa",
   "metadata": {
    "tags": []
   },
   "outputs": [],
   "source": [
    "sales = sales.sort_index()\n",
    "helper_function = MLFunctions(sales)\n",
    "arr = helper_function.dateNum()\n",
    "sales['time'] = arr"
   ]
  },
  {
   "cell_type": "code",
   "execution_count": null,
   "id": "1f2a8edc-1d14-4daf-8448-af129cce159f",
   "metadata": {
    "tags": []
   },
   "outputs": [],
   "source": [
    "date_shop_sum = sales.groupby(['date','shop_id']).sum()[['item_cnt_day']]\n",
    "date_shop_count = sales.groupby(['date','shop_id']).nunique()[['item_id']]\n",
    "date_shop_mean = sales.groupby(['date','shop_id']).mean()[['item_price']]\n",
    "date_shop_median = sales.groupby(['date','shop_id']).median()[['time']]\n",
    "sales_agg = pd.concat([date_shop_sum, date_shop_count, date_shop_mean, date_shop_median], axis=1)"
   ]
  },
  {
   "cell_type": "code",
   "execution_count": null,
   "id": "1f5e1d03-df3f-412e-8929-d3baed633afd",
   "metadata": {
    "tags": []
   },
   "outputs": [],
   "source": [
    "sales_agg = sales_agg.reset_index()\n",
    "sales_agg.index = sales_agg['date']"
   ]
  },
  {
   "cell_type": "code",
   "execution_count": null,
   "id": "b97a28f2-7b7d-41dd-baa5-4d355a5dc8fa",
   "metadata": {
    "tags": []
   },
   "outputs": [],
   "source": [
    "sales_agg.plot(kind='line', x='time', y='item_cnt_day')"
   ]
  },
  {
   "cell_type": "code",
   "execution_count": null,
   "id": "94833d23-b6c7-422c-a9f0-3b8dadb88310",
   "metadata": {
    "tags": []
   },
   "outputs": [],
   "source": [
    "moving_average = sales_agg[['item_cnt_day']].rolling(\n",
    "    window=365,       # 365-day window\n",
    "    center=True,      # puts the average at the center of the window\n",
    "    min_periods=183,  # choose about half the window size\n",
    ").mean()              # compute the mean (could also do median, std, min, max, ...)\n",
    "\n",
    "ax = sales_agg[['item_cnt_day']].plot(style=\".\", color=\"0.5\")\n",
    "moving_average.plot(\n",
    "    ax=ax, linewidth=3, title=\"Items Sold - 365-Day Moving Average\", legend=False,\n",
    ");"
   ]
  },
  {
   "cell_type": "code",
   "execution_count": null,
   "id": "812a9bea-5cdd-42f8-844f-05142ecea589",
   "metadata": {
    "tags": []
   },
   "outputs": [],
   "source": [
    "sales.plot(kind='line', x='time', y='item_cnt_day')"
   ]
  },
  {
   "cell_type": "code",
   "execution_count": null,
   "id": "c6397a8a-6b75-4aa7-8796-877882aad656",
   "metadata": {
    "tags": []
   },
   "outputs": [],
   "source": [
    "moving_average = sales[['item_cnt_day']].rolling(\n",
    "    window=365,       # 365-day window\n",
    "    center=True,      # puts the average at the center of the window\n",
    "    min_periods=183,  # choose about half the window size\n",
    ").mean()              # compute the mean (could also do median, std, min, max, ...)\n",
    "\n",
    "ax = sales[['item_cnt_day']].plot(style=\".\", color=\"0.5\")\n",
    "moving_average.plot(\n",
    "    ax=ax, linewidth=3, title=\"Items Sold - 365-Day Moving Average\", legend=False,\n",
    ");"
   ]
  },
  {
   "cell_type": "code",
   "execution_count": null,
   "id": "7141733f-3150-485f-abc2-d79e56bf96a4",
   "metadata": {
    "tags": []
   },
   "outputs": [],
   "source": [
    "sales.loc[sales['item_cnt_day']<0, :].plot(x='time', y='item_cnt_day')"
   ]
  },
  {
   "cell_type": "code",
   "execution_count": null,
   "id": "1172dc85-2ff1-47b7-ad06-50db059cb4a7",
   "metadata": {},
   "outputs": [],
   "source": [
    "def plot_periodogram(ts, detrend='linear', ax=None):\n",
    "    fs = pd.Timedelta(\"365D\") / pd.Timedelta(\"1D\")\n",
    "    freqencies, spectrum = periodogram(\n",
    "        ts,\n",
    "        fs=fs,\n",
    "        detrend=detrend,\n",
    "        window=\"boxcar\",\n",
    "        scaling='spectrum',\n",
    "    )\n",
    "    if ax is None:\n",
    "        _, ax = plt.subplots()\n",
    "    ax.step(freqencies, spectrum, color=\"purple\")\n",
    "    ax.set_xscale(\"log\")\n",
    "    ax.set_xticks([1, 2, 4, 6, 12, 26, 52, 104])\n",
    "    ax.set_xticklabels(\n",
    "        [\n",
    "            \"Annual (1)\",\n",
    "            \"Semiannual (2)\",\n",
    "            \"Quarterly (4)\",\n",
    "            \"Bimonthly (6)\",\n",
    "            \"Monthly (12)\",\n",
    "            \"Biweekly (26)\",\n",
    "            \"Weekly (52)\",\n",
    "            \"Semiweekly (104)\",\n",
    "        ],\n",
    "        rotation=90,\n",
    "    )\n",
    "    ax.ticklabel_format(axis=\"y\", style=\"sci\", scilimits=(0, 0))\n",
    "    ax.set_ylabel(\"Variance\")\n",
    "    ax.set_title(\"Periodogram\")\n",
    "    return ax"
   ]
  },
  {
   "cell_type": "code",
   "execution_count": null,
   "id": "53eaf2e2-3f78-43d8-967e-bb22124a3a36",
   "metadata": {
    "tags": []
   },
   "outputs": [],
   "source": [
    "plot_periodogram(sales.item_cnt_day)"
   ]
  },
  {
   "cell_type": "code",
   "execution_count": null,
   "id": "37c9ec41-0ed4-4e18-af87-4e1e953dda57",
   "metadata": {
    "tags": []
   },
   "outputs": [],
   "source": [
    "plot_periodogram(sales_agg.item_cnt_day)"
   ]
  },
  {
   "cell_type": "code",
   "execution_count": null,
   "id": "1ebe0c44-b525-402c-a973-a697205eb890",
   "metadata": {
    "tags": []
   },
   "outputs": [],
   "source": [
    "def seasonal_plot(X, y, period, freq, ax=None):\n",
    "    if ax is None:\n",
    "        _, ax = plt.subplots()\n",
    "    palette = sns.color_palette(\"husl\", n_colors=X[period].nunique(),)\n",
    "    ax = sns.lineplot(\n",
    "        x=freq,\n",
    "        y=y,\n",
    "        hue=period,\n",
    "        data=X,\n",
    "        errorbar=('ci', False),\n",
    "        ax=ax,\n",
    "        palette=palette,\n",
    "        legend=False,\n",
    "    )\n",
    "    ax.set_title(f\"Seasonal Plot ({period}/{freq})\")\n",
    "    for line, name in zip(ax.lines, X[period].unique()):\n",
    "        y_ = line.get_ydata()[-1]\n",
    "        ax.annotate(\n",
    "            name,\n",
    "            xy=(1, y_),\n",
    "            xytext=(6, 0),\n",
    "            color=line.get_color(),\n",
    "            xycoords=ax.get_yaxis_transform(),\n",
    "            textcoords=\"offset points\",\n",
    "            size=14,\n",
    "            va=\"center\",\n",
    "        )\n",
    "    return ax"
   ]
  },
  {
   "cell_type": "code",
   "execution_count": null,
   "id": "9ba8a7d3-0139-4a34-8fb1-779c339bcdf2",
   "metadata": {
    "tags": []
   },
   "outputs": [],
   "source": [
    "X = sales.copy()\n",
    "\n",
    "# days within a week\n",
    "X[\"day\"] = X.index.dayofweek  # the x-axis (freq)\n",
    "X[\"week\"] = X.index.week  # the seasonal period (period)\n",
    "\n",
    "# days within a year\n",
    "X[\"dayofyear\"] = X.index.dayofyear\n",
    "X[\"year\"] = X.index.year\n",
    "\n",
    "fig, (ax0, ax1) = plt.subplots(2, 1, figsize=(11, 6))\n",
    "seasonal_plot(X, y=\"item_cnt_day\", period=\"week\", freq=\"day\", ax=ax0)\n",
    "seasonal_plot(X, y=\"item_cnt_day\", period=\"year\", freq=\"dayofyear\", ax=ax1);"
   ]
  },
  {
   "cell_type": "code",
   "execution_count": null,
   "id": "7f6a2f08-bbe8-47cd-9517-ef56fa0a5ef6",
   "metadata": {},
   "outputs": [],
   "source": []
  }
 ],
 "metadata": {
  "kernelspec": {
   "display_name": "Python 3 (ipykernel)",
   "language": "python",
   "name": "python3"
  },
  "language_info": {
   "codemirror_mode": {
    "name": "ipython",
    "version": 3
   },
   "file_extension": ".py",
   "mimetype": "text/x-python",
   "name": "python",
   "nbconvert_exporter": "python",
   "pygments_lexer": "ipython3",
   "version": "3.11.5"
  }
 },
 "nbformat": 4,
 "nbformat_minor": 5
}
