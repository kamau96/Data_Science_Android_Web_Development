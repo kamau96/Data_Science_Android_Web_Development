{
 "cells": [
  {
   "cell_type": "code",
   "execution_count": 1,
   "id": "b4f49b86-b69b-4a0e-b5ca-5bd0236329cb",
   "metadata": {},
   "outputs": [],
   "source": [
    "# libabries for data exploration.\n",
    "import pandas as pd\n",
    "import numpy as np\n",
    "import seaborn as sns\n",
    "import matplotlib.pyplot as plt\n",
    "from helpful_functions import MLFunctions\n",
    "\n",
    "# time series specific libararies\n",
    "from scipy.signal import periodogram\n",
    "from statsmodels.graphics.tsaplots import plot_pacf\n",
    "from matplotlib.offsetbox import AnchoredText\n",
    "from statsmodels.tsa.deterministic import CalendarFourier, DeterministicProcess"
   ]
  },
  {
   "cell_type": "code",
   "execution_count": 2,
   "id": "57a49f42-b542-4ba8-a873-8ea9f3b7f7ae",
   "metadata": {
    "tags": []
   },
   "outputs": [],
   "source": [
    "# load sales data.\n",
    "sales = pd.read_csv(\"../../../Data/future_sales/sales_train.csv\",\n",
    "                    usecols=['date', 'shop_id', 'item_id', 'item_price', 'item_cnt_day'],\n",
    "                    index_col=['date'], \n",
    "                    parse_dates=['date'],\n",
    "                    date_format=\"%d.%m.%Y\")"
   ]
  },
  {
   "cell_type": "code",
   "execution_count": 3,
   "id": "b436051f-6a68-4d57-ad48-057aeaa4164c",
   "metadata": {},
   "outputs": [
    {
     "name": "stdout",
     "output_type": "stream",
     "text": [
      "<class 'pandas.core.frame.DataFrame'>\n",
      "DatetimeIndex: 2935849 entries, 2013-01-02 to 2015-10-03\n",
      "Data columns (total 4 columns):\n",
      " #   Column        Dtype  \n",
      "---  ------        -----  \n",
      " 0   shop_id       int64  \n",
      " 1   item_id       int64  \n",
      " 2   item_price    float64\n",
      " 3   item_cnt_day  float64\n",
      "dtypes: float64(2), int64(2)\n",
      "memory usage: 112.0 MB\n"
     ]
    }
   ],
   "source": [
    "sales.info()"
   ]
  },
  {
   "cell_type": "code",
   "execution_count": null,
   "id": "9c56a027-1c82-4c45-9f36-d926f47620aa",
   "metadata": {
    "tags": []
   },
   "outputs": [],
   "source": [
    "sales = sales.sort_index()\n",
    "helper_function = MLFunctions(sales)\n",
    "arr = helper_function.dateNum()\n",
    "sales['time'] = arr"
   ]
  },
  {
   "cell_type": "code",
   "execution_count": null,
   "id": "dd027d42-4d81-463f-b5a8-6ad62505c77d",
   "metadata": {
    "tags": []
   },
   "outputs": [],
   "source": [
    "sales.head()"
   ]
  },
  {
   "cell_type": "code",
   "execution_count": null,
   "id": "1f2a8edc-1d14-4daf-8448-af129cce159f",
   "metadata": {
    "tags": []
   },
   "outputs": [],
   "source": [
    "date_shop_sum = sales.groupby(['date','shop_id']).sum()[['item_cnt_day']]\n",
    "date_shop_count = sales.groupby(['date','shop_id']).nunique()[['item_id']]\n",
    "date_shop_mean = sales.groupby(['date','shop_id']).mean()[['item_price']]\n",
    "date_shop_median = sales.groupby(['date','shop_id']).median()[['time']]\n",
    "sales_ = pd.concat([date_shop_sum, date_shop_count, date_shop_mean, date_shop_median], axis=1)"
   ]
  },
  {
   "cell_type": "code",
   "execution_count": null,
   "id": "1f5e1d03-df3f-412e-8929-d3baed633afd",
   "metadata": {
    "tags": []
   },
   "outputs": [],
   "source": [
    "sales_ = sales_.reset_index()\n",
    "sales_.index = sales_['date']"
   ]
  },
  {
   "cell_type": "code",
   "execution_count": null,
   "id": "19249848-9918-4efc-ad59-ec2f5540e6ad",
   "metadata": {
    "tags": []
   },
   "outputs": [],
   "source": [
    "sales_.drop('date', inplace=True, axis=1)"
   ]
  },
  {
   "cell_type": "code",
   "execution_count": null,
   "id": "a38d33bc-88e7-4fe4-a329-f8652f701fe9",
   "metadata": {
    "tags": []
   },
   "outputs": [],
   "source": [
    "sales_"
   ]
  },
  {
   "cell_type": "code",
   "execution_count": null,
   "id": "b24e2adb-f82b-4d08-a87e-b5fefb178b4f",
   "metadata": {
    "tags": []
   },
   "outputs": [],
   "source": [
    "fig, ax = plt.subplots()\n",
    "ax.plot('time', 'item_cnt_day', data=sales_, color='0.75')\n",
    "ax = sns.regplot(x='time', y='item_cnt_day', data=sales_, ci=None, scatter_kws=dict(color='0.25'))\n",
    "ax.set_title('Time Plot of Items Sold');"
   ]
  },
  {
   "cell_type": "code",
   "execution_count": null,
   "id": "adfb9457-ece2-483a-9324-77ad806c8c79",
   "metadata": {},
   "outputs": [],
   "source": []
  }
 ],
 "metadata": {
  "kernelspec": {
   "display_name": "Python 3 (ipykernel)",
   "language": "python",
   "name": "python3"
  },
  "language_info": {
   "codemirror_mode": {
    "name": "ipython",
    "version": 3
   },
   "file_extension": ".py",
   "mimetype": "text/x-python",
   "name": "python",
   "nbconvert_exporter": "python",
   "pygments_lexer": "ipython3",
   "version": "3.11.5"
  }
 },
 "nbformat": 4,
 "nbformat_minor": 5
}
