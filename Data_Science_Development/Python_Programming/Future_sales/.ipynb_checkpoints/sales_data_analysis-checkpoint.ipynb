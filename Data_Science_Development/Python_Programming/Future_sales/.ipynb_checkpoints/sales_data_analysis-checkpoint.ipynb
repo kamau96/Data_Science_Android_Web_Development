{
 "cells": [
  {
   "cell_type": "markdown",
   "id": "cac6867a-4b51-449e-8560-280b212af8b4",
   "metadata": {
    "tags": []
   },
   "source": [
    "# Time Series Data Analysis"
   ]
  },
  {
   "cell_type": "code",
   "execution_count": 2,
   "id": "b40843a8-de84-4046-a6df-7370572d7696",
   "metadata": {
    "tags": []
   },
   "outputs": [],
   "source": [
    "# Import required libraries.\n",
    "import pandas as pd\n",
    "import matplotlib.pyplot as plt\n",
    "import seaborn as sns\n",
    "from sklearn.model_selection import StratifiedShuffleSplit"
   ]
  },
  {
   "cell_type": "code",
   "execution_count": 3,
   "id": "e7185d6a-835f-426d-947d-13bc44992cf2",
   "metadata": {
    "tags": []
   },
   "outputs": [],
   "source": [
    "# Reading data.\n",
    "filepath = \"../../../Data/future_sales/sales_train.csv\"\n",
    "stores_data = pd.read_csv(filepath, \n",
    "                          date_format=\"%d.%m.%Y\",\n",
    "                          parse_dates=[\"date\"])"
   ]
  },
  {
   "cell_type": "code",
   "execution_count": 4,
   "id": "f56761c3-a437-47bb-861a-ad3cf3c74f50",
   "metadata": {
    "tags": []
   },
   "outputs": [],
   "source": [
    "# Splitting data to avoid data snooping\n",
    "split = StratifiedShuffleSplit(n_splits=1)\n",
    "for train_index, test_index in split.split(stores_data, stores_data['shop_id']):\n",
    "    stores_train_data = stores_data.loc[train_index,:]\n",
    "    stores_test_data = stores_data.loc[test_index,:]\n",
    "\n",
    "stores_train_data = stores_train_data.sort_values(by=\"date\")\n",
    "stores_test_data = stores_test_data.sort_values(by=\"date\")"
   ]
  },
  {
   "cell_type": "markdown",
   "id": "1ac02f2e-2f9d-4c20-b6f0-5789ebce9725",
   "metadata": {},
   "source": [
    "## Quick data exploration\n",
    "- Want to know the columns and data types\n",
    "- Basic statistics of the data"
   ]
  },
  {
   "cell_type": "code",
   "execution_count": 6,
   "id": "76c539ca-ef8f-4e16-b2e3-d892478fbcdc",
   "metadata": {
    "tags": []
   },
   "outputs": [
    {
     "name": "stdout",
     "output_type": "stream",
     "text": [
      "<class 'pandas.core.frame.DataFrame'>\n",
      "Index: 2642264 entries, 92624 to 2930887\n",
      "Data columns (total 6 columns):\n",
      " #   Column          Dtype         \n",
      "---  ------          -----         \n",
      " 0   date            datetime64[ns]\n",
      " 1   date_block_num  int64         \n",
      " 2   shop_id         int64         \n",
      " 3   item_id         int64         \n",
      " 4   item_price      float64       \n",
      " 5   item_cnt_day    float64       \n",
      "dtypes: datetime64[ns](1), float64(2), int64(3)\n",
      "memory usage: 141.1 MB\n"
     ]
    }
   ],
   "source": [
    "stores_train_data.info()"
   ]
  },
  {
   "cell_type": "code",
   "execution_count": 7,
   "id": "c0723626-8deb-4d61-a287-218932728397",
   "metadata": {
    "tags": []
   },
   "outputs": [
    {
     "data": {
      "text/html": [
       "<div>\n",
       "<style scoped>\n",
       "    .dataframe tbody tr th:only-of-type {\n",
       "        vertical-align: middle;\n",
       "    }\n",
       "\n",
       "    .dataframe tbody tr th {\n",
       "        vertical-align: top;\n",
       "    }\n",
       "\n",
       "    .dataframe thead th {\n",
       "        text-align: right;\n",
       "    }\n",
       "</style>\n",
       "<table border=\"1\" class=\"dataframe\">\n",
       "  <thead>\n",
       "    <tr style=\"text-align: right;\">\n",
       "      <th></th>\n",
       "      <th>date</th>\n",
       "      <th>date_block_num</th>\n",
       "      <th>shop_id</th>\n",
       "      <th>item_id</th>\n",
       "      <th>item_price</th>\n",
       "      <th>item_cnt_day</th>\n",
       "    </tr>\n",
       "  </thead>\n",
       "  <tbody>\n",
       "    <tr>\n",
       "      <th>92624</th>\n",
       "      <td>2013-01-01</td>\n",
       "      <td>0</td>\n",
       "      <td>42</td>\n",
       "      <td>10526</td>\n",
       "      <td>149.0</td>\n",
       "      <td>1.0</td>\n",
       "    </tr>\n",
       "    <tr>\n",
       "      <th>18524</th>\n",
       "      <td>2013-01-01</td>\n",
       "      <td>0</td>\n",
       "      <td>28</td>\n",
       "      <td>2415</td>\n",
       "      <td>299.0</td>\n",
       "      <td>1.0</td>\n",
       "    </tr>\n",
       "    <tr>\n",
       "      <th>111960</th>\n",
       "      <td>2013-01-01</td>\n",
       "      <td>0</td>\n",
       "      <td>42</td>\n",
       "      <td>3323</td>\n",
       "      <td>1989.0</td>\n",
       "      <td>2.0</td>\n",
       "    </tr>\n",
       "    <tr>\n",
       "      <th>105843</th>\n",
       "      <td>2013-01-01</td>\n",
       "      <td>0</td>\n",
       "      <td>37</td>\n",
       "      <td>9601</td>\n",
       "      <td>849.0</td>\n",
       "      <td>-1.0</td>\n",
       "    </tr>\n",
       "    <tr>\n",
       "      <th>108544</th>\n",
       "      <td>2013-01-01</td>\n",
       "      <td>0</td>\n",
       "      <td>37</td>\n",
       "      <td>15538</td>\n",
       "      <td>58.0</td>\n",
       "      <td>1.0</td>\n",
       "    </tr>\n",
       "  </tbody>\n",
       "</table>\n",
       "</div>"
      ],
      "text/plain": [
       "             date  date_block_num  shop_id  item_id  item_price  item_cnt_day\n",
       "92624  2013-01-01               0       42    10526       149.0           1.0\n",
       "18524  2013-01-01               0       28     2415       299.0           1.0\n",
       "111960 2013-01-01               0       42     3323      1989.0           2.0\n",
       "105843 2013-01-01               0       37     9601       849.0          -1.0\n",
       "108544 2013-01-01               0       37    15538        58.0           1.0"
      ]
     },
     "execution_count": 7,
     "metadata": {},
     "output_type": "execute_result"
    }
   ],
   "source": [
    "stores_train_data.head()"
   ]
  },
  {
   "cell_type": "code",
   "execution_count": null,
   "id": "4ec2c14a-263c-4a0d-9940-4d7f808285ba",
   "metadata": {},
   "outputs": [],
   "source": []
  }
 ],
 "metadata": {
  "kernelspec": {
   "display_name": "Python 3 (ipykernel)",
   "language": "python",
   "name": "python3"
  },
  "language_info": {
   "codemirror_mode": {
    "name": "ipython",
    "version": 3
   },
   "file_extension": ".py",
   "mimetype": "text/x-python",
   "name": "python",
   "nbconvert_exporter": "python",
   "pygments_lexer": "ipython3",
   "version": "3.11.5"
  }
 },
 "nbformat": 4,
 "nbformat_minor": 5
}
