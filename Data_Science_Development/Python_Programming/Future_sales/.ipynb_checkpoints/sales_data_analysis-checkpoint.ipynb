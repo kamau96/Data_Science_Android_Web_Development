{
 "cells": [
  {
   "cell_type": "markdown",
   "id": "cac6867a-4b51-449e-8560-280b212af8b4",
   "metadata": {
    "tags": []
   },
   "source": [
    "# Time Series Data Analysis"
   ]
  },
  {
   "cell_type": "code",
   "execution_count": 9,
   "id": "b40843a8-de84-4046-a6df-7370572d7696",
   "metadata": {
    "tags": []
   },
   "outputs": [],
   "source": [
    "# Import required libraries.\n",
    "import pandas as pd\n",
    "import matplotlib.pyplot as plt\n",
    "import seaborn as sns\n",
    "from sklearn.model_selection import StratifiedShuffleSplit"
   ]
  },
  {
   "cell_type": "code",
   "execution_count": 2,
   "id": "e7185d6a-835f-426d-947d-13bc44992cf2",
   "metadata": {
    "tags": []
   },
   "outputs": [],
   "source": [
    "filepath = \"../../../Data/future_sales/sales_train.csv\"\n",
    "stores_data = pd.read_csv(filepath)"
   ]
  },
  {
   "cell_type": "code",
   "execution_count": 13,
   "id": "f56761c3-a437-47bb-861a-ad3cf3c74f50",
   "metadata": {
    "tags": []
   },
   "outputs": [
    {
     "name": "stdout",
     "output_type": "stream",
     "text": [
      "[1818791 1404583 1281749 ... 1625590   72698  926504] [ 663893  377977 1450758 ... 2095034  420606 2532451]\n",
      "[2801667  885653 2071390 ...  718872 2227647  988152] [1396722  600078  867041 ...  401772 1344532 1455961]\n",
      "[1703468 1990754 2413763 ... 1621652  703537  717778] [ 203673 2802054  484685 ... 1543511 2907488 1672604]\n",
      "[1515857   88354  553106 ... 1580822 2272676  473953] [ 830249 2551054   60695 ...  611639 2264345  928843]\n",
      "[1042410  357142 2175232 ... 2213776 2380785 2050936] [2312011 2112846 1772053 ... 2637668 1568310 1761234]\n",
      "[1443230  211697  383853 ... 1023230  670100  594733] [1329818 2709694 2698934 ... 1545138 2215167 1695838]\n",
      "[2903740 2441049  131496 ... 1900890 1187347 1440376] [2444550 1972850 1142677 ...  609530 1572390 1888069]\n",
      "[ 649723  200097 2490164 ...  944510 2506721 2179797] [2379259  288902 1621371 ... 2052490 1375428 2076294]\n",
      "[ 364694 1214819 1485853 ... 2096100 2479095 1968114] [1691338 1046996 1067798 ...  766690 1802812 2218191]\n",
      "[1816483  942948 1338069 ... 1155213 2169097  148917] [1968964 1059643 2280668 ... 2038676 1045506  932910]\n"
     ]
    }
   ],
   "source": [
    "split = StratifiedShuffleSplit()\n",
    "for train_index, test_index in split.split(stores_data, stores_data['shop_id']):\n",
    "    print(train_index, test_index)"
   ]
  },
  {
   "cell_type": "markdown",
   "id": "1ac02f2e-2f9d-4c20-b6f0-5789ebce9725",
   "metadata": {},
   "source": [
    "## Quick data exploration\n",
    "- Want to know the columns and data types\n",
    "- Basic statistics of the data"
   ]
  },
  {
   "cell_type": "code",
   "execution_count": 7,
   "id": "76c539ca-ef8f-4e16-b2e3-d892478fbcdc",
   "metadata": {
    "tags": []
   },
   "outputs": [
    {
     "name": "stdout",
     "output_type": "stream",
     "text": [
      "<class 'pandas.core.frame.DataFrame'>\n",
      "RangeIndex: 2935849 entries, 0 to 2935848\n",
      "Data columns (total 6 columns):\n",
      " #   Column          Dtype  \n",
      "---  ------          -----  \n",
      " 0   date            object \n",
      " 1   date_block_num  int64  \n",
      " 2   shop_id         int64  \n",
      " 3   item_id         int64  \n",
      " 4   item_price      float64\n",
      " 5   item_cnt_day    float64\n",
      "dtypes: float64(2), int64(3), object(1)\n",
      "memory usage: 134.4+ MB\n"
     ]
    }
   ],
   "source": [
    "stores_data.info()"
   ]
  },
  {
   "cell_type": "code",
   "execution_count": null,
   "id": "c0723626-8deb-4d61-a287-218932728397",
   "metadata": {},
   "outputs": [],
   "source": []
  }
 ],
 "metadata": {
  "kernelspec": {
   "display_name": "Python 3 (ipykernel)",
   "language": "python",
   "name": "python3"
  },
  "language_info": {
   "codemirror_mode": {
    "name": "ipython",
    "version": 3
   },
   "file_extension": ".py",
   "mimetype": "text/x-python",
   "name": "python",
   "nbconvert_exporter": "python",
   "pygments_lexer": "ipython3",
   "version": "3.11.5"
  }
 },
 "nbformat": 4,
 "nbformat_minor": 5
}
