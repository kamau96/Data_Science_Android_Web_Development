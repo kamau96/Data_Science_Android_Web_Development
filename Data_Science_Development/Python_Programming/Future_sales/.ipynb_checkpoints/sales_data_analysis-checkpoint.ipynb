{
 "cells": [
  {
   "cell_type": "code",
   "execution_count": 1,
   "id": "b4f49b86-b69b-4a0e-b5ca-5bd0236329cb",
   "metadata": {},
   "outputs": [],
   "source": [
    "# libabries for data exploration.\n",
    "import pandas as pd\n",
    "import numpy as np\n",
    "import seaborn as sns\n",
    "import matplotlib.pyplot as plt\n",
    "from helpful_functions import MLFunctions\n",
    "\n",
    "# time series specific libararies\n",
    "from scipy.signal import periodogram\n",
    "from statsmodels.graphics.tsaplots import plot_pacf\n",
    "from matplotlib.offsetbox import AnchoredText\n",
    "from statsmodels.tsa.deterministic import CalendarFourier, DeterministicProcess"
   ]
  },
  {
   "cell_type": "code",
   "execution_count": 2,
   "id": "57a49f42-b542-4ba8-a873-8ea9f3b7f7ae",
   "metadata": {
    "tags": []
   },
   "outputs": [],
   "source": [
    "# load sales data.\n",
    "sales = pd.read_csv(\"../../../Data/future_sales/sales_train.csv\",\n",
    "                    usecols=['date', 'shop_id', 'item_id', 'item_price', 'item_cnt_day'],\n",
    "                    index_col=['date'], \n",
    "                    parse_dates=['date'],\n",
    "                    date_format=\"%d.%m.%Y\")"
   ]
  },
  {
   "cell_type": "code",
   "execution_count": 3,
   "id": "b436051f-6a68-4d57-ad48-057aeaa4164c",
   "metadata": {},
   "outputs": [
    {
     "name": "stdout",
     "output_type": "stream",
     "text": [
      "<class 'pandas.core.frame.DataFrame'>\n",
      "DatetimeIndex: 2935849 entries, 2013-01-02 to 2015-10-03\n",
      "Data columns (total 4 columns):\n",
      " #   Column        Dtype  \n",
      "---  ------        -----  \n",
      " 0   shop_id       int64  \n",
      " 1   item_id       int64  \n",
      " 2   item_price    float64\n",
      " 3   item_cnt_day  float64\n",
      "dtypes: float64(2), int64(2)\n",
      "memory usage: 112.0 MB\n"
     ]
    }
   ],
   "source": [
    "sales.info()"
   ]
  },
  {
   "cell_type": "code",
   "execution_count": 4,
   "id": "8e68fc3e-4422-4efe-9727-7379cb77cc6f",
   "metadata": {
    "tags": []
   },
   "outputs": [
    {
     "data": {
      "text/plain": [
       "DatetimeIndex(['2013-01-02', '2013-01-03', '2013-01-05', '2013-01-06',\n",
       "               '2013-01-15', '2013-01-10', '2013-01-02', '2013-01-04',\n",
       "               '2013-01-11', '2013-01-03',\n",
       "               ...\n",
       "               '2015-10-24', '2015-10-31', '2015-10-11', '2015-10-10',\n",
       "               '2015-10-09', '2015-10-10', '2015-10-09', '2015-10-14',\n",
       "               '2015-10-22', '2015-10-03'],\n",
       "              dtype='datetime64[ns]', name='date', length=2935849, freq=None)"
      ]
     },
     "execution_count": 4,
     "metadata": {},
     "output_type": "execute_result"
    }
   ],
   "source": [
    "sales.index"
   ]
  },
  {
   "cell_type": "code",
   "execution_count": null,
   "id": "9c56a027-1c82-4c45-9f36-d926f47620aa",
   "metadata": {},
   "outputs": [],
   "source": []
  }
 ],
 "metadata": {
  "kernelspec": {
   "display_name": "Python 3 (ipykernel)",
   "language": "python",
   "name": "python3"
  },
  "language_info": {
   "codemirror_mode": {
    "name": "ipython",
    "version": 3
   },
   "file_extension": ".py",
   "mimetype": "text/x-python",
   "name": "python",
   "nbconvert_exporter": "python",
   "pygments_lexer": "ipython3",
   "version": "3.11.5"
  }
 },
 "nbformat": 4,
 "nbformat_minor": 5
}
