{
 "cells": [
  {
   "cell_type": "code",
   "execution_count": 1,
   "id": "b4f49b86-b69b-4a0e-b5ca-5bd0236329cb",
   "metadata": {},
   "outputs": [],
   "source": [
    "# libabries for data exploration.\n",
    "import pandas as pd\n",
    "import numpy as np\n",
    "import seaborn as sns\n",
    "import matplotlib.pyplot as plt\n",
    "from helpful_functions import MLFunctions\n",
    "\n",
    "# time series specific libararies\n",
    "from scipy.signal import periodogram\n",
    "from statsmodels.graphics.tsaplots import plot_pacf\n",
    "from matplotlib.offsetbox import AnchoredText\n",
    "from statsmodels.tsa.deterministic import CalendarFourier, DeterministicProcess"
   ]
  },
  {
   "cell_type": "code",
   "execution_count": 2,
   "id": "57a49f42-b542-4ba8-a873-8ea9f3b7f7ae",
   "metadata": {
    "tags": []
   },
   "outputs": [],
   "source": [
    "# load sales data.\n",
    "sales = pd.read_csv(\"../../../Data/future_sales/sales_train.csv\",\n",
    "                    usecols=['date', 'shop_id', 'item_id', 'item_price', 'item_cnt_day'],\n",
    "                    index_col=['date'], \n",
    "                    parse_dates=['date'],\n",
    "                    date_format=\"%d.%m.%Y\")"
   ]
  },
  {
   "cell_type": "code",
   "execution_count": 3,
   "id": "b436051f-6a68-4d57-ad48-057aeaa4164c",
   "metadata": {},
   "outputs": [
    {
     "name": "stdout",
     "output_type": "stream",
     "text": [
      "<class 'pandas.core.frame.DataFrame'>\n",
      "DatetimeIndex: 2935849 entries, 2013-01-02 to 2015-10-03\n",
      "Data columns (total 4 columns):\n",
      " #   Column        Dtype  \n",
      "---  ------        -----  \n",
      " 0   shop_id       int64  \n",
      " 1   item_id       int64  \n",
      " 2   item_price    float64\n",
      " 3   item_cnt_day  float64\n",
      "dtypes: float64(2), int64(2)\n",
      "memory usage: 112.0 MB\n"
     ]
    }
   ],
   "source": [
    "sales.info()"
   ]
  },
  {
   "cell_type": "code",
   "execution_count": 4,
   "id": "9c56a027-1c82-4c45-9f36-d926f47620aa",
   "metadata": {
    "tags": []
   },
   "outputs": [],
   "source": [
    "sales = sales.sort_index()\n",
    "helper_function = MLFunctions(sales)\n",
    "arr = helper_function.dateNum()\n",
    "sales['time'] = arr"
   ]
  },
  {
   "cell_type": "code",
   "execution_count": 5,
   "id": "dd027d42-4d81-463f-b5a8-6ad62505c77d",
   "metadata": {
    "tags": []
   },
   "outputs": [
    {
     "data": {
      "text/html": [
       "<div>\n",
       "<style scoped>\n",
       "    .dataframe tbody tr th:only-of-type {\n",
       "        vertical-align: middle;\n",
       "    }\n",
       "\n",
       "    .dataframe tbody tr th {\n",
       "        vertical-align: top;\n",
       "    }\n",
       "\n",
       "    .dataframe thead th {\n",
       "        text-align: right;\n",
       "    }\n",
       "</style>\n",
       "<table border=\"1\" class=\"dataframe\">\n",
       "  <thead>\n",
       "    <tr style=\"text-align: right;\">\n",
       "      <th></th>\n",
       "      <th>shop_id</th>\n",
       "      <th>item_id</th>\n",
       "      <th>item_price</th>\n",
       "      <th>item_cnt_day</th>\n",
       "      <th>time</th>\n",
       "    </tr>\n",
       "    <tr>\n",
       "      <th>date</th>\n",
       "      <th></th>\n",
       "      <th></th>\n",
       "      <th></th>\n",
       "      <th></th>\n",
       "      <th></th>\n",
       "    </tr>\n",
       "  </thead>\n",
       "  <tbody>\n",
       "    <tr>\n",
       "      <th>2013-01-01</th>\n",
       "      <td>18</td>\n",
       "      <td>5823</td>\n",
       "      <td>2500.0</td>\n",
       "      <td>1.0</td>\n",
       "      <td>0</td>\n",
       "    </tr>\n",
       "    <tr>\n",
       "      <th>2013-01-01</th>\n",
       "      <td>27</td>\n",
       "      <td>5573</td>\n",
       "      <td>849.0</td>\n",
       "      <td>1.0</td>\n",
       "      <td>0</td>\n",
       "    </tr>\n",
       "    <tr>\n",
       "      <th>2013-01-01</th>\n",
       "      <td>7</td>\n",
       "      <td>1006</td>\n",
       "      <td>399.0</td>\n",
       "      <td>1.0</td>\n",
       "      <td>0</td>\n",
       "    </tr>\n",
       "    <tr>\n",
       "      <th>2013-01-01</th>\n",
       "      <td>19</td>\n",
       "      <td>17707</td>\n",
       "      <td>899.0</td>\n",
       "      <td>1.0</td>\n",
       "      <td>0</td>\n",
       "    </tr>\n",
       "    <tr>\n",
       "      <th>2013-01-01</th>\n",
       "      <td>14</td>\n",
       "      <td>19548</td>\n",
       "      <td>149.0</td>\n",
       "      <td>1.0</td>\n",
       "      <td>0</td>\n",
       "    </tr>\n",
       "  </tbody>\n",
       "</table>\n",
       "</div>"
      ],
      "text/plain": [
       "            shop_id  item_id  item_price  item_cnt_day  time\n",
       "date                                                        \n",
       "2013-01-01       18     5823      2500.0           1.0     0\n",
       "2013-01-01       27     5573       849.0           1.0     0\n",
       "2013-01-01        7     1006       399.0           1.0     0\n",
       "2013-01-01       19    17707       899.0           1.0     0\n",
       "2013-01-01       14    19548       149.0           1.0     0"
      ]
     },
     "execution_count": 5,
     "metadata": {},
     "output_type": "execute_result"
    }
   ],
   "source": [
    "sales.head()"
   ]
  },
  {
   "cell_type": "code",
   "execution_count": 6,
   "id": "1f2a8edc-1d14-4daf-8448-af129cce159f",
   "metadata": {
    "tags": []
   },
   "outputs": [],
   "source": [
    "date_shop_sum = sales.groupby(['date','shop_id']).sum()[['item_cnt_day']]\n",
    "date_shop_count = sales.groupby(['date','shop_id']).nunique()[['item_id']]\n",
    "date_shop_mean = sales.groupby(['date','shop_id']).mean()[['item_price']]\n",
    "date_shop_median = sales.groupby(['date','shop_id']).median()[['time']]\n",
    "sales_ = pd.concat([date_shop_sum, date_shop_count, date_shop_mean, date_shop_median], axis=1)"
   ]
  },
  {
   "cell_type": "code",
   "execution_count": 7,
   "id": "1f5e1d03-df3f-412e-8929-d3baed633afd",
   "metadata": {
    "tags": []
   },
   "outputs": [],
   "source": [
    "sales_ = sales_.reset_index()\n",
    "sales_.index = sales_['date']"
   ]
  },
  {
   "cell_type": "code",
   "execution_count": 8,
   "id": "19249848-9918-4efc-ad59-ec2f5540e6ad",
   "metadata": {
    "tags": []
   },
   "outputs": [],
   "source": [
    "sales_.drop('date', inplace=True, axis=1)"
   ]
  },
  {
   "cell_type": "code",
   "execution_count": 9,
   "id": "a38d33bc-88e7-4fe4-a329-f8652f701fe9",
   "metadata": {
    "tags": []
   },
   "outputs": [
    {
     "data": {
      "text/html": [
       "<div>\n",
       "<style scoped>\n",
       "    .dataframe tbody tr th:only-of-type {\n",
       "        vertical-align: middle;\n",
       "    }\n",
       "\n",
       "    .dataframe tbody tr th {\n",
       "        vertical-align: top;\n",
       "    }\n",
       "\n",
       "    .dataframe thead th {\n",
       "        text-align: right;\n",
       "    }\n",
       "</style>\n",
       "<table border=\"1\" class=\"dataframe\">\n",
       "  <thead>\n",
       "    <tr style=\"text-align: right;\">\n",
       "      <th></th>\n",
       "      <th>shop_id</th>\n",
       "      <th>item_cnt_day</th>\n",
       "      <th>item_id</th>\n",
       "      <th>item_price</th>\n",
       "      <th>time</th>\n",
       "    </tr>\n",
       "    <tr>\n",
       "      <th>date</th>\n",
       "      <th></th>\n",
       "      <th></th>\n",
       "      <th></th>\n",
       "      <th></th>\n",
       "      <th></th>\n",
       "    </tr>\n",
       "  </thead>\n",
       "  <tbody>\n",
       "    <tr>\n",
       "      <th>2013-01-01</th>\n",
       "      <td>2</td>\n",
       "      <td>24.0</td>\n",
       "      <td>23</td>\n",
       "      <td>1360.304348</td>\n",
       "      <td>0.0</td>\n",
       "    </tr>\n",
       "    <tr>\n",
       "      <th>2013-01-01</th>\n",
       "      <td>7</td>\n",
       "      <td>89.0</td>\n",
       "      <td>87</td>\n",
       "      <td>673.505747</td>\n",
       "      <td>0.0</td>\n",
       "    </tr>\n",
       "    <tr>\n",
       "      <th>2013-01-01</th>\n",
       "      <td>8</td>\n",
       "      <td>50.0</td>\n",
       "      <td>48</td>\n",
       "      <td>898.291667</td>\n",
       "      <td>0.0</td>\n",
       "    </tr>\n",
       "    <tr>\n",
       "      <th>2013-01-01</th>\n",
       "      <td>13</td>\n",
       "      <td>31.0</td>\n",
       "      <td>28</td>\n",
       "      <td>207.285714</td>\n",
       "      <td>0.0</td>\n",
       "    </tr>\n",
       "    <tr>\n",
       "      <th>2013-01-01</th>\n",
       "      <td>14</td>\n",
       "      <td>66.0</td>\n",
       "      <td>60</td>\n",
       "      <td>727.883333</td>\n",
       "      <td>0.0</td>\n",
       "    </tr>\n",
       "    <tr>\n",
       "      <th>...</th>\n",
       "      <td>...</td>\n",
       "      <td>...</td>\n",
       "      <td>...</td>\n",
       "      <td>...</td>\n",
       "      <td>...</td>\n",
       "    </tr>\n",
       "    <tr>\n",
       "      <th>2015-10-31</th>\n",
       "      <td>55</td>\n",
       "      <td>137.0</td>\n",
       "      <td>49</td>\n",
       "      <td>780.979592</td>\n",
       "      <td>1033.0</td>\n",
       "    </tr>\n",
       "    <tr>\n",
       "      <th>2015-10-31</th>\n",
       "      <td>56</td>\n",
       "      <td>67.0</td>\n",
       "      <td>61</td>\n",
       "      <td>797.081967</td>\n",
       "      <td>1033.0</td>\n",
       "    </tr>\n",
       "    <tr>\n",
       "      <th>2015-10-31</th>\n",
       "      <td>57</td>\n",
       "      <td>121.0</td>\n",
       "      <td>110</td>\n",
       "      <td>955.181818</td>\n",
       "      <td>1033.0</td>\n",
       "    </tr>\n",
       "    <tr>\n",
       "      <th>2015-10-31</th>\n",
       "      <td>58</td>\n",
       "      <td>82.0</td>\n",
       "      <td>71</td>\n",
       "      <td>1208.084507</td>\n",
       "      <td>1033.0</td>\n",
       "    </tr>\n",
       "    <tr>\n",
       "      <th>2015-10-31</th>\n",
       "      <td>59</td>\n",
       "      <td>56.0</td>\n",
       "      <td>51</td>\n",
       "      <td>847.509804</td>\n",
       "      <td>1033.0</td>\n",
       "    </tr>\n",
       "  </tbody>\n",
       "</table>\n",
       "<p>47228 rows × 5 columns</p>\n",
       "</div>"
      ],
      "text/plain": [
       "            shop_id  item_cnt_day  item_id   item_price    time\n",
       "date                                                           \n",
       "2013-01-01        2          24.0       23  1360.304348     0.0\n",
       "2013-01-01        7          89.0       87   673.505747     0.0\n",
       "2013-01-01        8          50.0       48   898.291667     0.0\n",
       "2013-01-01       13          31.0       28   207.285714     0.0\n",
       "2013-01-01       14          66.0       60   727.883333     0.0\n",
       "...             ...           ...      ...          ...     ...\n",
       "2015-10-31       55         137.0       49   780.979592  1033.0\n",
       "2015-10-31       56          67.0       61   797.081967  1033.0\n",
       "2015-10-31       57         121.0      110   955.181818  1033.0\n",
       "2015-10-31       58          82.0       71  1208.084507  1033.0\n",
       "2015-10-31       59          56.0       51   847.509804  1033.0\n",
       "\n",
       "[47228 rows x 5 columns]"
      ]
     },
     "execution_count": 9,
     "metadata": {},
     "output_type": "execute_result"
    }
   ],
   "source": [
    "sales_"
   ]
  },
  {
   "cell_type": "code",
   "execution_count": 10,
   "id": "b24e2adb-f82b-4d08-a87e-b5fefb178b4f",
   "metadata": {
    "tags": []
   },
   "outputs": [
    {
     "data": {
      "image/png": "[encoded data removed]",
      "text/plain": [
       "<Figure size 640x480 with 1 Axes>"
      ]
     },
     "metadata": {},
     "output_type": "display_data"
    }
   ],
   "source": [
    "fig, ax = plt.subplots()\n",
    "ax.plot('time', 'item_cnt_day', data=sales_, color='0.75')\n",
    "ax = sns.regplot(x='time', y='item_cnt_day', data=sales_, ci=None, scatter_kws=dict(color='0.25'))\n",
    "ax.set_title('Time Plot of Items Sold');"
   ]
  },
  {
   "cell_type": "code",
   "execution_count": 17,
   "id": "adfb9457-ece2-483a-9324-77ad806c8c79",
   "metadata": {
    "tags": []
   },
   "outputs": [
    {
     "data": {
      "text/plain": [
       "<BarContainer object of 1348 artists>"
      ]
     },
     "execution_count": 17,
     "metadata": {},
     "output_type": "execute_result"
    },
    {
     "data": {
      "image/png": "[encoded data removed]",
      "text/plain": [
       "<Figure size 640x480 with 1 Axes>"
      ]
     },
     "metadata": {},
     "output_type": "display_data"
    }
   ],
   "source": [
    "fig, ax = plt.subplots()\n",
    "ax.bar('time','item_id', data=sales_.loc['2013-1-1':'2013-1-31',:])"
   ]
  },
  {
   "cell_type": "code",
   "execution_count": 16,
   "id": "4fa43d1c-2d5a-4467-96b0-6fe371ff29b5",
   "metadata": {
    "tags": []
   },
   "outputs": [
    {
     "data": {
      "text/html": [
       "<div>\n",
       "<style scoped>\n",
       "    .dataframe tbody tr th:only-of-type {\n",
       "        vertical-align: middle;\n",
       "    }\n",
       "\n",
       "    .dataframe tbody tr th {\n",
       "        vertical-align: top;\n",
       "    }\n",
       "\n",
       "    .dataframe thead th {\n",
       "        text-align: right;\n",
       "    }\n",
       "</style>\n",
       "<table border=\"1\" class=\"dataframe\">\n",
       "  <thead>\n",
       "    <tr style=\"text-align: right;\">\n",
       "      <th></th>\n",
       "      <th>shop_id</th>\n",
       "      <th>item_cnt_day</th>\n",
       "      <th>item_id</th>\n",
       "      <th>item_price</th>\n",
       "      <th>time</th>\n",
       "    </tr>\n",
       "    <tr>\n",
       "      <th>date</th>\n",
       "      <th></th>\n",
       "      <th></th>\n",
       "      <th></th>\n",
       "      <th></th>\n",
       "      <th></th>\n",
       "    </tr>\n",
       "  </thead>\n",
       "  <tbody>\n",
       "    <tr>\n",
       "      <th>2013-01-01</th>\n",
       "      <td>2</td>\n",
       "      <td>24.0</td>\n",
       "      <td>23</td>\n",
       "      <td>1360.304348</td>\n",
       "      <td>0.0</td>\n",
       "    </tr>\n",
       "    <tr>\n",
       "      <th>2013-01-01</th>\n",
       "      <td>7</td>\n",
       "      <td>89.0</td>\n",
       "      <td>87</td>\n",
       "      <td>673.505747</td>\n",
       "      <td>0.0</td>\n",
       "    </tr>\n",
       "    <tr>\n",
       "      <th>2013-01-01</th>\n",
       "      <td>8</td>\n",
       "      <td>50.0</td>\n",
       "      <td>48</td>\n",
       "      <td>898.291667</td>\n",
       "      <td>0.0</td>\n",
       "    </tr>\n",
       "    <tr>\n",
       "      <th>2013-01-01</th>\n",
       "      <td>13</td>\n",
       "      <td>31.0</td>\n",
       "      <td>28</td>\n",
       "      <td>207.285714</td>\n",
       "      <td>0.0</td>\n",
       "    </tr>\n",
       "    <tr>\n",
       "      <th>2013-01-01</th>\n",
       "      <td>14</td>\n",
       "      <td>66.0</td>\n",
       "      <td>60</td>\n",
       "      <td>727.883333</td>\n",
       "      <td>0.0</td>\n",
       "    </tr>\n",
       "    <tr>\n",
       "      <th>...</th>\n",
       "      <td>...</td>\n",
       "      <td>...</td>\n",
       "      <td>...</td>\n",
       "      <td>...</td>\n",
       "      <td>...</td>\n",
       "    </tr>\n",
       "    <tr>\n",
       "      <th>2013-01-31</th>\n",
       "      <td>52</td>\n",
       "      <td>49.0</td>\n",
       "      <td>48</td>\n",
       "      <td>721.333333</td>\n",
       "      <td>30.0</td>\n",
       "    </tr>\n",
       "    <tr>\n",
       "      <th>2013-01-31</th>\n",
       "      <td>53</td>\n",
       "      <td>43.0</td>\n",
       "      <td>39</td>\n",
       "      <td>551.076923</td>\n",
       "      <td>30.0</td>\n",
       "    </tr>\n",
       "    <tr>\n",
       "      <th>2013-01-31</th>\n",
       "      <td>54</td>\n",
       "      <td>182.0</td>\n",
       "      <td>163</td>\n",
       "      <td>517.312699</td>\n",
       "      <td>30.0</td>\n",
       "    </tr>\n",
       "    <tr>\n",
       "      <th>2013-01-31</th>\n",
       "      <td>56</td>\n",
       "      <td>63.0</td>\n",
       "      <td>63</td>\n",
       "      <td>487.619048</td>\n",
       "      <td>30.0</td>\n",
       "    </tr>\n",
       "    <tr>\n",
       "      <th>2013-01-31</th>\n",
       "      <td>59</td>\n",
       "      <td>56.0</td>\n",
       "      <td>50</td>\n",
       "      <td>945.083333</td>\n",
       "      <td>30.0</td>\n",
       "    </tr>\n",
       "  </tbody>\n",
       "</table>\n",
       "<p>1348 rows × 5 columns</p>\n",
       "</div>"
      ],
      "text/plain": [
       "            shop_id  item_cnt_day  item_id   item_price  time\n",
       "date                                                         \n",
       "2013-01-01        2          24.0       23  1360.304348   0.0\n",
       "2013-01-01        7          89.0       87   673.505747   0.0\n",
       "2013-01-01        8          50.0       48   898.291667   0.0\n",
       "2013-01-01       13          31.0       28   207.285714   0.0\n",
       "2013-01-01       14          66.0       60   727.883333   0.0\n",
       "...             ...           ...      ...          ...   ...\n",
       "2013-01-31       52          49.0       48   721.333333  30.0\n",
       "2013-01-31       53          43.0       39   551.076923  30.0\n",
       "2013-01-31       54         182.0      163   517.312699  30.0\n",
       "2013-01-31       56          63.0       63   487.619048  30.0\n",
       "2013-01-31       59          56.0       50   945.083333  30.0\n",
       "\n",
       "[1348 rows x 5 columns]"
      ]
     },
     "execution_count": 16,
     "metadata": {},
     "output_type": "execute_result"
    }
   ],
   "source": []
  },
  {
   "cell_type": "code",
   "execution_count": null,
   "id": "3ea26951-ecc1-46e4-bfd0-6e86683ecb15",
   "metadata": {},
   "outputs": [],
   "source": []
  }
 ],
 "metadata": {
  "kernelspec": {
   "display_name": "Python 3 (ipykernel)",
   "language": "python",
   "name": "python3"
  },
  "language_info": {
   "codemirror_mode": {
    "name": "ipython",
    "version": 3
   },
   "file_extension": ".py",
   "mimetype": "text/x-python",
   "name": "python",
   "nbconvert_exporter": "python",
   "pygments_lexer": "ipython3",
   "version": "3.11.5"
  }
 },
 "nbformat": 4,
 "nbformat_minor": 5
}
