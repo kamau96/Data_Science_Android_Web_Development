{
 "cells": [
  {
   "cell_type": "markdown",
   "id": "cac6867a-4b51-449e-8560-280b212af8b4",
   "metadata": {
    "tags": []
   },
   "source": [
    "# Time Series Data Analysis"
   ]
  },
  {
   "cell_type": "code",
   "execution_count": null,
   "id": "b40843a8-de84-4046-a6df-7370572d7696",
   "metadata": {
    "tags": []
   },
   "outputs": [],
   "source": [
    "# Import required libraries.\n",
    "import pandas as pd\n",
    "import matplotlib.pyplot as plt\n",
    "import seaborn as sns\n",
    "from sklearn.model_selection import StratifiedShuffleSplit"
   ]
  },
  {
   "cell_type": "code",
   "execution_count": null,
   "id": "e7185d6a-835f-426d-947d-13bc44992cf2",
   "metadata": {
    "tags": []
   },
   "outputs": [],
   "source": [
    "# Reading data.\n",
    "filepath = \"../../../Data/future_sales/sales_train.csv\"\n",
    "stores_data = pd.read_csv(filepath, \n",
    "                          date_format=\"%d.%m.%Y\",\n",
    "                          parse_dates=[\"date\"])"
   ]
  },
  {
   "cell_type": "code",
   "execution_count": null,
   "id": "f56761c3-a437-47bb-861a-ad3cf3c74f50",
   "metadata": {
    "tags": []
   },
   "outputs": [],
   "source": [
    "# Splitting data to avoid data snooping\n",
    "split = StratifiedShuffleSplit(n_splits=1)\n",
    "for train_index, test_index in split.split(stores_data, stores_data['shop_id']):\n",
    "    stores_train_data = stores_data.loc[train_index,:]\n",
    "    stores_test_data = stores_data.loc[test_index,:]\n",
    "\n",
    "stores_train_data = stores_train_data.sort_values(by=\"date\").reset_index()\n",
    "stores_test_data = stores_test_data.sort_values(by=\"date\").reset_index()\n",
    "stores_train_data = stores_train_data.drop([\"index\", \"date_block_num\"], axis=1)\n",
    "stores_test_data = stores_test_data.drop([\"index\", \"date_block_num\"], axis=1)"
   ]
  },
  {
   "cell_type": "markdown",
   "id": "1ac02f2e-2f9d-4c20-b6f0-5789ebce9725",
   "metadata": {},
   "source": [
    "## Quick data exploration\n",
    "- Want to know the columns and data types\n",
    "- Basic statistics of the data"
   ]
  },
  {
   "cell_type": "code",
   "execution_count": null,
   "id": "76c539ca-ef8f-4e16-b2e3-d892478fbcdc",
   "metadata": {
    "tags": []
   },
   "outputs": [],
   "source": [
    "stores_train_data.info()"
   ]
  },
  {
   "cell_type": "code",
   "execution_count": null,
   "id": "c0723626-8deb-4d61-a287-218932728397",
   "metadata": {
    "tags": []
   },
   "outputs": [],
   "source": [
    "stores_train_data.head()"
   ]
  },
  {
   "cell_type": "code",
   "execution_count": null,
   "id": "4ec2c14a-263c-4a0d-9940-4d7f808285ba",
   "metadata": {
    "tags": []
   },
   "outputs": [],
   "source": [
    "stores_train_data.describe()"
   ]
  },
  {
   "cell_type": "markdown",
   "id": "1eb63915-2cf2-4a9b-999a-25169363d428",
   "metadata": {},
   "source": [
    "# Exploratory Data Analysis"
   ]
  },
  {
   "cell_type": "code",
   "execution_count": null,
   "id": "b455edb8-bf88-4713-8165-0962a525fcf3",
   "metadata": {
    "tags": []
   },
   "outputs": [],
   "source": [
    "# Number of objects in the dataframe.\n",
    "num_objects = stores_train_data.nunique()\n",
    "display(num_objects)"
   ]
  },
  {
   "cell_type": "code",
   "execution_count": null,
   "id": "abf949b4-9797-45de-b24e-302a167d61dd",
   "metadata": {
    "tags": []
   },
   "outputs": [],
   "source": [
    "# Checking if there are any nulls.\n",
    "for col in stores_train_data.columns:\n",
    "    check_null = stores_train_data[col].isnull().value_counts()\n",
    "    print(check_null)\n",
    "    print(f\"{'-'*30}\")"
   ]
  },
  {
   "cell_type": "code",
   "execution_count": null,
   "id": "e78cc631-15fb-4066-bda8-51ac49775754",
   "metadata": {},
   "outputs": [],
   "source": []
  }
 ],
 "metadata": {
  "kernelspec": {
   "display_name": "Python 3 (ipykernel)",
   "language": "python",
   "name": "python3"
  },
  "language_info": {
   "codemirror_mode": {
    "name": "ipython",
    "version": 3
   },
   "file_extension": ".py",
   "mimetype": "text/x-python",
   "name": "python",
   "nbconvert_exporter": "python",
   "pygments_lexer": "ipython3",
   "version": "3.11.5"
  }
 },
 "nbformat": 4,
 "nbformat_minor": 5
}
