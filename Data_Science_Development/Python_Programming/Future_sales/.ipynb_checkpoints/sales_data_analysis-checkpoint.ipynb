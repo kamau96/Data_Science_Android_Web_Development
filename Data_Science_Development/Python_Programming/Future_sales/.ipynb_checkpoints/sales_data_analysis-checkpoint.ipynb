{
 "cells": [
  {
   "cell_type": "markdown",
   "id": "cac6867a-4b51-449e-8560-280b212af8b4",
   "metadata": {
    "tags": []
   },
   "source": [
    "# Time Series Data Analysis"
   ]
  },
  {
   "cell_type": "code",
   "execution_count": 50,
   "id": "b40843a8-de84-4046-a6df-7370572d7696",
   "metadata": {
    "tags": []
   },
   "outputs": [],
   "source": [
    "# Import required libraries.\n",
    "import pandas as pd\n",
    "import numpy as np\n",
    "import matplotlib.pyplot as plt\n",
    "import seaborn as sns\n",
    "from sklearn.model_selection import StratifiedShuffleSplit"
   ]
  },
  {
   "cell_type": "code",
   "execution_count": 3,
   "id": "e7185d6a-835f-426d-947d-13bc44992cf2",
   "metadata": {
    "tags": []
   },
   "outputs": [],
   "source": [
    "# Reading data.\n",
    "filepath = \"../../../Data/future_sales/sales_train.csv\"\n",
    "stores_data = pd.read_csv(filepath, \n",
    "                          date_format=\"%d.%m.%Y\",\n",
    "                          parse_dates=[\"date\"])"
   ]
  },
  {
   "cell_type": "code",
   "execution_count": 4,
   "id": "f56761c3-a437-47bb-861a-ad3cf3c74f50",
   "metadata": {
    "tags": []
   },
   "outputs": [],
   "source": [
    "# Splitting data to avoid data snooping\n",
    "split = StratifiedShuffleSplit(n_splits=1)\n",
    "for train_index, test_index in split.split(stores_data, stores_data['shop_id']):\n",
    "    stores_train_data = stores_data.loc[train_index,:]\n",
    "    stores_test_data = stores_data.loc[test_index,:]\n",
    "\n",
    "stores_train_data = stores_train_data.sort_values(by=\"date\").reset_index()\n",
    "stores_test_data = stores_test_data.sort_values(by=\"date\").reset_index()\n",
    "stores_train_data = stores_train_data.drop([\"index\", \"date_block_num\"], axis=1)\n",
    "stores_test_data = stores_test_data.drop([\"index\", \"date_block_num\"], axis=1)"
   ]
  },
  {
   "cell_type": "markdown",
   "id": "1ac02f2e-2f9d-4c20-b6f0-5789ebce9725",
   "metadata": {},
   "source": [
    "## Quick data exploration\n",
    "- Want to know the columns and data types\n",
    "- Basic statistics of the data"
   ]
  },
  {
   "cell_type": "code",
   "execution_count": 6,
   "id": "76c539ca-ef8f-4e16-b2e3-d892478fbcdc",
   "metadata": {
    "tags": []
   },
   "outputs": [
    {
     "name": "stdout",
     "output_type": "stream",
     "text": [
      "<class 'pandas.core.frame.DataFrame'>\n",
      "RangeIndex: 2642264 entries, 0 to 2642263\n",
      "Data columns (total 5 columns):\n",
      " #   Column        Dtype         \n",
      "---  ------        -----         \n",
      " 0   date          datetime64[ns]\n",
      " 1   shop_id       int64         \n",
      " 2   item_id       int64         \n",
      " 3   item_price    float64       \n",
      " 4   item_cnt_day  float64       \n",
      "dtypes: datetime64[ns](1), float64(2), int64(2)\n",
      "memory usage: 100.8 MB\n"
     ]
    }
   ],
   "source": [
    "stores_train_data.info()"
   ]
  },
  {
   "cell_type": "code",
   "execution_count": 7,
   "id": "c0723626-8deb-4d61-a287-218932728397",
   "metadata": {
    "tags": []
   },
   "outputs": [
    {
     "data": {
      "text/html": [
       "<div>\n",
       "<style scoped>\n",
       "    .dataframe tbody tr th:only-of-type {\n",
       "        vertical-align: middle;\n",
       "    }\n",
       "\n",
       "    .dataframe tbody tr th {\n",
       "        vertical-align: top;\n",
       "    }\n",
       "\n",
       "    .dataframe thead th {\n",
       "        text-align: right;\n",
       "    }\n",
       "</style>\n",
       "<table border=\"1\" class=\"dataframe\">\n",
       "  <thead>\n",
       "    <tr style=\"text-align: right;\">\n",
       "      <th></th>\n",
       "      <th>date</th>\n",
       "      <th>shop_id</th>\n",
       "      <th>item_id</th>\n",
       "      <th>item_price</th>\n",
       "      <th>item_cnt_day</th>\n",
       "    </tr>\n",
       "  </thead>\n",
       "  <tbody>\n",
       "    <tr>\n",
       "      <th>0</th>\n",
       "      <td>2013-01-01</td>\n",
       "      <td>54</td>\n",
       "      <td>8022</td>\n",
       "      <td>20.0</td>\n",
       "      <td>1.0</td>\n",
       "    </tr>\n",
       "    <tr>\n",
       "      <th>1</th>\n",
       "      <td>2013-01-01</td>\n",
       "      <td>28</td>\n",
       "      <td>19637</td>\n",
       "      <td>399.0</td>\n",
       "      <td>1.0</td>\n",
       "    </tr>\n",
       "    <tr>\n",
       "      <th>2</th>\n",
       "      <td>2013-01-01</td>\n",
       "      <td>27</td>\n",
       "      <td>7820</td>\n",
       "      <td>2290.0</td>\n",
       "      <td>1.0</td>\n",
       "    </tr>\n",
       "    <tr>\n",
       "      <th>3</th>\n",
       "      <td>2013-01-01</td>\n",
       "      <td>54</td>\n",
       "      <td>15779</td>\n",
       "      <td>199.0</td>\n",
       "      <td>1.0</td>\n",
       "    </tr>\n",
       "    <tr>\n",
       "      <th>4</th>\n",
       "      <td>2013-01-01</td>\n",
       "      <td>14</td>\n",
       "      <td>2321</td>\n",
       "      <td>999.0</td>\n",
       "      <td>1.0</td>\n",
       "    </tr>\n",
       "  </tbody>\n",
       "</table>\n",
       "</div>"
      ],
      "text/plain": [
       "        date  shop_id  item_id  item_price  item_cnt_day\n",
       "0 2013-01-01       54     8022        20.0           1.0\n",
       "1 2013-01-01       28    19637       399.0           1.0\n",
       "2 2013-01-01       27     7820      2290.0           1.0\n",
       "3 2013-01-01       54    15779       199.0           1.0\n",
       "4 2013-01-01       14     2321       999.0           1.0"
      ]
     },
     "execution_count": 7,
     "metadata": {},
     "output_type": "execute_result"
    }
   ],
   "source": [
    "stores_train_data.head()"
   ]
  },
  {
   "cell_type": "code",
   "execution_count": 8,
   "id": "4ec2c14a-263c-4a0d-9940-4d7f808285ba",
   "metadata": {
    "tags": []
   },
   "outputs": [
    {
     "data": {
      "text/html": [
       "<div>\n",
       "<style scoped>\n",
       "    .dataframe tbody tr th:only-of-type {\n",
       "        vertical-align: middle;\n",
       "    }\n",
       "\n",
       "    .dataframe tbody tr th {\n",
       "        vertical-align: top;\n",
       "    }\n",
       "\n",
       "    .dataframe thead th {\n",
       "        text-align: right;\n",
       "    }\n",
       "</style>\n",
       "<table border=\"1\" class=\"dataframe\">\n",
       "  <thead>\n",
       "    <tr style=\"text-align: right;\">\n",
       "      <th></th>\n",
       "      <th>date</th>\n",
       "      <th>shop_id</th>\n",
       "      <th>item_id</th>\n",
       "      <th>item_price</th>\n",
       "      <th>item_cnt_day</th>\n",
       "    </tr>\n",
       "  </thead>\n",
       "  <tbody>\n",
       "    <tr>\n",
       "      <th>count</th>\n",
       "      <td>2642264</td>\n",
       "      <td>2.642264e+06</td>\n",
       "      <td>2.642264e+06</td>\n",
       "      <td>2.642264e+06</td>\n",
       "      <td>2.642264e+06</td>\n",
       "    </tr>\n",
       "    <tr>\n",
       "      <th>mean</th>\n",
       "      <td>2014-04-03 03:44:32.998609152</td>\n",
       "      <td>3.300172e+01</td>\n",
       "      <td>1.019607e+04</td>\n",
       "      <td>8.912443e+02</td>\n",
       "      <td>1.243171e+00</td>\n",
       "    </tr>\n",
       "    <tr>\n",
       "      <th>min</th>\n",
       "      <td>2013-01-01 00:00:00</td>\n",
       "      <td>0.000000e+00</td>\n",
       "      <td>0.000000e+00</td>\n",
       "      <td>-1.000000e+00</td>\n",
       "      <td>-2.200000e+01</td>\n",
       "    </tr>\n",
       "    <tr>\n",
       "      <th>25%</th>\n",
       "      <td>2013-08-01 00:00:00</td>\n",
       "      <td>2.200000e+01</td>\n",
       "      <td>4.475000e+03</td>\n",
       "      <td>2.490000e+02</td>\n",
       "      <td>1.000000e+00</td>\n",
       "    </tr>\n",
       "    <tr>\n",
       "      <th>50%</th>\n",
       "      <td>2014-03-04 00:00:00</td>\n",
       "      <td>3.100000e+01</td>\n",
       "      <td>9.336000e+03</td>\n",
       "      <td>3.990000e+02</td>\n",
       "      <td>1.000000e+00</td>\n",
       "    </tr>\n",
       "    <tr>\n",
       "      <th>75%</th>\n",
       "      <td>2014-12-05 00:00:00</td>\n",
       "      <td>4.700000e+01</td>\n",
       "      <td>1.568300e+04</td>\n",
       "      <td>9.990000e+02</td>\n",
       "      <td>1.000000e+00</td>\n",
       "    </tr>\n",
       "    <tr>\n",
       "      <th>max</th>\n",
       "      <td>2015-10-31 00:00:00</td>\n",
       "      <td>5.900000e+01</td>\n",
       "      <td>2.216900e+04</td>\n",
       "      <td>3.079800e+05</td>\n",
       "      <td>2.169000e+03</td>\n",
       "    </tr>\n",
       "    <tr>\n",
       "      <th>std</th>\n",
       "      <td>NaN</td>\n",
       "      <td>1.622698e+01</td>\n",
       "      <td>6.324217e+03</td>\n",
       "      <td>1.732612e+03</td>\n",
       "      <td>2.668694e+00</td>\n",
       "    </tr>\n",
       "  </tbody>\n",
       "</table>\n",
       "</div>"
      ],
      "text/plain": [
       "                                date       shop_id       item_id  \\\n",
       "count                        2642264  2.642264e+06  2.642264e+06   \n",
       "mean   2014-04-03 03:44:32.998609152  3.300172e+01  1.019607e+04   \n",
       "min              2013-01-01 00:00:00  0.000000e+00  0.000000e+00   \n",
       "25%              2013-08-01 00:00:00  2.200000e+01  4.475000e+03   \n",
       "50%              2014-03-04 00:00:00  3.100000e+01  9.336000e+03   \n",
       "75%              2014-12-05 00:00:00  4.700000e+01  1.568300e+04   \n",
       "max              2015-10-31 00:00:00  5.900000e+01  2.216900e+04   \n",
       "std                              NaN  1.622698e+01  6.324217e+03   \n",
       "\n",
       "         item_price  item_cnt_day  \n",
       "count  2.642264e+06  2.642264e+06  \n",
       "mean   8.912443e+02  1.243171e+00  \n",
       "min   -1.000000e+00 -2.200000e+01  \n",
       "25%    2.490000e+02  1.000000e+00  \n",
       "50%    3.990000e+02  1.000000e+00  \n",
       "75%    9.990000e+02  1.000000e+00  \n",
       "max    3.079800e+05  2.169000e+03  \n",
       "std    1.732612e+03  2.668694e+00  "
      ]
     },
     "execution_count": 8,
     "metadata": {},
     "output_type": "execute_result"
    }
   ],
   "source": [
    "stores_train_data.describe()"
   ]
  },
  {
   "cell_type": "markdown",
   "id": "1eb63915-2cf2-4a9b-999a-25169363d428",
   "metadata": {},
   "source": [
    "# Exploratory Data Analysis"
   ]
  },
  {
   "cell_type": "code",
   "execution_count": 10,
   "id": "b455edb8-bf88-4713-8165-0962a525fcf3",
   "metadata": {
    "tags": []
   },
   "outputs": [
    {
     "data": {
      "text/plain": [
       "date             1034\n",
       "shop_id            60\n",
       "item_id         21543\n",
       "item_price      18844\n",
       "item_cnt_day      193\n",
       "dtype: int64"
      ]
     },
     "metadata": {},
     "output_type": "display_data"
    }
   ],
   "source": [
    "# Number of objects in the dataframe.\n",
    "num_objects = stores_train_data.nunique()\n",
    "display(num_objects)"
   ]
  },
  {
   "cell_type": "code",
   "execution_count": 11,
   "id": "abf949b4-9797-45de-b24e-302a167d61dd",
   "metadata": {
    "tags": []
   },
   "outputs": [
    {
     "name": "stdout",
     "output_type": "stream",
     "text": [
      "date\n",
      "False    2642264\n",
      "Name: count, dtype: int64\n",
      "------------------------------\n",
      "shop_id\n",
      "False    2642264\n",
      "Name: count, dtype: int64\n",
      "------------------------------\n",
      "item_id\n",
      "False    2642264\n",
      "Name: count, dtype: int64\n",
      "------------------------------\n",
      "item_price\n",
      "False    2642264\n",
      "Name: count, dtype: int64\n",
      "------------------------------\n",
      "item_cnt_day\n",
      "False    2642264\n",
      "Name: count, dtype: int64\n",
      "------------------------------\n"
     ]
    }
   ],
   "source": [
    "# Checking if there are any nulls.\n",
    "for col in stores_train_data.columns:\n",
    "    check_null = stores_train_data[col].isnull().value_counts()\n",
    "    print(check_null)\n",
    "    print(f\"{'-'*30}\")"
   ]
  },
  {
   "cell_type": "code",
   "execution_count": 90,
   "id": "c12bf25a-3d60-4a22-aafd-1f1dcc7ccd0e",
   "metadata": {
    "tags": []
   },
   "outputs": [],
   "source": [
    "items_not_returned = stores_train_data.loc[(stores_train_data['item_cnt_day'] > 0),['item_cnt_day']]\n",
    "items_returned = stores_train_data.loc[(stores_train_data['item_cnt_day'] < 0),['item_cnt_day']]"
   ]
  },
  {
   "cell_type": "code",
   "execution_count": 106,
   "id": "b36f8f81-0c8a-49b9-9e9e-03e0f3ccf1d2",
   "metadata": {
    "tags": []
   },
   "outputs": [
    {
     "data": {
      "text/plain": [
       "(6611,)"
      ]
     },
     "execution_count": 106,
     "metadata": {},
     "output_type": "execute_result"
    }
   ],
   "source": [
    "items_returned.index.isin(items_not_returned.index)"
   ]
  },
  {
   "cell_type": "code",
   "execution_count": 92,
   "id": "e78cc631-15fb-4066-bda8-51ac49775754",
   "metadata": {
    "tags": []
   },
   "outputs": [
    {
     "data": {
      "image/png": "[encoded data removed]",
      "text/plain": [
       "<Figure size 640x480 with 1 Axes>"
      ]
     },
     "metadata": {},
     "output_type": "display_data"
    }
   ],
   "source": [
    "fig, ax = plt.subplots()\n",
    "sns.histplot(items_not_returned, bins=10)\n",
    "ax.set_title(\"Histogram of Items Sold\")\n",
    "plt.show()"
   ]
  },
  {
   "cell_type": "code",
   "execution_count": 94,
   "id": "730da3e2-2764-4c49-958e-68b861ee2f40",
   "metadata": {
    "tags": []
   },
   "outputs": [
    {
     "data": {
      "image/png": "[encoded data removed]",
      "text/plain": [
       "<Figure size 640x480 with 1 Axes>"
      ]
     },
     "metadata": {},
     "output_type": "display_data"
    }
   ],
   "source": [
    "fig, ax = plt.subplots()\n",
    "sns.histplot(items_returned, bins=10)\n",
    "ax.set_title(\"Histogram of Items Returned\")\n",
    "plt.show()"
   ]
  },
  {
   "cell_type": "code",
   "execution_count": 112,
   "id": "75cf3bf2-ed03-4e67-9bf5-af86655bb2fb",
   "metadata": {
    "tags": []
   },
   "outputs": [
    {
     "data": {
      "image/png": "[encoded data removed]",
      "text/plain": [
       "<Figure size 640x480 with 1 Axes>"
      ]
     },
     "metadata": {},
     "output_type": "display_data"
    }
   ],
   "source": [
    "fig, ax = plt.subplots()\n",
    "sns.histplot(stores_train_data[\"date\"], bins=10)\n",
    "ax.set_title(\"Histogram of Items Sold\")\n",
    "ax.tick_params(axis=\"x\", rotation=45)\n",
    "plt.show()"
   ]
  },
  {
   "cell_type": "code",
   "execution_count": null,
   "id": "f01188ee-5378-420c-8a49-bd3f0bb90e2b",
   "metadata": {},
   "outputs": [],
   "source": []
  }
 ],
 "metadata": {
  "kernelspec": {
   "display_name": "Python 3 (ipykernel)",
   "language": "python",
   "name": "python3"
  },
  "language_info": {
   "codemirror_mode": {
    "name": "ipython",
    "version": 3
   },
   "file_extension": ".py",
   "mimetype": "text/x-python",
   "name": "python",
   "nbconvert_exporter": "python",
   "pygments_lexer": "ipython3",
   "version": "3.11.5"
  }
 },
 "nbformat": 4,
 "nbformat_minor": 5
}
