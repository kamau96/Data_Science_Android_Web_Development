{
 "cells": [
  {
   "cell_type": "code",
   "execution_count": 1,
   "id": "3c35cfa4-8587-4790-88f3-1945425bf78c",
   "metadata": {
    "tags": []
   },
   "outputs": [],
   "source": [
    "# libraries to use\n",
    "import numpy as np\n",
    "import pandas as pd\n",
    "import seaborn as sns\n",
    "import warnings\n",
    "import gc\n",
    "from itertools import product\n",
    "from sklearn.preprocessing import LabelEncoder\n",
    "\n",
    "\n",
    "warnings.filterwarnings(action='ignore')\n",
    "\n",
    "data_path = '../../../Data/future_sales/'\n",
    "\n",
    "sales_train = pd.read_csv(data_path + 'sales_train.csv')\n",
    "shops = pd.read_csv(data_path + 'shops.csv')\n",
    "items = pd.read_csv(data_path + 'items.csv')\n",
    "item_categories = pd.read_csv(data_path + 'item_categories.csv')\n",
    "test = pd.read_csv(data_path + 'test.csv')\n",
    "submission = pd.read_csv(data_path + 'sample_submission.csv')"
   ]
  },
  {
   "cell_type": "code",
   "execution_count": 2,
   "id": "154eedf2-6175-4c67-b724-daf369373bc4",
   "metadata": {
    "tags": []
   },
   "outputs": [
    {
     "name": "stdout",
     "output_type": "stream",
     "text": [
      "The percent memory change is: 54.16661592897757\n",
      "The percent memory change is: 38.46153846153846\n",
      "The percent memory change is: 54.153232170638766\n",
      "The percent memory change is: 39.83739837398374\n",
      "The percent memory change is: 70.83151459696413\n"
     ]
    }
   ],
   "source": [
    "def downcast(df, verbose=True):\n",
    "    start_mem = df.memory_usage().sum() / 1024**2\n",
    "    for col in df.columns:\n",
    "        dtype_name = df[col].dtype.name\n",
    "        if dtype_name == 'object':\n",
    "            pass\n",
    "        elif dtype_name == 'bool':\n",
    "            df[col] = df[col].astype('int8')\n",
    "        elif dtype_name.startswith('int') or (df[col].round() == df[col]).all():\n",
    "            df[col] = pd.to_numeric(df[col], downcast='integer')\n",
    "        else:\n",
    "            df[col] = pd.to_numeric(df[col], downcast='float')\n",
    "    end_mem = df.memory_usage().sum() / 1024**2\n",
    "    if verbose:\n",
    "        percent_mem_change = 100 * (start_mem - end_mem) / start_mem\n",
    "        print(f\"The percent memory change is: {percent_mem_change}\")\n",
    "    \n",
    "    return df\n",
    "\n",
    "all_df = [sales_train, shops, items, item_categories, test]\n",
    "for df in all_df:\n",
    "    df = downcast(df)"
   ]
  },
  {
   "cell_type": "code",
   "execution_count": 3,
   "id": "75c50e6f-fad5-48cc-bb18-ab60e0f56b42",
   "metadata": {
    "tags": []
   },
   "outputs": [
    {
     "data": {
      "text/plain": [
       "<Axes: >"
      ]
     },
     "execution_count": 3,
     "metadata": {},
     "output_type": "execute_result"
    },
    {
     "data": {
      "image/png": "[encoded data removed]",
      "text/plain": [
       "<Figure size 640x480 with 1 Axes>"
      ]
     },
     "metadata": {},
     "output_type": "display_data"
    }
   ],
   "source": [
    "sns.boxplot(sales_train['item_price'])"
   ]
  },
  {
   "cell_type": "code",
   "execution_count": 4,
   "id": "9666935e-c703-4c8f-9d1c-9bb92e74bc66",
   "metadata": {
    "tags": []
   },
   "outputs": [
    {
     "data": {
      "text/plain": [
       "<Axes: >"
      ]
     },
     "execution_count": 4,
     "metadata": {},
     "output_type": "execute_result"
    },
    {
     "data": {
      "image/png": "[encoded data removed]",
      "text/plain": [
       "<Figure size 640x480 with 1 Axes>"
      ]
     },
     "metadata": {},
     "output_type": "display_data"
    }
   ],
   "source": [
    "sns.boxplot(sales_train['item_cnt_day'])"
   ]
  },
  {
   "cell_type": "code",
   "execution_count": 5,
   "id": "97e92253-5857-4210-a12d-e6e0dc451876",
   "metadata": {
    "tags": []
   },
   "outputs": [],
   "source": [
    "# This removes outliers in the data. \n",
    "sales_train = sales_train.loc[(sales_train['item_price'] > 0) & (sales_train['item_price'] < 100000)]\n",
    "sales_train = sales_train.loc[(sales_train['item_cnt_day'] > 0) & (sales_train['item_cnt_day'] < 900)]"
   ]
  },
  {
   "cell_type": "code",
   "execution_count": 6,
   "id": "555ba0d1-665a-4925-a302-5eda9b48593e",
   "metadata": {
    "tags": []
   },
   "outputs": [],
   "source": [
    "shops[\"shop_first_name\"] = shops[\"shop_name\"].apply(lambda x: x.split()[0])"
   ]
  },
  {
   "cell_type": "code",
   "execution_count": 7,
   "id": "fdb6414e-e973-47d7-9be0-061c69f6086c",
   "metadata": {
    "tags": []
   },
   "outputs": [
    {
     "data": {
      "text/plain": [
       "array(['!Якутск', 'Адыгея', 'Балашиха', 'Волжский', 'Вологда', 'Воронеж',\n",
       "       'Выездная', 'Жуковский', 'Интернет-магазин', 'Казань', 'Калуга',\n",
       "       'Коломна', 'Красноярск', 'Курск', 'Москва', 'Мытищи', 'Н.Новгород',\n",
       "       'Новосибирск', 'Омск', 'РостовНаДону', 'СПб', 'Самара', 'Сергиев',\n",
       "       'Сургут', 'Томск', 'Тюмень', 'Уфа', 'Химки', 'Цифровой', 'Чехов',\n",
       "       'Якутск', 'Ярославль'], dtype=object)"
      ]
     },
     "execution_count": 7,
     "metadata": {},
     "output_type": "execute_result"
    }
   ],
   "source": [
    "shops[\"shop_first_name\"].unique()"
   ]
  },
  {
   "cell_type": "code",
   "execution_count": 8,
   "id": "4443de1e-458e-41ab-85af-8ea0fb5f4a26",
   "metadata": {
    "tags": []
   },
   "outputs": [],
   "source": [
    "shops.loc[shops[\"shop_first_name\"] =='!Якутск', \"shop_first_name\"] = 'Якутск'"
   ]
  },
  {
   "cell_type": "code",
   "execution_count": 9,
   "id": "2ca6c759-b01f-4b51-81c0-4c6c5a4cb55e",
   "metadata": {
    "tags": []
   },
   "outputs": [],
   "source": [
    "# Changes string variables with numeric type. \n",
    "label_encoder = LabelEncoder()\n",
    "shops[\"shop_first_name\"] = label_encoder.fit_transform(shops[\"shop_first_name\"])"
   ]
  },
  {
   "cell_type": "code",
   "execution_count": 10,
   "id": "338e5e7d-568d-43d5-9237-2e55d6404f90",
   "metadata": {
    "tags": []
   },
   "outputs": [],
   "source": [
    "shops = shops.drop(\"shop_name\", axis=1)"
   ]
  },
  {
   "cell_type": "code",
   "execution_count": 11,
   "id": "3f193e18-c9fa-4d0f-a216-dbb8c96450e4",
   "metadata": {
    "tags": []
   },
   "outputs": [
    {
     "data": {
      "text/html": [
       "<div>\n",
       "<style scoped>\n",
       "    .dataframe tbody tr th:only-of-type {\n",
       "        vertical-align: middle;\n",
       "    }\n",
       "\n",
       "    .dataframe tbody tr th {\n",
       "        vertical-align: top;\n",
       "    }\n",
       "\n",
       "    .dataframe thead th {\n",
       "        text-align: right;\n",
       "    }\n",
       "</style>\n",
       "<table border=\"1\" class=\"dataframe\">\n",
       "  <thead>\n",
       "    <tr style=\"text-align: right;\">\n",
       "      <th></th>\n",
       "      <th>shop_id</th>\n",
       "      <th>shop_first_name</th>\n",
       "    </tr>\n",
       "  </thead>\n",
       "  <tbody>\n",
       "    <tr>\n",
       "      <th>0</th>\n",
       "      <td>0</td>\n",
       "      <td>29</td>\n",
       "    </tr>\n",
       "    <tr>\n",
       "      <th>1</th>\n",
       "      <td>1</td>\n",
       "      <td>29</td>\n",
       "    </tr>\n",
       "    <tr>\n",
       "      <th>2</th>\n",
       "      <td>2</td>\n",
       "      <td>0</td>\n",
       "    </tr>\n",
       "    <tr>\n",
       "      <th>3</th>\n",
       "      <td>3</td>\n",
       "      <td>1</td>\n",
       "    </tr>\n",
       "    <tr>\n",
       "      <th>4</th>\n",
       "      <td>4</td>\n",
       "      <td>2</td>\n",
       "    </tr>\n",
       "  </tbody>\n",
       "</table>\n",
       "</div>"
      ],
      "text/plain": [
       "   shop_id  shop_first_name\n",
       "0        0               29\n",
       "1        1               29\n",
       "2        2                0\n",
       "3        3                1\n",
       "4        4                2"
      ]
     },
     "execution_count": 11,
     "metadata": {},
     "output_type": "execute_result"
    }
   ],
   "source": [
    "shops.head()"
   ]
  },
  {
   "cell_type": "code",
   "execution_count": 12,
   "id": "bfe92006-f26b-4928-ba80-c130dd5b52ae",
   "metadata": {
    "tags": []
   },
   "outputs": [],
   "source": [
    "items = items.drop([\"item_name\"], axis=1)"
   ]
  },
  {
   "cell_type": "code",
   "execution_count": 13,
   "id": "9565913d-e7cb-4396-910c-68e97fdd8e14",
   "metadata": {
    "tags": []
   },
   "outputs": [
    {
     "data": {
      "text/html": [
       "<div>\n",
       "<style scoped>\n",
       "    .dataframe tbody tr th:only-of-type {\n",
       "        vertical-align: middle;\n",
       "    }\n",
       "\n",
       "    .dataframe tbody tr th {\n",
       "        vertical-align: top;\n",
       "    }\n",
       "\n",
       "    .dataframe thead th {\n",
       "        text-align: right;\n",
       "    }\n",
       "</style>\n",
       "<table border=\"1\" class=\"dataframe\">\n",
       "  <thead>\n",
       "    <tr style=\"text-align: right;\">\n",
       "      <th></th>\n",
       "      <th>item_id</th>\n",
       "      <th>item_category_id</th>\n",
       "      <th>item_date_block</th>\n",
       "    </tr>\n",
       "  </thead>\n",
       "  <tbody>\n",
       "    <tr>\n",
       "      <th>0</th>\n",
       "      <td>0</td>\n",
       "      <td>40</td>\n",
       "      <td>20.0</td>\n",
       "    </tr>\n",
       "    <tr>\n",
       "      <th>1</th>\n",
       "      <td>1</td>\n",
       "      <td>76</td>\n",
       "      <td>15.0</td>\n",
       "    </tr>\n",
       "    <tr>\n",
       "      <th>2</th>\n",
       "      <td>2</td>\n",
       "      <td>40</td>\n",
       "      <td>19.0</td>\n",
       "    </tr>\n",
       "    <tr>\n",
       "      <th>3</th>\n",
       "      <td>3</td>\n",
       "      <td>40</td>\n",
       "      <td>18.0</td>\n",
       "    </tr>\n",
       "    <tr>\n",
       "      <th>4</th>\n",
       "      <td>4</td>\n",
       "      <td>40</td>\n",
       "      <td>20.0</td>\n",
       "    </tr>\n",
       "  </tbody>\n",
       "</table>\n",
       "</div>"
      ],
      "text/plain": [
       "   item_id  item_category_id  item_date_block\n",
       "0        0                40             20.0\n",
       "1        1                76             15.0\n",
       "2        2                40             19.0\n",
       "3        3                40             18.0\n",
       "4        4                40             20.0"
      ]
     },
     "execution_count": 13,
     "metadata": {},
     "output_type": "execute_result"
    }
   ],
   "source": [
    "items[\"item_date_block\"] = sales_train.groupby(\"item_id\").agg({\"date_block_num\": 'min'})[\"date_block_num\"]\n",
    "items.head()"
   ]
  },
  {
   "cell_type": "code",
   "execution_count": 14,
   "id": "bfddb03f-107d-49ee-8623-ade16ad50c93",
   "metadata": {
    "tags": []
   },
   "outputs": [
    {
     "data": {
      "text/html": [
       "<div>\n",
       "<style scoped>\n",
       "    .dataframe tbody tr th:only-of-type {\n",
       "        vertical-align: middle;\n",
       "    }\n",
       "\n",
       "    .dataframe tbody tr th {\n",
       "        vertical-align: top;\n",
       "    }\n",
       "\n",
       "    .dataframe thead th {\n",
       "        text-align: right;\n",
       "    }\n",
       "</style>\n",
       "<table border=\"1\" class=\"dataframe\">\n",
       "  <thead>\n",
       "    <tr style=\"text-align: right;\">\n",
       "      <th></th>\n",
       "      <th>item_id</th>\n",
       "      <th>item_category_id</th>\n",
       "      <th>item_date_block</th>\n",
       "    </tr>\n",
       "  </thead>\n",
       "  <tbody>\n",
       "    <tr>\n",
       "      <th>83</th>\n",
       "      <td>83</td>\n",
       "      <td>40</td>\n",
       "      <td>NaN</td>\n",
       "    </tr>\n",
       "    <tr>\n",
       "      <th>140</th>\n",
       "      <td>140</td>\n",
       "      <td>45</td>\n",
       "      <td>NaN</td>\n",
       "    </tr>\n",
       "    <tr>\n",
       "      <th>168</th>\n",
       "      <td>168</td>\n",
       "      <td>44</td>\n",
       "      <td>NaN</td>\n",
       "    </tr>\n",
       "    <tr>\n",
       "      <th>173</th>\n",
       "      <td>173</td>\n",
       "      <td>45</td>\n",
       "      <td>NaN</td>\n",
       "    </tr>\n",
       "    <tr>\n",
       "      <th>204</th>\n",
       "      <td>204</td>\n",
       "      <td>44</td>\n",
       "      <td>NaN</td>\n",
       "    </tr>\n",
       "    <tr>\n",
       "      <th>...</th>\n",
       "      <td>...</td>\n",
       "      <td>...</td>\n",
       "      <td>...</td>\n",
       "    </tr>\n",
       "    <tr>\n",
       "      <th>21974</th>\n",
       "      <td>21974</td>\n",
       "      <td>61</td>\n",
       "      <td>NaN</td>\n",
       "    </tr>\n",
       "    <tr>\n",
       "      <th>21975</th>\n",
       "      <td>21975</td>\n",
       "      <td>61</td>\n",
       "      <td>NaN</td>\n",
       "    </tr>\n",
       "    <tr>\n",
       "      <th>22022</th>\n",
       "      <td>22022</td>\n",
       "      <td>40</td>\n",
       "      <td>NaN</td>\n",
       "    </tr>\n",
       "    <tr>\n",
       "      <th>22035</th>\n",
       "      <td>22035</td>\n",
       "      <td>40</td>\n",
       "      <td>NaN</td>\n",
       "    </tr>\n",
       "    <tr>\n",
       "      <th>22137</th>\n",
       "      <td>22137</td>\n",
       "      <td>40</td>\n",
       "      <td>NaN</td>\n",
       "    </tr>\n",
       "  </tbody>\n",
       "</table>\n",
       "<p>367 rows × 3 columns</p>\n",
       "</div>"
      ],
      "text/plain": [
       "       item_id  item_category_id  item_date_block\n",
       "83          83                40              NaN\n",
       "140        140                45              NaN\n",
       "168        168                44              NaN\n",
       "173        173                45              NaN\n",
       "204        204                44              NaN\n",
       "...        ...               ...              ...\n",
       "21974    21974                61              NaN\n",
       "21975    21975                61              NaN\n",
       "22022    22022                40              NaN\n",
       "22035    22035                40              NaN\n",
       "22137    22137                40              NaN\n",
       "\n",
       "[367 rows x 3 columns]"
      ]
     },
     "execution_count": 14,
     "metadata": {},
     "output_type": "execute_result"
    }
   ],
   "source": [
    "items.loc[items[\"item_date_block\"].isna()]"
   ]
  },
  {
   "cell_type": "code",
   "execution_count": 15,
   "id": "da00fabb-c244-491c-98f3-b8ff6ec8f0db",
   "metadata": {
    "tags": []
   },
   "outputs": [],
   "source": [
    "items[\"item_date_block\"] = items[\"item_date_block\"].fillna(34)"
   ]
  },
  {
   "cell_type": "markdown",
   "id": "5f5206e9-a80a-431a-af36-a06d1b60888c",
   "metadata": {},
   "source": [
    "### Item Category exploration"
   ]
  },
  {
   "cell_type": "code",
   "execution_count": 17,
   "id": "0bec7fa6-eb2e-4de3-80eb-5e88a6236e4c",
   "metadata": {
    "tags": []
   },
   "outputs": [],
   "source": [
    "# Extracts first name of the items.\n",
    "item_categories[\"first_item_category_name\"] = item_categories[\"item_category_name\"].apply(lambda x: x.split()[0])  "
   ]
  },
  {
   "cell_type": "code",
   "execution_count": 18,
   "id": "36cd1388-6bdc-4ad4-961f-edffcfdb2203",
   "metadata": {
    "tags": []
   },
   "outputs": [
    {
     "data": {
      "text/plain": [
       "first_item_category_name\n",
       "Игры          14\n",
       "Книги         13\n",
       "Подарки       12\n",
       "Игровые        8\n",
       "Аксессуары     7\n",
       "Музыка         6\n",
       "Программы      6\n",
       "Карты          5\n",
       "Кино           5\n",
       "Служебные      2\n",
       "Чистые         2\n",
       "PC             1\n",
       "Билеты         1\n",
       "Доставка       1\n",
       "Элементы       1\n",
       "Name: count, dtype: int64"
      ]
     },
     "execution_count": 18,
     "metadata": {},
     "output_type": "execute_result"
    }
   ],
   "source": [
    "item_categories[\"first_item_category_name\"].value_counts()"
   ]
  },
  {
   "cell_type": "code",
   "execution_count": 19,
   "id": "3e318fad-8829-4d4a-b6fe-128e0255e7dd",
   "metadata": {
    "tags": []
   },
   "outputs": [],
   "source": [
    "def make_etc(x):\n",
    "    if len(item_categories[item_categories[\"first_item_category_name\"]==x]) >= 5:\n",
    "        return x\n",
    "    else:\n",
    "        return 'etc'\n",
    "\n",
    "item_categories[\"first_item_category_name\"] = item_categories[\"first_item_category_name\"].apply(make_etc)"
   ]
  },
  {
   "cell_type": "code",
   "execution_count": 20,
   "id": "7c9d85be-2a4c-4236-b5cd-ec6e3f3a1381",
   "metadata": {
    "tags": []
   },
   "outputs": [
    {
     "data": {
      "text/html": [
       "<div>\n",
       "<style scoped>\n",
       "    .dataframe tbody tr th:only-of-type {\n",
       "        vertical-align: middle;\n",
       "    }\n",
       "\n",
       "    .dataframe tbody tr th {\n",
       "        vertical-align: top;\n",
       "    }\n",
       "\n",
       "    .dataframe thead th {\n",
       "        text-align: right;\n",
       "    }\n",
       "</style>\n",
       "<table border=\"1\" class=\"dataframe\">\n",
       "  <thead>\n",
       "    <tr style=\"text-align: right;\">\n",
       "      <th></th>\n",
       "      <th>item_category_name</th>\n",
       "      <th>item_category_id</th>\n",
       "      <th>first_item_category_name</th>\n",
       "    </tr>\n",
       "  </thead>\n",
       "  <tbody>\n",
       "    <tr>\n",
       "      <th>0</th>\n",
       "      <td>PC - Гарнитуры/Наушники</td>\n",
       "      <td>0</td>\n",
       "      <td>etc</td>\n",
       "    </tr>\n",
       "    <tr>\n",
       "      <th>1</th>\n",
       "      <td>Аксессуары - PS2</td>\n",
       "      <td>1</td>\n",
       "      <td>Аксессуары</td>\n",
       "    </tr>\n",
       "    <tr>\n",
       "      <th>2</th>\n",
       "      <td>Аксессуары - PS3</td>\n",
       "      <td>2</td>\n",
       "      <td>Аксессуары</td>\n",
       "    </tr>\n",
       "    <tr>\n",
       "      <th>3</th>\n",
       "      <td>Аксессуары - PS4</td>\n",
       "      <td>3</td>\n",
       "      <td>Аксессуары</td>\n",
       "    </tr>\n",
       "    <tr>\n",
       "      <th>4</th>\n",
       "      <td>Аксессуары - PSP</td>\n",
       "      <td>4</td>\n",
       "      <td>Аксессуары</td>\n",
       "    </tr>\n",
       "  </tbody>\n",
       "</table>\n",
       "</div>"
      ],
      "text/plain": [
       "        item_category_name  item_category_id first_item_category_name\n",
       "0  PC - Гарнитуры/Наушники                 0                      etc\n",
       "1         Аксессуары - PS2                 1               Аксессуары\n",
       "2         Аксессуары - PS3                 2               Аксессуары\n",
       "3         Аксессуары - PS4                 3               Аксессуары\n",
       "4         Аксессуары - PSP                 4               Аксессуары"
      ]
     },
     "execution_count": 20,
     "metadata": {},
     "output_type": "execute_result"
    }
   ],
   "source": [
    "item_categories.head()"
   ]
  },
  {
   "cell_type": "code",
   "execution_count": 21,
   "id": "27ff5f97-8035-4604-8e21-0055c2dc814c",
   "metadata": {
    "tags": []
   },
   "outputs": [],
   "source": [
    "label_encoder = LabelEncoder()\n",
    "item_categories[\"first_item_category_name\"] = label_encoder.fit_transform(item_categories[\"first_item_category_name\"])\n",
    "item_categories = item_categories.drop(\"item_category_name\", axis=1)"
   ]
  },
  {
   "cell_type": "code",
   "execution_count": 22,
   "id": "b2c81a99-b28a-4bdf-b1a2-f69246916808",
   "metadata": {
    "tags": []
   },
   "outputs": [],
   "source": [
    "train = []\n",
    "for i in sales_train[\"date_block_num\"].unique():\n",
    "    all_shop = sales_train.loc[sales_train[\"date_block_num\"]==i, \"shop_id\"].unique()\n",
    "    all_item = sales_train.loc[sales_train[\"date_block_num\"]==i, \"item_id\"].unique()\n",
    "    train.append(np.array(list(product([i], all_shop, all_item))))\n",
    "\n",
    "idx_features = [\"date_block_num\", \"shop_id\", \"item_id\"]\n",
    "train = pd.DataFrame(np.vstack(train), columns=idx_features)"
   ]
  },
  {
   "cell_type": "code",
   "execution_count": 23,
   "id": "a07ae795-fd08-4454-8838-8609ffecca49",
   "metadata": {
    "tags": []
   },
   "outputs": [],
   "source": [
    "group = sales_train.groupby(idx_features).agg({'item_cnt_day': 'sum',\n",
    "                                               'item_price': 'mean'})\n",
    "group = group.reset_index()\n",
    "group = group.rename(columns={\"item_cnt_day\": \"item_cnt_day_sum\",\n",
    "                              \"item_price\": \"item_price_mean\"})\n",
    "\n",
    "train = train.merge(group, on=idx_features, how='left')"
   ]
  },
  {
   "cell_type": "code",
   "execution_count": 24,
   "id": "7c33e496-78e5-416f-a88f-05ec51d07ee3",
   "metadata": {
    "tags": []
   },
   "outputs": [
    {
     "data": {
      "text/html": [
       "<div>\n",
       "<style scoped>\n",
       "    .dataframe tbody tr th:only-of-type {\n",
       "        vertical-align: middle;\n",
       "    }\n",
       "\n",
       "    .dataframe tbody tr th {\n",
       "        vertical-align: top;\n",
       "    }\n",
       "\n",
       "    .dataframe thead th {\n",
       "        text-align: right;\n",
       "    }\n",
       "</style>\n",
       "<table border=\"1\" class=\"dataframe\">\n",
       "  <thead>\n",
       "    <tr style=\"text-align: right;\">\n",
       "      <th></th>\n",
       "      <th>date_block_num</th>\n",
       "      <th>shop_id</th>\n",
       "      <th>item_id</th>\n",
       "      <th>item_cnt_day_sum</th>\n",
       "      <th>item_price_mean</th>\n",
       "    </tr>\n",
       "  </thead>\n",
       "  <tbody>\n",
       "    <tr>\n",
       "      <th>0</th>\n",
       "      <td>0</td>\n",
       "      <td>59</td>\n",
       "      <td>22154</td>\n",
       "      <td>1.0</td>\n",
       "      <td>999.0</td>\n",
       "    </tr>\n",
       "    <tr>\n",
       "      <th>1</th>\n",
       "      <td>0</td>\n",
       "      <td>59</td>\n",
       "      <td>2552</td>\n",
       "      <td>NaN</td>\n",
       "      <td>NaN</td>\n",
       "    </tr>\n",
       "    <tr>\n",
       "      <th>2</th>\n",
       "      <td>0</td>\n",
       "      <td>59</td>\n",
       "      <td>2554</td>\n",
       "      <td>NaN</td>\n",
       "      <td>NaN</td>\n",
       "    </tr>\n",
       "    <tr>\n",
       "      <th>3</th>\n",
       "      <td>0</td>\n",
       "      <td>59</td>\n",
       "      <td>2555</td>\n",
       "      <td>NaN</td>\n",
       "      <td>NaN</td>\n",
       "    </tr>\n",
       "    <tr>\n",
       "      <th>4</th>\n",
       "      <td>0</td>\n",
       "      <td>59</td>\n",
       "      <td>2564</td>\n",
       "      <td>NaN</td>\n",
       "      <td>NaN</td>\n",
       "    </tr>\n",
       "    <tr>\n",
       "      <th>...</th>\n",
       "      <td>...</td>\n",
       "      <td>...</td>\n",
       "      <td>...</td>\n",
       "      <td>...</td>\n",
       "      <td>...</td>\n",
       "    </tr>\n",
       "    <tr>\n",
       "      <th>10884503</th>\n",
       "      <td>33</td>\n",
       "      <td>21</td>\n",
       "      <td>7635</td>\n",
       "      <td>NaN</td>\n",
       "      <td>NaN</td>\n",
       "    </tr>\n",
       "    <tr>\n",
       "      <th>10884504</th>\n",
       "      <td>33</td>\n",
       "      <td>21</td>\n",
       "      <td>7638</td>\n",
       "      <td>NaN</td>\n",
       "      <td>NaN</td>\n",
       "    </tr>\n",
       "    <tr>\n",
       "      <th>10884505</th>\n",
       "      <td>33</td>\n",
       "      <td>21</td>\n",
       "      <td>7640</td>\n",
       "      <td>NaN</td>\n",
       "      <td>NaN</td>\n",
       "    </tr>\n",
       "    <tr>\n",
       "      <th>10884506</th>\n",
       "      <td>33</td>\n",
       "      <td>21</td>\n",
       "      <td>7632</td>\n",
       "      <td>NaN</td>\n",
       "      <td>NaN</td>\n",
       "    </tr>\n",
       "    <tr>\n",
       "      <th>10884507</th>\n",
       "      <td>33</td>\n",
       "      <td>21</td>\n",
       "      <td>7440</td>\n",
       "      <td>NaN</td>\n",
       "      <td>NaN</td>\n",
       "    </tr>\n",
       "  </tbody>\n",
       "</table>\n",
       "<p>10884508 rows × 5 columns</p>\n",
       "</div>"
      ],
      "text/plain": [
       "          date_block_num  shop_id  item_id  item_cnt_day_sum  item_price_mean\n",
       "0                      0       59    22154               1.0            999.0\n",
       "1                      0       59     2552               NaN              NaN\n",
       "2                      0       59     2554               NaN              NaN\n",
       "3                      0       59     2555               NaN              NaN\n",
       "4                      0       59     2564               NaN              NaN\n",
       "...                  ...      ...      ...               ...              ...\n",
       "10884503              33       21     7635               NaN              NaN\n",
       "10884504              33       21     7638               NaN              NaN\n",
       "10884505              33       21     7640               NaN              NaN\n",
       "10884506              33       21     7632               NaN              NaN\n",
       "10884507              33       21     7440               NaN              NaN\n",
       "\n",
       "[10884508 rows x 5 columns]"
      ]
     },
     "execution_count": 24,
     "metadata": {},
     "output_type": "execute_result"
    }
   ],
   "source": [
    "train"
   ]
  },
  {
   "cell_type": "code",
   "execution_count": 25,
   "id": "90d920b9-fcd8-42ad-ac19-beb7314b2bec",
   "metadata": {
    "tags": []
   },
   "outputs": [],
   "source": [
    "del group\n",
    "gc.collect();"
   ]
  },
  {
   "cell_type": "code",
   "execution_count": 26,
   "id": "b22eced6-431e-462b-b524-57dc08e4db77",
   "metadata": {
    "tags": []
   },
   "outputs": [
    {
     "data": {
      "text/html": [
       "<div>\n",
       "<style scoped>\n",
       "    .dataframe tbody tr th:only-of-type {\n",
       "        vertical-align: middle;\n",
       "    }\n",
       "\n",
       "    .dataframe tbody tr th {\n",
       "        vertical-align: top;\n",
       "    }\n",
       "\n",
       "    .dataframe thead th {\n",
       "        text-align: right;\n",
       "    }\n",
       "</style>\n",
       "<table border=\"1\" class=\"dataframe\">\n",
       "  <thead>\n",
       "    <tr style=\"text-align: right;\">\n",
       "      <th></th>\n",
       "      <th>date_block_num</th>\n",
       "      <th>shop_id</th>\n",
       "      <th>item_id</th>\n",
       "      <th>item_cnt_day_sum</th>\n",
       "      <th>item_price_mean</th>\n",
       "      <th>item_cnt_day_count</th>\n",
       "    </tr>\n",
       "  </thead>\n",
       "  <tbody>\n",
       "    <tr>\n",
       "      <th>0</th>\n",
       "      <td>0</td>\n",
       "      <td>59</td>\n",
       "      <td>22154</td>\n",
       "      <td>1.0</td>\n",
       "      <td>999.0</td>\n",
       "      <td>1.0</td>\n",
       "    </tr>\n",
       "    <tr>\n",
       "      <th>1</th>\n",
       "      <td>0</td>\n",
       "      <td>59</td>\n",
       "      <td>2552</td>\n",
       "      <td>NaN</td>\n",
       "      <td>NaN</td>\n",
       "      <td>NaN</td>\n",
       "    </tr>\n",
       "    <tr>\n",
       "      <th>2</th>\n",
       "      <td>0</td>\n",
       "      <td>59</td>\n",
       "      <td>2554</td>\n",
       "      <td>NaN</td>\n",
       "      <td>NaN</td>\n",
       "      <td>NaN</td>\n",
       "    </tr>\n",
       "    <tr>\n",
       "      <th>3</th>\n",
       "      <td>0</td>\n",
       "      <td>59</td>\n",
       "      <td>2555</td>\n",
       "      <td>NaN</td>\n",
       "      <td>NaN</td>\n",
       "      <td>NaN</td>\n",
       "    </tr>\n",
       "    <tr>\n",
       "      <th>4</th>\n",
       "      <td>0</td>\n",
       "      <td>59</td>\n",
       "      <td>2564</td>\n",
       "      <td>NaN</td>\n",
       "      <td>NaN</td>\n",
       "      <td>NaN</td>\n",
       "    </tr>\n",
       "  </tbody>\n",
       "</table>\n",
       "</div>"
      ],
      "text/plain": [
       "   date_block_num  shop_id  item_id  item_cnt_day_sum  item_price_mean  \\\n",
       "0               0       59    22154               1.0            999.0   \n",
       "1               0       59     2552               NaN              NaN   \n",
       "2               0       59     2554               NaN              NaN   \n",
       "3               0       59     2555               NaN              NaN   \n",
       "4               0       59     2564               NaN              NaN   \n",
       "\n",
       "   item_cnt_day_count  \n",
       "0                 1.0  \n",
       "1                 NaN  \n",
       "2                 NaN  \n",
       "3                 NaN  \n",
       "4                 NaN  "
      ]
     },
     "execution_count": 26,
     "metadata": {},
     "output_type": "execute_result"
    }
   ],
   "source": [
    "group = sales_train.groupby(idx_features).agg({\"item_cnt_day\": 'count'})\n",
    "group = group.reset_index()\n",
    "group = group.rename(columns={\"item_cnt_day\": \"item_cnt_day_count\"})\n",
    "\n",
    "train = train.merge(group, on=idx_features, how='left')\n",
    "\n",
    "del group, sales_train\n",
    "gc.collect()\n",
    "\n",
    "train.head()"
   ]
  },
  {
   "cell_type": "code",
   "execution_count": 27,
   "id": "0c169a99-c580-4268-a072-64716bbe2750",
   "metadata": {
    "tags": []
   },
   "outputs": [
    {
     "data": {
      "text/html": [
       "<div>\n",
       "<style scoped>\n",
       "    .dataframe tbody tr th:only-of-type {\n",
       "        vertical-align: middle;\n",
       "    }\n",
       "\n",
       "    .dataframe tbody tr th {\n",
       "        vertical-align: top;\n",
       "    }\n",
       "\n",
       "    .dataframe thead th {\n",
       "        text-align: right;\n",
       "    }\n",
       "</style>\n",
       "<table border=\"1\" class=\"dataframe\">\n",
       "  <thead>\n",
       "    <tr style=\"text-align: right;\">\n",
       "      <th></th>\n",
       "      <th>date_block_num</th>\n",
       "      <th>shop_id</th>\n",
       "      <th>item_id</th>\n",
       "      <th>item_cnt_day_sum</th>\n",
       "      <th>item_price_mean</th>\n",
       "      <th>item_cnt_day_count</th>\n",
       "    </tr>\n",
       "  </thead>\n",
       "  <tbody>\n",
       "    <tr>\n",
       "      <th>10884503</th>\n",
       "      <td>33</td>\n",
       "      <td>21</td>\n",
       "      <td>7635</td>\n",
       "      <td>NaN</td>\n",
       "      <td>NaN</td>\n",
       "      <td>NaN</td>\n",
       "    </tr>\n",
       "    <tr>\n",
       "      <th>10884504</th>\n",
       "      <td>33</td>\n",
       "      <td>21</td>\n",
       "      <td>7638</td>\n",
       "      <td>NaN</td>\n",
       "      <td>NaN</td>\n",
       "      <td>NaN</td>\n",
       "    </tr>\n",
       "    <tr>\n",
       "      <th>10884505</th>\n",
       "      <td>33</td>\n",
       "      <td>21</td>\n",
       "      <td>7640</td>\n",
       "      <td>NaN</td>\n",
       "      <td>NaN</td>\n",
       "      <td>NaN</td>\n",
       "    </tr>\n",
       "    <tr>\n",
       "      <th>10884506</th>\n",
       "      <td>33</td>\n",
       "      <td>21</td>\n",
       "      <td>7632</td>\n",
       "      <td>NaN</td>\n",
       "      <td>NaN</td>\n",
       "      <td>NaN</td>\n",
       "    </tr>\n",
       "    <tr>\n",
       "      <th>10884507</th>\n",
       "      <td>33</td>\n",
       "      <td>21</td>\n",
       "      <td>7440</td>\n",
       "      <td>NaN</td>\n",
       "      <td>NaN</td>\n",
       "      <td>NaN</td>\n",
       "    </tr>\n",
       "  </tbody>\n",
       "</table>\n",
       "</div>"
      ],
      "text/plain": [
       "          date_block_num  shop_id  item_id  item_cnt_day_sum  item_price_mean  \\\n",
       "10884503              33       21     7635               NaN              NaN   \n",
       "10884504              33       21     7638               NaN              NaN   \n",
       "10884505              33       21     7640               NaN              NaN   \n",
       "10884506              33       21     7632               NaN              NaN   \n",
       "10884507              33       21     7440               NaN              NaN   \n",
       "\n",
       "          item_cnt_day_count  \n",
       "10884503                 NaN  \n",
       "10884504                 NaN  \n",
       "10884505                 NaN  \n",
       "10884506                 NaN  \n",
       "10884507                 NaN  "
      ]
     },
     "execution_count": 27,
     "metadata": {},
     "output_type": "execute_result"
    }
   ],
   "source": [
    "train.tail()"
   ]
  },
  {
   "cell_type": "code",
   "execution_count": 28,
   "id": "51c5b5ee-cecc-4ee3-a02c-a11292e2b7cc",
   "metadata": {
    "tags": []
   },
   "outputs": [
    {
     "data": {
      "text/html": [
       "<div>\n",
       "<style scoped>\n",
       "    .dataframe tbody tr th:only-of-type {\n",
       "        vertical-align: middle;\n",
       "    }\n",
       "\n",
       "    .dataframe tbody tr th {\n",
       "        vertical-align: top;\n",
       "    }\n",
       "\n",
       "    .dataframe thead th {\n",
       "        text-align: right;\n",
       "    }\n",
       "</style>\n",
       "<table border=\"1\" class=\"dataframe\">\n",
       "  <thead>\n",
       "    <tr style=\"text-align: right;\">\n",
       "      <th></th>\n",
       "      <th>date_block_num</th>\n",
       "      <th>shop_id</th>\n",
       "      <th>item_id</th>\n",
       "      <th>item_cnt_day_sum</th>\n",
       "      <th>item_price_mean</th>\n",
       "      <th>item_cnt_day_count</th>\n",
       "    </tr>\n",
       "  </thead>\n",
       "  <tbody>\n",
       "    <tr>\n",
       "      <th>0</th>\n",
       "      <td>0</td>\n",
       "      <td>59</td>\n",
       "      <td>22154</td>\n",
       "      <td>1.0</td>\n",
       "      <td>999.0</td>\n",
       "      <td>1.0</td>\n",
       "    </tr>\n",
       "    <tr>\n",
       "      <th>1</th>\n",
       "      <td>0</td>\n",
       "      <td>59</td>\n",
       "      <td>2552</td>\n",
       "      <td>0.0</td>\n",
       "      <td>0.0</td>\n",
       "      <td>0.0</td>\n",
       "    </tr>\n",
       "    <tr>\n",
       "      <th>2</th>\n",
       "      <td>0</td>\n",
       "      <td>59</td>\n",
       "      <td>2554</td>\n",
       "      <td>0.0</td>\n",
       "      <td>0.0</td>\n",
       "      <td>0.0</td>\n",
       "    </tr>\n",
       "    <tr>\n",
       "      <th>3</th>\n",
       "      <td>0</td>\n",
       "      <td>59</td>\n",
       "      <td>2555</td>\n",
       "      <td>0.0</td>\n",
       "      <td>0.0</td>\n",
       "      <td>0.0</td>\n",
       "    </tr>\n",
       "    <tr>\n",
       "      <th>4</th>\n",
       "      <td>0</td>\n",
       "      <td>59</td>\n",
       "      <td>2564</td>\n",
       "      <td>0.0</td>\n",
       "      <td>0.0</td>\n",
       "      <td>0.0</td>\n",
       "    </tr>\n",
       "  </tbody>\n",
       "</table>\n",
       "</div>"
      ],
      "text/plain": [
       "   date_block_num  shop_id  item_id  item_cnt_day_sum  item_price_mean  \\\n",
       "0               0       59    22154               1.0            999.0   \n",
       "1               0       59     2552               0.0              0.0   \n",
       "2               0       59     2554               0.0              0.0   \n",
       "3               0       59     2555               0.0              0.0   \n",
       "4               0       59     2564               0.0              0.0   \n",
       "\n",
       "   item_cnt_day_count  \n",
       "0                 1.0  \n",
       "1                 0.0  \n",
       "2                 0.0  \n",
       "3                 0.0  \n",
       "4                 0.0  "
      ]
     },
     "execution_count": 28,
     "metadata": {},
     "output_type": "execute_result"
    }
   ],
   "source": [
    "test[\"date_block_num\"] = 34\n",
    "all_data = pd.concat([train, test.drop('ID', axis=1)],\n",
    "                     ignore_index=True,\n",
    "                     keys=idx_features)\n",
    "all_data = all_data.fillna(0)\n",
    "\n",
    "all_data.head()"
   ]
  },
  {
   "cell_type": "code",
   "execution_count": 29,
   "id": "2bae55b9-a948-4dd8-86bb-148fd3bc9ae9",
   "metadata": {
    "tags": []
   },
   "outputs": [
    {
     "name": "stdout",
     "output_type": "stream",
     "text": [
      "The percent memory change is: 64.15092900066568\n"
     ]
    }
   ],
   "source": [
    "all_data = all_data.merge(shops, on=\"shop_id\", how='left')\n",
    "all_data = all_data.merge(items, on=\"item_id\", how='left')\n",
    "all_data = all_data.merge(item_categories, on=\"item_category_id\", how='left')\n",
    "\n",
    "all_data = downcast(all_data)"
   ]
  },
  {
   "cell_type": "code",
   "execution_count": 30,
   "id": "cb0ebe9d-54f3-43a7-a927-4d7b54c92aec",
   "metadata": {
    "tags": []
   },
   "outputs": [],
   "source": [
    "del shops, items, item_categories\n",
    "gc.collect();"
   ]
  },
  {
   "cell_type": "code",
   "execution_count": 31,
   "id": "03b02d0c-b72a-49e4-8864-9eda86185ebb",
   "metadata": {
    "tags": []
   },
   "outputs": [
    {
     "data": {
      "text/html": [
       "<div>\n",
       "<style scoped>\n",
       "    .dataframe tbody tr th:only-of-type {\n",
       "        vertical-align: middle;\n",
       "    }\n",
       "\n",
       "    .dataframe tbody tr th {\n",
       "        vertical-align: top;\n",
       "    }\n",
       "\n",
       "    .dataframe thead th {\n",
       "        text-align: right;\n",
       "    }\n",
       "</style>\n",
       "<table border=\"1\" class=\"dataframe\">\n",
       "  <thead>\n",
       "    <tr style=\"text-align: right;\">\n",
       "      <th></th>\n",
       "      <th>date_block_num</th>\n",
       "      <th>shop_id</th>\n",
       "      <th>item_id</th>\n",
       "      <th>item_cnt_day_sum</th>\n",
       "      <th>item_price_mean</th>\n",
       "      <th>item_cnt_day_count</th>\n",
       "      <th>shop_first_name</th>\n",
       "      <th>item_category_id</th>\n",
       "      <th>item_date_block</th>\n",
       "      <th>first_item_category_name</th>\n",
       "    </tr>\n",
       "  </thead>\n",
       "  <tbody>\n",
       "    <tr>\n",
       "      <th>11098703</th>\n",
       "      <td>34</td>\n",
       "      <td>45</td>\n",
       "      <td>18454</td>\n",
       "      <td>0</td>\n",
       "      <td>0.0</td>\n",
       "      <td>0</td>\n",
       "      <td>20</td>\n",
       "      <td>55</td>\n",
       "      <td>23</td>\n",
       "      <td>7</td>\n",
       "    </tr>\n",
       "    <tr>\n",
       "      <th>11098704</th>\n",
       "      <td>34</td>\n",
       "      <td>45</td>\n",
       "      <td>16188</td>\n",
       "      <td>0</td>\n",
       "      <td>0.0</td>\n",
       "      <td>0</td>\n",
       "      <td>20</td>\n",
       "      <td>64</td>\n",
       "      <td>32</td>\n",
       "      <td>8</td>\n",
       "    </tr>\n",
       "    <tr>\n",
       "      <th>11098705</th>\n",
       "      <td>34</td>\n",
       "      <td>45</td>\n",
       "      <td>15757</td>\n",
       "      <td>0</td>\n",
       "      <td>0.0</td>\n",
       "      <td>0</td>\n",
       "      <td>20</td>\n",
       "      <td>55</td>\n",
       "      <td>0</td>\n",
       "      <td>7</td>\n",
       "    </tr>\n",
       "    <tr>\n",
       "      <th>11098706</th>\n",
       "      <td>34</td>\n",
       "      <td>45</td>\n",
       "      <td>19648</td>\n",
       "      <td>0</td>\n",
       "      <td>0.0</td>\n",
       "      <td>0</td>\n",
       "      <td>20</td>\n",
       "      <td>40</td>\n",
       "      <td>23</td>\n",
       "      <td>5</td>\n",
       "    </tr>\n",
       "    <tr>\n",
       "      <th>11098707</th>\n",
       "      <td>34</td>\n",
       "      <td>45</td>\n",
       "      <td>969</td>\n",
       "      <td>0</td>\n",
       "      <td>0.0</td>\n",
       "      <td>0</td>\n",
       "      <td>20</td>\n",
       "      <td>37</td>\n",
       "      <td>17</td>\n",
       "      <td>5</td>\n",
       "    </tr>\n",
       "  </tbody>\n",
       "</table>\n",
       "</div>"
      ],
      "text/plain": [
       "          date_block_num  shop_id  item_id  item_cnt_day_sum  item_price_mean  \\\n",
       "11098703              34       45    18454                 0              0.0   \n",
       "11098704              34       45    16188                 0              0.0   \n",
       "11098705              34       45    15757                 0              0.0   \n",
       "11098706              34       45    19648                 0              0.0   \n",
       "11098707              34       45      969                 0              0.0   \n",
       "\n",
       "          item_cnt_day_count  shop_first_name  item_category_id  \\\n",
       "11098703                   0               20                55   \n",
       "11098704                   0               20                64   \n",
       "11098705                   0               20                55   \n",
       "11098706                   0               20                40   \n",
       "11098707                   0               20                37   \n",
       "\n",
       "          item_date_block  first_item_category_name  \n",
       "11098703               23                         7  \n",
       "11098704               32                         8  \n",
       "11098705                0                         7  \n",
       "11098706               23                         5  \n",
       "11098707               17                         5  "
      ]
     },
     "execution_count": 31,
     "metadata": {},
     "output_type": "execute_result"
    }
   ],
   "source": [
    "all_data.tail()"
   ]
  },
  {
   "cell_type": "code",
   "execution_count": 32,
   "id": "383e6ee3-9234-41f2-bb3d-21ad8e6cf223",
   "metadata": {},
   "outputs": [],
   "source": [
    "def add_mean_features(df, mean_features, idx_features):\n",
    "    \n",
    "    assert (idx_features[0] == \"date_block_num\") and \\\n",
    "           len(idx_features) in [2, 3]\n",
    "    \n",
    "    if len(idx_features) == 2:\n",
    "        feature_name = idx_features[1] + \"idx_features_3\"\n",
    "    else:\n",
    "        feature_name = idx_features[1] + ' ' + idx_features[2] + \"idx_features_4\"\n",
    "    \n",
    "    group = df.groupby(idx_features).agg({\"item_cnt_day_sum\": 'mean'})\n",
    "    group = group.reset_index()\n",
    "    group = group.rename(columns={\"item_cnt_day_sum\": feature_name})\n",
    "    \n",
    "    df = df.merge(group, on=idx_features, how='left')\n",
    "    df = downcast(df, verbose=False)\n",
    "    mean_features.append(feature_name)\n",
    "    \n",
    "    del group\n",
    "    gc.collect()\n",
    "    \n",
    "    return df, mean_features"
   ]
  },
  {
   "cell_type": "code",
   "execution_count": 33,
   "id": "72e6cb84-0486-455d-bccf-ac3e7a04c7a6",
   "metadata": {
    "tags": []
   },
   "outputs": [],
   "source": [
    "item_mean_features = []\n",
    "\n",
    "all_data, item_mean_features = add_mean_features(df=all_data,\n",
    "                                                 mean_features=item_mean_features,\n",
    "                                                 idx_features=[\"date_block_num\", \"item_id\"])\n",
    "\n",
    "all_data, item_mean_features = add_mean_features(df=all_data,\n",
    "                                                 mean_features=item_mean_features,\n",
    "                                                 idx_features=[\"date_block_num\", \"item_id\", \"shop_first_name\"])"
   ]
  },
  {
   "cell_type": "code",
   "execution_count": 66,
   "id": "c2193356-8e97-4566-b712-347df304ebe8",
   "metadata": {
    "tags": []
   },
   "outputs": [
    {
     "data": {
      "text/plain": [
       "['item_ididx_features_3', 'item_id shop_first_nameidx_features_4']"
      ]
     },
     "execution_count": 66,
     "metadata": {},
     "output_type": "execute_result"
    }
   ],
   "source": [
    "item_mean_features"
   ]
  },
  {
   "cell_type": "code",
   "execution_count": 68,
   "id": "f301dd19-4a6a-44d7-9984-df844887bdbd",
   "metadata": {
    "tags": []
   },
   "outputs": [],
   "source": [
    "shop_mean_features = []\n",
    "\n",
    "all_data, shop_mean_features = add_mean_features(df=all_data, \n",
    "                                                 mean_features=shop_mean_features,\n",
    "                                                 idx_features=[\"date_block_num\", \"shop_id\", \"item_category_id\"])"
   ]
  },
  {
   "cell_type": "code",
   "execution_count": 70,
   "id": "08be5b34-9288-44ce-8872-907e4a05b73a",
   "metadata": {
    "tags": []
   },
   "outputs": [
    {
     "data": {
      "text/plain": [
       "['shop_id item_category_ididx_features_4']"
      ]
     },
     "execution_count": 70,
     "metadata": {},
     "output_type": "execute_result"
    }
   ],
   "source": [
    "shop_mean_features"
   ]
  },
  {
   "cell_type": "code",
   "execution_count": 72,
   "id": "b5bfaaed-c89a-4297-89a3-5d46444042c5",
   "metadata": {
    "tags": []
   },
   "outputs": [],
   "source": [
    "def add_lag_features(df, lag_features_to_clip, idx_features, \n",
    "                     lag_feature, nlags=3, clip=False):\n",
    "    df_temp = df[idx_features + [lag_feature]].copy() \n",
    "\n",
    "    for i in range(1, nlags+1):\n",
    "        lag_feature_name = lag_feature +\"lag\" + str(i)\n",
    "        df_temp.columns = idx_features + [lag_feature_name]\n",
    "        df_temp[\"date_block_num\"] += 1\n",
    "        df = df.merge(df_temp.drop_duplicates(), \n",
    "                      on=idx_features, \n",
    "                      how='left')\n",
    "        df[lag_feature_name] = df[lag_feature_name].fillna(0)\n",
    "        if clip: \n",
    "            lag_features_to_clip.append(lag_feature_name)\n",
    "    \n",
    "    df = downcast(df, False)\n",
    "    del df_temp\n",
    "    gc.collect()\n",
    "    \n",
    "    return df, lag_features_to_clip"
   ]
  },
  {
   "cell_type": "code",
   "execution_count": 74,
   "id": "1b064983-0e92-479a-ade0-9d6838606189",
   "metadata": {
    "tags": []
   },
   "outputs": [],
   "source": [
    "lag_features_to_clip = []\n",
    "idx_features = [\"date_block_num\", \"shop_id\", \"item_id\"]\n",
    "\n",
    "all_data, lag_features_to_clip = add_lag_features(df=all_data, \n",
    "                                                  lag_features_to_clip=lag_features_to_clip,\n",
    "                                                  idx_features=idx_features,\n",
    "                                                  lag_feature=\"item_cnt_day_sum\", \n",
    "                                                  nlags=3,\n",
    "                                                  clip=True)"
   ]
  },
  {
   "cell_type": "code",
   "execution_count": 75,
   "id": "c68746c0-38f9-4bfb-8b03-4cb369a62553",
   "metadata": {
    "tags": []
   },
   "outputs": [
    {
     "data": {
      "text/html": [
       "<div>\n",
       "<style scoped>\n",
       "    .dataframe tbody tr th:only-of-type {\n",
       "        vertical-align: middle;\n",
       "    }\n",
       "\n",
       "    .dataframe tbody tr th {\n",
       "        vertical-align: top;\n",
       "    }\n",
       "\n",
       "    .dataframe thead th {\n",
       "        text-align: right;\n",
       "    }\n",
       "</style>\n",
       "<table border=\"1\" class=\"dataframe\">\n",
       "  <thead>\n",
       "    <tr style=\"text-align: right;\">\n",
       "      <th></th>\n",
       "      <th>0</th>\n",
       "      <th>1</th>\n",
       "      <th>2</th>\n",
       "      <th>3</th>\n",
       "      <th>4</th>\n",
       "    </tr>\n",
       "  </thead>\n",
       "  <tbody>\n",
       "    <tr>\n",
       "      <th>date_block_num</th>\n",
       "      <td>0.000000</td>\n",
       "      <td>0.000000</td>\n",
       "      <td>0.000000</td>\n",
       "      <td>0.000000</td>\n",
       "      <td>0.000000</td>\n",
       "    </tr>\n",
       "    <tr>\n",
       "      <th>shop_id</th>\n",
       "      <td>59.000000</td>\n",
       "      <td>59.000000</td>\n",
       "      <td>59.000000</td>\n",
       "      <td>59.000000</td>\n",
       "      <td>59.000000</td>\n",
       "    </tr>\n",
       "    <tr>\n",
       "      <th>item_id</th>\n",
       "      <td>22154.000000</td>\n",
       "      <td>2552.000000</td>\n",
       "      <td>2554.000000</td>\n",
       "      <td>2555.000000</td>\n",
       "      <td>2564.000000</td>\n",
       "    </tr>\n",
       "    <tr>\n",
       "      <th>item_cnt_day_sum</th>\n",
       "      <td>1.000000</td>\n",
       "      <td>0.000000</td>\n",
       "      <td>0.000000</td>\n",
       "      <td>0.000000</td>\n",
       "      <td>0.000000</td>\n",
       "    </tr>\n",
       "    <tr>\n",
       "      <th>item_price_mean</th>\n",
       "      <td>999.000000</td>\n",
       "      <td>0.000000</td>\n",
       "      <td>0.000000</td>\n",
       "      <td>0.000000</td>\n",
       "      <td>0.000000</td>\n",
       "    </tr>\n",
       "    <tr>\n",
       "      <th>item_cnt_day_count</th>\n",
       "      <td>1.000000</td>\n",
       "      <td>0.000000</td>\n",
       "      <td>0.000000</td>\n",
       "      <td>0.000000</td>\n",
       "      <td>0.000000</td>\n",
       "    </tr>\n",
       "    <tr>\n",
       "      <th>shop_first_name</th>\n",
       "      <td>30.000000</td>\n",
       "      <td>30.000000</td>\n",
       "      <td>30.000000</td>\n",
       "      <td>30.000000</td>\n",
       "      <td>30.000000</td>\n",
       "    </tr>\n",
       "    <tr>\n",
       "      <th>item_category_id</th>\n",
       "      <td>37.000000</td>\n",
       "      <td>58.000000</td>\n",
       "      <td>58.000000</td>\n",
       "      <td>56.000000</td>\n",
       "      <td>59.000000</td>\n",
       "    </tr>\n",
       "    <tr>\n",
       "      <th>item_date_block</th>\n",
       "      <td>0.000000</td>\n",
       "      <td>0.000000</td>\n",
       "      <td>0.000000</td>\n",
       "      <td>0.000000</td>\n",
       "      <td>0.000000</td>\n",
       "    </tr>\n",
       "    <tr>\n",
       "      <th>first_item_category_name</th>\n",
       "      <td>5.000000</td>\n",
       "      <td>7.000000</td>\n",
       "      <td>7.000000</td>\n",
       "      <td>7.000000</td>\n",
       "      <td>7.000000</td>\n",
       "    </tr>\n",
       "    <tr>\n",
       "      <th>item_ididx_features_3</th>\n",
       "      <td>0.400000</td>\n",
       "      <td>0.022222</td>\n",
       "      <td>0.022222</td>\n",
       "      <td>0.044444</td>\n",
       "      <td>0.111111</td>\n",
       "    </tr>\n",
       "    <tr>\n",
       "      <th>item_id shop_first_nameidx_features_4</th>\n",
       "      <td>1.000000</td>\n",
       "      <td>0.000000</td>\n",
       "      <td>0.000000</td>\n",
       "      <td>0.000000</td>\n",
       "      <td>0.000000</td>\n",
       "    </tr>\n",
       "    <tr>\n",
       "      <th>shop_id item_category_ididx_features_4</th>\n",
       "      <td>0.088496</td>\n",
       "      <td>0.000000</td>\n",
       "      <td>0.000000</td>\n",
       "      <td>0.008333</td>\n",
       "      <td>0.011976</td>\n",
       "    </tr>\n",
       "    <tr>\n",
       "      <th>item_cnt_day_sumlag1</th>\n",
       "      <td>0.000000</td>\n",
       "      <td>0.000000</td>\n",
       "      <td>0.000000</td>\n",
       "      <td>0.000000</td>\n",
       "      <td>0.000000</td>\n",
       "    </tr>\n",
       "    <tr>\n",
       "      <th>item_cnt_day_sumlag2</th>\n",
       "      <td>0.000000</td>\n",
       "      <td>0.000000</td>\n",
       "      <td>0.000000</td>\n",
       "      <td>0.000000</td>\n",
       "      <td>0.000000</td>\n",
       "    </tr>\n",
       "    <tr>\n",
       "      <th>item_cnt_day_sumlag3</th>\n",
       "      <td>0.000000</td>\n",
       "      <td>0.000000</td>\n",
       "      <td>0.000000</td>\n",
       "      <td>0.000000</td>\n",
       "      <td>0.000000</td>\n",
       "    </tr>\n",
       "  </tbody>\n",
       "</table>\n",
       "</div>"
      ],
      "text/plain": [
       "                                                   0            1  \\\n",
       "date_block_num                              0.000000     0.000000   \n",
       "shop_id                                    59.000000    59.000000   \n",
       "item_id                                 22154.000000  2552.000000   \n",
       "item_cnt_day_sum                            1.000000     0.000000   \n",
       "item_price_mean                           999.000000     0.000000   \n",
       "item_cnt_day_count                          1.000000     0.000000   \n",
       "shop_first_name                            30.000000    30.000000   \n",
       "item_category_id                           37.000000    58.000000   \n",
       "item_date_block                             0.000000     0.000000   \n",
       "first_item_category_name                    5.000000     7.000000   \n",
       "item_ididx_features_3                       0.400000     0.022222   \n",
       "item_id shop_first_nameidx_features_4       1.000000     0.000000   \n",
       "shop_id item_category_ididx_features_4      0.088496     0.000000   \n",
       "item_cnt_day_sumlag1                        0.000000     0.000000   \n",
       "item_cnt_day_sumlag2                        0.000000     0.000000   \n",
       "item_cnt_day_sumlag3                        0.000000     0.000000   \n",
       "\n",
       "                                                  2            3            4  \n",
       "date_block_num                             0.000000     0.000000     0.000000  \n",
       "shop_id                                   59.000000    59.000000    59.000000  \n",
       "item_id                                 2554.000000  2555.000000  2564.000000  \n",
       "item_cnt_day_sum                           0.000000     0.000000     0.000000  \n",
       "item_price_mean                            0.000000     0.000000     0.000000  \n",
       "item_cnt_day_count                         0.000000     0.000000     0.000000  \n",
       "shop_first_name                           30.000000    30.000000    30.000000  \n",
       "item_category_id                          58.000000    56.000000    59.000000  \n",
       "item_date_block                            0.000000     0.000000     0.000000  \n",
       "first_item_category_name                   7.000000     7.000000     7.000000  \n",
       "item_ididx_features_3                      0.022222     0.044444     0.111111  \n",
       "item_id shop_first_nameidx_features_4      0.000000     0.000000     0.000000  \n",
       "shop_id item_category_ididx_features_4     0.000000     0.008333     0.011976  \n",
       "item_cnt_day_sumlag1                       0.000000     0.000000     0.000000  \n",
       "item_cnt_day_sumlag2                       0.000000     0.000000     0.000000  \n",
       "item_cnt_day_sumlag3                       0.000000     0.000000     0.000000  "
      ]
     },
     "execution_count": 75,
     "metadata": {},
     "output_type": "execute_result"
    }
   ],
   "source": [
    "all_data.head().T"
   ]
  },
  {
   "cell_type": "code",
   "execution_count": 76,
   "id": "3ebe8871-b509-412c-8dc0-c77daf4b8fb5",
   "metadata": {
    "tags": []
   },
   "outputs": [
    {
     "data": {
      "text/plain": [
       "['item_cnt_day_sumlag1', 'item_cnt_day_sumlag2', 'item_cnt_day_sumlag3']"
      ]
     },
     "execution_count": 76,
     "metadata": {},
     "output_type": "execute_result"
    }
   ],
   "source": [
    "lag_features_to_clip"
   ]
  },
  {
   "cell_type": "code",
   "execution_count": 80,
   "id": "c5a346ab-a29a-4630-a34e-f29a965321dc",
   "metadata": {
    "tags": []
   },
   "outputs": [],
   "source": [
    "all_data, lag_features_to_clip = add_lag_features(df=all_data, \n",
    "                                                  lag_features_to_clip=lag_features_to_clip,\n",
    "                                                  idx_features=idx_features,\n",
    "                                                  lag_feature=\"item_cnt_day_count\", \n",
    "                                                  nlags=3)\n",
    "\n",
    "all_data, lag_features_to_clip = add_lag_features(df=all_data, \n",
    "                                                  lag_features_to_clip=lag_features_to_clip,\n",
    "                                                  idx_features=idx_features,\n",
    "                                                  lag_feature=\"item_price_mean\", \n",
    "                                                  nlags=3)"
   ]
  },
  {
   "cell_type": "code",
   "execution_count": 81,
   "id": "ef762f7a-bdfb-41e0-a56c-8b09935e29fb",
   "metadata": {
    "tags": []
   },
   "outputs": [],
   "source": [
    "for item_mean_feature in item_mean_features:\n",
    "    all_data, lag_features_to_clip = add_lag_features(df=all_data, \n",
    "                                                      lag_features_to_clip=lag_features_to_clip, \n",
    "                                                      idx_features=idx_features, \n",
    "                                                      lag_feature=item_mean_feature, \n",
    "                                                      nlags=3,\n",
    "                                                      clip=True)\n",
    "all_data = all_data.drop(item_mean_features, axis=1)"
   ]
  },
  {
   "cell_type": "code",
   "execution_count": 84,
   "id": "e80c99a0-da8d-4df7-8615-4a59774c524b",
   "metadata": {
    "tags": []
   },
   "outputs": [],
   "source": [
    "for shop_mean_feature in shop_mean_features:\n",
    "    all_data, lag_features_to_clip = add_lag_features(df=all_data,\n",
    "                                                      lag_features_to_clip=lag_features_to_clip, \n",
    "                                                      idx_features=[\"date_block_num\", \"shop_id\", \"item_category_id\"], \n",
    "                                                      lag_feature=shop_mean_feature, \n",
    "                                                      nlags=3,\n",
    "                                                      clip=True)\n",
    "all_data = all_data.drop(shop_mean_features, axis=1)"
   ]
  },
  {
   "cell_type": "code",
   "execution_count": 86,
   "id": "871fc950-2af2-46af-8e97-89521edb760a",
   "metadata": {
    "tags": []
   },
   "outputs": [],
   "source": [
    "all_data = all_data.drop(all_data[all_data[\"date_block_num\"] < 3].index)"
   ]
  },
  {
   "cell_type": "code",
   "execution_count": 88,
   "id": "ab276102-49f5-4da1-817b-c7f9f9e7ade6",
   "metadata": {
    "tags": []
   },
   "outputs": [],
   "source": [
    "all_data[\"clipped_lag_features\"] = all_data[[\"item_cnt_day_sumlag1\",\n",
    "                                          \"item_cnt_day_sumlag2\", \n",
    "                                          \"item_cnt_day_sumlag3\"]].mean(axis=1)"
   ]
  },
  {
   "cell_type": "code",
   "execution_count": 90,
   "id": "aace3779-5719-4156-b93c-1df0100a3c89",
   "metadata": {
    "tags": []
   },
   "outputs": [],
   "source": [
    "all_data[lag_features_to_clip + [\"item_cnt_day_sum\", \"clipped_lag_features\"]] = all_data[lag_features_to_clip + [\"item_cnt_day_sum\", \"clipped_lag_features\"]].clip(0, 20)"
   ]
  },
  {
   "cell_type": "code",
   "execution_count": 92,
   "id": "4531d989-0d49-49eb-b307-0f0ed006aa70",
   "metadata": {
    "tags": []
   },
   "outputs": [],
   "source": [
    "all_data[\"lag_1_2_combined\"] = all_data[\"item_cnt_day_sumlag1\"]/all_data[\"item_cnt_day_sumlag2\"]\n",
    "all_data[\"lag_1_2_combined\"] = all_data[\"lag_1_2_combined\"].replace([np.inf, -np.inf], \n",
    "                                                        np.nan).fillna(0)\n",
    "\n",
    "all_data[\"lag_2_3_combined\"] = all_data[\"item_cnt_day_sumlag2\"]/all_data[\"item_cnt_day_sumlag3\"]\n",
    "all_data[\"lag_2_3_combined\"] = all_data[\"lag_2_3_combined\"].replace([np.inf, -np.inf], \n",
    "                                                        np.nan).fillna(0)"
   ]
  },
  {
   "cell_type": "code",
   "execution_count": 96,
   "id": "d6a10a55-04c8-4ae6-8df2-e0ab893d7ed4",
   "metadata": {
    "tags": []
   },
   "outputs": [],
   "source": [
    "all_data[\"item_date_block_equal\"] = all_data[\"item_date_block\"] == all_data[\"date_block_num\"]"
   ]
  },
  {
   "cell_type": "code",
   "execution_count": 98,
   "id": "a3b58662-f3ca-4868-b814-70fe481a8f3b",
   "metadata": {
    "tags": []
   },
   "outputs": [],
   "source": [
    "all_data[\"item_date_block_minus\"] = all_data[\"date_block_num\"] - all_data[\"item_date_block\"]"
   ]
  },
  {
   "cell_type": "code",
   "execution_count": 100,
   "id": "2c290e64-492f-49eb-9db0-71730b8febc9",
   "metadata": {
    "tags": []
   },
   "outputs": [],
   "source": [
    "all_data[\"month\"] = all_data[\"date_block_num\"] % 12"
   ]
  },
  {
   "cell_type": "code",
   "execution_count": 102,
   "id": "3bc349fa-c504-4737-9c3d-5f1d4ae8fe6a",
   "metadata": {
    "tags": []
   },
   "outputs": [],
   "source": [
    "all_data = all_data.drop([\"item_date_block\", \"item_price_mean\", \"item_cnt_day_count\"], axis=1)"
   ]
  },
  {
   "cell_type": "code",
   "execution_count": 103,
   "id": "2bcdabfc-53a9-46a5-ad1b-7f4fd98add12",
   "metadata": {
    "tags": []
   },
   "outputs": [],
   "source": [
    "all_data = downcast(all_data, False)"
   ]
  },
  {
   "cell_type": "code",
   "execution_count": 105,
   "id": "480f640c-9fa7-40d0-a238-a1f2910ca040",
   "metadata": {
    "tags": []
   },
   "outputs": [
    {
     "name": "stdout",
     "output_type": "stream",
     "text": [
      "<class 'pandas.core.frame.DataFrame'>\n",
      "RangeIndex: 9976322 entries, 1122386 to 11098707\n",
      "Data columns (total 32 columns):\n",
      " #   Column                                      Dtype  \n",
      "---  ------                                      -----  \n",
      " 0   date_block_num                              int8   \n",
      " 1   shop_id                                     int8   \n",
      " 2   item_id                                     int16  \n",
      " 3   item_cnt_day_sum                            int8   \n",
      " 4   shop_first_name                             int8   \n",
      " 5   item_category_id                            int8   \n",
      " 6   first_item_category_name                    int8   \n",
      " 7   item_cnt_day_sumlag1                        int8   \n",
      " 8   item_cnt_day_sumlag2                        int8   \n",
      " 9   item_cnt_day_sumlag3                        int8   \n",
      " 10  item_cnt_day_countlag1                      int8   \n",
      " 11  item_cnt_day_countlag2                      int8   \n",
      " 12  item_cnt_day_countlag3                      int8   \n",
      " 13  item_price_meanlag1                         float64\n",
      " 14  item_price_meanlag2                         float64\n",
      " 15  item_price_meanlag3                         float64\n",
      " 16  item_ididx_features_3lag1                   float32\n",
      " 17  item_ididx_features_3lag2                   float32\n",
      " 18  item_ididx_features_3lag3                   float32\n",
      " 19  item_id shop_first_nameidx_features_4lag1   float32\n",
      " 20  item_id shop_first_nameidx_features_4lag2   float32\n",
      " 21  item_id shop_first_nameidx_features_4lag3   float32\n",
      " 22  shop_id item_category_ididx_features_4lag1  float32\n",
      " 23  shop_id item_category_ididx_features_4lag2  float32\n",
      " 24  shop_id item_category_ididx_features_4lag3  float32\n",
      " 25  clipped_lag_features                        float32\n",
      " 26  lag_1_2_combined                            float32\n",
      " 27  lag_2_3_combined                            float32\n",
      " 28  item_date_block_num                         int8   \n",
      " 29  item_date_block_equal                       int8   \n",
      " 30  item_date_block_minus                       int8   \n",
      " 31  month                                       int8   \n",
      "dtypes: float32(12), float64(3), int16(1), int8(16)\n",
      "memory usage: 856.3 MB\n"
     ]
    }
   ],
   "source": [
    "all_data.info()"
   ]
  },
  {
   "cell_type": "code",
   "execution_count": 108,
   "id": "43432d3b-448d-4d94-939d-9db619a7d1d8",
   "metadata": {
    "tags": []
   },
   "outputs": [],
   "source": [
    "X_train = all_data[all_data[\"date_block_num\"] < 33]\n",
    "X_train = X_train.drop([\"item_cnt_day_sum\"], axis=1)\n",
    "\n",
    "X_valid = all_data[all_data[\"date_block_num\"] == 33]\n",
    "X_valid = X_valid.drop([\"item_cnt_day_sum\"], axis=1)\n",
    "\n",
    "X_test = all_data[all_data[\"date_block_num\"] == 34]\n",
    "X_test = X_test.drop([\"item_cnt_day_sum\"], axis=1)\n",
    "\n",
    "y_train = all_data[all_data[\"date_block_num\"] < 33][\"item_cnt_day_sum\"]\n",
    "\n",
    "y_valid = all_data[all_data[\"date_block_num\"] == 33][\"item_cnt_day_sum\"]\n",
    "\n",
    "\n",
    "del all_data\n",
    "gc.collect();"
   ]
  },
  {
   "cell_type": "code",
   "execution_count": 110,
   "id": "8de8b7c1-cb82-4a5a-ad89-cf36cad8695d",
   "metadata": {
    "tags": []
   },
   "outputs": [
    {
     "ename": "ModuleNotFoundError",
     "evalue": "No module named 'lightgbm'",
     "output_type": "error",
     "traceback": [
      "\u001b[1;31m---------------------------------------------------------------------------\u001b[0m",
      "\u001b[1;31mModuleNotFoundError\u001b[0m                       Traceback (most recent call last)",
      "Cell \u001b[1;32mIn[110], line 1\u001b[0m\n\u001b[1;32m----> 1\u001b[0m \u001b[38;5;28;01mimport\u001b[39;00m \u001b[38;5;21;01mlightgbm\u001b[39;00m \u001b[38;5;28;01mas\u001b[39;00m \u001b[38;5;21;01mlgb\u001b[39;00m\n\u001b[0;32m      3\u001b[0m params \u001b[38;5;241m=\u001b[39m {\u001b[38;5;124m'\u001b[39m\u001b[38;5;124mmetric\u001b[39m\u001b[38;5;124m'\u001b[39m: \u001b[38;5;124m'\u001b[39m\u001b[38;5;124mrmse\u001b[39m\u001b[38;5;124m'\u001b[39m, \n\u001b[0;32m      4\u001b[0m           \u001b[38;5;124m'\u001b[39m\u001b[38;5;124mnum_leaves\u001b[39m\u001b[38;5;124m'\u001b[39m: \u001b[38;5;241m255\u001b[39m,\n\u001b[0;32m      5\u001b[0m           \u001b[38;5;124m'\u001b[39m\u001b[38;5;124mlearning_rate\u001b[39m\u001b[38;5;124m'\u001b[39m: \u001b[38;5;241m0.005\u001b[39m,\n\u001b[1;32m   (...)\u001b[0m\n\u001b[0;32m      9\u001b[0m           \u001b[38;5;124m'\u001b[39m\u001b[38;5;124mforce_col_wise\u001b[39m\u001b[38;5;124m'\u001b[39m: \u001b[38;5;28;01mTrue\u001b[39;00m,\n\u001b[0;32m     10\u001b[0m           \u001b[38;5;124m'\u001b[39m\u001b[38;5;124mrandom_state\u001b[39m\u001b[38;5;124m'\u001b[39m: \u001b[38;5;241m10\u001b[39m}\n\u001b[0;32m     12\u001b[0m cat_features \u001b[38;5;241m=\u001b[39m [\u001b[38;5;124m\"\u001b[39m\u001b[38;5;124mshop_id\u001b[39m\u001b[38;5;124m\"\u001b[39m, \u001b[38;5;124m\"\u001b[39m\u001b[38;5;124mshop_first_name\u001b[39m\u001b[38;5;124m\"\u001b[39m, \u001b[38;5;124m\"\u001b[39m\u001b[38;5;124mitem_category_id\u001b[39m\u001b[38;5;124m\"\u001b[39m, \u001b[38;5;124m\"\u001b[39m\u001b[38;5;124mfirst_item_category_name\u001b[39m\u001b[38;5;124m\"\u001b[39m, \u001b[38;5;124m\"\u001b[39m\u001b[38;5;124mmonth\u001b[39m\u001b[38;5;124m\"\u001b[39m]\n",
      "\u001b[1;31mModuleNotFoundError\u001b[0m: No module named 'lightgbm'"
     ]
    }
   ],
   "source": [
    "import lightgbm as lgb\n",
    "\n",
    "params = {'metric': 'rmse', \n",
    "          'num_leaves': 255,\n",
    "          'learning_rate': 0.005,\n",
    "          'feature_fraction': 0.75,\n",
    "          'bagging_fraction': 0.75,\n",
    "          'bagging_freq': 5,\n",
    "          'force_col_wise': True,\n",
    "          'random_state': 10}\n",
    "\n",
    "cat_features = [\"shop_id\", \"shop_first_name\", \"item_category_id\", \"first_item_category_name\", \"month\"]\n",
    "\n",
    "dtrain = lgb.Dataset(X_train, y_train)\n",
    "dvalid = lgb.Dataset(X_valid, y_valid)\n",
    " \n",
    "lgb_model = lgb.train(params=params,\n",
    "                      train_set=dtrain,\n",
    "                      num_boost_round=1500,\n",
    "                      valid_sets=(dtrain, dvalid),\n",
    "                      early_stopping_rounds=150,\n",
    "                      categorical_feature=cat_features,\n",
    "                      verbose_eval=100) "
   ]
  },
  {
   "cell_type": "code",
   "execution_count": null,
   "id": "80441e77-9425-4c85-840b-fb910f8c321c",
   "metadata": {
    "tags": []
   },
   "outputs": [],
   "source": [
    "preds = lgb_model.predict(X_test).clip(0, 20)\n",
    "\n",
    "submission['item_cnt_month'] = preds\n",
    "submission.to_csv('submission.csv', index=False)"
   ]
  },
  {
   "cell_type": "code",
   "execution_count": null,
   "id": "65422e74-de2b-477b-99f2-11bcd2d8ddfd",
   "metadata": {
    "tags": []
   },
   "outputs": [],
   "source": [
    "del X_train, y_train, X_valid, y_valid, X_test, lgb_model, dtrain, dvalid\n",
    "gc.collect();"
   ]
  },
  {
   "cell_type": "code",
   "execution_count": null,
   "id": "6c5f44f1-8899-4f4b-965e-73f90d324b5b",
   "metadata": {},
   "outputs": [],
   "source": []
  }
 ],
 "metadata": {
  "kernelspec": {
   "display_name": "Python 3 (ipykernel)",
   "language": "python",
   "name": "python3"
  },
  "language_info": {
   "codemirror_mode": {
    "name": "ipython",
    "version": 3
   },
   "file_extension": ".py",
   "mimetype": "text/x-python",
   "name": "python",
   "nbconvert_exporter": "python",
   "pygments_lexer": "ipython3",
   "version": "3.11.5"
  }
 },
 "nbformat": 4,
 "nbformat_minor": 5
}
