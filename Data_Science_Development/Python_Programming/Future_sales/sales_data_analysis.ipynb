{
 "cells": [
  {
   "cell_type": "code",
   "execution_count": null,
   "id": "b4f49b86-b69b-4a0e-b5ca-5bd0236329cb",
   "metadata": {},
   "outputs": [],
   "source": [
    "# libabries for data exploration.\n",
    "import pandas as pd\n",
    "import numpy as np\n",
    "import matplotlib.pyplot as plt\n",
    "from sklearn.model_selection import train_test_split\n",
    "from pandas.plotting import scatter_matrix"
   ]
  },
  {
   "cell_type": "code",
   "execution_count": null,
   "id": "6c663028-ca78-4004-933a-45a08b7133c1",
   "metadata": {},
   "outputs": [],
   "source": [
    "# load sales data.\n",
    "sales = pd.read_csv(\"../../../Data/future_sales/sales_train.csv\")"
   ]
  },
  {
   "cell_type": "code",
   "execution_count": null,
   "id": "260679eb-689a-4e00-9a8e-7ee61bad3a45",
   "metadata": {},
   "outputs": [],
   "source": [
    "sales.head()"
   ]
  },
  {
   "cell_type": "code",
   "execution_count": null,
   "id": "ab3075e4-e894-4634-9a29-88cf31a80ef7",
   "metadata": {},
   "outputs": [],
   "source": [
    "sales.tail()"
   ]
  },
  {
   "cell_type": "code",
   "execution_count": null,
   "id": "f0d6f6b7-1cf4-45fc-ab3a-1024c6fd8f75",
   "metadata": {},
   "outputs": [],
   "source": [
    "sales.info()"
   ]
  },
  {
   "cell_type": "code",
   "execution_count": null,
   "id": "0eea56b3-ccb5-4017-b7ba-509d515e20e5",
   "metadata": {},
   "outputs": [],
   "source": [
    "sales.describe()"
   ]
  },
  {
   "cell_type": "code",
   "execution_count": null,
   "id": "d594f3ff-04c6-440e-b0b6-e3875a59cc71",
   "metadata": {},
   "outputs": [],
   "source": [
    "# use MLfunction class to convert date to equivalent numeric values.\n",
    "user_function = MLFunctions(sales)\n",
    "date_num = user_function.dateNum()"
   ]
  },
  {
   "cell_type": "code",
   "execution_count": null,
   "id": "e64ca575-1f60-4f84-8091-59478dbaede9",
   "metadata": {},
   "outputs": [],
   "source": [
    "# create new column with numeric values equivalent to dates. \n",
    "sales[\"date_num\"] = date_num"
   ]
  },
  {
   "cell_type": "code",
   "execution_count": null,
   "id": "8affc862-bee9-42ec-ba58-1153da1b7456",
   "metadata": {},
   "outputs": [],
   "source": [
    "train_set, test_set = train_test_split(sales, test_size=0.2, random_state=44)"
   ]
  },
  {
   "cell_type": "code",
   "execution_count": null,
   "id": "19384233-a701-461a-a38e-f28bca5ab88f",
   "metadata": {},
   "outputs": [],
   "source": [
    "exploration_data = train_set.copy()\n",
    "exploration_data[\"total_sales\"] = exploration_data[\"item_price\"] * exploration_data[\"item_cnt_day\"]"
   ]
  },
  {
   "cell_type": "code",
   "execution_count": null,
   "id": "706cf0db-1447-4f67-a4f2-948844af5756",
   "metadata": {},
   "outputs": [],
   "source": [
    "attributes = [\"date_block_num\", \"shop_id\", \"item_id\", \"item_price\", \"item_cnt_day\", \"date_num\"]\n",
    "scatter_matrix(exploration_data[attributes], figsize=(12, 8))\n",
    "plt.show()"
   ]
  },
  {
   "cell_type": "code",
   "execution_count": null,
   "id": "b0e8d00b-d493-4965-b618-32baccda3aee",
   "metadata": {},
   "outputs": [],
   "source": [
    "total_sales_month = exploration_data.groupby(by=\"date_block_num\")[\"total_sales\"].sum()"
   ]
  },
  {
   "cell_type": "code",
   "execution_count": null,
   "id": "e5f5ca77-0913-417c-8f20-fb743fb070a7",
   "metadata": {},
   "outputs": [],
   "source": [
    "fig, ax = plt.subplots()\n",
    "fig.set_size_inches(15, 10)\n",
    "ax.plot(total_sales_month)\n",
    "ax.set_title(\"Sales over the Years\")\n",
    "ax.set_xlabel(\"Year\")\n",
    "ax.set_ylabel(\"Total sales\")\n",
    "ax.grid()\n",
    "plt.show()"
   ]
  },
  {
   "cell_type": "code",
   "execution_count": null,
   "id": "6ddfbb05-011b-4ede-b86f-642e5a367c07",
   "metadata": {},
   "outputs": [],
   "source": [
    "total_items_month = exploration_data.groupby(by=\"date_block_num\")[\"item_cnt_day\"].sum()"
   ]
  },
  {
   "cell_type": "code",
   "execution_count": null,
   "id": "c14595f9-4f44-4751-95ed-6021e91ed1fc",
   "metadata": {},
   "outputs": [],
   "source": [
    "fig, ax = plt.subplots()\n",
    "fig.set_size_inches(15, 10)\n",
    "ax.plot(total_items_month)\n",
    "ax.set_title(\"Total items sold over Years\")\n",
    "ax.set_xlabel(\"Year\")\n",
    "ax.set_ylabel(\"Total items\")\n",
    "ax.grid()\n",
    "plt.show()"
   ]
  },
  {
   "cell_type": "code",
   "execution_count": null,
   "id": "ccabd92b-69d8-4ac6-b2c6-e5ebfc465451",
   "metadata": {},
   "outputs": [],
   "source": [
    "fig, ax = plt.subplots()\n",
    "fig.set_size_inches(15, 10)\n",
    "ax.plot(np.log(total_sales_month), label=\"Sales made\")\n",
    "ax.plot(np.log(total_items_month), label=\"Items sold\")\n",
    "ax.set_title(\"Total items sold and Sales per shop over Years\")\n",
    "ax.set_xlabel(\"Year\")\n",
    "ax.set_ylabel(\"Count\")\n",
    "ax.legend()\n",
    "ax.grid()\n",
    "plt.show()"
   ]
  },
  {
   "cell_type": "code",
   "execution_count": null,
   "id": "6c03c7e0-73c5-431f-b874-e801211171e4",
   "metadata": {},
   "outputs": [],
   "source": [
    "total_shops_month = exploration_data.groupby(by=\"shop_id\")[\"total_sales\"].sum()"
   ]
  },
  {
   "cell_type": "code",
   "execution_count": null,
   "id": "145c2da4-db22-4f62-8eee-d1372e8799bc",
   "metadata": {},
   "outputs": [],
   "source": [
    "total_shops_month.plot(kind=\"bar\",\n",
    "                       title=\"Sales per Shop\",\n",
    "                       xlabel=\"Shops\",\n",
    "                       ylabel=\"Total sales\",\n",
    "                       figsize=(15, 10),\n",
    "                       grid=True\n",
    "                      )\n",
    "plt.show()"
   ]
  }
 ],
 "metadata": {
  "kernelspec": {
   "display_name": "Python 3 (ipykernel)",
   "language": "python",
   "name": "python3"
  },
  "language_info": {
   "codemirror_mode": {
    "name": "ipython",
    "version": 3
   },
   "file_extension": ".py",
   "mimetype": "text/x-python",
   "name": "python",
   "nbconvert_exporter": "python",
   "pygments_lexer": "ipython3",
   "version": "3.11.5"
  }
 },
 "nbformat": 4,
 "nbformat_minor": 5
}
