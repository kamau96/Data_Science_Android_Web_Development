{
 "cells": [
  {
   "cell_type": "code",
   "execution_count": 1,
   "id": "b4f49b86-b69b-4a0e-b5ca-5bd0236329cb",
   "metadata": {},
   "outputs": [],
   "source": [
    "# libabries for data exploration.\n",
    "import pandas as pd\n",
    "import numpy as np\n",
    "import seaborn as sns\n",
    "import matplotlib.pyplot as plt\n",
    "from helpful_functions import MLFunctions\n",
    "\n",
    "# time series specific libararies\n",
    "from scipy.signal import periodogram\n",
    "from statsmodels.graphics.tsaplots import plot_pacf\n",
    "from matplotlib.offsetbox import AnchoredText\n",
    "from statsmodels.tsa.deterministic import CalendarFourier, DeterministicProcess"
   ]
  },
  {
   "cell_type": "code",
   "execution_count": 2,
   "id": "57a49f42-b542-4ba8-a873-8ea9f3b7f7ae",
   "metadata": {
    "tags": []
   },
   "outputs": [],
   "source": [
    "# load sales data.\n",
    "sales = pd.read_csv(\"../../../Data/future_sales/sales_train.csv\",\n",
    "                    usecols=['date','item_cnt_day'],\n",
    "                    index_col='date')"
   ]
  },
  {
   "cell_type": "code",
   "execution_count": 8,
   "id": "41cc39b9-13a6-4b15-9b35-8454987191f7",
   "metadata": {
    "tags": []
   },
   "outputs": [],
   "source": [
    "sales.index = pd.to_datetime(sales.index, format=\"%d.%m.%Y\")\n",
    "sales = sales.sort_index()"
   ]
  },
  {
   "cell_type": "code",
   "execution_count": 14,
   "id": "f78d10c3-01e8-4dfa-8c19-5f45d2f9a53f",
   "metadata": {
    "tags": []
   },
   "outputs": [],
   "source": [
    "helper_function = MLFunctions(sales)\n",
    "arr = helper_function.dateNum()\n",
    "sales['time'] = arr"
   ]
  },
  {
   "cell_type": "code",
   "execution_count": null,
   "id": "e8b79a6f-2688-4f71-ad8a-6f1f68dff0ab",
   "metadata": {},
   "outputs": [],
   "source": []
  }
 ],
 "metadata": {
  "kernelspec": {
   "display_name": "Python 3 (ipykernel)",
   "language": "python",
   "name": "python3"
  },
  "language_info": {
   "codemirror_mode": {
    "name": "ipython",
    "version": 3
   },
   "file_extension": ".py",
   "mimetype": "text/x-python",
   "name": "python",
   "nbconvert_exporter": "python",
   "pygments_lexer": "ipython3",
   "version": "3.11.5"
  }
 },
 "nbformat": 4,
 "nbformat_minor": 5
}
