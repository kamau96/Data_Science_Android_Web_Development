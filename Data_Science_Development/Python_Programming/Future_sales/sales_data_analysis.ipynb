{
 "cells": [
  {
   "cell_type": "code",
   "execution_count": null,
   "id": "f28267cd-3233-432f-8d3a-15894a1edf2c",
   "metadata": {
    "tags": []
   },
   "outputs": [],
   "source": [
    "# import eda libraries\n",
    "import pandas as pd\n",
    "import numpy as np\n",
    "import matplotlib.pyplot as plt\n",
    "import seaborn as sns"
   ]
  },
  {
   "cell_type": "code",
   "execution_count": null,
   "id": "7114cb9e-fb14-4d07-96a2-7e71dca3e336",
   "metadata": {
    "tags": []
   },
   "outputs": [],
   "source": [
    "sales = pd.read_csv(\"../../../Data/future_sales/sales_train.csv\",\n",
    "                    usecols=['date', 'shop_id', 'item_id', 'item_price', 'item_cnt_day'],\n",
    "                    index_col='date', \n",
    "                    parse_dates=['date'], \n",
    "                    date_format=\"%d.%m.%Y\")\n",
    "sales = sales.sort_index()"
   ]
  },
  {
   "cell_type": "code",
   "execution_count": null,
   "id": "4d01c1a4-f016-4167-a1d2-78f64edc0633",
   "metadata": {
    "tags": []
   },
   "outputs": [],
   "source": [
    "exp = sales.groupby(['shop_id', 'date']).std()"
   ]
  },
  {
   "cell_type": "code",
   "execution_count": null,
   "id": "69b7001d-0445-4dea-ae8c-e5b3dd7a2b3a",
   "metadata": {
    "tags": []
   },
   "outputs": [],
   "source": [
    "exp = exp.reset_index()"
   ]
  },
  {
   "cell_type": "code",
   "execution_count": null,
   "id": "14c2aa3d-34a3-49c2-b389-889673189288",
   "metadata": {
    "tags": []
   },
   "outputs": [],
   "source": [
    "fig, ax = plt.subplots()\n",
    "ax = sns.lineplot(x='date', y='item_cnt_day', data=exp, marker='o', ax=ax)\n",
    "ax.tick_params(axis='x', rotation=90)"
   ]
  },
  {
   "cell_type": "code",
   "execution_count": null,
   "id": "172b4a79-60bb-4b70-b6e2-4ba6bf79084f",
   "metadata": {},
   "outputs": [],
   "source": []
  }
 ],
 "metadata": {
  "kernelspec": {
   "display_name": "Python 3 (ipykernel)",
   "language": "python",
   "name": "python3"
  },
  "language_info": {
   "codemirror_mode": {
    "name": "ipython",
    "version": 3
   },
   "file_extension": ".py",
   "mimetype": "text/x-python",
   "name": "python",
   "nbconvert_exporter": "python",
   "pygments_lexer": "ipython3",
   "version": "3.11.5"
  }
 },
 "nbformat": 4,
 "nbformat_minor": 5
}
