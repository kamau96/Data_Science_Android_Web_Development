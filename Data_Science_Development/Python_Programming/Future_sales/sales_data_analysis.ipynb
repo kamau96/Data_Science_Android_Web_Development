{
 "cells": [
  {
   "cell_type": "code",
   "execution_count": 1,
   "id": "f28267cd-3233-432f-8d3a-15894a1edf2c",
   "metadata": {
    "tags": []
   },
   "outputs": [],
   "source": [
    "# import eda libraries\n",
    "import pandas as pd\n",
    "import numpy as np\n",
    "import matplotlib.pyplot as plt\n",
    "import seaborn as sns"
   ]
  },
  {
   "cell_type": "code",
   "execution_count": 2,
   "id": "7114cb9e-fb14-4d07-96a2-7e71dca3e336",
   "metadata": {
    "tags": []
   },
   "outputs": [],
   "source": [
    "sales = pd.read_csv(\"../../../Data/future_sales/sales_train.csv\",\n",
    "                    usecols=['date', 'shop_id', 'item_id', 'item_price', 'item_cnt_day'], \n",
    "                    parse_dates=['date'], \n",
    "                    date_format=\"%d.%m.%Y\")\n",
    "sales = sales.sort_index()"
   ]
  },
  {
   "cell_type": "code",
   "execution_count": 17,
   "id": "f45da6b5-f5a8-4da8-b6be-0348c9f5740b",
   "metadata": {
    "tags": []
   },
   "outputs": [],
   "source": [
    "piv = sales.pivot_table(columns=['item_id','shop_id','date'])"
   ]
  },
  {
   "cell_type": "code",
   "execution_count": 18,
   "id": "a30297e0-b34e-47cd-97f3-cca7398b0e0c",
   "metadata": {
    "tags": []
   },
   "outputs": [
    {
     "data": {
      "text/html": [
       "<div>\n",
       "<style scoped>\n",
       "    .dataframe tbody tr th:only-of-type {\n",
       "        vertical-align: middle;\n",
       "    }\n",
       "\n",
       "    .dataframe tbody tr th {\n",
       "        vertical-align: top;\n",
       "    }\n",
       "\n",
       "    .dataframe thead th {\n",
       "        text-align: right;\n",
       "    }\n",
       "</style>\n",
       "<table border=\"1\" class=\"dataframe\">\n",
       "  <thead>\n",
       "    <tr style=\"text-align: right;\">\n",
       "      <th></th>\n",
       "      <th></th>\n",
       "      <th></th>\n",
       "      <th>item_cnt_day</th>\n",
       "      <th>item_price</th>\n",
       "    </tr>\n",
       "    <tr>\n",
       "      <th>item_id</th>\n",
       "      <th>shop_id</th>\n",
       "      <th>date</th>\n",
       "      <th></th>\n",
       "      <th></th>\n",
       "    </tr>\n",
       "  </thead>\n",
       "  <tbody>\n",
       "    <tr>\n",
       "      <th>0</th>\n",
       "      <th>54</th>\n",
       "      <th>2014-09-01</th>\n",
       "      <td>1.0</td>\n",
       "      <td>58.0</td>\n",
       "    </tr>\n",
       "    <tr>\n",
       "      <th rowspan=\"4\" valign=\"top\">1</th>\n",
       "      <th rowspan=\"4\" valign=\"top\">55</th>\n",
       "      <th>2014-04-02</th>\n",
       "      <td>1.0</td>\n",
       "      <td>4490.0</td>\n",
       "    </tr>\n",
       "    <tr>\n",
       "      <th>2014-04-04</th>\n",
       "      <td>1.0</td>\n",
       "      <td>4490.0</td>\n",
       "    </tr>\n",
       "    <tr>\n",
       "      <th>2014-07-06</th>\n",
       "      <td>1.0</td>\n",
       "      <td>4490.0</td>\n",
       "    </tr>\n",
       "    <tr>\n",
       "      <th>2014-08-04</th>\n",
       "      <td>1.0</td>\n",
       "      <td>4490.0</td>\n",
       "    </tr>\n",
       "    <tr>\n",
       "      <th>...</th>\n",
       "      <th>...</th>\n",
       "      <th>...</th>\n",
       "      <td>...</td>\n",
       "      <td>...</td>\n",
       "    </tr>\n",
       "    <tr>\n",
       "      <th rowspan=\"4\" valign=\"top\">22168</th>\n",
       "      <th>12</th>\n",
       "      <th>2013-09-13</th>\n",
       "      <td>1.0</td>\n",
       "      <td>799.0</td>\n",
       "    </tr>\n",
       "    <tr>\n",
       "      <th>16</th>\n",
       "      <th>2013-02-17</th>\n",
       "      <td>1.0</td>\n",
       "      <td>799.0</td>\n",
       "    </tr>\n",
       "    <tr>\n",
       "      <th>42</th>\n",
       "      <th>2013-02-02</th>\n",
       "      <td>1.0</td>\n",
       "      <td>799.0</td>\n",
       "    </tr>\n",
       "    <tr>\n",
       "      <th>43</th>\n",
       "      <th>2013-03-08</th>\n",
       "      <td>1.0</td>\n",
       "      <td>798.5</td>\n",
       "    </tr>\n",
       "    <tr>\n",
       "      <th>22169</th>\n",
       "      <th>25</th>\n",
       "      <th>2014-03-21</th>\n",
       "      <td>1.0</td>\n",
       "      <td>4349.0</td>\n",
       "    </tr>\n",
       "  </tbody>\n",
       "</table>\n",
       "<p>2935821 rows × 2 columns</p>\n",
       "</div>"
      ],
      "text/plain": [
       "                            item_cnt_day  item_price\n",
       "item_id shop_id date                                \n",
       "0       54      2014-09-01           1.0        58.0\n",
       "1       55      2014-04-02           1.0      4490.0\n",
       "                2014-04-04           1.0      4490.0\n",
       "                2014-07-06           1.0      4490.0\n",
       "                2014-08-04           1.0      4490.0\n",
       "...                                  ...         ...\n",
       "22168   12      2013-09-13           1.0       799.0\n",
       "        16      2013-02-17           1.0       799.0\n",
       "        42      2013-02-02           1.0       799.0\n",
       "        43      2013-03-08           1.0       798.5\n",
       "22169   25      2014-03-21           1.0      4349.0\n",
       "\n",
       "[2935821 rows x 2 columns]"
      ]
     },
     "execution_count": 18,
     "metadata": {},
     "output_type": "execute_result"
    }
   ],
   "source": [
    "piv.T"
   ]
  },
  {
   "cell_type": "code",
   "execution_count": 11,
   "id": "ce49fa72-0938-48eb-ba10-c30f0038b321",
   "metadata": {
    "tags": []
   },
   "outputs": [
    {
     "data": {
      "text/html": [
       "<div>\n",
       "<style scoped>\n",
       "    .dataframe tbody tr th:only-of-type {\n",
       "        vertical-align: middle;\n",
       "    }\n",
       "\n",
       "    .dataframe tbody tr th {\n",
       "        vertical-align: top;\n",
       "    }\n",
       "\n",
       "    .dataframe thead th {\n",
       "        text-align: right;\n",
       "    }\n",
       "</style>\n",
       "<table border=\"1\" class=\"dataframe\">\n",
       "  <thead>\n",
       "    <tr style=\"text-align: right;\">\n",
       "      <th></th>\n",
       "      <th>date</th>\n",
       "      <th>shop_id</th>\n",
       "      <th>item_id</th>\n",
       "      <th>item_price</th>\n",
       "      <th>item_cnt_day</th>\n",
       "    </tr>\n",
       "  </thead>\n",
       "  <tbody>\n",
       "    <tr>\n",
       "      <th>33548</th>\n",
       "      <td>2013-01-20</td>\n",
       "      <td>2</td>\n",
       "      <td>22168</td>\n",
       "      <td>799.0</td>\n",
       "      <td>1.0</td>\n",
       "    </tr>\n",
       "    <tr>\n",
       "      <th>58566</th>\n",
       "      <td>2013-01-15</td>\n",
       "      <td>12</td>\n",
       "      <td>22168</td>\n",
       "      <td>799.0</td>\n",
       "      <td>1.0</td>\n",
       "    </tr>\n",
       "    <tr>\n",
       "      <th>128375</th>\n",
       "      <td>2013-02-02</td>\n",
       "      <td>42</td>\n",
       "      <td>22168</td>\n",
       "      <td>799.0</td>\n",
       "      <td>1.0</td>\n",
       "    </tr>\n",
       "    <tr>\n",
       "      <th>142511</th>\n",
       "      <td>2013-02-17</td>\n",
       "      <td>16</td>\n",
       "      <td>22168</td>\n",
       "      <td>799.0</td>\n",
       "      <td>1.0</td>\n",
       "    </tr>\n",
       "    <tr>\n",
       "      <th>265107</th>\n",
       "      <td>2013-03-08</td>\n",
       "      <td>43</td>\n",
       "      <td>22168</td>\n",
       "      <td>798.5</td>\n",
       "      <td>1.0</td>\n",
       "    </tr>\n",
       "    <tr>\n",
       "      <th>885099</th>\n",
       "      <td>2013-09-13</td>\n",
       "      <td>12</td>\n",
       "      <td>22168</td>\n",
       "      <td>799.0</td>\n",
       "      <td>1.0</td>\n",
       "    </tr>\n",
       "  </tbody>\n",
       "</table>\n",
       "</div>"
      ],
      "text/plain": [
       "             date  shop_id  item_id  item_price  item_cnt_day\n",
       "33548  2013-01-20        2    22168       799.0           1.0\n",
       "58566  2013-01-15       12    22168       799.0           1.0\n",
       "128375 2013-02-02       42    22168       799.0           1.0\n",
       "142511 2013-02-17       16    22168       799.0           1.0\n",
       "265107 2013-03-08       43    22168       798.5           1.0\n",
       "885099 2013-09-13       12    22168       799.0           1.0"
      ]
     },
     "execution_count": 11,
     "metadata": {},
     "output_type": "execute_result"
    }
   ],
   "source": [
    "sales.loc[sales['item_id']==22168, :]"
   ]
  },
  {
   "cell_type": "code",
   "execution_count": 16,
   "id": "4d01c1a4-f016-4167-a1d2-78f64edc0633",
   "metadata": {
    "tags": []
   },
   "outputs": [],
   "source": [
    "sales = sales.groupby(['shop_id', 'date']).sum()"
   ]
  },
  {
   "cell_type": "code",
   "execution_count": null,
   "id": "69b7001d-0445-4dea-ae8c-e5b3dd7a2b3a",
   "metadata": {
    "tags": []
   },
   "outputs": [],
   "source": [
    "sales = sales.reset_index()\n",
    "sales.index = sales['date']\n",
    "sales.drop('date', inplace=True, axis=1)"
   ]
  },
  {
   "cell_type": "code",
   "execution_count": null,
   "id": "14c2aa3d-34a3-49c2-b389-889673189288",
   "metadata": {
    "tags": []
   },
   "outputs": [],
   "source": [
    "fig, ax = plt.subplots()\n",
    "ax = sns.lineplot(x=sales.index, y='item_cnt_day', data=sales, marker='o', ax=ax)\n",
    "ax.tick_params(axis='x', rotation=45)"
   ]
  },
  {
   "cell_type": "code",
   "execution_count": null,
   "id": "172b4a79-60bb-4b70-b6e2-4ba6bf79084f",
   "metadata": {
    "tags": []
   },
   "outputs": [],
   "source": [
    "from statsmodels.tsa.deterministic import DeterministicProcess\n",
    "\n",
    "dp = DeterministicProcess(\n",
    "    index=sales.index,  # dates from the training data\n",
    "    #constant=True,       # dummy feature for the bias (y_intercept)\n",
    "    order=1,             # the time dummy (trend)\n",
    "    drop=True,           # drop terms if necessary to avoid collinearity\n",
    ")\n",
    "# `in_sample` creates features for the dates given in the `index` argument\n",
    "X = dp.in_sample()\n",
    "\n",
    "X.head()"
   ]
  },
  {
   "cell_type": "code",
   "execution_count": null,
   "id": "0dc7afa1-4da0-41cb-af9c-4f66e79e25c0",
   "metadata": {
    "tags": []
   },
   "outputs": [],
   "source": [
    "sales.head()"
   ]
  },
  {
   "cell_type": "code",
   "execution_count": null,
   "id": "f9f45d5b-457a-4320-ae8d-91e60f6aaccd",
   "metadata": {},
   "outputs": [],
   "source": []
  }
 ],
 "metadata": {
  "kernelspec": {
   "display_name": "Python 3 (ipykernel)",
   "language": "python",
   "name": "python3"
  },
  "language_info": {
   "codemirror_mode": {
    "name": "ipython",
    "version": 3
   },
   "file_extension": ".py",
   "mimetype": "text/x-python",
   "name": "python",
   "nbconvert_exporter": "python",
   "pygments_lexer": "ipython3",
   "version": "3.11.5"
  }
 },
 "nbformat": 4,
 "nbformat_minor": 5
}
