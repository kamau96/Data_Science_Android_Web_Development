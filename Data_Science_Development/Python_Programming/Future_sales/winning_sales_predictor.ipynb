{
 "cells": [
  {
   "cell_type": "code",
   "execution_count": 25,
   "id": "89a30afd-ab8e-4c8c-b868-d3f7e282ecb6",
   "metadata": {
    "tags": []
   },
   "outputs": [
    {
     "name": "stdout",
     "output_type": "stream",
     "text": [
      "../../../Data/agriculture\\psd_coffee.csv\n",
      "../../../Data/agriculture\\psd_coffee.xls\n",
      "../../../Data/archive\\credits.csv\n",
      "../../../Data/archive\\imdb_movies.csv\n",
      "../../../Data/archive\\imdb_movies.xlsx\n",
      "../../../Data/archive\\keywords.csv\n",
      "../../../Data/archive\\links.csv\n",
      "../../../Data/archive\\links_small.csv\n",
      "../../../Data/archive\\movies_metadata.csv\n",
      "../../../Data/archive\\ratings.csv\n",
      "../../../Data/archive\\ratings_small.csv\n",
      "../../../Data/digit-recognizer\\sample_submission.csv\n",
      "../../../Data/digit-recognizer\\submission.csv\n",
      "../../../Data/digit-recognizer\\test.csv\n",
      "../../../Data/digit-recognizer\\train.csv\n",
      "../../../Data/favorita-grocery-sales-forecasting\\holidays_events.csv\n",
      "../../../Data/favorita-grocery-sales-forecasting\\items.csv\n",
      "../../../Data/favorita-grocery-sales-forecasting\\oil.csv\n",
      "../../../Data/favorita-grocery-sales-forecasting\\sample_submission.csv\n",
      "../../../Data/favorita-grocery-sales-forecasting\\stores.csv\n",
      "../../../Data/favorita-grocery-sales-forecasting\\test.csv\n",
      "../../../Data/favorita-grocery-sales-forecasting\\train.csv\n",
      "../../../Data/favorita-grocery-sales-forecasting\\transactions.csv\n",
      "../../../Data/future_sales\\items.csv\n",
      "../../../Data/future_sales\\item_categories.csv\n",
      "../../../Data/future_sales\\sales_train.csv\n",
      "../../../Data/future_sales\\sample_submission.csv\n",
      "../../../Data/future_sales\\shops.csv\n",
      "../../../Data/future_sales\\test.csv\n",
      "../../../Data/housing\\housing.csv\n",
      "../../../Data/mnist\\mnist_784.csv\n"
     ]
    }
   ],
   "source": [
    "# This Python 3 environment comes with many helpful analytics libraries installed\n",
    "# It is defined by the kaggle/python Docker image: https://github.com/kaggle/docker-python\n",
    "# For example, here's several helpful packages to load\n",
    "\n",
    "import numpy as np # linear algebra\n",
    "import pandas as pd # data processing, CSV file I/O (e.g. pd.read_csv)\n",
    "\n",
    "# Input data files are available in the read-only \"../input/\" directory\n",
    "# For example, running this (by clicking run or pressing Shift+Enter) will list all files under the input directory\n",
    "\n",
    "import os\n",
    "for dirname, _, filenames in os.walk('../../../Data/'):\n",
    "    for filename in filenames:\n",
    "        print(os.path.join(dirname, filename))\n",
    "\n",
    "# You can write up to 20GB to the current directory (/kaggle/working/) that gets preserved as output when you create a version using \"Save & Run All\" \n",
    "# You can also write temporary files to /kaggle/temp/, but they won't be saved outside of the current session"
   ]
  },
  {
   "cell_type": "code",
   "execution_count": null,
   "id": "5f510a57-685d-4082-877f-c4c3460ba1fd",
   "metadata": {},
   "outputs": [],
   "source": []
  }
 ],
 "metadata": {
  "kernelspec": {
   "display_name": "Python 3 (ipykernel)",
   "language": "python",
   "name": "python3"
  },
  "language_info": {
   "codemirror_mode": {
    "name": "ipython",
    "version": 3
   },
   "file_extension": ".py",
   "mimetype": "text/x-python",
   "name": "python",
   "nbconvert_exporter": "python",
   "pygments_lexer": "ipython3",
   "version": "3.11.5"
  }
 },
 "nbformat": 4,
 "nbformat_minor": 5
}
