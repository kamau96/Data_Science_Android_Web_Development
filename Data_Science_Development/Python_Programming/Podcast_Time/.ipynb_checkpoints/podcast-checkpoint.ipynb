{
 "cells": [
  {
   "cell_type": "markdown",
   "id": "1a78a442-a2a4-4772-97b2-215433dda4db",
   "metadata": {},
   "source": [
    "# Predicting Podcast Time\n",
    "**Author: Benson Wainaina**\n",
    "\n",
    "In this notebook, I aim to predict the amount of time someone listens to a podcast. I'll be exploring various techniques such as linear regression, knearest neighbors, support vector machine, decision trees, random rainforest, neural networks, and ensemble methods. "
   ]
  },
  {
   "cell_type": "code",
   "execution_count": null,
   "id": "cd7ad4d0-48c7-4986-95db-ea7cd9b8440a",
   "metadata": {
    "tags": []
   },
   "outputs": [],
   "source": [
    "import pandas as pd\n",
    "import matplotlib.pyplot as plt\n",
    "import numpy as np\n",
    "import seaborn as sns"
   ]
  },
  {
   "cell_type": "code",
   "execution_count": null,
   "id": "15c9be16-df3f-4896-a124-83b383388700",
   "metadata": {},
   "outputs": [],
   "source": [
    "plt.style.use(\"bmh\")"
   ]
  },
  {
   "cell_type": "code",
   "execution_count": null,
   "id": "1830f737-8d7b-4710-a843-bef7d7bfcc6d",
   "metadata": {
    "tags": []
   },
   "outputs": [],
   "source": [
    "data_path = \"../../../Data/playground-series-s5e4/\"\n",
    "train = pd.read_csv(data_path+\"train.csv\", index_col=[\"id\"])\n",
    "test = pd.read_csv(data_path+\"test.csv\", index_col=[\"id\"])\n",
    "sample_submission = pd.read_csv(data_path+\"sample_submission.csv\")"
   ]
  },
  {
   "cell_type": "markdown",
   "id": "2e195423-6fd4-4009-9fd6-5392fe724b32",
   "metadata": {},
   "source": [
    "Now that I have the **data** I want to quickly explore it to understand what I'm working with."
   ]
  },
  {
   "cell_type": "code",
   "execution_count": null,
   "id": "36dbba67-7132-4cf7-b72b-806121f21434",
   "metadata": {
    "tags": []
   },
   "outputs": [],
   "source": [
    "train.head()"
   ]
  },
  {
   "cell_type": "code",
   "execution_count": null,
   "id": "0f1a0ce5-013a-49b6-adde-305f7d1fca65",
   "metadata": {
    "tags": []
   },
   "outputs": [],
   "source": [
    "test.head()"
   ]
  },
  {
   "cell_type": "code",
   "execution_count": null,
   "id": "6a1841ba-7f89-4532-9b0e-b22e395399f3",
   "metadata": {
    "tags": []
   },
   "outputs": [],
   "source": [
    "sample_submission.head()"
   ]
  },
  {
   "cell_type": "code",
   "execution_count": null,
   "id": "7f6c42f5-2492-4b0d-8531-1f4451a5ffe8",
   "metadata": {
    "tags": []
   },
   "outputs": [],
   "source": [
    "train.info()"
   ]
  },
  {
   "cell_type": "code",
   "execution_count": null,
   "id": "8796e0e0-d091-4b46-b2c5-04fcc6feba9e",
   "metadata": {
    "tags": []
   },
   "outputs": [],
   "source": [
    "test.info()"
   ]
  },
  {
   "cell_type": "code",
   "execution_count": null,
   "id": "28d9a509-08bb-4494-821b-fd6c583b82a7",
   "metadata": {
    "tags": []
   },
   "outputs": [],
   "source": [
    "train.describe()"
   ]
  },
  {
   "cell_type": "code",
   "execution_count": null,
   "id": "b1997190-c25d-47f5-b564-b24fc7dd8d8b",
   "metadata": {
    "tags": []
   },
   "outputs": [],
   "source": [
    "train.describe(include=\"O\")"
   ]
  },
  {
   "cell_type": "code",
   "execution_count": null,
   "id": "c4822c0e-13e0-49ab-a444-eb37d440fb34",
   "metadata": {
    "tags": []
   },
   "outputs": [],
   "source": [
    "test.describe()"
   ]
  },
  {
   "cell_type": "code",
   "execution_count": null,
   "id": "228fe11c-9df6-4bca-9a10-cbcf29e3faba",
   "metadata": {
    "tags": []
   },
   "outputs": [],
   "source": [
    "test.describe(include=\"O\")"
   ]
  },
  {
   "cell_type": "markdown",
   "id": "193b82bf-3b94-478e-84b4-e77e2f5aa79c",
   "metadata": {},
   "source": [
    "**Quick Observations:**\n",
    "- There are podcasts that have episodes with zero length minutes.\n",
    "- There seem to be outliers in the number of ads.\n",
    "- Listening time has zero values.\n",
    "- Episode length for train and test seem to differ by a huge margin."
   ]
  },
  {
   "cell_type": "markdown",
   "id": "8c5a1b09-4239-4778-8829-1d16dad2676c",
   "metadata": {},
   "source": [
    "## Exploratory Data Analysis"
   ]
  },
  {
   "cell_type": "code",
   "execution_count": null,
   "id": "dabd49b0-a6a5-4afb-9c39-daba136a3e67",
   "metadata": {
    "tags": []
   },
   "outputs": [],
   "source": [
    "numeric_att = [\"Episode_Length_minutes\", \"Host_Popularity_percentage\", \"Guest_Popularity_percentage\", \"Number_of_Ads\"]\n",
    "categorical_att = [\"Podcast_Name\", \"Episode_Title\", \"Genre\", \"Publication_Day\", \"Publication_Time\",\t\"Episode_Sentiment\"]\n",
    "target_att = [\"Listening_Time_minutes\"]"
   ]
  },
  {
   "cell_type": "code",
   "execution_count": null,
   "id": "20c44b48-c8cd-4c1c-9afb-aa5325341092",
   "metadata": {
    "tags": []
   },
   "outputs": [],
   "source": [
    "fig, ax = plt.subplots(2, 2, figsize=(10, 8))\n",
    "for i in range(4):\n",
    "    \n",
    "    ax[i//2, i%2].scatter(train[numeric_att[i]], train[target_att[0]])\n",
    "    ax[i//2, i%2].set_title(f\"{numeric_att[i]} scatter plot.\")\n",
    "    ax[i//2, i%2].set_xlabel(f\"{numeric_att[i]}\")\n",
    "    ax[i//2, i%2].set_ylabel(\"Listening_Time_minutes\")\n",
    "    \n",
    "fig.tight_layout()\n",
    "plt.show()"
   ]
  },
  {
   "cell_type": "code",
   "execution_count": null,
   "id": "d26bc9fc-c9fd-4c74-8239-f77c99a6e344",
   "metadata": {
    "tags": []
   },
   "outputs": [],
   "source": [
    "corr_matrix = train[numeric_att+target_att].corr()\n",
    "fig, ax = plt.subplots()\n",
    "sns.heatmap(corr_matrix, ax=ax)\n",
    "plt.show()"
   ]
  },
  {
   "cell_type": "code",
   "execution_count": null,
   "id": "a7e023fc-3bd8-4828-b815-96ac4027bddc",
   "metadata": {
    "tags": []
   },
   "outputs": [],
   "source": [
    "corr_matrix[\"Episode_Length_minutes\"].sort_values(ascending=False)"
   ]
  },
  {
   "cell_type": "code",
   "execution_count": null,
   "id": "06285760-61cc-46c9-9585-4218b483d219",
   "metadata": {
    "tags": []
   },
   "outputs": [],
   "source": [
    "zero_episode_length = train.loc[train[\"Episode_Length_minutes\"]==0]\n",
    "zero_episode_length"
   ]
  },
  {
   "cell_type": "code",
   "execution_count": null,
   "id": "5be99d75-22af-4a78-a626-048302bdc9a9",
   "metadata": {},
   "outputs": [],
   "source": [
    "fig, ax = plt.subplots(2, 2, figsize=(10, 10))\n",
    "for i, att in enumerate(categorical_att[2:]):\n",
    "    result = train.groupby(att)[\"Listening_Time_minutes\"].mean()\n",
    "    if att == \"Publication_Day\":\n",
    "        result = result[[\"Sunday\", \"Monday\", \"Tuesday\", \"Wednesday\", \"Thursday\", \"Friday\", \"Saturday\"]]\n",
    "    elif att == \"Publication_Time\":\n",
    "        result = result[[\"Morning\", \"Afternoon\", \"Evening\", \"Night\"]]\n",
    "    x, y = result.index, result.values\n",
    "    ax[i//2, i%2].plot(x, y, marker=\"o\")\n",
    "    ax[i//2, i%2].set_title(f\"{att} plot.\")\n",
    "    ax[i//2, i%2].set_xlabel(f\"{att}\")\n",
    "    ax[i//2, i%2].set_ylabel(\"Mean_Listening_Time_minutes\")\n",
    "    ax[i//2, i%2].tick_params(axis=\"x\", rotation=90)\n",
    "    \n",
    "fig.tight_layout()\n",
    "plt.show()"
   ]
  },
  {
   "cell_type": "code",
   "execution_count": null,
   "id": "52334dc5-5c61-47d0-b391-dbac5538f06c",
   "metadata": {
    "tags": []
   },
   "outputs": [],
   "source": [
    "no_guest = train.loc[train[\"Guest_Popularity_percentage\"].isna()]\n",
    "print(f\"{(len(no_guest)/len(train))*100:.2f}% of the podcasts didn't have a \\\n",
    "guest and listening time was {no_guest['Listening_Time_minutes'].mean():.2f}\")"
   ]
  },
  {
   "cell_type": "code",
   "execution_count": null,
   "id": "e9403675-73cd-4a9c-bf89-bf10b6d37dea",
   "metadata": {
    "tags": []
   },
   "outputs": [],
   "source": [
    "yes_guest = train.loc[~train[\"Guest_Popularity_percentage\"].isna()]\n",
    "print(f\"{(len(yes_guest)/len(train))*100:.2f}% of the podcasts had a guest \\\n",
    "and listening time was {yes_guest['Listening_Time_minutes'].mean():.2f}\")"
   ]
  },
  {
   "cell_type": "code",
   "execution_count": null,
   "id": "67a4b1c9-6221-4a0e-8341-ed1c936f5de6",
   "metadata": {
    "tags": []
   },
   "outputs": [],
   "source": [
    "no_episode_time = train.loc[train[\"Episode_Length_minutes\"].isna()]\n",
    "print(f\"Null Length episodes had listening time of {no_episode_time['Listening_Time_minutes'].mean():.2f}\")"
   ]
  },
  {
   "cell_type": "code",
   "execution_count": null,
   "id": "45388211-4d32-4a19-b0fb-fed14c1e84a8",
   "metadata": {
    "tags": []
   },
   "outputs": [],
   "source": [
    "no_episode_time.describe(include=\"O\")"
   ]
  },
  {
   "cell_type": "code",
   "execution_count": null,
   "id": "6637bc4e-af94-4844-a60c-a608dd25f98c",
   "metadata": {
    "tags": []
   },
   "outputs": [],
   "source": [
    "yes_episode_time = train.loc[~train[\"Episode_Length_minutes\"].isna()]\n",
    "print(f\"Episodes with length minutes have listening time of {yes_episode_time['Listening_Time_minutes'].mean():.2f}\")"
   ]
  },
  {
   "cell_type": "code",
   "execution_count": null,
   "id": "3d66812f-ff88-4f35-a1c5-58ed53eee42f",
   "metadata": {
    "tags": []
   },
   "outputs": [],
   "source": [
    "print(f\"{(len(no_episode_time)/len(train))*100:.2f}% of the podcasts didn't have episode length.\")"
   ]
  },
  {
   "cell_type": "code",
   "execution_count": null,
   "id": "d458a1e6-47ea-4043-b308-0d0b1c5cd0ab",
   "metadata": {
    "tags": []
   },
   "outputs": [],
   "source": [
    "yes_episode_time.describe(include=\"O\")"
   ]
  },
  {
   "cell_type": "code",
   "execution_count": null,
   "id": "1b609afb-6249-491d-a04f-4a14aba544d2",
   "metadata": {
    "tags": []
   },
   "outputs": [],
   "source": [
    "genre_popularity = train[\"Genre\"].value_counts().sort_values(ascending=False)\n",
    "fig, ax = plt.subplots(figsize=(10, 5))\n",
    "ax.bar(genre_popularity.index, genre_popularity.values)\n",
    "ax.tick_params(axis=\"x\", rotation=90)\n",
    "ax.set_title(\"Genre Popularity\", size=20)\n",
    "ax.set_ylabel(\"Genre Frequency\")\n",
    "plt.show()"
   ]
  },
  {
   "cell_type": "code",
   "execution_count": null,
   "id": "a01dfc83-ac77-4221-8eec-529ad761065d",
   "metadata": {
    "tags": []
   },
   "outputs": [],
   "source": [
    "genre_episode_listening = train.groupby(\"Genre\")[[\"Episode_Length_minutes\", \"Listening_Time_minutes\"]].mean()\n",
    "genre_episode_listening = genre_episode_listening.loc[[\"Sports\", \"Technology\", \"True Crime\", \"Lifestyle\", \n",
    "                                                   \"Comedy\", \"Business\", \"Health\", \"News\", \"Music\", \"Education\"]]\n",
    "fig, ax = plt.subplots(figsize=(10, 5))\n",
    "x = np.array([0, 1, 2, 3, 4, 5, 6, 7, 8, 9])\n",
    "ax.bar(x-0.2, \n",
    "       genre_episode_listening[\"Episode_Length_minutes\"].values, \n",
    "       label=\"Episode Length\", \n",
    "       width=0.4)\n",
    "ax.bar(x+0.2, \n",
    "       genre_episode_listening[\"Listening_Time_minutes\"].values,\n",
    "       label=\"Listening Time\", \n",
    "       width=0.4)\n",
    "ax.legend(loc=\"upper left\", \n",
    "          bbox_to_anchor=(1.1, 0.9))\n",
    "ax.set_title(\"Episode Length vs Listening Time\")\n",
    "ax.set_xticks(x, \n",
    "              genre_episode_listening.index)\n",
    "ax.set_ylabel(\"Time in minutes\")\n",
    "ax.tick_params(axis=\"x\", \n",
    "               rotation=90)\n",
    "ax.axhline(y=46.578394)\n",
    "plt.show()"
   ]
  },
  {
   "cell_type": "code",
   "execution_count": null,
   "id": "83b15b87-38db-4eec-8633-6b6025f88995",
   "metadata": {
    "tags": []
   },
   "outputs": [],
   "source": [
    "play_df = train.loc[~train[\"Episode_Length_minutes\"].isna() & \n",
    "                    train[\"Listening_Time_minutes\"]!=0, :].copy()\n",
    "play_df[\"Episode_Listening_Quotent\"] = play_df[\"Episode_Length_minutes\"]/play_df[\"Listening_Time_minutes\"]\n",
    "play_df.groupby(\"Genre\")[\"Episode_Listening_Quotent\"].mean()"
   ]
  },
  {
   "cell_type": "markdown",
   "id": "b048e676-aa4c-48a7-b59d-ebbd865572b8",
   "metadata": {},
   "source": [
    "*Was to use the correlation between Episode Length and Listening Time to fill the null values in Episode Length, however, since test data doesn't have Listening Time this idea is null and a void.*"
   ]
  },
  {
   "cell_type": "code",
   "execution_count": null,
   "id": "fe436b46-5f0e-45c5-9b16-295977589310",
   "metadata": {
    "tags": []
   },
   "outputs": [],
   "source": [
    "play_df.groupby(\"Episode_Sentiment\")[\"Guest_Popularity_percentage\"].mean().sort_values(ascending=False)"
   ]
  },
  {
   "cell_type": "code",
   "execution_count": null,
   "id": "e26842ab-0c8a-4177-b66c-9d4ec0d61fc3",
   "metadata": {
    "tags": []
   },
   "outputs": [],
   "source": [
    "play_df.groupby(\"Episode_Sentiment\")[\"Host_Popularity_percentage\"].mean().sort_values(ascending=False)"
   ]
  },
  {
   "cell_type": "code",
   "execution_count": null,
   "id": "5d11203f-cb8e-4677-8514-0edfdcb626d5",
   "metadata": {
    "tags": []
   },
   "outputs": [],
   "source": [
    "play_df.loc[~play_df[\"Guest_Popularity_percentage\"].isna(), \"Episode_Sentiment\"].value_counts(ascending=False)"
   ]
  },
  {
   "cell_type": "code",
   "execution_count": null,
   "id": "66f04194-3e23-4cbb-86ed-f7bcc007407b",
   "metadata": {
    "tags": []
   },
   "outputs": [],
   "source": [
    "play_df.loc[play_df[\"Guest_Popularity_percentage\"].isna(), \"Episode_Sentiment\"].value_counts(ascending=False)"
   ]
  },
  {
   "cell_type": "code",
   "execution_count": null,
   "id": "114561c1-904d-46ec-b38d-c71c31ee180a",
   "metadata": {
    "tags": []
   },
   "outputs": [],
   "source": [
    "play_df[\"Episode_Title\"] = play_df[\"Episode_Title\"].apply(lambda x: int(x.split()[1]))\n",
    "play_df.loc[~play_df[\"Episode_Length_minutes\"].isna(), [\"Episode_Title\", \"Episode_Length_minutes\"]].corr()"
   ]
  },
  {
   "cell_type": "markdown",
   "id": "8b0dae28-1906-4721-aa19-7f7cf833d7c3",
   "metadata": {},
   "source": [
    "**Observations:**\n",
    "- Episode length and listening time have a strong positive correlation.\n",
    "- Instance with zero episode length seems to  be incorrect since listening time is 9 minutes.\n",
    "- Early days of the week seem to have higher podcast listening times.\n",
    "- Having a guest slightly improved listening time.\n",
    "- Some podcasts didn't have episode length for some reason. These podcasts have different listening time compared to podcasts that had listening time.\n",
    "- Genre popularity doesn't affect listening time.\n",
    "- Episode sentiment does affect listening time.\n",
    "- There seem to be a mismatch between genre and podcast name for some instances. \n",
    "- Host popularity is linked to episode sentiment but guest popularity doesn't follow this trend.\n",
    "- Looks like a guest is invited to a podcast based on episode sentiment. Negative sentiment podcasts tend to attract guests."
   ]
  },
  {
   "cell_type": "markdown",
   "id": "9dea2f30-0a25-458d-a8fd-545a0966aabe",
   "metadata": {},
   "source": [
    "## Model Building"
   ]
  },
  {
   "cell_type": "markdown",
   "id": "372a07a2-32c5-499f-83d4-98b6447aec62",
   "metadata": {},
   "source": [
    "I'll be creating a lot of models as earlier mentioned. To start off, I'll build a linear regression model. While building this model I want to understand how feature selection, feature engineering, and regularization affects predictions from this model."
   ]
  },
  {
   "cell_type": "markdown",
   "id": "33ff2564-b33d-4284-a6b4-354c464e6665",
   "metadata": {},
   "source": [
    "### Linear Regression"
   ]
  },
  {
   "cell_type": "code",
   "execution_count": null,
   "id": "5cbd7823-9acc-4806-9f80-e833ce0a1ccd",
   "metadata": {
    "tags": []
   },
   "outputs": [],
   "source": [
    "from sklearn.linear_model import LinearRegression\n",
    "from sklearn.metrics import mean_squared_error"
   ]
  },
  {
   "cell_type": "markdown",
   "id": "7c62a1fd-7ef6-42db-89d9-021555f3487a",
   "metadata": {},
   "source": [
    "#### Data Processing"
   ]
  },
  {
   "cell_type": "markdown",
   "id": "58eae44e-2617-450c-9da3-b77ca88306c0",
   "metadata": {},
   "source": [
    "Here, I prepare the data to ensure it's appropriate for model building as follows:\n",
    "- Filling null values.\n",
    "- Creating train, test, and validation data.\n",
    "- Converting categorical variables to numeric.\n",
    "- Scaling the data."
   ]
  },
  {
   "cell_type": "code",
   "execution_count": null,
   "id": "3e82bb1e-30a7-4888-ad86-96eeefceefff",
   "metadata": {
    "tags": []
   },
   "outputs": [],
   "source": [
    "# I assume that null values mean that there was no guest for that particular podcast\n",
    "train[\"Guest_Popularity_percentage\"] = train[\"Guest_Popularity_percentage\"].fillna(-1)\n",
    "test[\"Guest_Popularity_percentage\"] = test[\"Guest_Popularity_percentage\"].fillna(-1)"
   ]
  },
  {
   "cell_type": "code",
   "execution_count": null,
   "id": "9eeffcc6-dac5-48af-80bd-52d47300a63b",
   "metadata": {
    "tags": []
   },
   "outputs": [],
   "source": [
    "# Fill the one null with the most frequent number of ads.\n",
    "train[\"Number_of_Ads\"] = train[\"Number_of_Ads\"].fillna(0)"
   ]
  },
  {
   "cell_type": "code",
   "execution_count": null,
   "id": "422f893c-6bc4-4b86-92ce-f130bc8b179a",
   "metadata": {
    "tags": []
   },
   "outputs": [],
   "source": [
    "# Here, I calculate the mean of Episode Length based on publication time and day\n",
    "# Thereafter, I use this mean to fill the null values of Episode Length\n",
    "publication_time_day = train.groupby([\"Publication_Time\", \"Publication_Day\"])[\"Episode_Length_minutes\"].mean()\n",
    "train[\"Episode_Length_minutes\"] = train[[\"Publication_Time\", \"Publication_Day\",\"Episode_Length_minutes\"]].apply(lambda x: \n",
    "                                                                              publication_time_day[x[\"Publication_Time\"], \n",
    "                                                                                                   x[\"Publication_Day\"]] \n",
    "                                                                              if pd.isnull(x[\"Episode_Length_minutes\"]) \n",
    "                                                                              else x[\"Episode_Length_minutes\"], axis=1)\n",
    "\n",
    "publication_time_day_test = train.groupby([\"Publication_Time\", \"Publication_Day\"])[\"Episode_Length_minutes\"].mean()\n",
    "test[\"Episode_Length_minutes\"] = test[[\"Publication_Time\", \"Publication_Day\",\"Episode_Length_minutes\"]].apply(lambda x: \n",
    "                                                                              publication_time_day_test[x[\"Publication_Time\"], \n",
    "                                                                                                        x[\"Publication_Day\"]] \n",
    "                                                                              if pd.isnull(x[\"Episode_Length_minutes\"]) \n",
    "                                                                              else x[\"Episode_Length_minutes\"], axis=1)"
   ]
  },
  {
   "cell_type": "code",
   "execution_count": null,
   "id": "bc19bc47-5ccb-449d-a57c-5be6bc4c54ee",
   "metadata": {},
   "outputs": [],
   "source": [
    "test.info()"
   ]
  },
  {
   "cell_type": "code",
   "execution_count": null,
   "id": "ae31fb46-042d-40ec-8e3e-f08eb24d69e2",
   "metadata": {},
   "outputs": [],
   "source": []
  }
 ],
 "metadata": {
  "kernelspec": {
   "display_name": "Python 3 (ipykernel)",
   "language": "python",
   "name": "python3"
  },
  "language_info": {
   "codemirror_mode": {
    "name": "ipython",
    "version": 3
   },
   "file_extension": ".py",
   "mimetype": "text/x-python",
   "name": "python",
   "nbconvert_exporter": "python",
   "pygments_lexer": "ipython3",
   "version": "3.11.5"
  }
 },
 "nbformat": 4,
 "nbformat_minor": 5
}
