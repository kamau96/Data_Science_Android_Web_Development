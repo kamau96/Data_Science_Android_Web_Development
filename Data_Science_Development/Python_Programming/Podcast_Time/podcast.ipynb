{
 "cells": [
  {
   "cell_type": "markdown",
   "id": "1a78a442-a2a4-4772-97b2-215433dda4db",
   "metadata": {},
   "source": [
    "# Predicting Podcast Time\n",
    "**Author: Benson Wainaina**\n",
    "\n",
    "In this notebook, I aim to predict the amount of time someone listens to a podcast. I'll be exploring various techniques such as linear regression, knearest neighbors, support vector machine, decision trees, random rainforest, neural networks, and ensemble methods. "
   ]
  },
  {
   "cell_type": "code",
   "execution_count": null,
   "id": "cd7ad4d0-48c7-4986-95db-ea7cd9b8440a",
   "metadata": {},
   "outputs": [],
   "source": []
  }
 ],
 "metadata": {
  "kernelspec": {
   "display_name": "Python 3 (ipykernel)",
   "language": "python",
   "name": "python3"
  },
  "language_info": {
   "codemirror_mode": {
    "name": "ipython",
    "version": 3
   },
   "file_extension": ".py",
   "mimetype": "text/x-python",
   "name": "python",
   "nbconvert_exporter": "python",
   "pygments_lexer": "ipython3",
   "version": "3.11.5"
  }
 },
 "nbformat": 4,
 "nbformat_minor": 5
}
