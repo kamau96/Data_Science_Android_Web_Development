{
 "cells": [
  {
   "cell_type": "code",
   "execution_count": 1,
   "id": "ac2884a7-36d1-4184-adfd-3b5fc40e7a51",
   "metadata": {
    "tags": []
   },
   "outputs": [
    {
     "name": "stderr",
     "output_type": "stream",
     "text": [
      "C:\\Users\\Admin\\AppData\\Roaming\\Python\\Python311\\site-packages\\pandas\\core\\arrays\\masked.py:60: UserWarning: Pandas requires version '1.3.6' or newer of 'bottleneck' (version '1.3.5' currently installed).\n",
      "  from pandas.core import (\n"
     ]
    }
   ],
   "source": [
    "# Imports\n",
    "import pandas as pd\n",
    "import matplotlib.pyplot as plt\n",
    "import numpy as np\n",
    "import warnings \n",
    "\n",
    "warnings.filterwarnings(\"ignore\")"
   ]
  },
  {
   "cell_type": "code",
   "execution_count": 2,
   "id": "66eecbfa-d010-432a-877a-79a00afd8cfc",
   "metadata": {
    "tags": []
   },
   "outputs": [],
   "source": [
    "path = \"../../../Data/ai_human_images/\"\n",
    "train = pd.read_csv(path+\"train.csv\", index_col=0)\n",
    "test = pd.read_csv(path+\"test.csv\")"
   ]
  },
  {
   "cell_type": "code",
   "execution_count": 3,
   "id": "63c84b66-c589-4c76-b810-0ce6fa6e9aa5",
   "metadata": {
    "tags": []
   },
   "outputs": [],
   "source": [
    "import os\n",
    "\n",
    "# Create a new column with full paths\n",
    "train[\"file_name\"] = train[\"file_name\"].apply(lambda x: os.path.join(path, x))\n",
    "test[\"id\"] = test[\"id\"].apply(lambda x: os.path.join(path, x))\n",
    "\n",
    "# Rename the image columns\n",
    "train = train.rename(columns = {\"file_name\": \"images\"})\n",
    "test = test.rename(columns = {\"id\": \"images\"})"
   ]
  },
  {
   "cell_type": "code",
   "execution_count": 21,
   "id": "b37f98ec-bcbd-4e43-9b04-8c9b345060b2",
   "metadata": {
    "tags": []
   },
   "outputs": [
    {
     "data": {
      "text/plain": [
       "(768, 512, 3)"
      ]
     },
     "execution_count": 21,
     "metadata": {},
     "output_type": "execute_result"
    }
   ],
   "source": [
    "plt.imread(train[\"images\"].iloc[0]).shape"
   ]
  },
  {
   "cell_type": "code",
   "execution_count": null,
   "id": "90f31ade-a6bc-4034-997b-206196549f8e",
   "metadata": {
    "tags": []
   },
   "outputs": [],
   "source": [
    "train[\"images\"].apply(lambda x: plt.imread(x).shape)"
   ]
  },
  {
   "cell_type": "code",
   "execution_count": null,
   "id": "507a4c73-d871-4d12-9cc1-59c366c5ceec",
   "metadata": {},
   "outputs": [],
   "source": [
    "class ResidualUnit(keras.layers.Layer):\n",
    "def __init__(self, filters, strides=1, activation=\"relu\", **kwargs):\n",
    "super().__init__(**kwargs)\n",
    "self.activation = keras.activations.get(activation)\n",
    "self.main_layers = [\n",
    "keras.layers.Conv2D(filters, 3, strides=strides,\n",
    "padding=\"same\", use_bias=False),\n",
    "keras.layers.BatchNormalization(),\n",
    "self.activation,\n",
    "keras.layers.Conv2D(filters, 3, strides=1,\n",
    "padding=\"same\", use_bias=False),\n",
    "keras.layers.BatchNormalization()]\n",
    "self.skip_layers = []\n",
    "if strides > 1:\n",
    "self.skip_layers = [\n",
    "keras.layers.Conv2D(filters, 1, strides=strides,\n",
    "padding=\"same\", use_bias=False),\n",
    "keras.layers.BatchNormalization()]\n",
    "def call(self, inputs):\n",
    "Z = inputs\n",
    "for layer in self.main_layers:\n",
    "Z = layer(Z)\n",
    "skip_Z = inputs\n",
    "for layer in self.skip_layers:\n",
    "skip_Z = layer(skip_Z)\n",
    "return self.activation(Z + skip_Z)"
   ]
  }
 ],
 "metadata": {
  "kernelspec": {
   "display_name": "Python 3 (ipykernel)",
   "language": "python",
   "name": "python3"
  },
  "language_info": {
   "codemirror_mode": {
    "name": "ipython",
    "version": 3
   },
   "file_extension": ".py",
   "mimetype": "text/x-python",
   "name": "python",
   "nbconvert_exporter": "python",
   "pygments_lexer": "ipython3",
   "version": "3.11.5"
  }
 },
 "nbformat": 4,
 "nbformat_minor": 5
}
