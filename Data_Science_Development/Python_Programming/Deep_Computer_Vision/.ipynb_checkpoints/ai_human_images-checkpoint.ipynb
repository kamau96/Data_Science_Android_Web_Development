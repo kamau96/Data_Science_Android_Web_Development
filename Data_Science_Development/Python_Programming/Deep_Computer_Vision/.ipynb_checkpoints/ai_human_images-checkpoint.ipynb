{
 "cells": [
  {
   "cell_type": "code",
   "execution_count": null,
   "id": "ac2884a7-36d1-4184-adfd-3b5fc40e7a51",
   "metadata": {
    "tags": []
   },
   "outputs": [],
   "source": [
    "# Imports\n",
    "import pandas as pd\n",
    "import matplotlib.pyplot as plt\n",
    "import numpy as np\n",
    "import warnings \n",
    "\n",
    "warnings.filterwarnings(\"ignore\")"
   ]
  },
  {
   "cell_type": "code",
   "execution_count": null,
   "id": "66eecbfa-d010-432a-877a-79a00afd8cfc",
   "metadata": {
    "tags": []
   },
   "outputs": [],
   "source": [
    "path = \"../../../Data/ai_human_images/\"\n",
    "train = pd.read_csv(path+\"train.csv\", index_col=0)\n",
    "test = pd.read_csv(path+\"test.csv\")"
   ]
  },
  {
   "cell_type": "code",
   "execution_count": null,
   "id": "63c84b66-c589-4c76-b810-0ce6fa6e9aa5",
   "metadata": {
    "tags": []
   },
   "outputs": [],
   "source": [
    "import os\n",
    "\n",
    "# Create a new column with full paths\n",
    "train[\"file_name\"] = train[\"file_name\"].apply(lambda x: os.path.join(path, x))\n",
    "test[\"id\"] = test[\"id\"].apply(lambda x: os.path.join(path, x))\n",
    "\n",
    "# Rename the image columns\n",
    "train = train.rename(columns = {\"file_name\": \"images\"})\n",
    "test = test.rename(columns = {\"id\": \"images\"})"
   ]
  },
  {
   "cell_type": "code",
   "execution_count": null,
   "id": "7464888b-3bed-437c-82de-f03a004ca470",
   "metadata": {
    "tags": []
   },
   "outputs": [],
   "source": [
    "test.head()"
   ]
  },
  {
   "cell_type": "code",
   "execution_count": null,
   "id": "e908d92e-9189-4f7e-8d05-6c46bb896d7a",
   "metadata": {
    "tags": []
   },
   "outputs": [],
   "source": [
    "train.head()"
   ]
  }
 ],
 "metadata": {
  "kernelspec": {
   "display_name": "Python 3 (ipykernel)",
   "language": "python",
   "name": "python3"
  },
  "language_info": {
   "codemirror_mode": {
    "name": "ipython",
    "version": 3
   },
   "file_extension": ".py",
   "mimetype": "text/x-python",
   "name": "python",
   "nbconvert_exporter": "python",
   "pygments_lexer": "ipython3",
   "version": "3.11.5"
  }
 },
 "nbformat": 4,
 "nbformat_minor": 5
}
