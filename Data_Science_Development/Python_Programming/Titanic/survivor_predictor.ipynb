{
 "cells": [
  {
   "cell_type": "markdown",
   "id": "1e5df0a9-2100-4bb5-a9dc-bb014d97375b",
   "metadata": {},
   "source": [
    "## Today I'll be working on the cabin column."
   ]
  },
  {
   "cell_type": "code",
   "execution_count": 2,
   "id": "a5369aad-bfd5-41d4-bb3d-e109065a69b6",
   "metadata": {
    "tags": []
   },
   "outputs": [],
   "source": [
    "import pandas as pd\n",
    "import numpy as np\n",
    "import matplotlib.pyplot as plt"
   ]
  },
  {
   "cell_type": "code",
   "execution_count": 3,
   "id": "8a1085c8-0bab-476a-ba70-20519c866ba2",
   "metadata": {
    "tags": []
   },
   "outputs": [],
   "source": [
    "path = \"../../../Data/titanic/\"\n",
    "train = pd.read_csv(path+\"train.csv\")\n",
    "test = pd.read_csv(path+\"test.csv\")"
   ]
  },
  {
   "cell_type": "code",
   "execution_count": 4,
   "id": "41cbb356-5d7f-4712-96f1-91523a4aa2de",
   "metadata": {},
   "outputs": [],
   "source": [
    "train = train.set_index(\"PassengerId\")\n",
    "test = test.set_index(\"PassengerId\")"
   ]
  },
  {
   "cell_type": "markdown",
   "id": "b97796c9-4dee-402f-b455-749b0d26a25c",
   "metadata": {},
   "source": [
    "Apparently working on the entire dataset to fill nulls is better on the entire dataset to avoid overfitting. Will research this claim later."
   ]
  },
  {
   "cell_type": "code",
   "execution_count": 6,
   "id": "83c3d6ed-e91f-4d83-a8f2-ab09ca408521",
   "metadata": {
    "tags": []
   },
   "outputs": [],
   "source": [
    "all_df = pd.concat([train, test])"
   ]
  },
  {
   "cell_type": "code",
   "execution_count": 7,
   "id": "b40da99d-e95e-4238-8842-68b62441b7e5",
   "metadata": {
    "tags": []
   },
   "outputs": [],
   "source": [
    "all_df[\"Deck\"] = all_df[\"Cabin\"].apply(lambda x: x[0] if pd.notnull(x) else \"M\")"
   ]
  },
  {
   "cell_type": "code",
   "execution_count": 8,
   "id": "d9dc5b11-4fb2-4f1f-8cd8-45bd0e10e243",
   "metadata": {
    "tags": []
   },
   "outputs": [],
   "source": [
    "all_df.drop(\"Cabin\", axis=1, inplace=True)"
   ]
  },
  {
   "cell_type": "markdown",
   "id": "390eb51e-cb70-4e63-a36e-52ad9601861f",
   "metadata": {},
   "source": [
    "### Visualization of Deck."
   ]
  },
  {
   "cell_type": "code",
   "execution_count": 31,
   "id": "1c23b73e-a05e-4fdf-96cf-beb87c13b383",
   "metadata": {
    "tags": []
   },
   "outputs": [
    {
     "data": {
      "image/png": "[encoded data removed]",
      "text/plain": [
       "<Figure size 640x480 with 1 Axes>"
      ]
     },
     "metadata": {},
     "output_type": "display_data"
    }
   ],
   "source": [
    "deck_count = all_df[\"Deck\"].value_counts()\n",
    "fig, ax = plt.subplots()\n",
    "ax.bar(deck_count.index, deck_count.values)\n",
    "plt.show()"
   ]
  },
  {
   "cell_type": "code",
   "execution_count": null,
   "id": "c1430669-5518-49fc-b59c-ac24096524f8",
   "metadata": {},
   "outputs": [],
   "source": []
  }
 ],
 "metadata": {
  "kernelspec": {
   "display_name": "Python 3 (ipykernel)",
   "language": "python",
   "name": "python3"
  },
  "language_info": {
   "codemirror_mode": {
    "name": "ipython",
    "version": 3
   },
   "file_extension": ".py",
   "mimetype": "text/x-python",
   "name": "python",
   "nbconvert_exporter": "python",
   "pygments_lexer": "ipython3",
   "version": "3.11.5"
  },
  "toc-autonumbering": false,
  "toc-showcode": false,
  "toc-showmarkdowntxt": false,
  "toc-showtags": false
 },
 "nbformat": 4,
 "nbformat_minor": 5
}
