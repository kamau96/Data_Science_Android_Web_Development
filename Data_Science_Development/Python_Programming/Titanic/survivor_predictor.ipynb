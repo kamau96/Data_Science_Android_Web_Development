{
 "cells": [
  {
   "cell_type": "markdown",
   "id": "a7131cd5-af7a-4b6b-9a28-bc4aa53bef72",
   "metadata": {
    "tags": []
   },
   "source": [
    "# This Notebook explores the Titanic dataset and tries to predict if a passenger died."
   ]
  },
  {
   "cell_type": "markdown",
   "id": "ab8571fa-7734-4aba-8ecc-a78a50cebf8d",
   "metadata": {
    "tags": []
   },
   "source": [
    "### Loading and Viewing the datasets. "
   ]
  },
  {
   "cell_type": "code",
   "execution_count": 3,
   "id": "48fd571b-eb81-4d71-9692-e20ef95b68d2",
   "metadata": {
    "tags": []
   },
   "outputs": [],
   "source": [
    "# Load libraries for EDA.\n",
    "import pandas as pd\n",
    "import numpy as np \n",
    "import matplotlib.pyplot as plt"
   ]
  },
  {
   "cell_type": "code",
   "execution_count": 4,
   "id": "4e70d0f3-4873-4de3-91ff-8317e160f8bf",
   "metadata": {
    "tags": []
   },
   "outputs": [],
   "source": [
    "# Load required data\n",
    "path = \"../../../Data/titanic/\"\n",
    "train = pd.read_csv(path + \"train.csv\")\n",
    "test = pd.read_csv(path + \"test.csv\")"
   ]
  },
  {
   "cell_type": "markdown",
   "id": "04772cdb-8dc9-4f3b-b076-f51e361ecd43",
   "metadata": {},
   "source": [
    "Let's peek at the three datasets and observe their features."
   ]
  },
  {
   "cell_type": "code",
   "execution_count": 6,
   "id": "5dfa0136-2953-4954-b36b-36a37583c86a",
   "metadata": {
    "tags": []
   },
   "outputs": [
    {
     "data": {
      "text/html": [
       "<div>\n",
       "<style scoped>\n",
       "    .dataframe tbody tr th:only-of-type {\n",
       "        vertical-align: middle;\n",
       "    }\n",
       "\n",
       "    .dataframe tbody tr th {\n",
       "        vertical-align: top;\n",
       "    }\n",
       "\n",
       "    .dataframe thead th {\n",
       "        text-align: right;\n",
       "    }\n",
       "</style>\n",
       "<table border=\"1\" class=\"dataframe\">\n",
       "  <thead>\n",
       "    <tr style=\"text-align: right;\">\n",
       "      <th></th>\n",
       "      <th>PassengerId</th>\n",
       "      <th>Survived</th>\n",
       "      <th>Pclass</th>\n",
       "      <th>Name</th>\n",
       "      <th>Sex</th>\n",
       "      <th>Age</th>\n",
       "      <th>SibSp</th>\n",
       "      <th>Parch</th>\n",
       "      <th>Ticket</th>\n",
       "      <th>Fare</th>\n",
       "      <th>Cabin</th>\n",
       "      <th>Embarked</th>\n",
       "    </tr>\n",
       "  </thead>\n",
       "  <tbody>\n",
       "    <tr>\n",
       "      <th>0</th>\n",
       "      <td>1</td>\n",
       "      <td>0</td>\n",
       "      <td>3</td>\n",
       "      <td>Braund, Mr. Owen Harris</td>\n",
       "      <td>male</td>\n",
       "      <td>22.0</td>\n",
       "      <td>1</td>\n",
       "      <td>0</td>\n",
       "      <td>A/5 21171</td>\n",
       "      <td>7.2500</td>\n",
       "      <td>NaN</td>\n",
       "      <td>S</td>\n",
       "    </tr>\n",
       "    <tr>\n",
       "      <th>1</th>\n",
       "      <td>2</td>\n",
       "      <td>1</td>\n",
       "      <td>1</td>\n",
       "      <td>Cumings, Mrs. John Bradley (Florence Briggs Th...</td>\n",
       "      <td>female</td>\n",
       "      <td>38.0</td>\n",
       "      <td>1</td>\n",
       "      <td>0</td>\n",
       "      <td>PC 17599</td>\n",
       "      <td>71.2833</td>\n",
       "      <td>C85</td>\n",
       "      <td>C</td>\n",
       "    </tr>\n",
       "    <tr>\n",
       "      <th>2</th>\n",
       "      <td>3</td>\n",
       "      <td>1</td>\n",
       "      <td>3</td>\n",
       "      <td>Heikkinen, Miss. Laina</td>\n",
       "      <td>female</td>\n",
       "      <td>26.0</td>\n",
       "      <td>0</td>\n",
       "      <td>0</td>\n",
       "      <td>STON/O2. 3101282</td>\n",
       "      <td>7.9250</td>\n",
       "      <td>NaN</td>\n",
       "      <td>S</td>\n",
       "    </tr>\n",
       "    <tr>\n",
       "      <th>3</th>\n",
       "      <td>4</td>\n",
       "      <td>1</td>\n",
       "      <td>1</td>\n",
       "      <td>Futrelle, Mrs. Jacques Heath (Lily May Peel)</td>\n",
       "      <td>female</td>\n",
       "      <td>35.0</td>\n",
       "      <td>1</td>\n",
       "      <td>0</td>\n",
       "      <td>113803</td>\n",
       "      <td>53.1000</td>\n",
       "      <td>C123</td>\n",
       "      <td>S</td>\n",
       "    </tr>\n",
       "    <tr>\n",
       "      <th>4</th>\n",
       "      <td>5</td>\n",
       "      <td>0</td>\n",
       "      <td>3</td>\n",
       "      <td>Allen, Mr. William Henry</td>\n",
       "      <td>male</td>\n",
       "      <td>35.0</td>\n",
       "      <td>0</td>\n",
       "      <td>0</td>\n",
       "      <td>373450</td>\n",
       "      <td>8.0500</td>\n",
       "      <td>NaN</td>\n",
       "      <td>S</td>\n",
       "    </tr>\n",
       "  </tbody>\n",
       "</table>\n",
       "</div>"
      ],
      "text/plain": [
       "   PassengerId  Survived  Pclass  \\\n",
       "0            1         0       3   \n",
       "1            2         1       1   \n",
       "2            3         1       3   \n",
       "3            4         1       1   \n",
       "4            5         0       3   \n",
       "\n",
       "                                                Name     Sex   Age  SibSp  \\\n",
       "0                            Braund, Mr. Owen Harris    male  22.0      1   \n",
       "1  Cumings, Mrs. John Bradley (Florence Briggs Th...  female  38.0      1   \n",
       "2                             Heikkinen, Miss. Laina  female  26.0      0   \n",
       "3       Futrelle, Mrs. Jacques Heath (Lily May Peel)  female  35.0      1   \n",
       "4                           Allen, Mr. William Henry    male  35.0      0   \n",
       "\n",
       "   Parch            Ticket     Fare Cabin Embarked  \n",
       "0      0         A/5 21171   7.2500   NaN        S  \n",
       "1      0          PC 17599  71.2833   C85        C  \n",
       "2      0  STON/O2. 3101282   7.9250   NaN        S  \n",
       "3      0            113803  53.1000  C123        S  \n",
       "4      0            373450   8.0500   NaN        S  "
      ]
     },
     "execution_count": 6,
     "metadata": {},
     "output_type": "execute_result"
    }
   ],
   "source": [
    "train.head()"
   ]
  },
  {
   "cell_type": "markdown",
   "id": "66148045-8f98-473a-a8c9-2c1c47d5931e",
   "metadata": {},
   "source": [
    "The attributes have the following meaning:\n",
    "\n",
    "- PassengerId: a unique identifier for each passenger\n",
    "- Survived: that's the target, 0 means the passenger did not survive, while 1 means he/she survived.\n",
    "- Pclass: passenger class.\n",
    "- Name, Sex, Age: self-explanatory\n",
    "- SibSp: how many siblings & spouses of the passenger aboard the Titanic.\n",
    "- Parch: how many children & parents of the passenger aboard the Titanic.\n",
    "- Ticket: ticket id\n",
    "- Fare: price paid (in pounds)\n",
    "- Cabin: passenger's cabin number\n",
    "- Embarked: where the passenger embarked the Titanic"
   ]
  },
  {
   "cell_type": "code",
   "execution_count": 8,
   "id": "cef11d02-b0d2-4d13-b032-10341aefe7aa",
   "metadata": {
    "tags": []
   },
   "outputs": [
    {
     "data": {
      "text/html": [
       "<div>\n",
       "<style scoped>\n",
       "    .dataframe tbody tr th:only-of-type {\n",
       "        vertical-align: middle;\n",
       "    }\n",
       "\n",
       "    .dataframe tbody tr th {\n",
       "        vertical-align: top;\n",
       "    }\n",
       "\n",
       "    .dataframe thead th {\n",
       "        text-align: right;\n",
       "    }\n",
       "</style>\n",
       "<table border=\"1\" class=\"dataframe\">\n",
       "  <thead>\n",
       "    <tr style=\"text-align: right;\">\n",
       "      <th></th>\n",
       "      <th>PassengerId</th>\n",
       "      <th>Pclass</th>\n",
       "      <th>Name</th>\n",
       "      <th>Sex</th>\n",
       "      <th>Age</th>\n",
       "      <th>SibSp</th>\n",
       "      <th>Parch</th>\n",
       "      <th>Ticket</th>\n",
       "      <th>Fare</th>\n",
       "      <th>Cabin</th>\n",
       "      <th>Embarked</th>\n",
       "    </tr>\n",
       "  </thead>\n",
       "  <tbody>\n",
       "    <tr>\n",
       "      <th>0</th>\n",
       "      <td>892</td>\n",
       "      <td>3</td>\n",
       "      <td>Kelly, Mr. James</td>\n",
       "      <td>male</td>\n",
       "      <td>34.5</td>\n",
       "      <td>0</td>\n",
       "      <td>0</td>\n",
       "      <td>330911</td>\n",
       "      <td>7.8292</td>\n",
       "      <td>NaN</td>\n",
       "      <td>Q</td>\n",
       "    </tr>\n",
       "    <tr>\n",
       "      <th>1</th>\n",
       "      <td>893</td>\n",
       "      <td>3</td>\n",
       "      <td>Wilkes, Mrs. James (Ellen Needs)</td>\n",
       "      <td>female</td>\n",
       "      <td>47.0</td>\n",
       "      <td>1</td>\n",
       "      <td>0</td>\n",
       "      <td>363272</td>\n",
       "      <td>7.0000</td>\n",
       "      <td>NaN</td>\n",
       "      <td>S</td>\n",
       "    </tr>\n",
       "    <tr>\n",
       "      <th>2</th>\n",
       "      <td>894</td>\n",
       "      <td>2</td>\n",
       "      <td>Myles, Mr. Thomas Francis</td>\n",
       "      <td>male</td>\n",
       "      <td>62.0</td>\n",
       "      <td>0</td>\n",
       "      <td>0</td>\n",
       "      <td>240276</td>\n",
       "      <td>9.6875</td>\n",
       "      <td>NaN</td>\n",
       "      <td>Q</td>\n",
       "    </tr>\n",
       "    <tr>\n",
       "      <th>3</th>\n",
       "      <td>895</td>\n",
       "      <td>3</td>\n",
       "      <td>Wirz, Mr. Albert</td>\n",
       "      <td>male</td>\n",
       "      <td>27.0</td>\n",
       "      <td>0</td>\n",
       "      <td>0</td>\n",
       "      <td>315154</td>\n",
       "      <td>8.6625</td>\n",
       "      <td>NaN</td>\n",
       "      <td>S</td>\n",
       "    </tr>\n",
       "    <tr>\n",
       "      <th>4</th>\n",
       "      <td>896</td>\n",
       "      <td>3</td>\n",
       "      <td>Hirvonen, Mrs. Alexander (Helga E Lindqvist)</td>\n",
       "      <td>female</td>\n",
       "      <td>22.0</td>\n",
       "      <td>1</td>\n",
       "      <td>1</td>\n",
       "      <td>3101298</td>\n",
       "      <td>12.2875</td>\n",
       "      <td>NaN</td>\n",
       "      <td>S</td>\n",
       "    </tr>\n",
       "  </tbody>\n",
       "</table>\n",
       "</div>"
      ],
      "text/plain": [
       "   PassengerId  Pclass                                          Name     Sex  \\\n",
       "0          892       3                              Kelly, Mr. James    male   \n",
       "1          893       3              Wilkes, Mrs. James (Ellen Needs)  female   \n",
       "2          894       2                     Myles, Mr. Thomas Francis    male   \n",
       "3          895       3                              Wirz, Mr. Albert    male   \n",
       "4          896       3  Hirvonen, Mrs. Alexander (Helga E Lindqvist)  female   \n",
       "\n",
       "    Age  SibSp  Parch   Ticket     Fare Cabin Embarked  \n",
       "0  34.5      0      0   330911   7.8292   NaN        Q  \n",
       "1  47.0      1      0   363272   7.0000   NaN        S  \n",
       "2  62.0      0      0   240276   9.6875   NaN        Q  \n",
       "3  27.0      0      0   315154   8.6625   NaN        S  \n",
       "4  22.0      1      1  3101298  12.2875   NaN        S  "
      ]
     },
     "execution_count": 8,
     "metadata": {},
     "output_type": "execute_result"
    }
   ],
   "source": [
    "test.head()"
   ]
  },
  {
   "cell_type": "code",
   "execution_count": 9,
   "id": "bc7a87f5-3b25-431f-b8e2-2bb33c9a5871",
   "metadata": {
    "tags": []
   },
   "outputs": [],
   "source": [
    "# Explicity make the passenger id the index.\n",
    "train = train.set_index(\"PassengerId\")\n",
    "test = test.set_index(\"PassengerId\")"
   ]
  },
  {
   "cell_type": "markdown",
   "id": "3c653822-6789-444b-994f-af3522ad8f90",
   "metadata": {
    "tags": []
   },
   "source": [
    "### Data Cleaning."
   ]
  },
  {
   "cell_type": "code",
   "execution_count": 11,
   "id": "d3cfdf4b-798e-466d-8f24-23812f526003",
   "metadata": {
    "tags": []
   },
   "outputs": [
    {
     "name": "stdout",
     "output_type": "stream",
     "text": [
      "<class 'pandas.core.frame.DataFrame'>\n",
      "Index: 891 entries, 1 to 891\n",
      "Data columns (total 11 columns):\n",
      " #   Column    Non-Null Count  Dtype  \n",
      "---  ------    --------------  -----  \n",
      " 0   Survived  891 non-null    int64  \n",
      " 1   Pclass    891 non-null    int64  \n",
      " 2   Name      891 non-null    object \n",
      " 3   Sex       891 non-null    object \n",
      " 4   Age       714 non-null    float64\n",
      " 5   SibSp     891 non-null    int64  \n",
      " 6   Parch     891 non-null    int64  \n",
      " 7   Ticket    891 non-null    object \n",
      " 8   Fare      891 non-null    float64\n",
      " 9   Cabin     204 non-null    object \n",
      " 10  Embarked  889 non-null    object \n",
      "dtypes: float64(2), int64(4), object(5)\n",
      "memory usage: 83.5+ KB\n"
     ]
    }
   ],
   "source": [
    "# Check data type and nulls.\n",
    "train.info()"
   ]
  },
  {
   "cell_type": "code",
   "execution_count": 12,
   "id": "fa2fd29f-b363-4978-a0d6-5f29898ee79e",
   "metadata": {},
   "outputs": [
    {
     "name": "stdout",
     "output_type": "stream",
     "text": [
      "<class 'pandas.core.frame.DataFrame'>\n",
      "Index: 418 entries, 892 to 1309\n",
      "Data columns (total 10 columns):\n",
      " #   Column    Non-Null Count  Dtype  \n",
      "---  ------    --------------  -----  \n",
      " 0   Pclass    418 non-null    int64  \n",
      " 1   Name      418 non-null    object \n",
      " 2   Sex       418 non-null    object \n",
      " 3   Age       332 non-null    float64\n",
      " 4   SibSp     418 non-null    int64  \n",
      " 5   Parch     418 non-null    int64  \n",
      " 6   Ticket    418 non-null    object \n",
      " 7   Fare      417 non-null    float64\n",
      " 8   Cabin     91 non-null     object \n",
      " 9   Embarked  418 non-null    object \n",
      "dtypes: float64(2), int64(3), object(5)\n",
      "memory usage: 35.9+ KB\n"
     ]
    }
   ],
   "source": [
    "test.info()"
   ]
  },
  {
   "cell_type": "code",
   "execution_count": 13,
   "id": "0e4d510b-c03f-4778-8a08-3bcfb5c83cc3",
   "metadata": {},
   "outputs": [
    {
     "name": "stdout",
     "output_type": "stream",
     "text": [
      "Train set has the following information missing:\n",
      "Column Age has 177 missing values which is 19.87%\n",
      "Column Cabin has 687 missing values which is 77.1%\n",
      "Column Embarked has 2 missing values which is 0.22%\n",
      "\n",
      " -------------------------------------------------- \n",
      "\n",
      "Test set has the following information missing:\n",
      "Column Age has 86 missing values which is 20.57%\n",
      "Column Fare has 1 missing values which is 0.24%\n",
      "Column Cabin has 327 missing values which is 78.23%\n"
     ]
    }
   ],
   "source": [
    "def percent_null(data):\n",
    "    \"\"\"\n",
    "    This function outputs columns with missing values with their percentages.\n",
    "    \"\"\"\n",
    "    cols_with_null = list()\n",
    "    cols = data.columns\n",
    "    for col in cols:\n",
    "        null_count = data[col].isnull().value_counts()\n",
    "        if len(null_count) == 2:\n",
    "            null_count_percent = np.round((null_count[True]/len(data))*100, 2)\n",
    "            cols_with_null.append(col)\n",
    "            print(f\"Column {col} has {null_count[True]} missing values which is {null_count_percent}%\")\n",
    "    return cols_with_null\n",
    "print(\"Train set has the following information missing:\")\n",
    "cols_with_null_train = percent_null(train)\n",
    "print(f\"\\n {'-'*50} \\n\")\n",
    "print(\"Test set has the following information missing:\")\n",
    "cols_with_null_test = percent_null(test)"
   ]
  },
  {
   "cell_type": "markdown",
   "id": "8e3c1b3e-6189-4a8d-97fb-f91c928ba85b",
   "metadata": {},
   "source": [
    "We will replace missing values based on passenger class and sex."
   ]
  },
  {
   "cell_type": "code",
   "execution_count": 15,
   "id": "494cf905-d30f-435b-bd37-0f20da5bc4cf",
   "metadata": {
    "tags": []
   },
   "outputs": [],
   "source": [
    "def fill_missing(data, null_cols):\n",
    "    \"\"\"\n",
    "    Fills numerical columns with missing values using their mean based on grouping.\n",
    "    Categorical columns are filled using mode.\n",
    "    \"\"\"\n",
    "    for col in null_cols:\n",
    "        if data[col].dtype == 'object':\n",
    "            data[col] = data.groupby([\"Pclass\", \"Sex\"])[col].transform(lambda x: x.fillna(x.mode()[0]))\n",
    "        else:\n",
    "            data[col] = data.groupby([\"Pclass\", \"Sex\"])[col].transform(lambda x: x.fillna(x.mean()))\n",
    "    return data\n",
    "train = fill_missing(train, cols_with_null_train)\n",
    "test = fill_missing(test, cols_with_null_test)"
   ]
  },
  {
   "cell_type": "code",
   "execution_count": 16,
   "id": "0ed00b7b-5c9d-429b-96f3-ff192d0579bd",
   "metadata": {
    "tags": []
   },
   "outputs": [
    {
     "name": "stdout",
     "output_type": "stream",
     "text": [
      "<class 'pandas.core.frame.DataFrame'>\n",
      "Index: 891 entries, 1 to 891\n",
      "Data columns (total 11 columns):\n",
      " #   Column    Non-Null Count  Dtype  \n",
      "---  ------    --------------  -----  \n",
      " 0   Survived  891 non-null    int64  \n",
      " 1   Pclass    891 non-null    int64  \n",
      " 2   Name      891 non-null    object \n",
      " 3   Sex       891 non-null    object \n",
      " 4   Age       891 non-null    float64\n",
      " 5   SibSp     891 non-null    int64  \n",
      " 6   Parch     891 non-null    int64  \n",
      " 7   Ticket    891 non-null    object \n",
      " 8   Fare      891 non-null    float64\n",
      " 9   Cabin     891 non-null    object \n",
      " 10  Embarked  891 non-null    object \n",
      "dtypes: float64(2), int64(4), object(5)\n",
      "memory usage: 83.5+ KB\n"
     ]
    }
   ],
   "source": [
    "train.info()"
   ]
  },
  {
   "cell_type": "code",
   "execution_count": 17,
   "id": "2349d97a-b766-4d23-aec9-40f631499ac0",
   "metadata": {
    "tags": []
   },
   "outputs": [
    {
     "name": "stdout",
     "output_type": "stream",
     "text": [
      "<class 'pandas.core.frame.DataFrame'>\n",
      "Index: 418 entries, 892 to 1309\n",
      "Data columns (total 10 columns):\n",
      " #   Column    Non-Null Count  Dtype  \n",
      "---  ------    --------------  -----  \n",
      " 0   Pclass    418 non-null    int64  \n",
      " 1   Name      418 non-null    object \n",
      " 2   Sex       418 non-null    object \n",
      " 3   Age       418 non-null    float64\n",
      " 4   SibSp     418 non-null    int64  \n",
      " 5   Parch     418 non-null    int64  \n",
      " 6   Ticket    418 non-null    object \n",
      " 7   Fare      418 non-null    float64\n",
      " 8   Cabin     418 non-null    object \n",
      " 9   Embarked  418 non-null    object \n",
      "dtypes: float64(2), int64(3), object(5)\n",
      "memory usage: 35.9+ KB\n"
     ]
    }
   ],
   "source": [
    "test.info()"
   ]
  },
  {
   "cell_type": "markdown",
   "id": "74705dd6-d322-418a-b0cb-caa2262e6e2f",
   "metadata": {
    "tags": []
   },
   "source": [
    "### Let's do some light Exploratory Data Analysis."
   ]
  },
  {
   "cell_type": "code",
   "execution_count": 19,
   "id": "b5193d1e-1aee-4313-8cd6-e88ccf9af2f4",
   "metadata": {},
   "outputs": [],
   "source": [
    "# Reduces the number of features.\n",
    "train[\"Related\"] = train[\"SibSp\"] + train[\"Parch\"]\n",
    "test[\"Related\"] = test[\"SibSp\"] + test[\"Parch\"]\n",
    "\n",
    "train.drop([\"SibSp\", \"Parch\"], axis=1, inplace=True)\n",
    "test.drop([\"SibSp\", \"Parch\"], axis=1, inplace=True)"
   ]
  },
  {
   "cell_type": "code",
   "execution_count": 20,
   "id": "c0e4c5d4-e9ac-431a-b526-905cb145f203",
   "metadata": {
    "tags": []
   },
   "outputs": [
    {
     "name": "stdout",
     "output_type": "stream",
     "text": [
      "342 people survived whereas 549 people died representing a 38.38% survival rate\n"
     ]
    }
   ],
   "source": [
    "survival = train[\"Survived\"].value_counts()\n",
    "print(f\"{survival[1]} people survived whereas {survival[0]} people died representing a {(survival[1]/len(train))*100:.2f}% survival rate\")"
   ]
  },
  {
   "cell_type": "code",
   "execution_count": 21,
   "id": "a87e467f-9a7e-4510-86d1-b0b5aee9b171",
   "metadata": {
    "tags": []
   },
   "outputs": [
    {
     "data": {
      "text/plain": [
       "Sex\n",
       "male      577\n",
       "female    314\n",
       "Name: count, dtype: int64"
      ]
     },
     "execution_count": 21,
     "metadata": {},
     "output_type": "execute_result"
    }
   ],
   "source": [
    "train[\"Sex\"].value_counts()"
   ]
  },
  {
   "cell_type": "code",
   "execution_count": 22,
   "id": "c14c7904-a22a-446e-a33e-d7cbdb03f221",
   "metadata": {
    "tags": []
   },
   "outputs": [
    {
     "data": {
      "text/plain": [
       "29.318642716644145"
      ]
     },
     "execution_count": 22,
     "metadata": {},
     "output_type": "execute_result"
    }
   ],
   "source": [
    "np.mean(train[\"Age\"])"
   ]
  },
  {
   "cell_type": "code",
   "execution_count": 23,
   "id": "397565db-854a-4923-9ed2-4ca9fb634439",
   "metadata": {},
   "outputs": [
    {
     "data": {
      "text/plain": [
       "32.204207968574636"
      ]
     },
     "execution_count": 23,
     "metadata": {},
     "output_type": "execute_result"
    }
   ],
   "source": [
    "np.mean(train[\"Fare\"])"
   ]
  },
  {
   "cell_type": "code",
   "execution_count": 24,
   "id": "0c3f5e6c-e131-4068-95a7-0b49a0d208ad",
   "metadata": {
    "tags": []
   },
   "outputs": [
    {
     "data": {
      "text/html": [
       "<div>\n",
       "<style scoped>\n",
       "    .dataframe tbody tr th:only-of-type {\n",
       "        vertical-align: middle;\n",
       "    }\n",
       "\n",
       "    .dataframe tbody tr th {\n",
       "        vertical-align: top;\n",
       "    }\n",
       "\n",
       "    .dataframe thead th {\n",
       "        text-align: right;\n",
       "    }\n",
       "</style>\n",
       "<table border=\"1\" class=\"dataframe\">\n",
       "  <thead>\n",
       "    <tr style=\"text-align: right;\">\n",
       "      <th></th>\n",
       "      <th>pclass_count</th>\n",
       "      <th>pclass_age</th>\n",
       "      <th>pclass_fare</th>\n",
       "      <th>pclass_survived</th>\n",
       "      <th>pclass_survival_rate</th>\n",
       "    </tr>\n",
       "    <tr>\n",
       "      <th>Pclass</th>\n",
       "      <th></th>\n",
       "      <th></th>\n",
       "      <th></th>\n",
       "      <th></th>\n",
       "      <th></th>\n",
       "    </tr>\n",
       "  </thead>\n",
       "  <tbody>\n",
       "    <tr>\n",
       "      <th>1</th>\n",
       "      <td>216</td>\n",
       "      <td>38.378866</td>\n",
       "      <td>84.154687</td>\n",
       "      <td>136</td>\n",
       "      <td>63.0</td>\n",
       "    </tr>\n",
       "    <tr>\n",
       "      <th>2</th>\n",
       "      <td>184</td>\n",
       "      <td>29.907295</td>\n",
       "      <td>20.662183</td>\n",
       "      <td>87</td>\n",
       "      <td>47.0</td>\n",
       "    </tr>\n",
       "    <tr>\n",
       "      <th>3</th>\n",
       "      <td>491</td>\n",
       "      <td>25.112288</td>\n",
       "      <td>13.675550</td>\n",
       "      <td>119</td>\n",
       "      <td>24.0</td>\n",
       "    </tr>\n",
       "  </tbody>\n",
       "</table>\n",
       "</div>"
      ],
      "text/plain": [
       "        pclass_count  pclass_age  pclass_fare  pclass_survived  \\\n",
       "Pclass                                                           \n",
       "1                216   38.378866    84.154687              136   \n",
       "2                184   29.907295    20.662183               87   \n",
       "3                491   25.112288    13.675550              119   \n",
       "\n",
       "        pclass_survival_rate  \n",
       "Pclass                        \n",
       "1                       63.0  \n",
       "2                       47.0  \n",
       "3                       24.0  "
      ]
     },
     "execution_count": 24,
     "metadata": {},
     "output_type": "execute_result"
    }
   ],
   "source": [
    "# Calculates aggregates of various columns based on Pclass column.\n",
    "pclass_group = train.groupby(\"Pclass\").agg(\n",
    "    pclass_count = pd.NamedAgg(column=\"Pclass\", aggfunc=\"count\"), \n",
    "    pclass_age = pd.NamedAgg(column=\"Age\", aggfunc=\"mean\"),\n",
    "    pclass_fare = pd.NamedAgg(column=\"Fare\", aggfunc=\"mean\"), \n",
    "    pclass_survived = pd.NamedAgg(column=\"Survived\", aggfunc=\"sum\"))\n",
    "pclass_group[\"pclass_survival_rate\"] = np.round((pclass_group[\"pclass_survived\"]/pclass_group[\"pclass_count\"])*100,0)\n",
    "pclass_group"
   ]
  },
  {
   "cell_type": "code",
   "execution_count": 25,
   "id": "20cddea1-090a-43cf-ba8f-8489bad2357d",
   "metadata": {
    "tags": []
   },
   "outputs": [
    {
     "data": {
      "text/html": [
       "<div>\n",
       "<style scoped>\n",
       "    .dataframe tbody tr th:only-of-type {\n",
       "        vertical-align: middle;\n",
       "    }\n",
       "\n",
       "    .dataframe tbody tr th {\n",
       "        vertical-align: top;\n",
       "    }\n",
       "\n",
       "    .dataframe thead th {\n",
       "        text-align: right;\n",
       "    }\n",
       "</style>\n",
       "<table border=\"1\" class=\"dataframe\">\n",
       "  <thead>\n",
       "    <tr style=\"text-align: right;\">\n",
       "      <th></th>\n",
       "      <th>embarked_count</th>\n",
       "      <th>embarked_age</th>\n",
       "      <th>embarked_fare</th>\n",
       "      <th>embarked_survived</th>\n",
       "      <th>embarked_survival_rate</th>\n",
       "    </tr>\n",
       "    <tr>\n",
       "      <th>Embarked</th>\n",
       "      <th></th>\n",
       "      <th></th>\n",
       "      <th></th>\n",
       "      <th></th>\n",
       "      <th></th>\n",
       "    </tr>\n",
       "  </thead>\n",
       "  <tbody>\n",
       "    <tr>\n",
       "      <th>C</th>\n",
       "      <td>168</td>\n",
       "      <td>30.461519</td>\n",
       "      <td>59.954144</td>\n",
       "      <td>93</td>\n",
       "      <td>55.0</td>\n",
       "    </tr>\n",
       "    <tr>\n",
       "      <th>Q</th>\n",
       "      <td>77</td>\n",
       "      <td>25.690425</td>\n",
       "      <td>13.276030</td>\n",
       "      <td>30</td>\n",
       "      <td>39.0</td>\n",
       "    </tr>\n",
       "    <tr>\n",
       "      <th>S</th>\n",
       "      <td>646</td>\n",
       "      <td>29.453890</td>\n",
       "      <td>27.243651</td>\n",
       "      <td>219</td>\n",
       "      <td>34.0</td>\n",
       "    </tr>\n",
       "  </tbody>\n",
       "</table>\n",
       "</div>"
      ],
      "text/plain": [
       "          embarked_count  embarked_age  embarked_fare  embarked_survived  \\\n",
       "Embarked                                                                   \n",
       "C                    168     30.461519      59.954144                 93   \n",
       "Q                     77     25.690425      13.276030                 30   \n",
       "S                    646     29.453890      27.243651                219   \n",
       "\n",
       "          embarked_survival_rate  \n",
       "Embarked                          \n",
       "C                           55.0  \n",
       "Q                           39.0  \n",
       "S                           34.0  "
      ]
     },
     "execution_count": 25,
     "metadata": {},
     "output_type": "execute_result"
    }
   ],
   "source": [
    "# Calculates aggregates of various columns based on Embarked column.\n",
    "embarked_group = train.groupby(\"Embarked\").agg(\n",
    "    embarked_count = pd.NamedAgg(column=\"Embarked\", aggfunc=\"count\"), \n",
    "    embarked_age = pd.NamedAgg(column=\"Age\", aggfunc=\"mean\"),\n",
    "    embarked_fare = pd.NamedAgg(column=\"Fare\", aggfunc=\"mean\"), \n",
    "    embarked_survived = pd.NamedAgg(column=\"Survived\", aggfunc=\"sum\"))\n",
    "embarked_group[\"embarked_survival_rate\"] = np.round((embarked_group[\"embarked_survived\"]/embarked_group[\"embarked_count\"])*100,0)\n",
    "embarked_group"
   ]
  },
  {
   "cell_type": "markdown",
   "id": "e789a945-354a-4aa2-a790-dfcc0b350022",
   "metadata": {},
   "source": [
    "Based on EDA the average fare for the trip was 32 pounds whereas the age was 29 years. As expected, the 1st class passenger paid more than the other class passenger but this margin appears to be very huge. Also, age influenced the ability of a passenger to board better classes with older passengers affording better passenger class. \n",
    "\n",
    "People in higher passenger classes seemed to have a better survival rate."
   ]
  },
  {
   "cell_type": "markdown",
   "id": "76f74f14-90fe-47ef-90ae-ff5d515c271c",
   "metadata": {
    "tags": []
   },
   "source": [
    "### Preprocessing"
   ]
  },
  {
   "cell_type": "code",
   "execution_count": 28,
   "id": "e4ccb46f-3646-4876-bd8c-17ec8f5f413b",
   "metadata": {
    "tags": []
   },
   "outputs": [],
   "source": [
    "from sklearn.preprocessing import OneHotEncoder, StandardScaler"
   ]
  },
  {
   "cell_type": "code",
   "execution_count": 29,
   "id": "98526f51-5b48-4e56-b0f8-004b83e36f56",
   "metadata": {},
   "outputs": [],
   "source": [
    "def extract_salutation(name):\n",
    "    \"\"\"\n",
    "    Function to extract salutations people used.\n",
    "    \"\"\"\n",
    "    second_name = name.split(\",\")[1]\n",
    "    salutation = second_name.split(\".\")[0].strip()\n",
    "    return salutation\n",
    "train[\"Salutation\"] = train[\"Name\"].apply(extract_salutation)\n",
    "test[\"Salutation\"] = test[\"Name\"].apply(extract_salutation)"
   ]
  },
  {
   "cell_type": "code",
   "execution_count": null,
   "id": "e0db7ed7-db2a-4011-84b4-114d47f81484",
   "metadata": {},
   "outputs": [],
   "source": [
    "train.drop(\"Name\", axis=1, inplace=True)\n",
    "test.drop(\"Name\", axis=1, inplace=True)"
   ]
  },
  {
   "cell_type": "code",
   "execution_count": 30,
   "id": "9838b151-1c70-4fc1-92ce-afa7abbfcaa4",
   "metadata": {
    "tags": []
   },
   "outputs": [],
   "source": [
    "categorical_cols = [\"Sex\", \"Ticket\", \"Cabin\", \"Embarked\", \"Salutation\"]\n",
    "numeric_cols = [\"Pclass\", \"Age\", \"Related\", \"Fare\"]"
   ]
  },
  {
   "cell_type": "code",
   "execution_count": 31,
   "id": "93892b41-d319-4a1c-9217-6b76bb190231",
   "metadata": {
    "tags": []
   },
   "outputs": [
    {
     "data": {
      "text/html": [
       "<div>\n",
       "<style scoped>\n",
       "    .dataframe tbody tr th:only-of-type {\n",
       "        vertical-align: middle;\n",
       "    }\n",
       "\n",
       "    .dataframe tbody tr th {\n",
       "        vertical-align: top;\n",
       "    }\n",
       "\n",
       "    .dataframe thead th {\n",
       "        text-align: right;\n",
       "    }\n",
       "</style>\n",
       "<table border=\"1\" class=\"dataframe\">\n",
       "  <thead>\n",
       "    <tr style=\"text-align: right;\">\n",
       "      <th></th>\n",
       "      <th>salutation_count</th>\n",
       "      <th>salutation_age</th>\n",
       "      <th>salutation_fare</th>\n",
       "      <th>salutation_survived</th>\n",
       "      <th>salutation_survival_rate</th>\n",
       "    </tr>\n",
       "    <tr>\n",
       "      <th>Salutation</th>\n",
       "      <th></th>\n",
       "      <th></th>\n",
       "      <th></th>\n",
       "      <th></th>\n",
       "      <th></th>\n",
       "    </tr>\n",
       "  </thead>\n",
       "  <tbody>\n",
       "    <tr>\n",
       "      <th>Capt</th>\n",
       "      <td>1</td>\n",
       "      <td>70.000000</td>\n",
       "      <td>71.000000</td>\n",
       "      <td>0</td>\n",
       "      <td>0.0</td>\n",
       "    </tr>\n",
       "    <tr>\n",
       "      <th>Col</th>\n",
       "      <td>2</td>\n",
       "      <td>58.000000</td>\n",
       "      <td>31.025000</td>\n",
       "      <td>1</td>\n",
       "      <td>50.0</td>\n",
       "    </tr>\n",
       "    <tr>\n",
       "      <th>Don</th>\n",
       "      <td>1</td>\n",
       "      <td>40.000000</td>\n",
       "      <td>27.720800</td>\n",
       "      <td>0</td>\n",
       "      <td>0.0</td>\n",
       "    </tr>\n",
       "    <tr>\n",
       "      <th>Dr</th>\n",
       "      <td>7</td>\n",
       "      <td>41.897341</td>\n",
       "      <td>49.168457</td>\n",
       "      <td>3</td>\n",
       "      <td>43.0</td>\n",
       "    </tr>\n",
       "    <tr>\n",
       "      <th>Jonkheer</th>\n",
       "      <td>1</td>\n",
       "      <td>38.000000</td>\n",
       "      <td>0.000000</td>\n",
       "      <td>0</td>\n",
       "      <td>0.0</td>\n",
       "    </tr>\n",
       "    <tr>\n",
       "      <th>Lady</th>\n",
       "      <td>1</td>\n",
       "      <td>48.000000</td>\n",
       "      <td>39.600000</td>\n",
       "      <td>1</td>\n",
       "      <td>100.0</td>\n",
       "    </tr>\n",
       "    <tr>\n",
       "      <th>Major</th>\n",
       "      <td>2</td>\n",
       "      <td>48.500000</td>\n",
       "      <td>28.525000</td>\n",
       "      <td>1</td>\n",
       "      <td>50.0</td>\n",
       "    </tr>\n",
       "    <tr>\n",
       "      <th>Master</th>\n",
       "      <td>40</td>\n",
       "      <td>6.767509</td>\n",
       "      <td>34.703125</td>\n",
       "      <td>23</td>\n",
       "      <td>57.0</td>\n",
       "    </tr>\n",
       "    <tr>\n",
       "      <th>Miss</th>\n",
       "      <td>182</td>\n",
       "      <td>21.916526</td>\n",
       "      <td>43.797873</td>\n",
       "      <td>127</td>\n",
       "      <td>70.0</td>\n",
       "    </tr>\n",
       "    <tr>\n",
       "      <th>Mlle</th>\n",
       "      <td>2</td>\n",
       "      <td>24.000000</td>\n",
       "      <td>59.402100</td>\n",
       "      <td>2</td>\n",
       "      <td>100.0</td>\n",
       "    </tr>\n",
       "    <tr>\n",
       "      <th>Mme</th>\n",
       "      <td>1</td>\n",
       "      <td>24.000000</td>\n",
       "      <td>69.300000</td>\n",
       "      <td>1</td>\n",
       "      <td>100.0</td>\n",
       "    </tr>\n",
       "    <tr>\n",
       "      <th>Mr</th>\n",
       "      <td>517</td>\n",
       "      <td>31.664366</td>\n",
       "      <td>24.441560</td>\n",
       "      <td>81</td>\n",
       "      <td>16.0</td>\n",
       "    </tr>\n",
       "    <tr>\n",
       "      <th>Mrs</th>\n",
       "      <td>125</td>\n",
       "      <td>34.797153</td>\n",
       "      <td>45.138533</td>\n",
       "      <td>99</td>\n",
       "      <td>79.0</td>\n",
       "    </tr>\n",
       "    <tr>\n",
       "      <th>Ms</th>\n",
       "      <td>1</td>\n",
       "      <td>28.000000</td>\n",
       "      <td>13.000000</td>\n",
       "      <td>1</td>\n",
       "      <td>100.0</td>\n",
       "    </tr>\n",
       "    <tr>\n",
       "      <th>Rev</th>\n",
       "      <td>6</td>\n",
       "      <td>43.166667</td>\n",
       "      <td>18.312500</td>\n",
       "      <td>0</td>\n",
       "      <td>0.0</td>\n",
       "    </tr>\n",
       "    <tr>\n",
       "      <th>Sir</th>\n",
       "      <td>1</td>\n",
       "      <td>49.000000</td>\n",
       "      <td>56.929200</td>\n",
       "      <td>1</td>\n",
       "      <td>100.0</td>\n",
       "    </tr>\n",
       "    <tr>\n",
       "      <th>the Countess</th>\n",
       "      <td>1</td>\n",
       "      <td>33.000000</td>\n",
       "      <td>86.500000</td>\n",
       "      <td>1</td>\n",
       "      <td>100.0</td>\n",
       "    </tr>\n",
       "  </tbody>\n",
       "</table>\n",
       "</div>"
      ],
      "text/plain": [
       "              salutation_count  salutation_age  salutation_fare  \\\n",
       "Salutation                                                        \n",
       "Capt                         1       70.000000        71.000000   \n",
       "Col                          2       58.000000        31.025000   \n",
       "Don                          1       40.000000        27.720800   \n",
       "Dr                           7       41.897341        49.168457   \n",
       "Jonkheer                     1       38.000000         0.000000   \n",
       "Lady                         1       48.000000        39.600000   \n",
       "Major                        2       48.500000        28.525000   \n",
       "Master                      40        6.767509        34.703125   \n",
       "Miss                       182       21.916526        43.797873   \n",
       "Mlle                         2       24.000000        59.402100   \n",
       "Mme                          1       24.000000        69.300000   \n",
       "Mr                         517       31.664366        24.441560   \n",
       "Mrs                        125       34.797153        45.138533   \n",
       "Ms                           1       28.000000        13.000000   \n",
       "Rev                          6       43.166667        18.312500   \n",
       "Sir                          1       49.000000        56.929200   \n",
       "the Countess                 1       33.000000        86.500000   \n",
       "\n",
       "              salutation_survived  salutation_survival_rate  \n",
       "Salutation                                                   \n",
       "Capt                            0                       0.0  \n",
       "Col                             1                      50.0  \n",
       "Don                             0                       0.0  \n",
       "Dr                              3                      43.0  \n",
       "Jonkheer                        0                       0.0  \n",
       "Lady                            1                     100.0  \n",
       "Major                           1                      50.0  \n",
       "Master                         23                      57.0  \n",
       "Miss                          127                      70.0  \n",
       "Mlle                            2                     100.0  \n",
       "Mme                             1                     100.0  \n",
       "Mr                             81                      16.0  \n",
       "Mrs                            99                      79.0  \n",
       "Ms                              1                     100.0  \n",
       "Rev                             0                       0.0  \n",
       "Sir                             1                     100.0  \n",
       "the Countess                    1                     100.0  "
      ]
     },
     "execution_count": 31,
     "metadata": {},
     "output_type": "execute_result"
    }
   ],
   "source": [
    "# Checks if the newly added column adds valueable information in relation to survival.\n",
    "salutation_group = train.groupby(\"Salutation\").agg(\n",
    "    salutation_count = pd.NamedAgg(column=\"Salutation\", aggfunc=\"count\"), \n",
    "    salutation_age = pd.NamedAgg(column=\"Age\", aggfunc=\"mean\"),\n",
    "    salutation_fare = pd.NamedAgg(column=\"Fare\", aggfunc=\"mean\"), \n",
    "    salutation_survived = pd.NamedAgg(column=\"Survived\", aggfunc=\"sum\"))\n",
    "salutation_group[\"salutation_survival_rate\"] = np.round((salutation_group[\"salutation_survived\"] /\n",
    "                                                         salutation_group[\"salutation_count\"])*100,0)\n",
    "salutation_group"
   ]
  },
  {
   "cell_type": "code",
   "execution_count": 32,
   "id": "7e505172-5eae-498d-94ec-21b9095556cd",
   "metadata": {},
   "outputs": [],
   "source": [
    "# Transforms age into categorical column.\n",
    "train[\"AgeBucket\"] = train[\"Age\"] // 15 * 15\n",
    "test[\"AgeBucket\"] = test[\"Age\"] // 15 * 15"
   ]
  },
  {
   "cell_type": "code",
   "execution_count": 33,
   "id": "f892e389-6da3-4d0c-b422-e6dbde68fb1d",
   "metadata": {
    "tags": []
   },
   "outputs": [],
   "source": [
    "# Checks if the newly added column adds valueable information in relation to survival. \n",
    "group = train[[\"AgeBucket\", \"Survived\"]].groupby(\"AgeBucket\").mean().sort_values(by=\"Survived\")\n",
    "count = train[\"AgeBucket\"].value_counts()\n",
    "agebucket_survival_count_merge = group.merge(count, how=\"left\", on=\"AgeBucket\")"
   ]
  },
  {
   "cell_type": "code",
   "execution_count": 34,
   "id": "7a5d3ba3-ad48-46ac-8add-7bc1e3b5ddac",
   "metadata": {
    "tags": []
   },
   "outputs": [
    {
     "data": {
      "text/html": [
       "<div>\n",
       "<style scoped>\n",
       "    .dataframe tbody tr th:only-of-type {\n",
       "        vertical-align: middle;\n",
       "    }\n",
       "\n",
       "    .dataframe tbody tr th {\n",
       "        vertical-align: top;\n",
       "    }\n",
       "\n",
       "    .dataframe thead th {\n",
       "        text-align: right;\n",
       "    }\n",
       "</style>\n",
       "<table border=\"1\" class=\"dataframe\">\n",
       "  <thead>\n",
       "    <tr style=\"text-align: right;\">\n",
       "      <th></th>\n",
       "      <th>Survived</th>\n",
       "      <th>count</th>\n",
       "    </tr>\n",
       "    <tr>\n",
       "      <th>AgeBucket</th>\n",
       "      <th></th>\n",
       "      <th></th>\n",
       "    </tr>\n",
       "  </thead>\n",
       "  <tbody>\n",
       "    <tr>\n",
       "      <th>60.0</th>\n",
       "      <td>0.240000</td>\n",
       "      <td>25</td>\n",
       "    </tr>\n",
       "    <tr>\n",
       "      <th>15.0</th>\n",
       "      <td>0.331081</td>\n",
       "      <td>444</td>\n",
       "    </tr>\n",
       "    <tr>\n",
       "      <th>45.0</th>\n",
       "      <td>0.404494</td>\n",
       "      <td>89</td>\n",
       "    </tr>\n",
       "    <tr>\n",
       "      <th>30.0</th>\n",
       "      <td>0.421260</td>\n",
       "      <td>254</td>\n",
       "    </tr>\n",
       "    <tr>\n",
       "      <th>0.0</th>\n",
       "      <td>0.576923</td>\n",
       "      <td>78</td>\n",
       "    </tr>\n",
       "    <tr>\n",
       "      <th>75.0</th>\n",
       "      <td>1.000000</td>\n",
       "      <td>1</td>\n",
       "    </tr>\n",
       "  </tbody>\n",
       "</table>\n",
       "</div>"
      ],
      "text/plain": [
       "           Survived  count\n",
       "AgeBucket                 \n",
       "60.0       0.240000     25\n",
       "15.0       0.331081    444\n",
       "45.0       0.404494     89\n",
       "30.0       0.421260    254\n",
       "0.0        0.576923     78\n",
       "75.0       1.000000      1"
      ]
     },
     "execution_count": 34,
     "metadata": {},
     "output_type": "execute_result"
    }
   ],
   "source": [
    "agebucket_survival_count_merge"
   ]
  },
  {
   "cell_type": "code",
   "execution_count": 44,
   "id": "cf968126-fbce-4675-927b-0aebce1e13cb",
   "metadata": {
    "tags": []
   },
   "outputs": [
    {
     "data": {
      "text/html": [
       "<div>\n",
       "<style scoped>\n",
       "    .dataframe tbody tr th:only-of-type {\n",
       "        vertical-align: middle;\n",
       "    }\n",
       "\n",
       "    .dataframe tbody tr th {\n",
       "        vertical-align: top;\n",
       "    }\n",
       "\n",
       "    .dataframe thead th {\n",
       "        text-align: right;\n",
       "    }\n",
       "</style>\n",
       "<table border=\"1\" class=\"dataframe\">\n",
       "  <thead>\n",
       "    <tr style=\"text-align: right;\">\n",
       "      <th></th>\n",
       "      <th>Survived</th>\n",
       "      <th>Pclass</th>\n",
       "      <th>Name</th>\n",
       "      <th>Sex</th>\n",
       "      <th>Age</th>\n",
       "      <th>Ticket</th>\n",
       "      <th>Fare</th>\n",
       "      <th>Cabin</th>\n",
       "      <th>Embarked</th>\n",
       "      <th>Related</th>\n",
       "      <th>Salutation</th>\n",
       "      <th>AgeBucket</th>\n",
       "    </tr>\n",
       "    <tr>\n",
       "      <th>PassengerId</th>\n",
       "      <th></th>\n",
       "      <th></th>\n",
       "      <th></th>\n",
       "      <th></th>\n",
       "      <th></th>\n",
       "      <th></th>\n",
       "      <th></th>\n",
       "      <th></th>\n",
       "      <th></th>\n",
       "      <th></th>\n",
       "      <th></th>\n",
       "      <th></th>\n",
       "    </tr>\n",
       "  </thead>\n",
       "  <tbody>\n",
       "    <tr>\n",
       "      <th>1</th>\n",
       "      <td>0</td>\n",
       "      <td>3</td>\n",
       "      <td>Braund, Mr. Owen Harris</td>\n",
       "      <td>male</td>\n",
       "      <td>22.00</td>\n",
       "      <td>A/5 21171</td>\n",
       "      <td>7.2500</td>\n",
       "      <td>F G73</td>\n",
       "      <td>S</td>\n",
       "      <td>1</td>\n",
       "      <td>Mr</td>\n",
       "      <td>15.0</td>\n",
       "    </tr>\n",
       "    <tr>\n",
       "      <th>2</th>\n",
       "      <td>1</td>\n",
       "      <td>1</td>\n",
       "      <td>Cumings, Mrs. John Bradley (Florence Briggs Th...</td>\n",
       "      <td>female</td>\n",
       "      <td>38.00</td>\n",
       "      <td>PC 17599</td>\n",
       "      <td>71.2833</td>\n",
       "      <td>C85</td>\n",
       "      <td>C</td>\n",
       "      <td>1</td>\n",
       "      <td>Mrs</td>\n",
       "      <td>30.0</td>\n",
       "    </tr>\n",
       "    <tr>\n",
       "      <th>3</th>\n",
       "      <td>1</td>\n",
       "      <td>3</td>\n",
       "      <td>Heikkinen, Miss. Laina</td>\n",
       "      <td>female</td>\n",
       "      <td>26.00</td>\n",
       "      <td>STON/O2. 3101282</td>\n",
       "      <td>7.9250</td>\n",
       "      <td>G6</td>\n",
       "      <td>S</td>\n",
       "      <td>0</td>\n",
       "      <td>Miss</td>\n",
       "      <td>15.0</td>\n",
       "    </tr>\n",
       "    <tr>\n",
       "      <th>4</th>\n",
       "      <td>1</td>\n",
       "      <td>1</td>\n",
       "      <td>Futrelle, Mrs. Jacques Heath (Lily May Peel)</td>\n",
       "      <td>female</td>\n",
       "      <td>35.00</td>\n",
       "      <td>113803</td>\n",
       "      <td>53.1000</td>\n",
       "      <td>C123</td>\n",
       "      <td>S</td>\n",
       "      <td>1</td>\n",
       "      <td>Mrs</td>\n",
       "      <td>30.0</td>\n",
       "    </tr>\n",
       "    <tr>\n",
       "      <th>5</th>\n",
       "      <td>0</td>\n",
       "      <td>3</td>\n",
       "      <td>Allen, Mr. William Henry</td>\n",
       "      <td>male</td>\n",
       "      <td>35.00</td>\n",
       "      <td>373450</td>\n",
       "      <td>8.0500</td>\n",
       "      <td>F G73</td>\n",
       "      <td>S</td>\n",
       "      <td>0</td>\n",
       "      <td>Mr</td>\n",
       "      <td>30.0</td>\n",
       "    </tr>\n",
       "    <tr>\n",
       "      <th>...</th>\n",
       "      <td>...</td>\n",
       "      <td>...</td>\n",
       "      <td>...</td>\n",
       "      <td>...</td>\n",
       "      <td>...</td>\n",
       "      <td>...</td>\n",
       "      <td>...</td>\n",
       "      <td>...</td>\n",
       "      <td>...</td>\n",
       "      <td>...</td>\n",
       "      <td>...</td>\n",
       "      <td>...</td>\n",
       "    </tr>\n",
       "    <tr>\n",
       "      <th>887</th>\n",
       "      <td>0</td>\n",
       "      <td>2</td>\n",
       "      <td>Montvila, Rev. Juozas</td>\n",
       "      <td>male</td>\n",
       "      <td>27.00</td>\n",
       "      <td>211536</td>\n",
       "      <td>13.0000</td>\n",
       "      <td>F2</td>\n",
       "      <td>S</td>\n",
       "      <td>0</td>\n",
       "      <td>Rev</td>\n",
       "      <td>15.0</td>\n",
       "    </tr>\n",
       "    <tr>\n",
       "      <th>888</th>\n",
       "      <td>1</td>\n",
       "      <td>1</td>\n",
       "      <td>Graham, Miss. Margaret Edith</td>\n",
       "      <td>female</td>\n",
       "      <td>19.00</td>\n",
       "      <td>112053</td>\n",
       "      <td>30.0000</td>\n",
       "      <td>B42</td>\n",
       "      <td>S</td>\n",
       "      <td>0</td>\n",
       "      <td>Miss</td>\n",
       "      <td>15.0</td>\n",
       "    </tr>\n",
       "    <tr>\n",
       "      <th>889</th>\n",
       "      <td>0</td>\n",
       "      <td>3</td>\n",
       "      <td>Johnston, Miss. Catherine Helen \"Carrie\"</td>\n",
       "      <td>female</td>\n",
       "      <td>21.75</td>\n",
       "      <td>W./C. 6607</td>\n",
       "      <td>23.4500</td>\n",
       "      <td>G6</td>\n",
       "      <td>S</td>\n",
       "      <td>3</td>\n",
       "      <td>Miss</td>\n",
       "      <td>15.0</td>\n",
       "    </tr>\n",
       "    <tr>\n",
       "      <th>890</th>\n",
       "      <td>1</td>\n",
       "      <td>1</td>\n",
       "      <td>Behr, Mr. Karl Howell</td>\n",
       "      <td>male</td>\n",
       "      <td>26.00</td>\n",
       "      <td>111369</td>\n",
       "      <td>30.0000</td>\n",
       "      <td>C148</td>\n",
       "      <td>C</td>\n",
       "      <td>0</td>\n",
       "      <td>Mr</td>\n",
       "      <td>15.0</td>\n",
       "    </tr>\n",
       "    <tr>\n",
       "      <th>891</th>\n",
       "      <td>0</td>\n",
       "      <td>3</td>\n",
       "      <td>Dooley, Mr. Patrick</td>\n",
       "      <td>male</td>\n",
       "      <td>32.00</td>\n",
       "      <td>370376</td>\n",
       "      <td>7.7500</td>\n",
       "      <td>F G73</td>\n",
       "      <td>Q</td>\n",
       "      <td>0</td>\n",
       "      <td>Mr</td>\n",
       "      <td>30.0</td>\n",
       "    </tr>\n",
       "  </tbody>\n",
       "</table>\n",
       "<p>891 rows × 12 columns</p>\n",
       "</div>"
      ],
      "text/plain": [
       "             Survived  Pclass  \\\n",
       "PassengerId                     \n",
       "1                   0       3   \n",
       "2                   1       1   \n",
       "3                   1       3   \n",
       "4                   1       1   \n",
       "5                   0       3   \n",
       "...               ...     ...   \n",
       "887                 0       2   \n",
       "888                 1       1   \n",
       "889                 0       3   \n",
       "890                 1       1   \n",
       "891                 0       3   \n",
       "\n",
       "                                                          Name     Sex    Age  \\\n",
       "PassengerId                                                                     \n",
       "1                                      Braund, Mr. Owen Harris    male  22.00   \n",
       "2            Cumings, Mrs. John Bradley (Florence Briggs Th...  female  38.00   \n",
       "3                                       Heikkinen, Miss. Laina  female  26.00   \n",
       "4                 Futrelle, Mrs. Jacques Heath (Lily May Peel)  female  35.00   \n",
       "5                                     Allen, Mr. William Henry    male  35.00   \n",
       "...                                                        ...     ...    ...   \n",
       "887                                      Montvila, Rev. Juozas    male  27.00   \n",
       "888                               Graham, Miss. Margaret Edith  female  19.00   \n",
       "889                   Johnston, Miss. Catherine Helen \"Carrie\"  female  21.75   \n",
       "890                                      Behr, Mr. Karl Howell    male  26.00   \n",
       "891                                        Dooley, Mr. Patrick    male  32.00   \n",
       "\n",
       "                       Ticket     Fare  Cabin Embarked  Related Salutation  \\\n",
       "PassengerId                                                                  \n",
       "1                   A/5 21171   7.2500  F G73        S        1         Mr   \n",
       "2                    PC 17599  71.2833    C85        C        1        Mrs   \n",
       "3            STON/O2. 3101282   7.9250     G6        S        0       Miss   \n",
       "4                      113803  53.1000   C123        S        1        Mrs   \n",
       "5                      373450   8.0500  F G73        S        0         Mr   \n",
       "...                       ...      ...    ...      ...      ...        ...   \n",
       "887                    211536  13.0000     F2        S        0        Rev   \n",
       "888                    112053  30.0000    B42        S        0       Miss   \n",
       "889                W./C. 6607  23.4500     G6        S        3       Miss   \n",
       "890                    111369  30.0000   C148        C        0         Mr   \n",
       "891                    370376   7.7500  F G73        Q        0         Mr   \n",
       "\n",
       "             AgeBucket  \n",
       "PassengerId             \n",
       "1                 15.0  \n",
       "2                 30.0  \n",
       "3                 15.0  \n",
       "4                 30.0  \n",
       "5                 30.0  \n",
       "...                ...  \n",
       "887               15.0  \n",
       "888               15.0  \n",
       "889               15.0  \n",
       "890               15.0  \n",
       "891               30.0  \n",
       "\n",
       "[891 rows x 12 columns]"
      ]
     },
     "execution_count": 44,
     "metadata": {},
     "output_type": "execute_result"
    }
   ],
   "source": [
    "train"
   ]
  },
  {
   "cell_type": "code",
   "execution_count": 35,
   "id": "9ee7adab-cb10-4e6c-8ddc-1dbca64aea33",
   "metadata": {
    "tags": []
   },
   "outputs": [
    {
     "ename": "ValueError",
     "evalue": "Found unknown categories ['Johansson, Mr. Nils', 'McCarthy, Miss. Catherine Katie\"\"', 'Samaan, Mr. Elias', 'Moubarek, Mrs. George (Omine Amenia\" Alexander)\"', 'Katavelas, Mr. Vassilios (Catavelas Vassilios\")\"', 'Carrau, Mr. Jose Pedro', 'Omont, Mr. Alfred Fernand', 'Risien, Mrs. Samuel (Emma)', 'Canavan, Mr. Patrick', 'Geiger, Miss. Amalie', 'Cassebeer, Mrs. Henry Arthur Jr (Eleanor Genevieve Fosdick)', 'Williams, Mr. Richard Norris II', 'Frolicher-Stehli, Mrs. Maxmillian (Margaretha Emerentia Stehli)', 'Khalil, Mr. Betros', 'Drew, Master. Marshall Brines', 'Kink-Heilmann, Mr. Anton', 'Kink, Miss. Maria', 'Kiernan, Mr. John', 'Ryerson, Master. John Borie', 'Ware, Mr. William Jeffery', 'Ford, Mr. Edward Watson', 'Aks, Master. Philip Frank', 'Brown, Miss. Edith Eileen', 'Rowe, Mr. Alfred G', 'Hyman, Mr. Abraham', 'Mulvihill, Miss. Bertha E', 'Riihivouri, Miss. Susanna Juhantytar Sanni\"\"', 'Hiltunen, Miss. Marta', 'Carver, Mr. Alfred John', 'Jefferys, Mr. Ernest Wilfred', 'Hocking, Miss. Ellen Nellie\"\"', 'Harder, Mrs. George Achilles (Dorothy Annan)', 'Asplund, Master. Carl Edgar', 'Giles, Mr. Ralph', 'Ware, Mr. Frederick', 'Keeping, Mr. Edwin', \"McNamee, Mrs. Neal (Eileen O'Leary)\", 'White, Mrs. John Stuart (Ella Holmes)', 'Bjorklund, Mr. Ernst Herbert', 'Davies, Mr. Joseph', 'Goodwin, Mr. Charles Frederick', 'Daher, Mr. Shedid', 'Thomas, Mr. Charles P', 'Pokrnic, Mr. Tome', 'Clarke, Mr. Charles Valentine', 'Linehan, Mr. Michael', 'Everett, Mr. Thomas James', 'McCoy, Miss. Alicia', 'Kink-Heilmann, Mrs. Anton (Luise Heilmann)', 'Andersson, Miss. Ida Augusta Margareta', 'Aldworth, Mr. Charles Augustus', 'Beauchamp, Mr. Henry James', 'Touma, Miss. Maria Youssef', 'Ryerson, Mr. Arthur Larned', 'Davies, Mr. Evan', 'Compton, Mr. Alexander Taylor Jr', 'Burns, Miss. Mary Delia', 'Wenzel, Mr. Linhart', 'Pulbaum, Mr. Franz', 'Salomon, Mr. Abraham L', 'Vendel, Mr. Olof Edvin', 'Makinen, Mr. Kalle Edvard', 'Walcroft, Miss. Nellie', 'Stanton, Mr. Samuel Ward', 'Foley, Mr. Joseph', 'Robins, Mr. Alexander A', 'Cardeza, Mrs. James Warburton Martinez (Charlotte Wardle Drake)', 'Hagardon, Miss. Kate', 'de Brito, Mr. Jose Joaquim', 'Andrew, Mr. Frank Thomas', 'Howard, Miss. May Elizabeth', 'Franklin, Mr. Thomas Parham', 'Spencer, Mr. William Augustus', 'Hee, Mr. Ling', 'Louch, Mr. Charles Alexander', 'Buckley, Miss. Katherine', 'Mahon, Miss. Bridget Delia', 'Spector, Mr. Woolf', 'Ryerson, Mrs. Arthur Larned (Emily Maria Borie)', 'Lithman, Mr. Simon', 'Brobeck, Mr. Karl Rudolf', 'Becker, Miss. Ruth Elizabeth', 'Kennedy, Mr. John', 'Bradley, Miss. Bridget Delia', 'Fillbrook, Mr. Joseph Charles', 'Saether, Mr. Simon Sivertsen', 'Lyntakoff, Mr. Stanko', 'Nilsson, Mr. August Ferdinand', 'Peacock, Miss. Treasteall', 'Warren, Mr. Charles William', 'Lefebre, Mrs. Frank (Frances)', 'Pokrnic, Mr. Mate', 'Chaudanson, Miss. Victorine', 'Franklin, Mr. Charles (Charles Fardon)', 'Peter, Master. Michael J', 'Cacic, Miss. Manda', 'Herman, Mr. Samuel', 'Straus, Mr. Isidor', 'Keane, Mr. Daniel', 'Karlsson, Mr. Julius Konrad Eugen', 'Lines, Mrs. Ernest H (Elizabeth Lindsey James)', 'McCrae, Mr. Arthur Gordon', 'Drapkin, Miss. Jennie', 'Riordan, Miss. Johanna Hannah\"\"', 'Birnbaum, Mr. Jakob', 'Andersson, Mr. Johan Samuel', 'Nesson, Mr. Israel', 'Widener, Mrs. George Dunton (Eleanor Elkins)', 'Thomson, Mr. Alexander Morrison', 'Minkoff, Mr. Lazar', 'Conlon, Mr. Thomas Henry', 'Roth, Miss. Sarah A', 'Fortune, Mrs. Mark (Mary McDougald)', 'Angheloff, Mr. Minko', 'Sage, Miss. Ada', 'Enander, Mr. Ingvar', 'Sage, Master. William Henry', 'Olsen, Master. Artur Karl', 'Whabee, Mrs. George Joseph (Shawneene Abi-Saab)', 'Denbury, Mr. Herbert', 'Rice, Master. Albert', 'Baimbrigge, Mr. Charles Robert', 'Duran y More, Miss. Florentina', 'Giles, Mr. Edgar', 'Rosenbaum, Miss. Edith Louise', 'Cook, Mrs. (Selena Rogers)', 'Samaan, Mr. Hanna', 'Thomas, Mr. John', 'del Carlo, Mrs. Sebastiano (Argenia Genovesi)', 'Maguire, Mr. John Edward', 'Mallet, Mrs. Albert (Antoinette Magnin)', 'Saade, Mr. Jean Nassr', 'Weisz, Mr. Leopold', 'Dulles, Mr. William Crothers', 'Rothschild, Mr. Martin', 'Assam, Mr. Ali', 'Douglas, Mrs. Frederick Charles (Mary Helene Baxter)', 'Holthen, Mr. Johan Martin', 'Stokes, Mr. Philip Joseph', 'Sandstrom, Miss. Beatrice Irene', 'Cribb, Miss. Laura Alice', 'Petersen, Mr. Marius', 'Duquemin, Mr. Joseph', 'Payne, Mr. Vivian Ponsonby', 'Murphy, Miss. Nora', 'McCrie, Mr. James Matthew', 'Compton, Mrs. Alexander Taylor (Mary Eliza Ingersoll)', 'Doyle, Miss. Elizabeth', 'West, Miss. Barbara J', 'Drew, Mr. James Vivian', 'Klasen, Miss. Gertrud Emilia', 'Flegenheim, Mrs. Alfred (Antoinette)', 'Becker, Mrs. Allen Oliver (Nellie E Baumgardner)', 'Dintcheff, Mr. Valtcho', 'Cor, Mr. Bartol', 'Gracie, Col. Archibald IV', 'Douglas, Mrs. Walter Donald (Mahala Dutton)', 'Wheeler, Mr. Edwin Frederick\"\"', 'Oxenham, Mr. Percy Thomas', 'Mock, Mr. Philipp Edmund', 'Jefferys, Mr. Clifford Thomas', 'Baccos, Mr. Raffull', 'Peacock, Master. Alfred Edward', 'Spinner, Mr. Henry John', 'Olsson, Mr. Oscar Wilhelm', 'Matinoff, Mr. Nicola', 'Lundstrom, Mr. Thure Edvin', 'Watt, Miss. Bertha J', 'Cotterill, Mr. Henry Harry\"\"', 'Davison, Mr. Thomas Henry', 'Karun, Mr. Franz', 'Dodge, Mrs. Washington (Ruth Vidaver)', 'Asplund, Master. Filip Oscar', \"O'Connor, Mr. Patrick\", 'Abelseth, Miss. Karen Marie', 'Badman, Miss. Emily Louisa', 'Hirvonen, Mrs. Alexander (Helga E Lindqvist)', 'Henriksson, Miss. Jenny Lovisa', 'Johansson Palmquist, Mr. Oskar Leander', 'Hellstrom, Miss. Hilda Maria', 'Swane, Mr. George', 'Abbott, Master. Eugene Joseph', 'Dean, Mrs. Bertram (Eva Georgetta Light)', 'Rheims, Mr. George Alexander Lucien', 'Collett, Mr. Sidney C Stuart', 'Ashby, Mr. John', 'Wittevrongel, Mr. Camille', 'Willer, Mr. Aaron (Abi Weller\")\"', 'Niklasson, Mr. Samuel', 'Krekorian, Mr. Neshan', 'McGowan, Miss. Katherine', 'Midtsjo, Mr. Karl Albert', 'Lingane, Mr. John', 'Warren, Mr. Frank Manley', 'Ryan, Mr. Edward', 'Zakarian, Mr. Mapriededer', 'Crosby, Mrs. Edward Gifford (Catherine Elizabeth Halstead)', 'Ware, Mrs. John James (Florence Louise Long)', 'Hilliard, Mr. Herbert Henry', 'Caldwell, Mr. Albert Francis', 'Peruschitz, Rev. Joseph Maria', 'Allison, Mr. Hudson Joshua Creighton', 'Fox, Mr. Patrick', 'Straus, Mrs. Isidor (Rosalie Ida Blun)', 'Aronsson, Mr. Ernst Axel Algot', 'Cacic, Mr. Jego Grga', 'Minahan, Mrs. William Edward (Lillian E Thorpe)', 'Laroche, Miss. Louise', 'Maybery, Mr. Frank Hubert', 'Thomas, Mrs. Alexander (Thamine Thelma\")\"', 'Thomas, Mr. Tannous', 'Gale, Mr. Harry', 'Abrahamsson, Mr. Abraham August Johannes', 'Nancarrow, Mr. William Henry', 'Carlsson, Mr. Carl Robert', 'Bowen, Miss. Grace Scott', 'Svensson, Mr. Johan Cervin', 'Wilson, Miss. Helen Alice', 'Strilic, Mr. Ivan', 'Howard, Mr. Benjamin', 'Schabert, Mrs. Paul (Emma Mock)', 'Daly, Miss. Margaret Marcella Maggie\"\"', 'MacKay, Mr. George William', 'Karnes, Mrs. J Frank (Claire Bennett)', 'Johnston, Master. William Arthur Willie\"\"', 'Davies, Mr. John Samuel', 'Brady, Mr. John Bertram', 'Finoli, Mr. Luigi', 'Smith, Mr. Lucien Philip', 'Vartanian, Mr. David', 'Oliva y Ocana, Dona. Fermina', 'Chronopoulos, Mr. Demetrios', 'Bryhl, Miss. Dagmar Jenny Ingeborg ', 'Evans, Miss. Edith Corse', 'Schmidt, Mr. August', 'Willard, Miss. Constance', 'Sage, Mr. John George', 'Lennon, Miss. Mary', 'Bird, Miss. Ellen', 'Wick, Mr. George Dennick', 'Astor, Col. John Jacob', 'Andersen, Mr. Albert Karvin', 'Dyker, Mrs. Adolf Fredrik (Anna Elisabeth Judith Andersson)', 'Foley, Mr. William', 'Wilkes, Mrs. James (Ellen Needs)', 'Rasmussen, Mrs. (Lena Jacobsen Solvang)', 'Lamb, Mr. John Joseph', 'Sadowitz, Mr. Harry', 'Loring, Mr. Joseph Holland', 'Mangiavacchi, Mr. Serafino Emilio', 'Frauenthal, Mr. Isaac Gerald', 'Ilieff, Mr. Ylio', 'Phillips, Miss. Alice Frances Louisa', 'Salander, Mr. Karl Johan', 'Bentham, Miss. Lilian W', 'Case, Mr. Howard Brown', 'Pedersen, Mr. Olaf', 'Klasen, Mrs. (Hulda Kristina Eugenia Lofqvist)', 'Wirz, Mr. Albert', 'Marvin, Mrs. Daniel Warner (Mary Graham Carmichael Farquarson)', 'de Messemaeker, Mr. Guillaume Joseph', \"O'Keefe, Mr. Patrick\", 'Parker, Mr. Clifford Richard', 'Dibden, Mr. William', 'Angle, Mr. William A', 'Clark, Mrs. Walter Miller (Virginia McDowell)', 'Delalic, Mr. Redjo', 'Ostby, Miss. Helene Ragnhild', 'Cavendish, Mrs. Tyrell William (Julia Florence Siegel)', 'Asplund, Mr. Carl Oscar Vilhelm Gustafsson', 'Peacock, Mrs. Benjamin (Edith Nile)', 'Torfa, Mr. Assad', 'Wells, Mrs. Arthur Henry (Addie\" Dart Trevaskis)\"', 'Stengel, Mrs. Charles Emil Henry (Annie May Morris)', 'Bucknell, Mrs. William Robert (Emma Eliza Ward)', 'Malachard, Mr. Noel', 'Snyder, Mr. John Pillsbury', 'Danbom, Master. Gilbert Sigvard Emanuel', 'Colbert, Mr. Patrick', 'Chaffee, Mrs. Herbert Fuller (Carrie Constance Toogood)', 'Sincock, Miss. Maude', 'Brandeis, Mr. Emil', 'Barry, Miss. Julia', 'Hipkins, Mr. William Edward', 'Khalil, Mrs. Betros (Zahie Maria\" Elias)\"', 'Ware, Mr. John James', 'Rosenshine, Mr. George (Mr George Thorne\")\"', 'Coutts, Mrs. William (Winnie Minnie\" Treanor)\"', 'Candee, Mrs. Edward (Helen Churchill Hungerford)', 'Snyder, Mrs. John Pillsbury (Nelle Stevenson)', 'Sweet, Mr. George Frederick', \"O'Donoghue, Ms. Bridget\", 'Hocking, Mr. Samuel James Metcalfe', 'Sap, Mr. Julius', 'Miles, Mr. Frank', 'Wiklund, Mr. Karl Johan', 'Daniels, Miss. Sarah', 'Hays, Mr. Charles Melville', 'Hansen, Mrs. Claus Peter (Jennie L Howard)', 'Kimball, Mrs. Edwin Nelson Jr (Gertrude Parsons)', 'Demetri, Mr. Marinko', 'Herman, Miss. Kate', 'Peltomaki, Mr. Nikolai Johannes', 'Abrahim, Mrs. Joseph (Sophie Halaut Easu)', 'Boulos, Master. Akar', 'Hold, Mrs. Stephen (Annie Margaret Hill)', 'Botsford, Mr. William Hull', 'Brown, Mrs. John Murray (Caroline Lane Lamson)', 'Earnshaw, Mrs. Boulton (Olive Potter)', 'Storey, Mr. Thomas', 'Dodge, Dr. Washington', 'Lockyer, Mr. Edward', 'Assaf, Mr. Gerios', 'Gibson, Mrs. Leonard (Pauline C Boeson)', 'Fleming, Miss. Honora', 'Stengel, Mr. Charles Emil Henry', 'McCaffry, Mr. Thomas Francis', 'Carr, Miss. Jeannie', 'Ford, Mr. Arthur', 'Oreskovic, Miss. Jelka', 'Dean, Miss. Elizabeth Gladys Millvina\"\"', 'Clark, Mr. Walter Miller', 'Jones, Mr. Charles Cresson', 'Ismay, Mr. Joseph Bruce', 'Kenyon, Mr. Frederick R', 'van Billiard, Master. James William', 'Goldsmith, Mr. Nathan', 'Widener, Mr. George Dunton', 'Fortune, Miss. Ethel Flora', 'Spedden, Master. Robert Douglas', 'Nourney, Mr. Alfred (Baron von Drachstedt\")\"', 'Asplund, Mr. Johan Charles', 'Assaf Khalil, Mrs. Mariana (Miriam\")\"', 'van Billiard, Master. Walter John', 'Cornell, Mrs. Robert Clifford (Malvina Helen Lamson)', 'Greenfield, Mrs. Leo David (Blanche Strouse)', 'Chevre, Mr. Paul Romaine', 'Nasr, Mr. Mustafa', 'Reynolds, Mr. Harold J', 'Moore, Mr. Clarence Bloomfield', 'Rogers, Mr. Reginald Harry', 'Mardirosian, Mr. Sarkis', 'Lane, Mr. Patrick', 'Veal, Mr. James', 'Elias, Mr. Joseph', 'Caram, Mr. Joseph', 'Palsson, Master. Paul Folke', 'Pallas y Castello, Mr. Emilio', 'Lindell, Mrs. Edvard Bengtsson (Elin Gerda Persson)', 'Mahon, Mr. John', 'Nakid, Mrs. Said (Waika Mary\" Mowad)\"', 'Nieminen, Miss. Manta Josefina', 'Deacon, Mr. Percy William', 'Shine, Miss. Ellen Natalia', 'Gilbert, Mr. William', 'Chisholm, Mr. Roderick Robert Crispin', 'Rosblom, Miss. Salli Helena', 'Cumings, Mr. John Bradley', 'Head, Mr. Christopher', 'Pearce, Mr. Ernest', 'Corbett, Mrs. Walter H (Irene Colvin)', 'Kreuchen, Miss. Emilie', 'Myles, Mr. Thomas Francis', 'Tucker, Mr. Gilbert Milligan Jr', 'Portaluppi, Mr. Emilio Ilario Giuseppe', 'McNeill, Miss. Bridget', 'Larsson-Rondberg, Mr. Edvard A', 'Buckley, Mr. Daniel', 'Dyker, Mr. Adolf Fredrik', 'Braf, Miss. Elin Ester Maria', 'Julian, Mr. Henry Forbes', 'Christy, Mrs. (Alice Frances)', 'Wells, Master. Ralph Lester', 'Tenglin, Mr. Gunnar Isidor', 'Naughton, Miss. Hannah', 'Bonnell, Miss. Caroline', 'Ilmakangas, Miss. Ida Livija', 'Bowenur, Mr. Solomon', 'Corey, Mrs. Percy C (Mary Phyllis Elizabeth Miller)', 'Zakarian, Mr. Ortin', 'Chapman, Mrs. John Henry (Sara Elizabeth Lawry)', 'Lahtinen, Rev. William', 'Quick, Miss. Winifred Vera', 'Dennis, Mr. William', 'Phillips, Mr. Escott Robert', 'Goodwin, Miss. Jessie Allis', 'Shaughnessy, Mr. Patrick', 'Borebank, Mr. John James', 'Gibson, Miss. Dorothy Winifred', 'Nilsson, Miss. Berta Olivia', 'Johnston, Mrs. Andrew G (Elizabeth Lily\" Watson)\"', 'Dika, Mr. Mirko', 'Crafton, Mr. John Bertram', 'Faunthorpe, Mr. Harry', 'Wright, Miss. Marion', 'Harbeck, Mr. William H', 'Karlsson, Mr. Einar Gervasius', 'Abelseth, Mr. Olaus Jorgensen', 'Lindeberg-Lind, Mr. Erik Gustaf (Mr Edward Lingrey\")\"', 'Beattie, Mr. Thomson', 'Spedden, Mr. Frederic Oakley', 'Davidson, Mrs. Thornton (Orian Hays)', 'Smyth, Miss. Julia', 'Touma, Master. Georges Youssef', 'Sage, Mrs. John (Annie Bullen)', 'Cor, Mr. Ivan', 'Vander Planke, Mr. Julius', 'Davies, Mrs. John Morgan (Elizabeth Agnes Mary White) ', 'Smith, Mrs. Lucien Philip (Mary Eloise Hughes)', 'Guest, Mr. Robert', 'Howard, Mrs. Benjamin (Ellen Truelove Arman)', 'Jonsson, Mr. Nils Hilding', 'Lindstrom, Mrs. Carl Johan (Sigrid Posse)', 'Betros, Master. Seman', 'Lundin, Miss. Olga Elida', 'Ovies y Rodriguez, Mr. Servando'] in column 0 during transform",
     "output_type": "error",
     "traceback": [
      "\u001b[1;31m---------------------------------------------------------------------------\u001b[0m",
      "\u001b[1;31mValueError\u001b[0m                                Traceback (most recent call last)",
      "Cell \u001b[1;32mIn[35], line 4\u001b[0m\n\u001b[0;32m      2\u001b[0m one_hot_encoder\u001b[38;5;241m.\u001b[39mfit(train[categorical_cols])\n\u001b[0;32m      3\u001b[0m one_hot_train \u001b[38;5;241m=\u001b[39m one_hot_encoder\u001b[38;5;241m.\u001b[39mtransform(train[categorical_cols])\n\u001b[1;32m----> 4\u001b[0m one_hot_test \u001b[38;5;241m=\u001b[39m one_hot_encoder\u001b[38;5;241m.\u001b[39mtransform(test[categorical_cols])\n\u001b[0;32m      5\u001b[0m one_hot_train \u001b[38;5;241m=\u001b[39m one_hot_train\u001b[38;5;241m.\u001b[39mtoarray()\n\u001b[0;32m      6\u001b[0m one_hot_test \u001b[38;5;241m=\u001b[39m one_hot_test\u001b[38;5;241m.\u001b[39mtoarray()\n",
      "File \u001b[1;32m~\\anaconda3\\Lib\\site-packages\\sklearn\\utils\\_set_output.py:140\u001b[0m, in \u001b[0;36m_wrap_method_output.<locals>.wrapped\u001b[1;34m(self, X, *args, **kwargs)\u001b[0m\n\u001b[0;32m    138\u001b[0m \u001b[38;5;129m@wraps\u001b[39m(f)\n\u001b[0;32m    139\u001b[0m \u001b[38;5;28;01mdef\u001b[39;00m \u001b[38;5;21mwrapped\u001b[39m(\u001b[38;5;28mself\u001b[39m, X, \u001b[38;5;241m*\u001b[39margs, \u001b[38;5;241m*\u001b[39m\u001b[38;5;241m*\u001b[39mkwargs):\n\u001b[1;32m--> 140\u001b[0m     data_to_wrap \u001b[38;5;241m=\u001b[39m f(\u001b[38;5;28mself\u001b[39m, X, \u001b[38;5;241m*\u001b[39margs, \u001b[38;5;241m*\u001b[39m\u001b[38;5;241m*\u001b[39mkwargs)\n\u001b[0;32m    141\u001b[0m     \u001b[38;5;28;01mif\u001b[39;00m \u001b[38;5;28misinstance\u001b[39m(data_to_wrap, \u001b[38;5;28mtuple\u001b[39m):\n\u001b[0;32m    142\u001b[0m         \u001b[38;5;66;03m# only wrap the first output for cross decomposition\u001b[39;00m\n\u001b[0;32m    143\u001b[0m         return_tuple \u001b[38;5;241m=\u001b[39m (\n\u001b[0;32m    144\u001b[0m             _wrap_data_with_container(method, data_to_wrap[\u001b[38;5;241m0\u001b[39m], X, \u001b[38;5;28mself\u001b[39m),\n\u001b[0;32m    145\u001b[0m             \u001b[38;5;241m*\u001b[39mdata_to_wrap[\u001b[38;5;241m1\u001b[39m:],\n\u001b[0;32m    146\u001b[0m         )\n",
      "File \u001b[1;32m~\\anaconda3\\Lib\\site-packages\\sklearn\\preprocessing\\_encoders.py:1016\u001b[0m, in \u001b[0;36mOneHotEncoder.transform\u001b[1;34m(self, X)\u001b[0m\n\u001b[0;32m   1011\u001b[0m \u001b[38;5;66;03m# validation of X happens in _check_X called by _transform\u001b[39;00m\n\u001b[0;32m   1012\u001b[0m warn_on_unknown \u001b[38;5;241m=\u001b[39m \u001b[38;5;28mself\u001b[39m\u001b[38;5;241m.\u001b[39mdrop \u001b[38;5;129;01mis\u001b[39;00m \u001b[38;5;129;01mnot\u001b[39;00m \u001b[38;5;28;01mNone\u001b[39;00m \u001b[38;5;129;01mand\u001b[39;00m \u001b[38;5;28mself\u001b[39m\u001b[38;5;241m.\u001b[39mhandle_unknown \u001b[38;5;129;01min\u001b[39;00m {\n\u001b[0;32m   1013\u001b[0m     \u001b[38;5;124m\"\u001b[39m\u001b[38;5;124mignore\u001b[39m\u001b[38;5;124m\"\u001b[39m,\n\u001b[0;32m   1014\u001b[0m     \u001b[38;5;124m\"\u001b[39m\u001b[38;5;124minfrequent_if_exist\u001b[39m\u001b[38;5;124m\"\u001b[39m,\n\u001b[0;32m   1015\u001b[0m }\n\u001b[1;32m-> 1016\u001b[0m X_int, X_mask \u001b[38;5;241m=\u001b[39m \u001b[38;5;28mself\u001b[39m\u001b[38;5;241m.\u001b[39m_transform(\n\u001b[0;32m   1017\u001b[0m     X,\n\u001b[0;32m   1018\u001b[0m     handle_unknown\u001b[38;5;241m=\u001b[39m\u001b[38;5;28mself\u001b[39m\u001b[38;5;241m.\u001b[39mhandle_unknown,\n\u001b[0;32m   1019\u001b[0m     force_all_finite\u001b[38;5;241m=\u001b[39m\u001b[38;5;124m\"\u001b[39m\u001b[38;5;124mallow-nan\u001b[39m\u001b[38;5;124m\"\u001b[39m,\n\u001b[0;32m   1020\u001b[0m     warn_on_unknown\u001b[38;5;241m=\u001b[39mwarn_on_unknown,\n\u001b[0;32m   1021\u001b[0m )\n\u001b[0;32m   1023\u001b[0m n_samples, n_features \u001b[38;5;241m=\u001b[39m X_int\u001b[38;5;241m.\u001b[39mshape\n\u001b[0;32m   1025\u001b[0m \u001b[38;5;28;01mif\u001b[39;00m \u001b[38;5;28mself\u001b[39m\u001b[38;5;241m.\u001b[39m_drop_idx_after_grouping \u001b[38;5;129;01mis\u001b[39;00m \u001b[38;5;129;01mnot\u001b[39;00m \u001b[38;5;28;01mNone\u001b[39;00m:\n",
      "File \u001b[1;32m~\\anaconda3\\Lib\\site-packages\\sklearn\\preprocessing\\_encoders.py:199\u001b[0m, in \u001b[0;36m_BaseEncoder._transform\u001b[1;34m(self, X, handle_unknown, force_all_finite, warn_on_unknown, ignore_category_indices)\u001b[0m\n\u001b[0;32m    194\u001b[0m \u001b[38;5;28;01mif\u001b[39;00m handle_unknown \u001b[38;5;241m==\u001b[39m \u001b[38;5;124m\"\u001b[39m\u001b[38;5;124merror\u001b[39m\u001b[38;5;124m\"\u001b[39m:\n\u001b[0;32m    195\u001b[0m     msg \u001b[38;5;241m=\u001b[39m (\n\u001b[0;32m    196\u001b[0m         \u001b[38;5;124m\"\u001b[39m\u001b[38;5;124mFound unknown categories \u001b[39m\u001b[38;5;132;01m{0}\u001b[39;00m\u001b[38;5;124m in column \u001b[39m\u001b[38;5;132;01m{1}\u001b[39;00m\u001b[38;5;124m\"\u001b[39m\n\u001b[0;32m    197\u001b[0m         \u001b[38;5;124m\"\u001b[39m\u001b[38;5;124m during transform\u001b[39m\u001b[38;5;124m\"\u001b[39m\u001b[38;5;241m.\u001b[39mformat(diff, i)\n\u001b[0;32m    198\u001b[0m     )\n\u001b[1;32m--> 199\u001b[0m     \u001b[38;5;28;01mraise\u001b[39;00m \u001b[38;5;167;01mValueError\u001b[39;00m(msg)\n\u001b[0;32m    200\u001b[0m \u001b[38;5;28;01melse\u001b[39;00m:\n\u001b[0;32m    201\u001b[0m     \u001b[38;5;28;01mif\u001b[39;00m warn_on_unknown:\n",
      "\u001b[1;31mValueError\u001b[0m: Found unknown categories ['Johansson, Mr. Nils', 'McCarthy, Miss. Catherine Katie\"\"', 'Samaan, Mr. Elias', 'Moubarek, Mrs. George (Omine Amenia\" Alexander)\"', 'Katavelas, Mr. Vassilios (Catavelas Vassilios\")\"', 'Carrau, Mr. Jose Pedro', 'Omont, Mr. Alfred Fernand', 'Risien, Mrs. Samuel (Emma)', 'Canavan, Mr. Patrick', 'Geiger, Miss. Amalie', 'Cassebeer, Mrs. Henry Arthur Jr (Eleanor Genevieve Fosdick)', 'Williams, Mr. Richard Norris II', 'Frolicher-Stehli, Mrs. Maxmillian (Margaretha Emerentia Stehli)', 'Khalil, Mr. Betros', 'Drew, Master. Marshall Brines', 'Kink-Heilmann, Mr. Anton', 'Kink, Miss. Maria', 'Kiernan, Mr. John', 'Ryerson, Master. John Borie', 'Ware, Mr. William Jeffery', 'Ford, Mr. Edward Watson', 'Aks, Master. Philip Frank', 'Brown, Miss. Edith Eileen', 'Rowe, Mr. Alfred G', 'Hyman, Mr. Abraham', 'Mulvihill, Miss. Bertha E', 'Riihivouri, Miss. Susanna Juhantytar Sanni\"\"', 'Hiltunen, Miss. Marta', 'Carver, Mr. Alfred John', 'Jefferys, Mr. Ernest Wilfred', 'Hocking, Miss. Ellen Nellie\"\"', 'Harder, Mrs. George Achilles (Dorothy Annan)', 'Asplund, Master. Carl Edgar', 'Giles, Mr. Ralph', 'Ware, Mr. Frederick', 'Keeping, Mr. Edwin', \"McNamee, Mrs. Neal (Eileen O'Leary)\", 'White, Mrs. John Stuart (Ella Holmes)', 'Bjorklund, Mr. Ernst Herbert', 'Davies, Mr. Joseph', 'Goodwin, Mr. Charles Frederick', 'Daher, Mr. Shedid', 'Thomas, Mr. Charles P', 'Pokrnic, Mr. Tome', 'Clarke, Mr. Charles Valentine', 'Linehan, Mr. Michael', 'Everett, Mr. Thomas James', 'McCoy, Miss. Alicia', 'Kink-Heilmann, Mrs. Anton (Luise Heilmann)', 'Andersson, Miss. Ida Augusta Margareta', 'Aldworth, Mr. Charles Augustus', 'Beauchamp, Mr. Henry James', 'Touma, Miss. Maria Youssef', 'Ryerson, Mr. Arthur Larned', 'Davies, Mr. Evan', 'Compton, Mr. Alexander Taylor Jr', 'Burns, Miss. Mary Delia', 'Wenzel, Mr. Linhart', 'Pulbaum, Mr. Franz', 'Salomon, Mr. Abraham L', 'Vendel, Mr. Olof Edvin', 'Makinen, Mr. Kalle Edvard', 'Walcroft, Miss. Nellie', 'Stanton, Mr. Samuel Ward', 'Foley, Mr. Joseph', 'Robins, Mr. Alexander A', 'Cardeza, Mrs. James Warburton Martinez (Charlotte Wardle Drake)', 'Hagardon, Miss. Kate', 'de Brito, Mr. Jose Joaquim', 'Andrew, Mr. Frank Thomas', 'Howard, Miss. May Elizabeth', 'Franklin, Mr. Thomas Parham', 'Spencer, Mr. William Augustus', 'Hee, Mr. Ling', 'Louch, Mr. Charles Alexander', 'Buckley, Miss. Katherine', 'Mahon, Miss. Bridget Delia', 'Spector, Mr. Woolf', 'Ryerson, Mrs. Arthur Larned (Emily Maria Borie)', 'Lithman, Mr. Simon', 'Brobeck, Mr. Karl Rudolf', 'Becker, Miss. Ruth Elizabeth', 'Kennedy, Mr. John', 'Bradley, Miss. Bridget Delia', 'Fillbrook, Mr. Joseph Charles', 'Saether, Mr. Simon Sivertsen', 'Lyntakoff, Mr. Stanko', 'Nilsson, Mr. August Ferdinand', 'Peacock, Miss. Treasteall', 'Warren, Mr. Charles William', 'Lefebre, Mrs. Frank (Frances)', 'Pokrnic, Mr. Mate', 'Chaudanson, Miss. Victorine', 'Franklin, Mr. Charles (Charles Fardon)', 'Peter, Master. Michael J', 'Cacic, Miss. Manda', 'Herman, Mr. Samuel', 'Straus, Mr. Isidor', 'Keane, Mr. Daniel', 'Karlsson, Mr. Julius Konrad Eugen', 'Lines, Mrs. Ernest H (Elizabeth Lindsey James)', 'McCrae, Mr. Arthur Gordon', 'Drapkin, Miss. Jennie', 'Riordan, Miss. Johanna Hannah\"\"', 'Birnbaum, Mr. Jakob', 'Andersson, Mr. Johan Samuel', 'Nesson, Mr. Israel', 'Widener, Mrs. George Dunton (Eleanor Elkins)', 'Thomson, Mr. Alexander Morrison', 'Minkoff, Mr. Lazar', 'Conlon, Mr. Thomas Henry', 'Roth, Miss. Sarah A', 'Fortune, Mrs. Mark (Mary McDougald)', 'Angheloff, Mr. Minko', 'Sage, Miss. Ada', 'Enander, Mr. Ingvar', 'Sage, Master. William Henry', 'Olsen, Master. Artur Karl', 'Whabee, Mrs. George Joseph (Shawneene Abi-Saab)', 'Denbury, Mr. Herbert', 'Rice, Master. Albert', 'Baimbrigge, Mr. Charles Robert', 'Duran y More, Miss. Florentina', 'Giles, Mr. Edgar', 'Rosenbaum, Miss. Edith Louise', 'Cook, Mrs. (Selena Rogers)', 'Samaan, Mr. Hanna', 'Thomas, Mr. John', 'del Carlo, Mrs. Sebastiano (Argenia Genovesi)', 'Maguire, Mr. John Edward', 'Mallet, Mrs. Albert (Antoinette Magnin)', 'Saade, Mr. Jean Nassr', 'Weisz, Mr. Leopold', 'Dulles, Mr. William Crothers', 'Rothschild, Mr. Martin', 'Assam, Mr. Ali', 'Douglas, Mrs. Frederick Charles (Mary Helene Baxter)', 'Holthen, Mr. Johan Martin', 'Stokes, Mr. Philip Joseph', 'Sandstrom, Miss. Beatrice Irene', 'Cribb, Miss. Laura Alice', 'Petersen, Mr. Marius', 'Duquemin, Mr. Joseph', 'Payne, Mr. Vivian Ponsonby', 'Murphy, Miss. Nora', 'McCrie, Mr. James Matthew', 'Compton, Mrs. Alexander Taylor (Mary Eliza Ingersoll)', 'Doyle, Miss. Elizabeth', 'West, Miss. Barbara J', 'Drew, Mr. James Vivian', 'Klasen, Miss. Gertrud Emilia', 'Flegenheim, Mrs. Alfred (Antoinette)', 'Becker, Mrs. Allen Oliver (Nellie E Baumgardner)', 'Dintcheff, Mr. Valtcho', 'Cor, Mr. Bartol', 'Gracie, Col. Archibald IV', 'Douglas, Mrs. Walter Donald (Mahala Dutton)', 'Wheeler, Mr. Edwin Frederick\"\"', 'Oxenham, Mr. Percy Thomas', 'Mock, Mr. Philipp Edmund', 'Jefferys, Mr. Clifford Thomas', 'Baccos, Mr. Raffull', 'Peacock, Master. Alfred Edward', 'Spinner, Mr. Henry John', 'Olsson, Mr. Oscar Wilhelm', 'Matinoff, Mr. Nicola', 'Lundstrom, Mr. Thure Edvin', 'Watt, Miss. Bertha J', 'Cotterill, Mr. Henry Harry\"\"', 'Davison, Mr. Thomas Henry', 'Karun, Mr. Franz', 'Dodge, Mrs. Washington (Ruth Vidaver)', 'Asplund, Master. Filip Oscar', \"O'Connor, Mr. Patrick\", 'Abelseth, Miss. Karen Marie', 'Badman, Miss. Emily Louisa', 'Hirvonen, Mrs. Alexander (Helga E Lindqvist)', 'Henriksson, Miss. Jenny Lovisa', 'Johansson Palmquist, Mr. Oskar Leander', 'Hellstrom, Miss. Hilda Maria', 'Swane, Mr. George', 'Abbott, Master. Eugene Joseph', 'Dean, Mrs. Bertram (Eva Georgetta Light)', 'Rheims, Mr. George Alexander Lucien', 'Collett, Mr. Sidney C Stuart', 'Ashby, Mr. John', 'Wittevrongel, Mr. Camille', 'Willer, Mr. Aaron (Abi Weller\")\"', 'Niklasson, Mr. Samuel', 'Krekorian, Mr. Neshan', 'McGowan, Miss. Katherine', 'Midtsjo, Mr. Karl Albert', 'Lingane, Mr. John', 'Warren, Mr. Frank Manley', 'Ryan, Mr. Edward', 'Zakarian, Mr. Mapriededer', 'Crosby, Mrs. Edward Gifford (Catherine Elizabeth Halstead)', 'Ware, Mrs. John James (Florence Louise Long)', 'Hilliard, Mr. Herbert Henry', 'Caldwell, Mr. Albert Francis', 'Peruschitz, Rev. Joseph Maria', 'Allison, Mr. Hudson Joshua Creighton', 'Fox, Mr. Patrick', 'Straus, Mrs. Isidor (Rosalie Ida Blun)', 'Aronsson, Mr. Ernst Axel Algot', 'Cacic, Mr. Jego Grga', 'Minahan, Mrs. William Edward (Lillian E Thorpe)', 'Laroche, Miss. Louise', 'Maybery, Mr. Frank Hubert', 'Thomas, Mrs. Alexander (Thamine Thelma\")\"', 'Thomas, Mr. Tannous', 'Gale, Mr. Harry', 'Abrahamsson, Mr. Abraham August Johannes', 'Nancarrow, Mr. William Henry', 'Carlsson, Mr. Carl Robert', 'Bowen, Miss. Grace Scott', 'Svensson, Mr. Johan Cervin', 'Wilson, Miss. Helen Alice', 'Strilic, Mr. Ivan', 'Howard, Mr. Benjamin', 'Schabert, Mrs. Paul (Emma Mock)', 'Daly, Miss. Margaret Marcella Maggie\"\"', 'MacKay, Mr. George William', 'Karnes, Mrs. J Frank (Claire Bennett)', 'Johnston, Master. William Arthur Willie\"\"', 'Davies, Mr. John Samuel', 'Brady, Mr. John Bertram', 'Finoli, Mr. Luigi', 'Smith, Mr. Lucien Philip', 'Vartanian, Mr. David', 'Oliva y Ocana, Dona. Fermina', 'Chronopoulos, Mr. Demetrios', 'Bryhl, Miss. Dagmar Jenny Ingeborg ', 'Evans, Miss. Edith Corse', 'Schmidt, Mr. August', 'Willard, Miss. Constance', 'Sage, Mr. John George', 'Lennon, Miss. Mary', 'Bird, Miss. Ellen', 'Wick, Mr. George Dennick', 'Astor, Col. John Jacob', 'Andersen, Mr. Albert Karvin', 'Dyker, Mrs. Adolf Fredrik (Anna Elisabeth Judith Andersson)', 'Foley, Mr. William', 'Wilkes, Mrs. James (Ellen Needs)', 'Rasmussen, Mrs. (Lena Jacobsen Solvang)', 'Lamb, Mr. John Joseph', 'Sadowitz, Mr. Harry', 'Loring, Mr. Joseph Holland', 'Mangiavacchi, Mr. Serafino Emilio', 'Frauenthal, Mr. Isaac Gerald', 'Ilieff, Mr. Ylio', 'Phillips, Miss. Alice Frances Louisa', 'Salander, Mr. Karl Johan', 'Bentham, Miss. Lilian W', 'Case, Mr. Howard Brown', 'Pedersen, Mr. Olaf', 'Klasen, Mrs. (Hulda Kristina Eugenia Lofqvist)', 'Wirz, Mr. Albert', 'Marvin, Mrs. Daniel Warner (Mary Graham Carmichael Farquarson)', 'de Messemaeker, Mr. Guillaume Joseph', \"O'Keefe, Mr. Patrick\", 'Parker, Mr. Clifford Richard', 'Dibden, Mr. William', 'Angle, Mr. William A', 'Clark, Mrs. Walter Miller (Virginia McDowell)', 'Delalic, Mr. Redjo', 'Ostby, Miss. Helene Ragnhild', 'Cavendish, Mrs. Tyrell William (Julia Florence Siegel)', 'Asplund, Mr. Carl Oscar Vilhelm Gustafsson', 'Peacock, Mrs. Benjamin (Edith Nile)', 'Torfa, Mr. Assad', 'Wells, Mrs. Arthur Henry (Addie\" Dart Trevaskis)\"', 'Stengel, Mrs. Charles Emil Henry (Annie May Morris)', 'Bucknell, Mrs. William Robert (Emma Eliza Ward)', 'Malachard, Mr. Noel', 'Snyder, Mr. John Pillsbury', 'Danbom, Master. Gilbert Sigvard Emanuel', 'Colbert, Mr. Patrick', 'Chaffee, Mrs. Herbert Fuller (Carrie Constance Toogood)', 'Sincock, Miss. Maude', 'Brandeis, Mr. Emil', 'Barry, Miss. Julia', 'Hipkins, Mr. William Edward', 'Khalil, Mrs. Betros (Zahie Maria\" Elias)\"', 'Ware, Mr. John James', 'Rosenshine, Mr. George (Mr George Thorne\")\"', 'Coutts, Mrs. William (Winnie Minnie\" Treanor)\"', 'Candee, Mrs. Edward (Helen Churchill Hungerford)', 'Snyder, Mrs. John Pillsbury (Nelle Stevenson)', 'Sweet, Mr. George Frederick', \"O'Donoghue, Ms. Bridget\", 'Hocking, Mr. Samuel James Metcalfe', 'Sap, Mr. Julius', 'Miles, Mr. Frank', 'Wiklund, Mr. Karl Johan', 'Daniels, Miss. Sarah', 'Hays, Mr. Charles Melville', 'Hansen, Mrs. Claus Peter (Jennie L Howard)', 'Kimball, Mrs. Edwin Nelson Jr (Gertrude Parsons)', 'Demetri, Mr. Marinko', 'Herman, Miss. Kate', 'Peltomaki, Mr. Nikolai Johannes', 'Abrahim, Mrs. Joseph (Sophie Halaut Easu)', 'Boulos, Master. Akar', 'Hold, Mrs. Stephen (Annie Margaret Hill)', 'Botsford, Mr. William Hull', 'Brown, Mrs. John Murray (Caroline Lane Lamson)', 'Earnshaw, Mrs. Boulton (Olive Potter)', 'Storey, Mr. Thomas', 'Dodge, Dr. Washington', 'Lockyer, Mr. Edward', 'Assaf, Mr. Gerios', 'Gibson, Mrs. Leonard (Pauline C Boeson)', 'Fleming, Miss. Honora', 'Stengel, Mr. Charles Emil Henry', 'McCaffry, Mr. Thomas Francis', 'Carr, Miss. Jeannie', 'Ford, Mr. Arthur', 'Oreskovic, Miss. Jelka', 'Dean, Miss. Elizabeth Gladys Millvina\"\"', 'Clark, Mr. Walter Miller', 'Jones, Mr. Charles Cresson', 'Ismay, Mr. Joseph Bruce', 'Kenyon, Mr. Frederick R', 'van Billiard, Master. James William', 'Goldsmith, Mr. Nathan', 'Widener, Mr. George Dunton', 'Fortune, Miss. Ethel Flora', 'Spedden, Master. Robert Douglas', 'Nourney, Mr. Alfred (Baron von Drachstedt\")\"', 'Asplund, Mr. Johan Charles', 'Assaf Khalil, Mrs. Mariana (Miriam\")\"', 'van Billiard, Master. Walter John', 'Cornell, Mrs. Robert Clifford (Malvina Helen Lamson)', 'Greenfield, Mrs. Leo David (Blanche Strouse)', 'Chevre, Mr. Paul Romaine', 'Nasr, Mr. Mustafa', 'Reynolds, Mr. Harold J', 'Moore, Mr. Clarence Bloomfield', 'Rogers, Mr. Reginald Harry', 'Mardirosian, Mr. Sarkis', 'Lane, Mr. Patrick', 'Veal, Mr. James', 'Elias, Mr. Joseph', 'Caram, Mr. Joseph', 'Palsson, Master. Paul Folke', 'Pallas y Castello, Mr. Emilio', 'Lindell, Mrs. Edvard Bengtsson (Elin Gerda Persson)', 'Mahon, Mr. John', 'Nakid, Mrs. Said (Waika Mary\" Mowad)\"', 'Nieminen, Miss. Manta Josefina', 'Deacon, Mr. Percy William', 'Shine, Miss. Ellen Natalia', 'Gilbert, Mr. William', 'Chisholm, Mr. Roderick Robert Crispin', 'Rosblom, Miss. Salli Helena', 'Cumings, Mr. John Bradley', 'Head, Mr. Christopher', 'Pearce, Mr. Ernest', 'Corbett, Mrs. Walter H (Irene Colvin)', 'Kreuchen, Miss. Emilie', 'Myles, Mr. Thomas Francis', 'Tucker, Mr. Gilbert Milligan Jr', 'Portaluppi, Mr. Emilio Ilario Giuseppe', 'McNeill, Miss. Bridget', 'Larsson-Rondberg, Mr. Edvard A', 'Buckley, Mr. Daniel', 'Dyker, Mr. Adolf Fredrik', 'Braf, Miss. Elin Ester Maria', 'Julian, Mr. Henry Forbes', 'Christy, Mrs. (Alice Frances)', 'Wells, Master. Ralph Lester', 'Tenglin, Mr. Gunnar Isidor', 'Naughton, Miss. Hannah', 'Bonnell, Miss. Caroline', 'Ilmakangas, Miss. Ida Livija', 'Bowenur, Mr. Solomon', 'Corey, Mrs. Percy C (Mary Phyllis Elizabeth Miller)', 'Zakarian, Mr. Ortin', 'Chapman, Mrs. John Henry (Sara Elizabeth Lawry)', 'Lahtinen, Rev. William', 'Quick, Miss. Winifred Vera', 'Dennis, Mr. William', 'Phillips, Mr. Escott Robert', 'Goodwin, Miss. Jessie Allis', 'Shaughnessy, Mr. Patrick', 'Borebank, Mr. John James', 'Gibson, Miss. Dorothy Winifred', 'Nilsson, Miss. Berta Olivia', 'Johnston, Mrs. Andrew G (Elizabeth Lily\" Watson)\"', 'Dika, Mr. Mirko', 'Crafton, Mr. John Bertram', 'Faunthorpe, Mr. Harry', 'Wright, Miss. Marion', 'Harbeck, Mr. William H', 'Karlsson, Mr. Einar Gervasius', 'Abelseth, Mr. Olaus Jorgensen', 'Lindeberg-Lind, Mr. Erik Gustaf (Mr Edward Lingrey\")\"', 'Beattie, Mr. Thomson', 'Spedden, Mr. Frederic Oakley', 'Davidson, Mrs. Thornton (Orian Hays)', 'Smyth, Miss. Julia', 'Touma, Master. Georges Youssef', 'Sage, Mrs. John (Annie Bullen)', 'Cor, Mr. Ivan', 'Vander Planke, Mr. Julius', 'Davies, Mrs. John Morgan (Elizabeth Agnes Mary White) ', 'Smith, Mrs. Lucien Philip (Mary Eloise Hughes)', 'Guest, Mr. Robert', 'Howard, Mrs. Benjamin (Ellen Truelove Arman)', 'Jonsson, Mr. Nils Hilding', 'Lindstrom, Mrs. Carl Johan (Sigrid Posse)', 'Betros, Master. Seman', 'Lundin, Miss. Olga Elida', 'Ovies y Rodriguez, Mr. Servando'] in column 0 during transform"
     ]
    }
   ],
   "source": [
    "one_hot_encoder = OneHotEncoder(handle_unknown='ignore')\n",
    "one_hot_encoder.fit(train[categorical_cols])\n",
    "one_hot_train = one_hot_encoder.transform(train[categorical_cols])\n",
    "one_hot_test = one_hot_encoder.transform(test[categorical_cols])\n",
    "one_hot_train = one_hot_train.toarray()\n",
    "one_hot_test = one_hot_test.toarray()"
   ]
  },
  {
   "cell_type": "code",
   "execution_count": null,
   "id": "e1083e38-9ee9-46af-94f6-22ae626c4bc2",
   "metadata": {},
   "outputs": [],
   "source": [
    "y_train = train[\"Survived\"].to_numpy()"
   ]
  },
  {
   "cell_type": "code",
   "execution_count": null,
   "id": "ddfe86e4-9687-4ab6-b1fa-c349e28ac8b3",
   "metadata": {
    "tags": []
   },
   "outputs": [],
   "source": [
    "X_train = np.c_[train[numeric_cols], one_hot_train]\n",
    "X_test = np.c_[test[numeric_cols], one_hot_test]"
   ]
  },
  {
   "cell_type": "code",
   "execution_count": null,
   "id": "f398b06d-7f93-4b87-b79d-af302e1c4d41",
   "metadata": {},
   "outputs": [],
   "source": [
    "print(X_train.shape)\n",
    "print(X_test.shape)"
   ]
  },
  {
   "cell_type": "code",
   "execution_count": null,
   "id": "580809a7-3f9d-47e9-8d61-c12aa9dc8eb2",
   "metadata": {
    "tags": []
   },
   "outputs": [],
   "source": [
    "scaler = StandardScaler()\n",
    "X_train_scaled = scaler.fit_transform(X_train)\n",
    "X_test_scaled = scaler.fit_transform(X_test)"
   ]
  },
  {
   "cell_type": "markdown",
   "id": "ba188926-1b14-48bf-9023-3d61e4219216",
   "metadata": {
    "tags": []
   },
   "source": [
    "### Build some ML models."
   ]
  },
  {
   "cell_type": "code",
   "execution_count": null,
   "id": "d932e66e-05c6-4e30-9304-95b4c444ddba",
   "metadata": {
    "tags": []
   },
   "outputs": [],
   "source": [
    "from sklearn.ensemble import RandomForestClassifier\n",
    "from sklearn.svm import LinearSVC\n",
    "from sklearn.neighbors import KNeighborsClassifier\n",
    "from sklearn.linear_model import LogisticRegression\n",
    "from sklearn.tree import DecisionTreeClassifier\n",
    "from sklearn.model_selection import cross_val_score, GridSearchCV"
   ]
  },
  {
   "cell_type": "markdown",
   "id": "014bbb55-5096-42cb-ac34-fdd1d9fed848",
   "metadata": {},
   "source": [
    "Let's use grid search to search for hyperparameters."
   ]
  },
  {
   "cell_type": "code",
   "execution_count": null,
   "id": "d450ab87-eea4-4bed-8402-b95391c410ac",
   "metadata": {},
   "outputs": [],
   "source": [
    "svm_clf = LinearSVC()"
   ]
  },
  {
   "cell_type": "code",
   "execution_count": null,
   "id": "c252fb2c-fcbe-4b58-808b-df1937e7bd17",
   "metadata": {},
   "outputs": [],
   "source": [
    "params = [{\"C\": [1, 2, 3, 5], \"dual\": [\"auto\", False]}]"
   ]
  },
  {
   "cell_type": "code",
   "execution_count": null,
   "id": "52dfd1ba-8f26-42b7-9e90-fd2ecaf35532",
   "metadata": {},
   "outputs": [],
   "source": [
    "grid_search = GridSearchCV(svm_clf, params, scoring=\"accuracy\", verbose=3)\n",
    "grid_search.fit(X_train_scaled, y_train)"
   ]
  },
  {
   "cell_type": "code",
   "execution_count": null,
   "id": "07b1ed4e-557e-4c06-bf22-a1dcb96ca6e8",
   "metadata": {},
   "outputs": [],
   "source": [
    "print(grid_search.best_params_)"
   ]
  },
  {
   "cell_type": "code",
   "execution_count": null,
   "id": "3bd889be-de33-4944-9f3d-76ce4dfe4137",
   "metadata": {},
   "outputs": [],
   "source": [
    "cvres = grid_search.cv_results_\n",
    "for mean_test_score, params in zip(cvres[\"mean_test_score\"], cvres[\"params\"]):\n",
    "    print(f\"mean_test_score: {mean_test_score} and params: {params}\")"
   ]
  },
  {
   "cell_type": "code",
   "execution_count": null,
   "id": "bdd4f12e-88e6-4bdf-9bb9-07ea6581d631",
   "metadata": {
    "tags": []
   },
   "outputs": [],
   "source": [
    "print(cvres[\"mean_test_score\"].max())"
   ]
  },
  {
   "cell_type": "code",
   "execution_count": null,
   "id": "2ae0db2a-cd5c-4881-89c2-dc12ef0fefc4",
   "metadata": {},
   "outputs": [],
   "source": [
    "predictions = grid_search.predict(X_test_scaled)"
   ]
  },
  {
   "cell_type": "code",
   "execution_count": null,
   "id": "172c1986-7329-4c06-b79f-5f01da228a13",
   "metadata": {
    "tags": []
   },
   "outputs": [],
   "source": [
    "df = pd.DataFrame()\n",
    "df[\"PassengerId\"] = np.arange(892, 1310)\n",
    "df[\"Survived\"] = predictions\n",
    "df.to_csv(\"titanic_svm.csv\", index=False)"
   ]
  }
 ],
 "metadata": {
  "kernelspec": {
   "display_name": "Python 3 (ipykernel)",
   "language": "python",
   "name": "python3"
  },
  "language_info": {
   "codemirror_mode": {
    "name": "ipython",
    "version": 3
   },
   "file_extension": ".py",
   "mimetype": "text/x-python",
   "name": "python",
   "nbconvert_exporter": "python",
   "pygments_lexer": "ipython3",
   "version": "3.11.5"
  }
 },
 "nbformat": 4,
 "nbformat_minor": 5
}
