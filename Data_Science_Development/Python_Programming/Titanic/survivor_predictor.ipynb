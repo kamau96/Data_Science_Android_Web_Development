{
 "cells": [
  {
   "cell_type": "markdown",
   "id": "a4edb7e4-a49f-433c-839e-d62439b842c4",
   "metadata": {},
   "source": [
    "# Titanic Survivor Predictor\n",
    "**Authour:** *Kamau Wa Wainaina*"
   ]
  },
  {
   "cell_type": "markdown",
   "id": "e105fbc5-ff9d-4b57-bafe-3dccef1a96de",
   "metadata": {},
   "source": [
    "## Loading Datasets."
   ]
  },
  {
   "cell_type": "code",
   "execution_count": 3,
   "id": "0a15753b-bd50-4355-92ef-c1125f133883",
   "metadata": {
    "tags": []
   },
   "outputs": [],
   "source": [
    "# Library for loading datasets.\n",
    "import pandas as pd\n",
    "# Library for linear algebra.\n",
    "import numpy as np"
   ]
  },
  {
   "cell_type": "code",
   "execution_count": 4,
   "id": "a6b52f8c-3d9a-4e04-bdd8-3a7c8c6c91ff",
   "metadata": {
    "tags": []
   },
   "outputs": [],
   "source": [
    "# Load the datasets.\n",
    "path = \"../../../Data/titanic/\"\n",
    "train = pd.read_csv(path+\"train.csv\")\n",
    "test = pd.read_csv(path+\"test.csv\")"
   ]
  },
  {
   "cell_type": "markdown",
   "id": "6f08dd8f-e743-48e7-aef1-afd7c396213d",
   "metadata": {},
   "source": [
    "Let's peek at the first five rows of both train and test."
   ]
  },
  {
   "cell_type": "code",
   "execution_count": 6,
   "id": "bac117c7-3849-4781-b18a-7431a7152de3",
   "metadata": {
    "tags": []
   },
   "outputs": [
    {
     "data": {
      "text/html": [
       "<div>\n",
       "<style scoped>\n",
       "    .dataframe tbody tr th:only-of-type {\n",
       "        vertical-align: middle;\n",
       "    }\n",
       "\n",
       "    .dataframe tbody tr th {\n",
       "        vertical-align: top;\n",
       "    }\n",
       "\n",
       "    .dataframe thead th {\n",
       "        text-align: right;\n",
       "    }\n",
       "</style>\n",
       "<table border=\"1\" class=\"dataframe\">\n",
       "  <thead>\n",
       "    <tr style=\"text-align: right;\">\n",
       "      <th></th>\n",
       "      <th>PassengerId</th>\n",
       "      <th>Survived</th>\n",
       "      <th>Pclass</th>\n",
       "      <th>Name</th>\n",
       "      <th>Sex</th>\n",
       "      <th>Age</th>\n",
       "      <th>SibSp</th>\n",
       "      <th>Parch</th>\n",
       "      <th>Ticket</th>\n",
       "      <th>Fare</th>\n",
       "      <th>Cabin</th>\n",
       "      <th>Embarked</th>\n",
       "    </tr>\n",
       "  </thead>\n",
       "  <tbody>\n",
       "    <tr>\n",
       "      <th>0</th>\n",
       "      <td>1</td>\n",
       "      <td>0</td>\n",
       "      <td>3</td>\n",
       "      <td>Braund, Mr. Owen Harris</td>\n",
       "      <td>male</td>\n",
       "      <td>22.0</td>\n",
       "      <td>1</td>\n",
       "      <td>0</td>\n",
       "      <td>A/5 21171</td>\n",
       "      <td>7.2500</td>\n",
       "      <td>NaN</td>\n",
       "      <td>S</td>\n",
       "    </tr>\n",
       "    <tr>\n",
       "      <th>1</th>\n",
       "      <td>2</td>\n",
       "      <td>1</td>\n",
       "      <td>1</td>\n",
       "      <td>Cumings, Mrs. John Bradley (Florence Briggs Th...</td>\n",
       "      <td>female</td>\n",
       "      <td>38.0</td>\n",
       "      <td>1</td>\n",
       "      <td>0</td>\n",
       "      <td>PC 17599</td>\n",
       "      <td>71.2833</td>\n",
       "      <td>C85</td>\n",
       "      <td>C</td>\n",
       "    </tr>\n",
       "    <tr>\n",
       "      <th>2</th>\n",
       "      <td>3</td>\n",
       "      <td>1</td>\n",
       "      <td>3</td>\n",
       "      <td>Heikkinen, Miss. Laina</td>\n",
       "      <td>female</td>\n",
       "      <td>26.0</td>\n",
       "      <td>0</td>\n",
       "      <td>0</td>\n",
       "      <td>STON/O2. 3101282</td>\n",
       "      <td>7.9250</td>\n",
       "      <td>NaN</td>\n",
       "      <td>S</td>\n",
       "    </tr>\n",
       "    <tr>\n",
       "      <th>3</th>\n",
       "      <td>4</td>\n",
       "      <td>1</td>\n",
       "      <td>1</td>\n",
       "      <td>Futrelle, Mrs. Jacques Heath (Lily May Peel)</td>\n",
       "      <td>female</td>\n",
       "      <td>35.0</td>\n",
       "      <td>1</td>\n",
       "      <td>0</td>\n",
       "      <td>113803</td>\n",
       "      <td>53.1000</td>\n",
       "      <td>C123</td>\n",
       "      <td>S</td>\n",
       "    </tr>\n",
       "    <tr>\n",
       "      <th>4</th>\n",
       "      <td>5</td>\n",
       "      <td>0</td>\n",
       "      <td>3</td>\n",
       "      <td>Allen, Mr. William Henry</td>\n",
       "      <td>male</td>\n",
       "      <td>35.0</td>\n",
       "      <td>0</td>\n",
       "      <td>0</td>\n",
       "      <td>373450</td>\n",
       "      <td>8.0500</td>\n",
       "      <td>NaN</td>\n",
       "      <td>S</td>\n",
       "    </tr>\n",
       "  </tbody>\n",
       "</table>\n",
       "</div>"
      ],
      "text/plain": [
       "   PassengerId  Survived  Pclass  \\\n",
       "0            1         0       3   \n",
       "1            2         1       1   \n",
       "2            3         1       3   \n",
       "3            4         1       1   \n",
       "4            5         0       3   \n",
       "\n",
       "                                                Name     Sex   Age  SibSp  \\\n",
       "0                            Braund, Mr. Owen Harris    male  22.0      1   \n",
       "1  Cumings, Mrs. John Bradley (Florence Briggs Th...  female  38.0      1   \n",
       "2                             Heikkinen, Miss. Laina  female  26.0      0   \n",
       "3       Futrelle, Mrs. Jacques Heath (Lily May Peel)  female  35.0      1   \n",
       "4                           Allen, Mr. William Henry    male  35.0      0   \n",
       "\n",
       "   Parch            Ticket     Fare Cabin Embarked  \n",
       "0      0         A/5 21171   7.2500   NaN        S  \n",
       "1      0          PC 17599  71.2833   C85        C  \n",
       "2      0  STON/O2. 3101282   7.9250   NaN        S  \n",
       "3      0            113803  53.1000  C123        S  \n",
       "4      0            373450   8.0500   NaN        S  "
      ]
     },
     "execution_count": 6,
     "metadata": {},
     "output_type": "execute_result"
    }
   ],
   "source": [
    "train.head()"
   ]
  },
  {
   "cell_type": "code",
   "execution_count": 7,
   "id": "08b63ea9-3e40-4e68-94aa-86742df64e8f",
   "metadata": {
    "tags": []
   },
   "outputs": [
    {
     "data": {
      "text/html": [
       "<div>\n",
       "<style scoped>\n",
       "    .dataframe tbody tr th:only-of-type {\n",
       "        vertical-align: middle;\n",
       "    }\n",
       "\n",
       "    .dataframe tbody tr th {\n",
       "        vertical-align: top;\n",
       "    }\n",
       "\n",
       "    .dataframe thead th {\n",
       "        text-align: right;\n",
       "    }\n",
       "</style>\n",
       "<table border=\"1\" class=\"dataframe\">\n",
       "  <thead>\n",
       "    <tr style=\"text-align: right;\">\n",
       "      <th></th>\n",
       "      <th>PassengerId</th>\n",
       "      <th>Pclass</th>\n",
       "      <th>Name</th>\n",
       "      <th>Sex</th>\n",
       "      <th>Age</th>\n",
       "      <th>SibSp</th>\n",
       "      <th>Parch</th>\n",
       "      <th>Ticket</th>\n",
       "      <th>Fare</th>\n",
       "      <th>Cabin</th>\n",
       "      <th>Embarked</th>\n",
       "    </tr>\n",
       "  </thead>\n",
       "  <tbody>\n",
       "    <tr>\n",
       "      <th>0</th>\n",
       "      <td>892</td>\n",
       "      <td>3</td>\n",
       "      <td>Kelly, Mr. James</td>\n",
       "      <td>male</td>\n",
       "      <td>34.5</td>\n",
       "      <td>0</td>\n",
       "      <td>0</td>\n",
       "      <td>330911</td>\n",
       "      <td>7.8292</td>\n",
       "      <td>NaN</td>\n",
       "      <td>Q</td>\n",
       "    </tr>\n",
       "    <tr>\n",
       "      <th>1</th>\n",
       "      <td>893</td>\n",
       "      <td>3</td>\n",
       "      <td>Wilkes, Mrs. James (Ellen Needs)</td>\n",
       "      <td>female</td>\n",
       "      <td>47.0</td>\n",
       "      <td>1</td>\n",
       "      <td>0</td>\n",
       "      <td>363272</td>\n",
       "      <td>7.0000</td>\n",
       "      <td>NaN</td>\n",
       "      <td>S</td>\n",
       "    </tr>\n",
       "    <tr>\n",
       "      <th>2</th>\n",
       "      <td>894</td>\n",
       "      <td>2</td>\n",
       "      <td>Myles, Mr. Thomas Francis</td>\n",
       "      <td>male</td>\n",
       "      <td>62.0</td>\n",
       "      <td>0</td>\n",
       "      <td>0</td>\n",
       "      <td>240276</td>\n",
       "      <td>9.6875</td>\n",
       "      <td>NaN</td>\n",
       "      <td>Q</td>\n",
       "    </tr>\n",
       "    <tr>\n",
       "      <th>3</th>\n",
       "      <td>895</td>\n",
       "      <td>3</td>\n",
       "      <td>Wirz, Mr. Albert</td>\n",
       "      <td>male</td>\n",
       "      <td>27.0</td>\n",
       "      <td>0</td>\n",
       "      <td>0</td>\n",
       "      <td>315154</td>\n",
       "      <td>8.6625</td>\n",
       "      <td>NaN</td>\n",
       "      <td>S</td>\n",
       "    </tr>\n",
       "    <tr>\n",
       "      <th>4</th>\n",
       "      <td>896</td>\n",
       "      <td>3</td>\n",
       "      <td>Hirvonen, Mrs. Alexander (Helga E Lindqvist)</td>\n",
       "      <td>female</td>\n",
       "      <td>22.0</td>\n",
       "      <td>1</td>\n",
       "      <td>1</td>\n",
       "      <td>3101298</td>\n",
       "      <td>12.2875</td>\n",
       "      <td>NaN</td>\n",
       "      <td>S</td>\n",
       "    </tr>\n",
       "  </tbody>\n",
       "</table>\n",
       "</div>"
      ],
      "text/plain": [
       "   PassengerId  Pclass                                          Name     Sex  \\\n",
       "0          892       3                              Kelly, Mr. James    male   \n",
       "1          893       3              Wilkes, Mrs. James (Ellen Needs)  female   \n",
       "2          894       2                     Myles, Mr. Thomas Francis    male   \n",
       "3          895       3                              Wirz, Mr. Albert    male   \n",
       "4          896       3  Hirvonen, Mrs. Alexander (Helga E Lindqvist)  female   \n",
       "\n",
       "    Age  SibSp  Parch   Ticket     Fare Cabin Embarked  \n",
       "0  34.5      0      0   330911   7.8292   NaN        Q  \n",
       "1  47.0      1      0   363272   7.0000   NaN        S  \n",
       "2  62.0      0      0   240276   9.6875   NaN        Q  \n",
       "3  27.0      0      0   315154   8.6625   NaN        S  \n",
       "4  22.0      1      1  3101298  12.2875   NaN        S  "
      ]
     },
     "execution_count": 7,
     "metadata": {},
     "output_type": "execute_result"
    }
   ],
   "source": [
    "test.head()"
   ]
  },
  {
   "cell_type": "markdown",
   "id": "34241701-d413-4c35-9091-dbacc2e5903f",
   "metadata": {},
   "source": [
    "We observe the following about the data:\n",
    "- PassengerId seems to identify each observation (should make it the index).\n",
    "- Survived column in train is the target we're trying to predict.\n",
    "- Next we should perform EDA to know more about the data. "
   ]
  },
  {
   "cell_type": "code",
   "execution_count": 9,
   "id": "032ca807-2264-4917-9773-f4a4955029c9",
   "metadata": {
    "tags": []
   },
   "outputs": [],
   "source": [
    "# First, let's make passenger id the index in both datasets.\n",
    "train = train.set_index(\"PassengerId\")\n",
    "test = test.set_index(\"PassengerId\")"
   ]
  },
  {
   "cell_type": "markdown",
   "id": "7c453ec4-5551-42f4-95a9-a2cd934c608b",
   "metadata": {},
   "source": [
    "## Exploratory Data Analysis."
   ]
  },
  {
   "cell_type": "markdown",
   "id": "2f8b8aa6-9682-4940-be24-47749d4f7044",
   "metadata": {},
   "source": [
    "In this section I want to investigate the following (will focus on train to avoid data snooping):\n",
    "1. Data types and columns with missing values.\n",
    "2. Number of those whose survived.\n",
    "    - Categorized by Sex, Age, and Pclass.\n",
    "3. How name can be used to predict survivors.\n",
    "4. Similarily, how is ticket related to survivors.\n",
    "5. Expense of the trip.\n",
    "    - Curious if area of Embarkment influenced this."
   ]
  },
  {
   "cell_type": "markdown",
   "id": "cc304018-10e9-44eb-b6cb-b9d912941055",
   "metadata": {},
   "source": [
    "1. **Data types and columns with missing values.**"
   ]
  },
  {
   "cell_type": "markdown",
   "id": "d5df86f1-c2ee-44d4-ae56-18178db88fc1",
   "metadata": {},
   "source": [
    "The info function shows both data types and missing values."
   ]
  },
  {
   "cell_type": "code",
   "execution_count": 14,
   "id": "137eb313-9693-41a3-8fec-61509054b081",
   "metadata": {
    "tags": []
   },
   "outputs": [
    {
     "name": "stdout",
     "output_type": "stream",
     "text": [
      "<class 'pandas.core.frame.DataFrame'>\n",
      "Index: 891 entries, 1 to 891\n",
      "Data columns (total 11 columns):\n",
      " #   Column    Non-Null Count  Dtype  \n",
      "---  ------    --------------  -----  \n",
      " 0   Survived  891 non-null    int64  \n",
      " 1   Pclass    891 non-null    int64  \n",
      " 2   Name      891 non-null    object \n",
      " 3   Sex       891 non-null    object \n",
      " 4   Age       714 non-null    float64\n",
      " 5   SibSp     891 non-null    int64  \n",
      " 6   Parch     891 non-null    int64  \n",
      " 7   Ticket    891 non-null    object \n",
      " 8   Fare      891 non-null    float64\n",
      " 9   Cabin     204 non-null    object \n",
      " 10  Embarked  889 non-null    object \n",
      "dtypes: float64(2), int64(4), object(5)\n",
      "memory usage: 83.5+ KB\n"
     ]
    }
   ],
   "source": [
    "train.info()"
   ]
  },
  {
   "cell_type": "markdown",
   "id": "01dce001-b48f-4636-9781-564710443457",
   "metadata": {},
   "source": [
    "Let's create a function to calculate percentage of missing information."
   ]
  },
  {
   "cell_type": "code",
   "execution_count": 16,
   "id": "54c9bd7d-ef39-427c-8c89-8d141970e280",
   "metadata": {
    "tags": []
   },
   "outputs": [
    {
     "name": "stdout",
     "output_type": "stream",
     "text": [
      "Age has 19.87% of the values missing.\n",
      "Cabin has 77.1% of the values missing.\n",
      "Embarked has 0.22% of the values missing.\n"
     ]
    }
   ],
   "source": [
    "def missing_percent(data):\n",
    "    has_missing_vals = data.isnull().any() # Checks if any column has missing values.\n",
    "    cols_with_missing = []\n",
    "    for col, val in zip(has_missing_vals.index, has_missing_vals.values):\n",
    "        if val == True:\n",
    "            cols_with_missing.append(col)\n",
    "            \n",
    "    for col in cols_with_missing:\n",
    "        missing_count = data[col].isnull().sum() # Counts number of True since True == 1.\n",
    "        total_count = len(data[col])\n",
    "        missing_percent = np.round((missing_count/total_count)*100, 2)\n",
    "        print(f\"{col} has {missing_percent}% of the values missing.\")\n",
    "        \n",
    "missing_percent(train)"
   ]
  },
  {
   "cell_type": "markdown",
   "id": "5ad86939-e325-459f-a691-454220bc8c9b",
   "metadata": {},
   "source": [
    "We observe that Cabin has the largest percentage of missing information followed by Age and finally Embarked."
   ]
  },
  {
   "cell_type": "markdown",
   "id": "21240132-de44-40f4-8462-951d244c724a",
   "metadata": {},
   "source": [
    "2. **Number of those whose survived.**"
   ]
  },
  {
   "cell_type": "markdown",
   "id": "06a001c4-a6c7-432f-8dce-d2622778d1fa",
   "metadata": {},
   "source": [
    "How many people survived?"
   ]
  },
  {
   "cell_type": "code",
   "execution_count": 20,
   "id": "0503994b-fad1-4ff3-940f-99514553188a",
   "metadata": {
    "tags": []
   },
   "outputs": [
    {
     "name": "stdout",
     "output_type": "stream",
     "text": [
      "342 people survived.\n"
     ]
    }
   ],
   "source": [
    "survived = train[\"Survived\"].sum() # Survived records 1 as survived and 0 as perished.\n",
    "print(f\"{survived} people survived.\")"
   ]
  },
  {
   "cell_type": "markdown",
   "id": "ba5e1410-a364-40e3-a809-973c0d4ee64d",
   "metadata": {},
   "source": [
    "What was the surival rate? "
   ]
  },
  {
   "cell_type": "code",
   "execution_count": 22,
   "id": "8479d1a9-aef7-4582-a75a-bd27cf5c11ab",
   "metadata": {
    "tags": []
   },
   "outputs": [
    {
     "name": "stdout",
     "output_type": "stream",
     "text": [
      "The survival rate of boarding the titanic was 38.38%.\n"
     ]
    }
   ],
   "source": [
    "total_passengers = len(train)\n",
    "survival_rate = np.round((survived/total_passengers)*100, 2)\n",
    "print(f\"The survival rate of boarding the titanic was {survival_rate}%.\")"
   ]
  },
  {
   "cell_type": "markdown",
   "id": "06f85479-69dc-45fc-bbcd-46446beab533",
   "metadata": {},
   "source": [
    "Of those who survived how many were female and male?"
   ]
  },
  {
   "cell_type": "code",
   "execution_count": 24,
   "id": "0e86e5d3-6726-480f-88fd-9e0632e5b32b",
   "metadata": {
    "tags": []
   },
   "outputs": [
    {
     "name": "stdout",
     "output_type": "stream",
     "text": [
      "233 females survived while 109 males survived.\n"
     ]
    }
   ],
   "source": [
    "survived_female = train.query(\"Sex == 'female'\")[\"Survived\"].sum() # Works because Survived has 1 and 0.\n",
    "survived_male = train.query(\"Sex == 'male'\")[\"Survived\"].sum()\n",
    "print(f\"{survived_female} females survived while {survived_male} males survived.\")"
   ]
  },
  {
   "cell_type": "markdown",
   "id": "30146bfa-d643-4fcc-b9b2-1c916223535d",
   "metadata": {},
   "source": [
    "Which gender had a better survival rate?"
   ]
  },
  {
   "cell_type": "code",
   "execution_count": 26,
   "id": "f5024214-2b89-4df0-8686-69ded3191bdc",
   "metadata": {
    "tags": []
   },
   "outputs": [
    {
     "name": "stdout",
     "output_type": "stream",
     "text": [
      "Among females, the survival rate was 74.2% whereas among males it was 18.89%.\n",
      "Females aboard the titanic had a survival rate of 26.15% whereas males had 12.23%.\n"
     ]
    }
   ],
   "source": [
    "total_female = len(train.query(\"Sex == 'female'\"))\n",
    "total_male = len(train.query(\"Sex == 'male'\"))\n",
    "\n",
    "female_rate = np.round((survived_female/total_female)*100, 2)\n",
    "male_rate = np.round((survived_male/total_male)*100, 2)\n",
    "\n",
    "overall_female_rate = np.round((survived_female/total_passengers)*100, 2)\n",
    "overall_male_rate = np.round((survived_male/total_passengers)*100, 2)\n",
    "\n",
    "print(f\"Among females, the survival rate was {female_rate}% whereas among males it was {male_rate}%.\")\n",
    "print(f\"Females aboard the titanic had a survival rate of {overall_female_rate}% whereas males had {overall_male_rate}%.\")"
   ]
  },
  {
   "cell_type": "markdown",
   "id": "806b00c4-abb0-4560-bf16-b9bcaad45a3f",
   "metadata": {},
   "source": [
    "Did age affect surival rate?"
   ]
  },
  {
   "cell_type": "markdown",
   "id": "ed62dd74-e90a-440e-9903-ad50cd92e564",
   "metadata": {},
   "source": [
    "*To answer this question, I'll create age buckets to make analysis easier*"
   ]
  },
  {
   "cell_type": "code",
   "execution_count": 29,
   "id": "947ab8e3-86b7-45f6-9541-56c6b4645228",
   "metadata": {
    "tags": []
   },
   "outputs": [
    {
     "name": "stdout",
     "output_type": "stream",
     "text": [
      " Minimum age: 0.42 \n",
      " Maximum age: 80.0\n"
     ]
    }
   ],
   "source": [
    "print(f\" Minimum age: {train['Age'].min()} \\n Maximum age: {train['Age'].max()}\")"
   ]
  },
  {
   "cell_type": "code",
   "execution_count": 30,
   "id": "8db916da-6656-4bf3-8971-94f9fd17ff8d",
   "metadata": {
    "tags": []
   },
   "outputs": [],
   "source": [
    "# Define age buckets\n",
    "bins = [0, 12, 18, 35, 60, 100]  # Specify bucket edges\n",
    "labels = ['Child', 'Teen', 'Young Adult', 'Adult', 'Senior']  # Specify labels for the buckets\n",
    "\n",
    "# Create the age buckets\n",
    "train['Age_group'] = pd.cut(train['Age'], bins=bins, labels=labels)"
   ]
  },
  {
   "cell_type": "markdown",
   "id": "b695a601-0c64-47b9-a52f-3e2daf1dbc3c",
   "metadata": {
    "tags": []
   },
   "source": [
    "*Next, I'll calculate how many people survived per age group*"
   ]
  },
  {
   "cell_type": "code",
   "execution_count": 32,
   "id": "56b768c5-a68a-4602-8246-f4dc4277d525",
   "metadata": {
    "tags": []
   },
   "outputs": [
    {
     "ename": "KeyError",
     "evalue": "'age_group'",
     "output_type": "error",
     "traceback": [
      "\u001b[1;31m---------------------------------------------------------------------------\u001b[0m",
      "\u001b[1;31mKeyError\u001b[0m                                  Traceback (most recent call last)",
      "File \u001b[1;32m~\\anaconda3\\Lib\\site-packages\\pandas\\core\\indexes\\base.py:3653\u001b[0m, in \u001b[0;36mIndex.get_loc\u001b[1;34m(self, key)\u001b[0m\n\u001b[0;32m   3652\u001b[0m \u001b[38;5;28;01mtry\u001b[39;00m:\n\u001b[1;32m-> 3653\u001b[0m     \u001b[38;5;28;01mreturn\u001b[39;00m \u001b[38;5;28mself\u001b[39m\u001b[38;5;241m.\u001b[39m_engine\u001b[38;5;241m.\u001b[39mget_loc(casted_key)\n\u001b[0;32m   3654\u001b[0m \u001b[38;5;28;01mexcept\u001b[39;00m \u001b[38;5;167;01mKeyError\u001b[39;00m \u001b[38;5;28;01mas\u001b[39;00m err:\n",
      "File \u001b[1;32m~\\anaconda3\\Lib\\site-packages\\pandas\\_libs\\index.pyx:147\u001b[0m, in \u001b[0;36mpandas._libs.index.IndexEngine.get_loc\u001b[1;34m()\u001b[0m\n",
      "File \u001b[1;32m~\\anaconda3\\Lib\\site-packages\\pandas\\_libs\\index.pyx:176\u001b[0m, in \u001b[0;36mpandas._libs.index.IndexEngine.get_loc\u001b[1;34m()\u001b[0m\n",
      "File \u001b[1;32mpandas\\_libs\\hashtable_class_helper.pxi:7080\u001b[0m, in \u001b[0;36mpandas._libs.hashtable.PyObjectHashTable.get_item\u001b[1;34m()\u001b[0m\n",
      "File \u001b[1;32mpandas\\_libs\\hashtable_class_helper.pxi:7088\u001b[0m, in \u001b[0;36mpandas._libs.hashtable.PyObjectHashTable.get_item\u001b[1;34m()\u001b[0m\n",
      "\u001b[1;31mKeyError\u001b[0m: 'age_group'",
      "\nThe above exception was the direct cause of the following exception:\n",
      "\u001b[1;31mKeyError\u001b[0m                                  Traceback (most recent call last)",
      "Cell \u001b[1;32mIn[32], line 1\u001b[0m\n\u001b[1;32m----> 1\u001b[0m \u001b[38;5;28;01mfor\u001b[39;00m group \u001b[38;5;129;01min\u001b[39;00m train[\u001b[38;5;124m\"\u001b[39m\u001b[38;5;124mage_group\u001b[39m\u001b[38;5;124m\"\u001b[39m]\u001b[38;5;241m.\u001b[39munique():\n\u001b[0;32m      2\u001b[0m     survived_age_group \u001b[38;5;241m=\u001b[39m train\u001b[38;5;241m.\u001b[39mquery(\u001b[38;5;124m\"\u001b[39m\u001b[38;5;124mAge_group == @group\u001b[39m\u001b[38;5;124m\"\u001b[39m)[\u001b[38;5;124m\"\u001b[39m\u001b[38;5;124mSurvived\u001b[39m\u001b[38;5;124m\"\u001b[39m]\u001b[38;5;241m.\u001b[39msum()\n\u001b[0;32m      3\u001b[0m     \u001b[38;5;28mprint\u001b[39m(\u001b[38;5;124mf\u001b[39m\u001b[38;5;124m\"\u001b[39m\u001b[38;5;132;01m{\u001b[39;00msurvived_age_group\u001b[38;5;132;01m}\u001b[39;00m\u001b[38;5;124m \u001b[39m\u001b[38;5;132;01m{\u001b[39;00mgroup\u001b[38;5;132;01m}\u001b[39;00m\u001b[38;5;124m survived.\u001b[39m\u001b[38;5;124m\"\u001b[39m)\n",
      "File \u001b[1;32m~\\anaconda3\\Lib\\site-packages\\pandas\\core\\frame.py:3761\u001b[0m, in \u001b[0;36mDataFrame.__getitem__\u001b[1;34m(self, key)\u001b[0m\n\u001b[0;32m   3759\u001b[0m \u001b[38;5;28;01mif\u001b[39;00m \u001b[38;5;28mself\u001b[39m\u001b[38;5;241m.\u001b[39mcolumns\u001b[38;5;241m.\u001b[39mnlevels \u001b[38;5;241m>\u001b[39m \u001b[38;5;241m1\u001b[39m:\n\u001b[0;32m   3760\u001b[0m     \u001b[38;5;28;01mreturn\u001b[39;00m \u001b[38;5;28mself\u001b[39m\u001b[38;5;241m.\u001b[39m_getitem_multilevel(key)\n\u001b[1;32m-> 3761\u001b[0m indexer \u001b[38;5;241m=\u001b[39m \u001b[38;5;28mself\u001b[39m\u001b[38;5;241m.\u001b[39mcolumns\u001b[38;5;241m.\u001b[39mget_loc(key)\n\u001b[0;32m   3762\u001b[0m \u001b[38;5;28;01mif\u001b[39;00m is_integer(indexer):\n\u001b[0;32m   3763\u001b[0m     indexer \u001b[38;5;241m=\u001b[39m [indexer]\n",
      "File \u001b[1;32m~\\anaconda3\\Lib\\site-packages\\pandas\\core\\indexes\\base.py:3655\u001b[0m, in \u001b[0;36mIndex.get_loc\u001b[1;34m(self, key)\u001b[0m\n\u001b[0;32m   3653\u001b[0m     \u001b[38;5;28;01mreturn\u001b[39;00m \u001b[38;5;28mself\u001b[39m\u001b[38;5;241m.\u001b[39m_engine\u001b[38;5;241m.\u001b[39mget_loc(casted_key)\n\u001b[0;32m   3654\u001b[0m \u001b[38;5;28;01mexcept\u001b[39;00m \u001b[38;5;167;01mKeyError\u001b[39;00m \u001b[38;5;28;01mas\u001b[39;00m err:\n\u001b[1;32m-> 3655\u001b[0m     \u001b[38;5;28;01mraise\u001b[39;00m \u001b[38;5;167;01mKeyError\u001b[39;00m(key) \u001b[38;5;28;01mfrom\u001b[39;00m \u001b[38;5;21;01merr\u001b[39;00m\n\u001b[0;32m   3656\u001b[0m \u001b[38;5;28;01mexcept\u001b[39;00m \u001b[38;5;167;01mTypeError\u001b[39;00m:\n\u001b[0;32m   3657\u001b[0m     \u001b[38;5;66;03m# If we have a listlike key, _check_indexing_error will raise\u001b[39;00m\n\u001b[0;32m   3658\u001b[0m     \u001b[38;5;66;03m#  InvalidIndexError. Otherwise we fall through and re-raise\u001b[39;00m\n\u001b[0;32m   3659\u001b[0m     \u001b[38;5;66;03m#  the TypeError.\u001b[39;00m\n\u001b[0;32m   3660\u001b[0m     \u001b[38;5;28mself\u001b[39m\u001b[38;5;241m.\u001b[39m_check_indexing_error(key)\n",
      "\u001b[1;31mKeyError\u001b[0m: 'age_group'"
     ]
    }
   ],
   "source": [
    "for group in train[\"Age_group\"].unique():\n",
    "    survived_age_group = train.query(\"Age_group == @group\")[\"Survived\"].sum()\n",
    "    print(f\"{survived_age_group} {group} survived.\")"
   ]
  },
  {
   "cell_type": "code",
   "execution_count": null,
   "id": "5316aa01-0daf-4041-817c-f5097ecd176f",
   "metadata": {},
   "outputs": [],
   "source": []
  }
 ],
 "metadata": {
  "kernelspec": {
   "display_name": "Python 3 (ipykernel)",
   "language": "python",
   "name": "python3"
  },
  "language_info": {
   "codemirror_mode": {
    "name": "ipython",
    "version": 3
   },
   "file_extension": ".py",
   "mimetype": "text/x-python",
   "name": "python",
   "nbconvert_exporter": "python",
   "pygments_lexer": "ipython3",
   "version": "3.11.5"
  },
  "toc-autonumbering": false,
  "toc-showcode": false,
  "toc-showmarkdowntxt": false,
  "toc-showtags": false
 },
 "nbformat": 4,
 "nbformat_minor": 5
}
