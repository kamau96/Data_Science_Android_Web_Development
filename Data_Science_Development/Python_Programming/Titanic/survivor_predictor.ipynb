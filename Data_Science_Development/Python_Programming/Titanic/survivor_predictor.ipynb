{
 "cells": [
  {
   "cell_type": "markdown",
   "id": "1e5df0a9-2100-4bb5-a9dc-bb014d97375b",
   "metadata": {},
   "source": [
    "# Titanic Ship Wreck\n",
    "Author: *Kamau Wa Wainaina*\n",
    "\n",
    "Helpful Notebooks: *Gunes Evitan*"
   ]
  },
  {
   "cell_type": "code",
   "execution_count": 2,
   "id": "a5369aad-bfd5-41d4-bb3d-e109065a69b6",
   "metadata": {
    "tags": []
   },
   "outputs": [],
   "source": [
    "import pandas as pd\n",
    "import numpy as np\n",
    "import matplotlib.pyplot as plt\n",
    "import seaborn as sns"
   ]
  },
  {
   "cell_type": "code",
   "execution_count": 3,
   "id": "8a1085c8-0bab-476a-ba70-20519c866ba2",
   "metadata": {
    "tags": []
   },
   "outputs": [],
   "source": [
    "path = \"../../../Data/titanic/\"\n",
    "train = pd.read_csv(path+\"train.csv\")\n",
    "test = pd.read_csv(path+\"test.csv\")"
   ]
  },
  {
   "cell_type": "code",
   "execution_count": 4,
   "id": "41cbb356-5d7f-4712-96f1-91523a4aa2de",
   "metadata": {},
   "outputs": [],
   "source": [
    "train = train.set_index(\"PassengerId\")\n",
    "test = test.set_index(\"PassengerId\")"
   ]
  },
  {
   "cell_type": "markdown",
   "id": "ee657c3b-cb67-40b2-91b6-20d351352068",
   "metadata": {
    "tags": []
   },
   "source": [
    "## Missing Values"
   ]
  },
  {
   "cell_type": "markdown",
   "id": "4e54aecd-4252-4211-b6c0-a6947c9505b9",
   "metadata": {},
   "source": [
    "While filling missing values, it's best to use the entire dataset to avoid overfitting to either the train or test data."
   ]
  },
  {
   "cell_type": "code",
   "execution_count": 7,
   "id": "0a1a35b0-38cd-4014-81a0-4be0f0d14f60",
   "metadata": {
    "tags": []
   },
   "outputs": [
    {
     "data": {
      "text/html": [
       "<div>\n",
       "<style scoped>\n",
       "    .dataframe tbody tr th:only-of-type {\n",
       "        vertical-align: middle;\n",
       "    }\n",
       "\n",
       "    .dataframe tbody tr th {\n",
       "        vertical-align: top;\n",
       "    }\n",
       "\n",
       "    .dataframe thead th {\n",
       "        text-align: right;\n",
       "    }\n",
       "</style>\n",
       "<table border=\"1\" class=\"dataframe\">\n",
       "  <thead>\n",
       "    <tr style=\"text-align: right;\">\n",
       "      <th></th>\n",
       "      <th>Survived</th>\n",
       "      <th>Pclass</th>\n",
       "      <th>Name</th>\n",
       "      <th>Sex</th>\n",
       "      <th>Age</th>\n",
       "      <th>SibSp</th>\n",
       "      <th>Parch</th>\n",
       "      <th>Ticket</th>\n",
       "      <th>Fare</th>\n",
       "      <th>Cabin</th>\n",
       "      <th>Embarked</th>\n",
       "    </tr>\n",
       "    <tr>\n",
       "      <th>PassengerId</th>\n",
       "      <th></th>\n",
       "      <th></th>\n",
       "      <th></th>\n",
       "      <th></th>\n",
       "      <th></th>\n",
       "      <th></th>\n",
       "      <th></th>\n",
       "      <th></th>\n",
       "      <th></th>\n",
       "      <th></th>\n",
       "      <th></th>\n",
       "    </tr>\n",
       "  </thead>\n",
       "  <tbody>\n",
       "    <tr>\n",
       "      <th>1</th>\n",
       "      <td>0.0</td>\n",
       "      <td>3</td>\n",
       "      <td>Braund, Mr. Owen Harris</td>\n",
       "      <td>male</td>\n",
       "      <td>22.0</td>\n",
       "      <td>1</td>\n",
       "      <td>0</td>\n",
       "      <td>A/5 21171</td>\n",
       "      <td>7.2500</td>\n",
       "      <td>NaN</td>\n",
       "      <td>S</td>\n",
       "    </tr>\n",
       "    <tr>\n",
       "      <th>2</th>\n",
       "      <td>1.0</td>\n",
       "      <td>1</td>\n",
       "      <td>Cumings, Mrs. John Bradley (Florence Briggs Th...</td>\n",
       "      <td>female</td>\n",
       "      <td>38.0</td>\n",
       "      <td>1</td>\n",
       "      <td>0</td>\n",
       "      <td>PC 17599</td>\n",
       "      <td>71.2833</td>\n",
       "      <td>C85</td>\n",
       "      <td>C</td>\n",
       "    </tr>\n",
       "    <tr>\n",
       "      <th>3</th>\n",
       "      <td>1.0</td>\n",
       "      <td>3</td>\n",
       "      <td>Heikkinen, Miss. Laina</td>\n",
       "      <td>female</td>\n",
       "      <td>26.0</td>\n",
       "      <td>0</td>\n",
       "      <td>0</td>\n",
       "      <td>STON/O2. 3101282</td>\n",
       "      <td>7.9250</td>\n",
       "      <td>NaN</td>\n",
       "      <td>S</td>\n",
       "    </tr>\n",
       "    <tr>\n",
       "      <th>4</th>\n",
       "      <td>1.0</td>\n",
       "      <td>1</td>\n",
       "      <td>Futrelle, Mrs. Jacques Heath (Lily May Peel)</td>\n",
       "      <td>female</td>\n",
       "      <td>35.0</td>\n",
       "      <td>1</td>\n",
       "      <td>0</td>\n",
       "      <td>113803</td>\n",
       "      <td>53.1000</td>\n",
       "      <td>C123</td>\n",
       "      <td>S</td>\n",
       "    </tr>\n",
       "    <tr>\n",
       "      <th>5</th>\n",
       "      <td>0.0</td>\n",
       "      <td>3</td>\n",
       "      <td>Allen, Mr. William Henry</td>\n",
       "      <td>male</td>\n",
       "      <td>35.0</td>\n",
       "      <td>0</td>\n",
       "      <td>0</td>\n",
       "      <td>373450</td>\n",
       "      <td>8.0500</td>\n",
       "      <td>NaN</td>\n",
       "      <td>S</td>\n",
       "    </tr>\n",
       "  </tbody>\n",
       "</table>\n",
       "</div>"
      ],
      "text/plain": [
       "             Survived  Pclass  \\\n",
       "PassengerId                     \n",
       "1                 0.0       3   \n",
       "2                 1.0       1   \n",
       "3                 1.0       3   \n",
       "4                 1.0       1   \n",
       "5                 0.0       3   \n",
       "\n",
       "                                                          Name     Sex   Age  \\\n",
       "PassengerId                                                                    \n",
       "1                                      Braund, Mr. Owen Harris    male  22.0   \n",
       "2            Cumings, Mrs. John Bradley (Florence Briggs Th...  female  38.0   \n",
       "3                                       Heikkinen, Miss. Laina  female  26.0   \n",
       "4                 Futrelle, Mrs. Jacques Heath (Lily May Peel)  female  35.0   \n",
       "5                                     Allen, Mr. William Henry    male  35.0   \n",
       "\n",
       "             SibSp  Parch            Ticket     Fare Cabin Embarked  \n",
       "PassengerId                                                          \n",
       "1                1      0         A/5 21171   7.2500   NaN        S  \n",
       "2                1      0          PC 17599  71.2833   C85        C  \n",
       "3                0      0  STON/O2. 3101282   7.9250   NaN        S  \n",
       "4                1      0            113803  53.1000  C123        S  \n",
       "5                0      0            373450   8.0500   NaN        S  "
      ]
     },
     "execution_count": 7,
     "metadata": {},
     "output_type": "execute_result"
    }
   ],
   "source": [
    "df_all = pd.concat([train, test])\n",
    "df_all.head()"
   ]
  },
  {
   "cell_type": "code",
   "execution_count": 8,
   "id": "1bb7abfc-64b1-48c2-8b85-66f10e8abc92",
   "metadata": {
    "tags": []
   },
   "outputs": [
    {
     "name": "stdout",
     "output_type": "stream",
     "text": [
      "<class 'pandas.core.frame.DataFrame'>\n",
      "Index: 1309 entries, 1 to 1309\n",
      "Data columns (total 11 columns):\n",
      " #   Column    Non-Null Count  Dtype  \n",
      "---  ------    --------------  -----  \n",
      " 0   Survived  891 non-null    float64\n",
      " 1   Pclass    1309 non-null   int64  \n",
      " 2   Name      1309 non-null   object \n",
      " 3   Sex       1309 non-null   object \n",
      " 4   Age       1046 non-null   float64\n",
      " 5   SibSp     1309 non-null   int64  \n",
      " 6   Parch     1309 non-null   int64  \n",
      " 7   Ticket    1309 non-null   object \n",
      " 8   Fare      1308 non-null   float64\n",
      " 9   Cabin     295 non-null    object \n",
      " 10  Embarked  1307 non-null   object \n",
      "dtypes: float64(3), int64(3), object(5)\n",
      "memory usage: 122.7+ KB\n"
     ]
    }
   ],
   "source": [
    "df_all.info()"
   ]
  },
  {
   "cell_type": "code",
   "execution_count": 9,
   "id": "6bfd4831-fcb9-4a03-964f-3f9419bde583",
   "metadata": {
    "tags": []
   },
   "outputs": [],
   "source": [
    "cat_attributes = [\"Name\", \"Sex\", \"Ticket\", \"Cabin\", \"Embarked\"]\n",
    "num_attributes = [\"Pclass\", \"Age\", \"SibSp\", \"Parch\", \"Fare\"]"
   ]
  },
  {
   "cell_type": "markdown",
   "id": "e89999b6-1b55-40e3-91fe-d7afa2abc51c",
   "metadata": {},
   "source": [
    "The following columns have null values **Age**, **Fare**, **Embarked**, and **Cabin**. "
   ]
  },
  {
   "cell_type": "markdown",
   "id": "53050548-95fc-449a-9119-92ef7e3c473e",
   "metadata": {},
   "source": [
    "### Age."
   ]
  },
  {
   "cell_type": "markdown",
   "id": "05052f15-1240-4892-9df9-bf167ae49d39",
   "metadata": {},
   "source": [
    "20% of the values in both train and test are missing values for the age column. We could use the mean to replace missing values. However, we could be a bit clever and use highly correlated columns to help in this endevour."
   ]
  },
  {
   "cell_type": "code",
   "execution_count": 13,
   "id": "7db13bd8-e8d5-4e61-b366-2b1b8d3fc417",
   "metadata": {},
   "outputs": [
    {
     "data": {
      "text/plain": [
       "Age       1.000000\n",
       "Fare      0.178740\n",
       "Parch    -0.150917\n",
       "SibSp    -0.243699\n",
       "Pclass   -0.408106\n",
       "Name: Age, dtype: float64"
      ]
     },
     "execution_count": 13,
     "metadata": {},
     "output_type": "execute_result"
    }
   ],
   "source": [
    "corr_matrix = df_all[num_attributes].corr()\n",
    "corr_matrix[\"Age\"].sort_values(ascending=False)"
   ]
  },
  {
   "cell_type": "markdown",
   "id": "7c070010-b03e-4a4b-8159-33e5f66f6ec2",
   "metadata": {},
   "source": [
    "The highest correlation is with passenger class which is a negative correlation. We can use this column to help fill the null values in age. Before we start that, let's check if sex ages within the different passenger classes was the same and if not sex will also be used to calculate mean age. "
   ]
  },
  {
   "cell_type": "code",
   "execution_count": 15,
   "id": "e490492e-4087-41b1-83ea-1491ac4e61ae",
   "metadata": {
    "tags": []
   },
   "outputs": [
    {
     "name": "stdout",
     "output_type": "stream",
     "text": [
      "In passenger class 3, the mean age of females was 22.0 whereas for males was 25.0.\n",
      "In passenger class 1, the mean age of females was 37.0 whereas for males was 41.0.\n",
      "In passenger class 2, the mean age of females was 27.0 whereas for males was 30.0.\n"
     ]
    }
   ],
   "source": [
    "for pclass in df_all[\"Pclass\"].unique():\n",
    "    female_mean = np.floor(df_all[(df_all[\"Pclass\"]==pclass) & (df_all[\"Sex\"]==\"female\")][\"Age\"].mean())\n",
    "    male_mean = np.floor(df_all[(df_all[\"Pclass\"]==pclass) & (df_all[\"Sex\"]==\"male\")][\"Age\"].mean())\n",
    "    \n",
    "    print(f\"In passenger class {pclass}, the mean age of females was {female_mean} whereas for males was {male_mean}.\")"
   ]
  },
  {
   "cell_type": "markdown",
   "id": "90cbb2af-30e0-43c4-a001-1c20554a34f5",
   "metadata": {},
   "source": [
    "Males were generally older across the different passenger classes."
   ]
  },
  {
   "cell_type": "code",
   "execution_count": 17,
   "id": "a2246fe2-6096-4274-be45-431a04c4d88a",
   "metadata": {
    "tags": []
   },
   "outputs": [],
   "source": [
    "df_all[\"Age\"] = df_all.groupby([\"Sex\", \"Pclass\"])[\"Age\"].transform(lambda x: x.fillna(np.floor(x.mean())))"
   ]
  },
  {
   "cell_type": "markdown",
   "id": "a68cc425-ff15-4aed-b0e7-08029e0afb02",
   "metadata": {},
   "source": [
    "### Fare."
   ]
  },
  {
   "cell_type": "markdown",
   "id": "5077854f-8f31-4955-9a1e-781f636fdd27",
   "metadata": {},
   "source": [
    "Only one passenger (Storey, Mr. Thomas) doesn't have value for fare."
   ]
  },
  {
   "cell_type": "code",
   "execution_count": 20,
   "id": "c114e5c0-12de-4ac4-92f9-4eda7bfb0f18",
   "metadata": {
    "tags": []
   },
   "outputs": [
    {
     "data": {
      "text/html": [
       "<div>\n",
       "<style scoped>\n",
       "    .dataframe tbody tr th:only-of-type {\n",
       "        vertical-align: middle;\n",
       "    }\n",
       "\n",
       "    .dataframe tbody tr th {\n",
       "        vertical-align: top;\n",
       "    }\n",
       "\n",
       "    .dataframe thead th {\n",
       "        text-align: right;\n",
       "    }\n",
       "</style>\n",
       "<table border=\"1\" class=\"dataframe\">\n",
       "  <thead>\n",
       "    <tr style=\"text-align: right;\">\n",
       "      <th></th>\n",
       "      <th>Survived</th>\n",
       "      <th>Pclass</th>\n",
       "      <th>Name</th>\n",
       "      <th>Sex</th>\n",
       "      <th>Age</th>\n",
       "      <th>SibSp</th>\n",
       "      <th>Parch</th>\n",
       "      <th>Ticket</th>\n",
       "      <th>Fare</th>\n",
       "      <th>Cabin</th>\n",
       "      <th>Embarked</th>\n",
       "    </tr>\n",
       "    <tr>\n",
       "      <th>PassengerId</th>\n",
       "      <th></th>\n",
       "      <th></th>\n",
       "      <th></th>\n",
       "      <th></th>\n",
       "      <th></th>\n",
       "      <th></th>\n",
       "      <th></th>\n",
       "      <th></th>\n",
       "      <th></th>\n",
       "      <th></th>\n",
       "      <th></th>\n",
       "    </tr>\n",
       "  </thead>\n",
       "  <tbody>\n",
       "    <tr>\n",
       "      <th>1044</th>\n",
       "      <td>NaN</td>\n",
       "      <td>3</td>\n",
       "      <td>Storey, Mr. Thomas</td>\n",
       "      <td>male</td>\n",
       "      <td>60.5</td>\n",
       "      <td>0</td>\n",
       "      <td>0</td>\n",
       "      <td>3701</td>\n",
       "      <td>NaN</td>\n",
       "      <td>NaN</td>\n",
       "      <td>S</td>\n",
       "    </tr>\n",
       "  </tbody>\n",
       "</table>\n",
       "</div>"
      ],
      "text/plain": [
       "             Survived  Pclass                Name   Sex   Age  SibSp  Parch  \\\n",
       "PassengerId                                                                   \n",
       "1044              NaN       3  Storey, Mr. Thomas  male  60.5      0      0   \n",
       "\n",
       "            Ticket  Fare Cabin Embarked  \n",
       "PassengerId                              \n",
       "1044          3701   NaN   NaN        S  "
      ]
     },
     "execution_count": 20,
     "metadata": {},
     "output_type": "execute_result"
    }
   ],
   "source": [
    "df_all[pd.isnull(df_all[\"Fare\"])]"
   ]
  },
  {
   "cell_type": "markdown",
   "id": "0bfae8a6-df97-4441-88b2-718b1c8ae85e",
   "metadata": {},
   "source": [
    "Since there is only one null, we can try to be as precise as possible while guessing what this value might have being."
   ]
  },
  {
   "cell_type": "code",
   "execution_count": 22,
   "id": "af2c8ab9-4188-4dda-983f-a4c940892569",
   "metadata": {
    "tags": []
   },
   "outputs": [],
   "source": [
    "replace_value = df_all[(df_all[\"Pclass\"]==3)&\n",
    "                   (df_all[\"Sex\"]==\"male\")&\n",
    "                   (df_all[\"SibSp\"]==0)&\n",
    "                   (df_all[\"Parch\"]==0)&\n",
    "                   (df_all[\"Embarked\"]==\"S\")&\n",
    "                   (df_all[\"Age\"]>=60)][\"Fare\"].mean()\n",
    "df_all[\"Fare\"] = df_all[\"Fare\"].fillna(replace_value)"
   ]
  },
  {
   "cell_type": "markdown",
   "id": "4f5d6c89-38e4-407b-9d2b-8e6a10d0b5e3",
   "metadata": {},
   "source": [
    "### Embarked."
   ]
  },
  {
   "cell_type": "code",
   "execution_count": 24,
   "id": "c39fc788-2d35-46a9-8393-bb9213fe34e3",
   "metadata": {
    "tags": []
   },
   "outputs": [
    {
     "data": {
      "text/html": [
       "<div>\n",
       "<style scoped>\n",
       "    .dataframe tbody tr th:only-of-type {\n",
       "        vertical-align: middle;\n",
       "    }\n",
       "\n",
       "    .dataframe tbody tr th {\n",
       "        vertical-align: top;\n",
       "    }\n",
       "\n",
       "    .dataframe thead th {\n",
       "        text-align: right;\n",
       "    }\n",
       "</style>\n",
       "<table border=\"1\" class=\"dataframe\">\n",
       "  <thead>\n",
       "    <tr style=\"text-align: right;\">\n",
       "      <th></th>\n",
       "      <th>Survived</th>\n",
       "      <th>Pclass</th>\n",
       "      <th>Name</th>\n",
       "      <th>Sex</th>\n",
       "      <th>Age</th>\n",
       "      <th>SibSp</th>\n",
       "      <th>Parch</th>\n",
       "      <th>Ticket</th>\n",
       "      <th>Fare</th>\n",
       "      <th>Cabin</th>\n",
       "      <th>Embarked</th>\n",
       "    </tr>\n",
       "    <tr>\n",
       "      <th>PassengerId</th>\n",
       "      <th></th>\n",
       "      <th></th>\n",
       "      <th></th>\n",
       "      <th></th>\n",
       "      <th></th>\n",
       "      <th></th>\n",
       "      <th></th>\n",
       "      <th></th>\n",
       "      <th></th>\n",
       "      <th></th>\n",
       "      <th></th>\n",
       "    </tr>\n",
       "  </thead>\n",
       "  <tbody>\n",
       "    <tr>\n",
       "      <th>62</th>\n",
       "      <td>1.0</td>\n",
       "      <td>1</td>\n",
       "      <td>Icard, Miss. Amelie</td>\n",
       "      <td>female</td>\n",
       "      <td>38.0</td>\n",
       "      <td>0</td>\n",
       "      <td>0</td>\n",
       "      <td>113572</td>\n",
       "      <td>80.0</td>\n",
       "      <td>B28</td>\n",
       "      <td>NaN</td>\n",
       "    </tr>\n",
       "    <tr>\n",
       "      <th>830</th>\n",
       "      <td>1.0</td>\n",
       "      <td>1</td>\n",
       "      <td>Stone, Mrs. George Nelson (Martha Evelyn)</td>\n",
       "      <td>female</td>\n",
       "      <td>62.0</td>\n",
       "      <td>0</td>\n",
       "      <td>0</td>\n",
       "      <td>113572</td>\n",
       "      <td>80.0</td>\n",
       "      <td>B28</td>\n",
       "      <td>NaN</td>\n",
       "    </tr>\n",
       "  </tbody>\n",
       "</table>\n",
       "</div>"
      ],
      "text/plain": [
       "             Survived  Pclass                                       Name  \\\n",
       "PassengerId                                                                \n",
       "62                1.0       1                        Icard, Miss. Amelie   \n",
       "830               1.0       1  Stone, Mrs. George Nelson (Martha Evelyn)   \n",
       "\n",
       "                Sex   Age  SibSp  Parch  Ticket  Fare Cabin Embarked  \n",
       "PassengerId                                                           \n",
       "62           female  38.0      0      0  113572  80.0   B28      NaN  \n",
       "830          female  62.0      0      0  113572  80.0   B28      NaN  "
      ]
     },
     "execution_count": 24,
     "metadata": {},
     "output_type": "execute_result"
    }
   ],
   "source": [
    "df_all[pd.isnull(df_all[\"Embarked\"])]"
   ]
  },
  {
   "cell_type": "markdown",
   "id": "0232fd52-4dcd-452b-a7e5-d0dbf956a296",
   "metadata": {},
   "source": [
    "These people have the same ticket suggesting that they travelled together and therefore embarked from the same location. From the Gunes Evitan's notebook, using a simple google search, he found that both passengers, embarked from Southampton. Miss. Amelie was Mrs. George Maid. (I confirmed this information with a Google search of my own.)"
   ]
  },
  {
   "cell_type": "code",
   "execution_count": 26,
   "id": "48a4b73d-d65d-401b-8fc6-454e164d673e",
   "metadata": {
    "tags": []
   },
   "outputs": [],
   "source": [
    "df_all[\"Embarked\"] = df_all[\"Embarked\"].fillna(\"S\")"
   ]
  },
  {
   "cell_type": "markdown",
   "id": "390eb51e-cb70-4e63-a36e-52ad9601861f",
   "metadata": {},
   "source": [
    "### Cabin."
   ]
  },
  {
   "cell_type": "markdown",
   "id": "5f818903-6686-4772-aa4b-a5397e5861e5",
   "metadata": {},
   "source": [
    "We extract the first letter of cabin and replace null values with M."
   ]
  },
  {
   "cell_type": "code",
   "execution_count": 29,
   "id": "1940fe78-0ffe-4cde-b290-671525a72b47",
   "metadata": {},
   "outputs": [],
   "source": [
    "df_all[\"Deck\"] = df_all[\"Cabin\"].transform(lambda x: x[0] if pd.notnull(x) else \"M\")\n",
    "df_all.drop(\"Cabin\", axis=1, inplace=True)"
   ]
  },
  {
   "cell_type": "markdown",
   "id": "7efe1615-c7e3-4c7b-9eb3-78fd09f239b1",
   "metadata": {},
   "source": [
    "Here we replace nulls with M because it's hard to use other features to help with replacement. Also, we extract we extract the first letter of the Cabin column as this represents the deck each passenger was on (again Gunes Evitan's notebook to the rescue). "
   ]
  },
  {
   "cell_type": "code",
   "execution_count": 31,
   "id": "e6aeb4c5-3835-4faa-b290-16e708727fdf",
   "metadata": {
    "tags": []
   },
   "outputs": [
    {
     "name": "stdout",
     "output_type": "stream",
     "text": [
      "<class 'pandas.core.frame.DataFrame'>\n",
      "Index: 1309 entries, 1 to 1309\n",
      "Data columns (total 11 columns):\n",
      " #   Column    Non-Null Count  Dtype  \n",
      "---  ------    --------------  -----  \n",
      " 0   Survived  891 non-null    float64\n",
      " 1   Pclass    1309 non-null   int64  \n",
      " 2   Name      1309 non-null   object \n",
      " 3   Sex       1309 non-null   object \n",
      " 4   Age       1309 non-null   float64\n",
      " 5   SibSp     1309 non-null   int64  \n",
      " 6   Parch     1309 non-null   int64  \n",
      " 7   Ticket    1309 non-null   object \n",
      " 8   Fare      1309 non-null   float64\n",
      " 9   Embarked  1309 non-null   object \n",
      " 10  Deck      1309 non-null   object \n",
      "dtypes: float64(3), int64(3), object(5)\n",
      "memory usage: 122.7+ KB\n"
     ]
    }
   ],
   "source": [
    "df_all.info()"
   ]
  },
  {
   "cell_type": "markdown",
   "id": "5326b5d9-d501-4f56-9715-964f64e036e9",
   "metadata": {},
   "source": [
    "We see that the only column with nulls is survived which is our target column."
   ]
  },
  {
   "cell_type": "code",
   "execution_count": 33,
   "id": "12818406-759e-420b-b081-10cd7774faae",
   "metadata": {},
   "outputs": [],
   "source": [
    "train = df_all.loc[train.index]\n",
    "test = df_all.loc[test.index]\n",
    "\n",
    "del df_all"
   ]
  },
  {
   "cell_type": "markdown",
   "id": "c5159ff0-9c2f-4208-9557-84690b87ca0c",
   "metadata": {},
   "source": [
    "## EDA"
   ]
  },
  {
   "cell_type": "markdown",
   "id": "928e3a20-8f64-4f10-8a22-ed07c6714dfb",
   "metadata": {},
   "source": [
    "### Visualizing Deck column."
   ]
  },
  {
   "cell_type": "markdown",
   "id": "587574e1-e3f8-425d-8150-70f52ee526e8",
   "metadata": {},
   "source": [
    "Let's start by viewing passenger class distribution in each deck."
   ]
  },
  {
   "cell_type": "code",
   "execution_count": 37,
   "id": "da6adc6b-2f45-48f2-80b0-88b4187bf2ba",
   "metadata": {
    "tags": []
   },
   "outputs": [],
   "source": [
    "decks_ = [\"A\", \"B\", \"C\", \"D\", \"E\", \"F\", \"G\", \"T\", \"M\"]"
   ]
  },
  {
   "cell_type": "code",
   "execution_count": 38,
   "id": "1729637f-ece0-4d16-9279-413ca8cbffb7",
   "metadata": {
    "tags": []
   },
   "outputs": [
    {
     "data": {
      "image/png": "[encoded data removed]",
      "text/plain": [
       "<Figure size 1000x500 with 1 Axes>"
      ]
     },
     "metadata": {},
     "output_type": "display_data"
    }
   ],
   "source": [
    "deck_population = []\n",
    "for deck in decks_:\n",
    "    population = train[train[\"Deck\"]==deck][\"Survived\"].count()\n",
    "    deck_population.append(population)\n",
    "    \n",
    "fig, ax = plt.subplots(figsize=(10,5))\n",
    "rect = ax.bar(decks_, deck_population, color=[\"C1\",\"C2\", \"C3\", \"C4\",\"C5\", \"C6\",\"C7\",\"C8\", \"C9\"])\n",
    "ax.bar_label(rect)\n",
    "ax.set_title(\"Passenger count per Deck\",size=20)\n",
    "ax.set_xlabel(\"Deck\")\n",
    "ax.set_ylabel(\"Passenger Count\")\n",
    "plt.show()"
   ]
  },
  {
   "cell_type": "code",
   "execution_count": 39,
   "id": "3bb08af3-f365-4a7f-ba01-1e4ae80d02a2",
   "metadata": {
    "tags": []
   },
   "outputs": [],
   "source": [
    "deck_dist = np.zeros((9, 3))\n",
    "\n",
    "# We fill the matrix with the passenger distributions.\n",
    "for i in range(len(decks_)):\n",
    "    pclass_total = train[train[\"Deck\"]==decks_[i]][\"Pclass\"].count()\n",
    "    pclass_dist = train[train[\"Deck\"]==decks_[i]].groupby(\"Pclass\")[\"Pclass\"].count()\n",
    "    for pclass, pclass_count in pclass_dist.items():\n",
    "        deck_dist[i, pclass-1] = pclass_count/pclass_total"
   ]
  },
  {
   "cell_type": "code",
   "execution_count": 40,
   "id": "979874ba-c5cf-4412-8c0c-fbac4d7a6aed",
   "metadata": {
    "tags": []
   },
   "outputs": [
    {
     "data": {
      "image/png": "[encoded data removed]",
      "text/plain": [
       "<Figure size 1000x500 with 1 Axes>"
      ]
     },
     "metadata": {},
     "output_type": "display_data"
    }
   ],
   "source": [
    "fig, ax = plt.subplots(figsize=(10,5))\n",
    "\n",
    "width = 0.9\n",
    "ax.bar(decks_, deck_dist[:, 0], color='#b5ffb9', width=width, label=\"Pclass 1\")\n",
    "ax.bar(decks_, deck_dist[:, 1], bottom=deck_dist[:, 0], color='#f9bc86', width=width, label=\"Pclass 2\")\n",
    "ax.bar(decks_, deck_dist[:, 2], bottom=deck_dist[:, 0] + deck_dist[:, 1], color='#a3acff', width=width, label=\"Pclass 3\")\n",
    "ax.legend(loc=\"upper left\", bbox_to_anchor=(1.1, 0.9), frameon=False)\n",
    "ax.set_title(\"Distribution of passengers per Deck\", size=20)\n",
    "ax.set_xlabel(\"Deck\")\n",
    "ax.set_ylabel(\"Percent distribution\")\n",
    "\n",
    "plt.show()"
   ]
  },
  {
   "cell_type": "code",
   "execution_count": 41,
   "id": "476a01b8-1df9-4b3f-97d5-f903bf2f11c4",
   "metadata": {
    "tags": []
   },
   "outputs": [],
   "source": [
    "deck_survival = np.zeros((9, 2))\n",
    "\n",
    "for i in range(len(decks_)):\n",
    "    total_passenger_deck = train[train[\"Deck\"]==decks_[i]][\"Survived\"].count()\n",
    "    survived_deck = train[train[\"Deck\"]==decks_[i]][\"Survived\"].sum() # Because we're counting number of 1.\n",
    "    died_deck = train[(train[\"Deck\"]==decks_[i])&(train[\"Survived\"]==0)][\"Survived\"].count()\n",
    "    deck_survival[i, 0] = survived_deck/total_passenger_deck\n",
    "    deck_survival[i, 1] = died_deck/total_passenger_deck"
   ]
  },
  {
   "cell_type": "code",
   "execution_count": 42,
   "id": "4462339e-87e3-4188-ac8e-b0fa70194585",
   "metadata": {
    "tags": []
   },
   "outputs": [
    {
     "data": {
      "image/png": "[encoded data removed]",
      "text/plain": [
       "<Figure size 1000x500 with 1 Axes>"
      ]
     },
     "metadata": {},
     "output_type": "display_data"
    }
   ],
   "source": [
    "fig, ax = plt.subplots(figsize=(10, 5))\n",
    "\n",
    "width = 0.9\n",
    "ax.bar(decks_, deck_survival[:, 0], color='#b5ffb9', width=width, label=\"survived\")\n",
    "ax.bar(decks_, deck_survival[:, 1], color='#f9bc86', bottom=deck_survival[:,0], width=width, label=\"died\")\n",
    "ax.legend(loc=\"upper left\", bbox_to_anchor=(1.1, 0.9), frameon=False)\n",
    "ax.set_title(\"Passenger Survival per Deck\", size=20)\n",
    "ax.set_xlabel(\"Deck\")\n",
    "ax.set_ylabel(\"Survival Percentage\")\n",
    "plt.show()"
   ]
  },
  {
   "cell_type": "code",
   "execution_count": null,
   "id": "efbb6e09-e972-472b-a06d-8abe6146a422",
   "metadata": {},
   "outputs": [],
   "source": []
  }
 ],
 "metadata": {
  "kernelspec": {
   "display_name": "Python 3 (ipykernel)",
   "language": "python",
   "name": "python3"
  },
  "language_info": {
   "codemirror_mode": {
    "name": "ipython",
    "version": 3
   },
   "file_extension": ".py",
   "mimetype": "text/x-python",
   "name": "python",
   "nbconvert_exporter": "python",
   "pygments_lexer": "ipython3",
   "version": "3.11.5"
  },
  "toc-autonumbering": true,
  "toc-showcode": false,
  "toc-showmarkdowntxt": false,
  "toc-showtags": false
 },
 "nbformat": 4,
 "nbformat_minor": 5
}
