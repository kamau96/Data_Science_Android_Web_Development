{
 "cells": [
  {
   "cell_type": "markdown",
   "id": "a7131cd5-af7a-4b6b-9a28-bc4aa53bef72",
   "metadata": {},
   "source": [
    "# This Notebook explores the Titanic dataset and tries to predict if a passenger died."
   ]
  },
  {
   "cell_type": "code",
   "execution_count": 2,
   "id": "48fd571b-eb81-4d71-9692-e20ef95b68d2",
   "metadata": {
    "tags": []
   },
   "outputs": [],
   "source": [
    "# Load libraries for EDA.\n",
    "import pandas as pd\n",
    "import numpy as np \n",
    "import matplotlib.pyplot as plt"
   ]
  },
  {
   "cell_type": "code",
   "execution_count": 3,
   "id": "4e70d0f3-4873-4de3-91ff-8317e160f8bf",
   "metadata": {
    "tags": []
   },
   "outputs": [],
   "source": [
    "# Load required data\n",
    "path = \"../../../Data/titanic/\"\n",
    "train = pd.read_csv(path + \"train.csv\")\n",
    "test = pd.read_csv(path + \"test.csv\")\n",
    "gender_submission = pd.read_csv(path + \"gender_submission.csv\")"
   ]
  },
  {
   "cell_type": "markdown",
   "id": "04772cdb-8dc9-4f3b-b076-f51e361ecd43",
   "metadata": {},
   "source": [
    "Let's peek at the three datasets to see their features."
   ]
  },
  {
   "cell_type": "code",
   "execution_count": 5,
   "id": "5dfa0136-2953-4954-b36b-36a37583c86a",
   "metadata": {
    "tags": []
   },
   "outputs": [
    {
     "data": {
      "text/html": [
       "<div>\n",
       "<style scoped>\n",
       "    .dataframe tbody tr th:only-of-type {\n",
       "        vertical-align: middle;\n",
       "    }\n",
       "\n",
       "    .dataframe tbody tr th {\n",
       "        vertical-align: top;\n",
       "    }\n",
       "\n",
       "    .dataframe thead th {\n",
       "        text-align: right;\n",
       "    }\n",
       "</style>\n",
       "<table border=\"1\" class=\"dataframe\">\n",
       "  <thead>\n",
       "    <tr style=\"text-align: right;\">\n",
       "      <th></th>\n",
       "      <th>PassengerId</th>\n",
       "      <th>Survived</th>\n",
       "      <th>Pclass</th>\n",
       "      <th>Name</th>\n",
       "      <th>Sex</th>\n",
       "      <th>Age</th>\n",
       "      <th>SibSp</th>\n",
       "      <th>Parch</th>\n",
       "      <th>Ticket</th>\n",
       "      <th>Fare</th>\n",
       "      <th>Cabin</th>\n",
       "      <th>Embarked</th>\n",
       "    </tr>\n",
       "  </thead>\n",
       "  <tbody>\n",
       "    <tr>\n",
       "      <th>0</th>\n",
       "      <td>1</td>\n",
       "      <td>0</td>\n",
       "      <td>3</td>\n",
       "      <td>Braund, Mr. Owen Harris</td>\n",
       "      <td>male</td>\n",
       "      <td>22.0</td>\n",
       "      <td>1</td>\n",
       "      <td>0</td>\n",
       "      <td>A/5 21171</td>\n",
       "      <td>7.2500</td>\n",
       "      <td>NaN</td>\n",
       "      <td>S</td>\n",
       "    </tr>\n",
       "    <tr>\n",
       "      <th>1</th>\n",
       "      <td>2</td>\n",
       "      <td>1</td>\n",
       "      <td>1</td>\n",
       "      <td>Cumings, Mrs. John Bradley (Florence Briggs Th...</td>\n",
       "      <td>female</td>\n",
       "      <td>38.0</td>\n",
       "      <td>1</td>\n",
       "      <td>0</td>\n",
       "      <td>PC 17599</td>\n",
       "      <td>71.2833</td>\n",
       "      <td>C85</td>\n",
       "      <td>C</td>\n",
       "    </tr>\n",
       "    <tr>\n",
       "      <th>2</th>\n",
       "      <td>3</td>\n",
       "      <td>1</td>\n",
       "      <td>3</td>\n",
       "      <td>Heikkinen, Miss. Laina</td>\n",
       "      <td>female</td>\n",
       "      <td>26.0</td>\n",
       "      <td>0</td>\n",
       "      <td>0</td>\n",
       "      <td>STON/O2. 3101282</td>\n",
       "      <td>7.9250</td>\n",
       "      <td>NaN</td>\n",
       "      <td>S</td>\n",
       "    </tr>\n",
       "    <tr>\n",
       "      <th>3</th>\n",
       "      <td>4</td>\n",
       "      <td>1</td>\n",
       "      <td>1</td>\n",
       "      <td>Futrelle, Mrs. Jacques Heath (Lily May Peel)</td>\n",
       "      <td>female</td>\n",
       "      <td>35.0</td>\n",
       "      <td>1</td>\n",
       "      <td>0</td>\n",
       "      <td>113803</td>\n",
       "      <td>53.1000</td>\n",
       "      <td>C123</td>\n",
       "      <td>S</td>\n",
       "    </tr>\n",
       "    <tr>\n",
       "      <th>4</th>\n",
       "      <td>5</td>\n",
       "      <td>0</td>\n",
       "      <td>3</td>\n",
       "      <td>Allen, Mr. William Henry</td>\n",
       "      <td>male</td>\n",
       "      <td>35.0</td>\n",
       "      <td>0</td>\n",
       "      <td>0</td>\n",
       "      <td>373450</td>\n",
       "      <td>8.0500</td>\n",
       "      <td>NaN</td>\n",
       "      <td>S</td>\n",
       "    </tr>\n",
       "  </tbody>\n",
       "</table>\n",
       "</div>"
      ],
      "text/plain": [
       "   PassengerId  Survived  Pclass  \\\n",
       "0            1         0       3   \n",
       "1            2         1       1   \n",
       "2            3         1       3   \n",
       "3            4         1       1   \n",
       "4            5         0       3   \n",
       "\n",
       "                                                Name     Sex   Age  SibSp  \\\n",
       "0                            Braund, Mr. Owen Harris    male  22.0      1   \n",
       "1  Cumings, Mrs. John Bradley (Florence Briggs Th...  female  38.0      1   \n",
       "2                             Heikkinen, Miss. Laina  female  26.0      0   \n",
       "3       Futrelle, Mrs. Jacques Heath (Lily May Peel)  female  35.0      1   \n",
       "4                           Allen, Mr. William Henry    male  35.0      0   \n",
       "\n",
       "   Parch            Ticket     Fare Cabin Embarked  \n",
       "0      0         A/5 21171   7.2500   NaN        S  \n",
       "1      0          PC 17599  71.2833   C85        C  \n",
       "2      0  STON/O2. 3101282   7.9250   NaN        S  \n",
       "3      0            113803  53.1000  C123        S  \n",
       "4      0            373450   8.0500   NaN        S  "
      ]
     },
     "execution_count": 5,
     "metadata": {},
     "output_type": "execute_result"
    }
   ],
   "source": [
    "train.head()"
   ]
  },
  {
   "cell_type": "markdown",
   "id": "66148045-8f98-473a-a8c9-2c1c47d5931e",
   "metadata": {},
   "source": [
    "The attributes have the following meaning:\n",
    "\n",
    "- PassengerId: a unique identifier for each passenger\n",
    "- Survived: that's the target, 0 means the passenger did not survive, while 1 means he/she survived.\n",
    "- Pclass: passenger class.\n",
    "- Name, Sex, Age: self-explanatory\n",
    "- SibSp: how many siblings & spouses of the passenger aboard the Titanic.\n",
    "- Parch: how many children & parents of the passenger aboard the Titanic.\n",
    "- Ticket: ticket id\n",
    "- Fare: price paid (in pounds)\n",
    "- Cabin: passenger's cabin number\n",
    "- Embarked: where the passenger embarked the Titanic"
   ]
  },
  {
   "cell_type": "code",
   "execution_count": 7,
   "id": "cef11d02-b0d2-4d13-b032-10341aefe7aa",
   "metadata": {
    "tags": []
   },
   "outputs": [
    {
     "data": {
      "text/html": [
       "<div>\n",
       "<style scoped>\n",
       "    .dataframe tbody tr th:only-of-type {\n",
       "        vertical-align: middle;\n",
       "    }\n",
       "\n",
       "    .dataframe tbody tr th {\n",
       "        vertical-align: top;\n",
       "    }\n",
       "\n",
       "    .dataframe thead th {\n",
       "        text-align: right;\n",
       "    }\n",
       "</style>\n",
       "<table border=\"1\" class=\"dataframe\">\n",
       "  <thead>\n",
       "    <tr style=\"text-align: right;\">\n",
       "      <th></th>\n",
       "      <th>PassengerId</th>\n",
       "      <th>Pclass</th>\n",
       "      <th>Name</th>\n",
       "      <th>Sex</th>\n",
       "      <th>Age</th>\n",
       "      <th>SibSp</th>\n",
       "      <th>Parch</th>\n",
       "      <th>Ticket</th>\n",
       "      <th>Fare</th>\n",
       "      <th>Cabin</th>\n",
       "      <th>Embarked</th>\n",
       "    </tr>\n",
       "  </thead>\n",
       "  <tbody>\n",
       "    <tr>\n",
       "      <th>0</th>\n",
       "      <td>892</td>\n",
       "      <td>3</td>\n",
       "      <td>Kelly, Mr. James</td>\n",
       "      <td>male</td>\n",
       "      <td>34.5</td>\n",
       "      <td>0</td>\n",
       "      <td>0</td>\n",
       "      <td>330911</td>\n",
       "      <td>7.8292</td>\n",
       "      <td>NaN</td>\n",
       "      <td>Q</td>\n",
       "    </tr>\n",
       "    <tr>\n",
       "      <th>1</th>\n",
       "      <td>893</td>\n",
       "      <td>3</td>\n",
       "      <td>Wilkes, Mrs. James (Ellen Needs)</td>\n",
       "      <td>female</td>\n",
       "      <td>47.0</td>\n",
       "      <td>1</td>\n",
       "      <td>0</td>\n",
       "      <td>363272</td>\n",
       "      <td>7.0000</td>\n",
       "      <td>NaN</td>\n",
       "      <td>S</td>\n",
       "    </tr>\n",
       "    <tr>\n",
       "      <th>2</th>\n",
       "      <td>894</td>\n",
       "      <td>2</td>\n",
       "      <td>Myles, Mr. Thomas Francis</td>\n",
       "      <td>male</td>\n",
       "      <td>62.0</td>\n",
       "      <td>0</td>\n",
       "      <td>0</td>\n",
       "      <td>240276</td>\n",
       "      <td>9.6875</td>\n",
       "      <td>NaN</td>\n",
       "      <td>Q</td>\n",
       "    </tr>\n",
       "    <tr>\n",
       "      <th>3</th>\n",
       "      <td>895</td>\n",
       "      <td>3</td>\n",
       "      <td>Wirz, Mr. Albert</td>\n",
       "      <td>male</td>\n",
       "      <td>27.0</td>\n",
       "      <td>0</td>\n",
       "      <td>0</td>\n",
       "      <td>315154</td>\n",
       "      <td>8.6625</td>\n",
       "      <td>NaN</td>\n",
       "      <td>S</td>\n",
       "    </tr>\n",
       "    <tr>\n",
       "      <th>4</th>\n",
       "      <td>896</td>\n",
       "      <td>3</td>\n",
       "      <td>Hirvonen, Mrs. Alexander (Helga E Lindqvist)</td>\n",
       "      <td>female</td>\n",
       "      <td>22.0</td>\n",
       "      <td>1</td>\n",
       "      <td>1</td>\n",
       "      <td>3101298</td>\n",
       "      <td>12.2875</td>\n",
       "      <td>NaN</td>\n",
       "      <td>S</td>\n",
       "    </tr>\n",
       "  </tbody>\n",
       "</table>\n",
       "</div>"
      ],
      "text/plain": [
       "   PassengerId  Pclass                                          Name     Sex  \\\n",
       "0          892       3                              Kelly, Mr. James    male   \n",
       "1          893       3              Wilkes, Mrs. James (Ellen Needs)  female   \n",
       "2          894       2                     Myles, Mr. Thomas Francis    male   \n",
       "3          895       3                              Wirz, Mr. Albert    male   \n",
       "4          896       3  Hirvonen, Mrs. Alexander (Helga E Lindqvist)  female   \n",
       "\n",
       "    Age  SibSp  Parch   Ticket     Fare Cabin Embarked  \n",
       "0  34.5      0      0   330911   7.8292   NaN        Q  \n",
       "1  47.0      1      0   363272   7.0000   NaN        S  \n",
       "2  62.0      0      0   240276   9.6875   NaN        Q  \n",
       "3  27.0      0      0   315154   8.6625   NaN        S  \n",
       "4  22.0      1      1  3101298  12.2875   NaN        S  "
      ]
     },
     "execution_count": 7,
     "metadata": {},
     "output_type": "execute_result"
    }
   ],
   "source": [
    "test.head()"
   ]
  },
  {
   "cell_type": "code",
   "execution_count": 8,
   "id": "e6882e10-3a41-449f-b99a-e4ef2ba63411",
   "metadata": {
    "tags": []
   },
   "outputs": [
    {
     "data": {
      "text/html": [
       "<div>\n",
       "<style scoped>\n",
       "    .dataframe tbody tr th:only-of-type {\n",
       "        vertical-align: middle;\n",
       "    }\n",
       "\n",
       "    .dataframe tbody tr th {\n",
       "        vertical-align: top;\n",
       "    }\n",
       "\n",
       "    .dataframe thead th {\n",
       "        text-align: right;\n",
       "    }\n",
       "</style>\n",
       "<table border=\"1\" class=\"dataframe\">\n",
       "  <thead>\n",
       "    <tr style=\"text-align: right;\">\n",
       "      <th></th>\n",
       "      <th>PassengerId</th>\n",
       "      <th>Survived</th>\n",
       "    </tr>\n",
       "  </thead>\n",
       "  <tbody>\n",
       "    <tr>\n",
       "      <th>0</th>\n",
       "      <td>892</td>\n",
       "      <td>0</td>\n",
       "    </tr>\n",
       "    <tr>\n",
       "      <th>1</th>\n",
       "      <td>893</td>\n",
       "      <td>1</td>\n",
       "    </tr>\n",
       "    <tr>\n",
       "      <th>2</th>\n",
       "      <td>894</td>\n",
       "      <td>0</td>\n",
       "    </tr>\n",
       "    <tr>\n",
       "      <th>3</th>\n",
       "      <td>895</td>\n",
       "      <td>0</td>\n",
       "    </tr>\n",
       "    <tr>\n",
       "      <th>4</th>\n",
       "      <td>896</td>\n",
       "      <td>1</td>\n",
       "    </tr>\n",
       "  </tbody>\n",
       "</table>\n",
       "</div>"
      ],
      "text/plain": [
       "   PassengerId  Survived\n",
       "0          892         0\n",
       "1          893         1\n",
       "2          894         0\n",
       "3          895         0\n",
       "4          896         1"
      ]
     },
     "execution_count": 8,
     "metadata": {},
     "output_type": "execute_result"
    }
   ],
   "source": [
    "gender_submission.head()"
   ]
  },
  {
   "cell_type": "code",
   "execution_count": 9,
   "id": "bc7a87f5-3b25-431f-b8e2-2bb33c9a5871",
   "metadata": {
    "tags": []
   },
   "outputs": [],
   "source": [
    "# Explicity make the passenger id the index.\n",
    "train = train.set_index(\"PassengerId\")\n",
    "test = test.set_index(\"PassengerId\")"
   ]
  },
  {
   "cell_type": "markdown",
   "id": "74705dd6-d322-418a-b0cb-caa2262e6e2f",
   "metadata": {},
   "source": [
    "### Let's do some light Exploratory Data Analysis."
   ]
  },
  {
   "cell_type": "code",
   "execution_count": 11,
   "id": "57a2877b-e44f-4ee8-a47a-b3978e1ff2af",
   "metadata": {
    "tags": []
   },
   "outputs": [
    {
     "name": "stdout",
     "output_type": "stream",
     "text": [
      "<class 'pandas.core.frame.DataFrame'>\n",
      "Index: 891 entries, 1 to 891\n",
      "Data columns (total 11 columns):\n",
      " #   Column    Non-Null Count  Dtype  \n",
      "---  ------    --------------  -----  \n",
      " 0   Survived  891 non-null    int64  \n",
      " 1   Pclass    891 non-null    int64  \n",
      " 2   Name      891 non-null    object \n",
      " 3   Sex       891 non-null    object \n",
      " 4   Age       714 non-null    float64\n",
      " 5   SibSp     891 non-null    int64  \n",
      " 6   Parch     891 non-null    int64  \n",
      " 7   Ticket    891 non-null    object \n",
      " 8   Fare      891 non-null    float64\n",
      " 9   Cabin     204 non-null    object \n",
      " 10  Embarked  889 non-null    object \n",
      "dtypes: float64(2), int64(4), object(5)\n",
      "memory usage: 83.5+ KB\n"
     ]
    }
   ],
   "source": [
    "# Check data type and nulls.\n",
    "train.info()"
   ]
  },
  {
   "cell_type": "code",
   "execution_count": 12,
   "id": "34cf194d-3d6a-4b48-9278-a7f4f4d36eb4",
   "metadata": {
    "tags": []
   },
   "outputs": [
    {
     "name": "stdout",
     "output_type": "stream",
     "text": [
      "<class 'pandas.core.frame.DataFrame'>\n",
      "Index: 418 entries, 892 to 1309\n",
      "Data columns (total 10 columns):\n",
      " #   Column    Non-Null Count  Dtype  \n",
      "---  ------    --------------  -----  \n",
      " 0   Pclass    418 non-null    int64  \n",
      " 1   Name      418 non-null    object \n",
      " 2   Sex       418 non-null    object \n",
      " 3   Age       332 non-null    float64\n",
      " 4   SibSp     418 non-null    int64  \n",
      " 5   Parch     418 non-null    int64  \n",
      " 6   Ticket    418 non-null    object \n",
      " 7   Fare      417 non-null    float64\n",
      " 8   Cabin     91 non-null     object \n",
      " 9   Embarked  418 non-null    object \n",
      "dtypes: float64(2), int64(3), object(5)\n",
      "memory usage: 35.9+ KB\n"
     ]
    }
   ],
   "source": [
    "test.info()"
   ]
  },
  {
   "cell_type": "code",
   "execution_count": 13,
   "id": "81e95d10-c8d2-4420-a2a6-e142ccaad4f1",
   "metadata": {
    "tags": []
   },
   "outputs": [
    {
     "name": "stdout",
     "output_type": "stream",
     "text": [
      "Train set has the following information missing\n",
      "Column Age has 177 missing values which is 19.87%\n",
      "Column Cabin has 687 missing values which is 77.1%\n",
      "Column Embarked has 2 missing values which is 0.22%\n",
      "\n",
      " -------------------------------------------------- \n",
      "\n",
      "Test set has the following information missing\n",
      "Column Age has 86 missing values which is 20.57%\n",
      "Column Fare has 1 missing values which is 0.24%\n",
      "Column Cabin has 327 missing values which is 78.23%\n"
     ]
    }
   ],
   "source": [
    "def percent_null(data):\n",
    "    \"\"\"\n",
    "    This function outputs columns with missing values with their percentages.\n",
    "    \"\"\"\n",
    "    cols_with_null = list()\n",
    "    cols = data.columns\n",
    "    for col in cols:\n",
    "        null_count = data[col].isnull().value_counts()\n",
    "        if len(null_count) == 2:\n",
    "            null_count_percent = np.round((null_count[True]/len(data))*100, 2)\n",
    "            cols_with_null.append(col)\n",
    "            print(f\"Column {col} has {null_count[True]} missing values which is {null_count_percent}%\")\n",
    "    return cols_with_null\n",
    "print(\"Train set has the following information missing\")\n",
    "cols_with_null_train = percent_null(train)\n",
    "print(f\"\\n {'-'*50} \\n\")\n",
    "print(\"Test set has the following information missing\")\n",
    "cols_with_null_test = percent_null(test)"
   ]
  },
  {
   "cell_type": "code",
   "execution_count": 14,
   "id": "c0e4c5d4-e9ac-431a-b526-905cb145f203",
   "metadata": {
    "tags": []
   },
   "outputs": [
    {
     "name": "stdout",
     "output_type": "stream",
     "text": [
      "342 people survived whereas 549 people died representing a 38.38% survival rate\n"
     ]
    }
   ],
   "source": [
    "survival = train[\"Survived\"].value_counts()\n",
    "print(f\"{survival[1]} people survived whereas {survival[0]} people died representing a {(survival[1]/len(train))*100:.2f}% survival rate\")"
   ]
  },
  {
   "cell_type": "code",
   "execution_count": 15,
   "id": "a87e467f-9a7e-4510-86d1-b0b5aee9b171",
   "metadata": {
    "tags": []
   },
   "outputs": [
    {
     "data": {
      "text/plain": [
       "Sex\n",
       "male      577\n",
       "female    314\n",
       "Name: count, dtype: int64"
      ]
     },
     "execution_count": 15,
     "metadata": {},
     "output_type": "execute_result"
    }
   ],
   "source": [
    "train[\"Sex\"].value_counts()"
   ]
  },
  {
   "cell_type": "code",
   "execution_count": 16,
   "id": "c14c7904-a22a-446e-a33e-d7cbdb03f221",
   "metadata": {
    "tags": []
   },
   "outputs": [
    {
     "data": {
      "text/plain": [
       "Age\n",
       "24.00    30\n",
       "22.00    27\n",
       "18.00    26\n",
       "19.00    25\n",
       "28.00    25\n",
       "         ..\n",
       "36.50     1\n",
       "55.50     1\n",
       "0.92      1\n",
       "23.50     1\n",
       "74.00     1\n",
       "Name: count, Length: 88, dtype: int64"
      ]
     },
     "execution_count": 16,
     "metadata": {},
     "output_type": "execute_result"
    }
   ],
   "source": [
    "train[\"Age\"].value_counts()"
   ]
  },
  {
   "cell_type": "code",
   "execution_count": 17,
   "id": "adf2113a-fb2b-490f-9c27-77f786c58f85",
   "metadata": {
    "tags": []
   },
   "outputs": [
    {
     "data": {
      "text/plain": [
       "Pclass\n",
       "3    491\n",
       "1    216\n",
       "2    184\n",
       "Name: count, dtype: int64"
      ]
     },
     "execution_count": 17,
     "metadata": {},
     "output_type": "execute_result"
    }
   ],
   "source": [
    "train[\"Pclass\"].value_counts()"
   ]
  },
  {
   "cell_type": "markdown",
   "id": "3c653822-6789-444b-994f-af3522ad8f90",
   "metadata": {},
   "source": [
    "### Data Cleaning."
   ]
  },
  {
   "cell_type": "code",
   "execution_count": 19,
   "id": "d3cfdf4b-798e-466d-8f24-23812f526003",
   "metadata": {
    "tags": []
   },
   "outputs": [],
   "source": [
    "# Reduces the number of features.\n",
    "train[\"Related\"] = train[\"SibSp\"] + train[\"Parch\"]\n",
    "test[\"Related\"] = test[\"SibSp\"] + test[\"Parch\"]\n",
    "\n",
    "train.drop([\"SibSp\", \"Parch\"], axis=1, inplace=True)\n",
    "test.drop([\"SibSp\", \"Parch\"], axis=1, inplace=True)"
   ]
  },
  {
   "cell_type": "markdown",
   "id": "8e3c1b3e-6189-4a8d-97fb-f91c928ba85b",
   "metadata": {},
   "source": [
    "Will replace missing values based on passenger class i.e replace age by mean per passenger class."
   ]
  },
  {
   "cell_type": "code",
   "execution_count": 21,
   "id": "494cf905-d30f-435b-bd37-0f20da5bc4cf",
   "metadata": {
    "tags": []
   },
   "outputs": [],
   "source": [
    "def fill_missing(data, null_cols):\n",
    "    for col in null_cols:\n",
    "        if data[col].dtype == 'object':\n",
    "            for i in data[\"Pclass\"].unique():\n",
    "                replace_val = data.loc[data[\"Pclass\"]==i, col].mode()\n",
    "                replace_val = replace_val[0]\n",
    "                data.loc[data[\"Pclass\"]==i, col] = data.loc[data[\"Pclass\"]==i, col].fillna(replace_val)\n",
    "        else:\n",
    "            for i in data[\"Pclass\"].unique():\n",
    "                replace_val = data.loc[data[\"Pclass\"]==i, col].mean()\n",
    "                data.loc[data[\"Pclass\"]==i, col] = data.loc[data[\"Pclass\"]==i, col].fillna(replace_val)\n",
    "    return data\n",
    "train = fill_missing(train, cols_with_null_train)\n",
    "test = fill_missing(test, cols_with_null_test)"
   ]
  },
  {
   "cell_type": "markdown",
   "id": "76f74f14-90fe-47ef-90ae-ff5d515c271c",
   "metadata": {},
   "source": [
    "### Preprocessing"
   ]
  },
  {
   "cell_type": "code",
   "execution_count": 23,
   "id": "e4ccb46f-3646-4876-bd8c-17ec8f5f413b",
   "metadata": {
    "tags": []
   },
   "outputs": [],
   "source": [
    "from sklearn.preprocessing import OneHotEncoder, StandardScaler, LabelEncoder"
   ]
  },
  {
   "cell_type": "code",
   "execution_count": 24,
   "id": "98526f51-5b48-4e56-b0f8-004b83e36f56",
   "metadata": {},
   "outputs": [],
   "source": [
    "def extract_salutation(name):\n",
    "    second_name = name.split(\",\")[1]\n",
    "    salutation = second_name.split(\".\")[0]\n",
    "    return salutation\n",
    "train[\"Salutation\"] = train[\"Name\"].apply(extract_salutation)\n",
    "test[\"Salutation\"] = test[\"Name\"].apply(extract_salutation)"
   ]
  },
  {
   "cell_type": "code",
   "execution_count": 25,
   "id": "7e505172-5eae-498d-94ec-21b9095556cd",
   "metadata": {},
   "outputs": [],
   "source": [
    "train[\"AgeBucket\"] = train[\"Age\"] // 15 * 15\n",
    "test[\"AgeBucket\"] = test[\"Age\"] // 15 * 15"
   ]
  },
  {
   "cell_type": "code",
   "execution_count": 26,
   "id": "df26d5fe-af44-466a-abed-f4ce977b55fb",
   "metadata": {
    "tags": []
   },
   "outputs": [
    {
     "data": {
      "text/plain": [
       "Salutation\n",
       " Mr              517\n",
       " Miss            182\n",
       " Mrs             125\n",
       " Master           40\n",
       " Dr                7\n",
       " Rev               6\n",
       " Mlle              2\n",
       " Major             2\n",
       " Col               2\n",
       " the Countess      1\n",
       " Capt              1\n",
       " Ms                1\n",
       " Sir               1\n",
       " Lady              1\n",
       " Mme               1\n",
       " Don               1\n",
       " Jonkheer          1\n",
       "Name: count, dtype: int64"
      ]
     },
     "execution_count": 26,
     "metadata": {},
     "output_type": "execute_result"
    }
   ],
   "source": [
    "train[\"Salutation\"].value_counts()"
   ]
  },
  {
   "cell_type": "code",
   "execution_count": 27,
   "id": "30056e8f-8e4c-4f24-b52d-8ec810d50ad9",
   "metadata": {},
   "outputs": [
    {
     "data": {
      "text/html": [
       "<div>\n",
       "<style scoped>\n",
       "    .dataframe tbody tr th:only-of-type {\n",
       "        vertical-align: middle;\n",
       "    }\n",
       "\n",
       "    .dataframe tbody tr th {\n",
       "        vertical-align: top;\n",
       "    }\n",
       "\n",
       "    .dataframe thead th {\n",
       "        text-align: right;\n",
       "    }\n",
       "</style>\n",
       "<table border=\"1\" class=\"dataframe\">\n",
       "  <thead>\n",
       "    <tr style=\"text-align: right;\">\n",
       "      <th></th>\n",
       "      <th>Survived</th>\n",
       "      <th>Pclass</th>\n",
       "      <th>Name</th>\n",
       "      <th>Sex</th>\n",
       "      <th>Age</th>\n",
       "      <th>Ticket</th>\n",
       "      <th>Fare</th>\n",
       "      <th>Cabin</th>\n",
       "      <th>Embarked</th>\n",
       "      <th>Related</th>\n",
       "      <th>Salutation</th>\n",
       "      <th>AgeBucket</th>\n",
       "    </tr>\n",
       "    <tr>\n",
       "      <th>PassengerId</th>\n",
       "      <th></th>\n",
       "      <th></th>\n",
       "      <th></th>\n",
       "      <th></th>\n",
       "      <th></th>\n",
       "      <th></th>\n",
       "      <th></th>\n",
       "      <th></th>\n",
       "      <th></th>\n",
       "      <th></th>\n",
       "      <th></th>\n",
       "      <th></th>\n",
       "    </tr>\n",
       "  </thead>\n",
       "  <tbody>\n",
       "    <tr>\n",
       "      <th>760</th>\n",
       "      <td>1</td>\n",
       "      <td>1</td>\n",
       "      <td>Rothes, the Countess. of (Lucy Noel Martha Dye...</td>\n",
       "      <td>female</td>\n",
       "      <td>33.0</td>\n",
       "      <td>110152</td>\n",
       "      <td>86.5</td>\n",
       "      <td>B77</td>\n",
       "      <td>S</td>\n",
       "      <td>0</td>\n",
       "      <td>the Countess</td>\n",
       "      <td>30.0</td>\n",
       "    </tr>\n",
       "  </tbody>\n",
       "</table>\n",
       "</div>"
      ],
      "text/plain": [
       "             Survived  Pclass  \\\n",
       "PassengerId                     \n",
       "760                 1       1   \n",
       "\n",
       "                                                          Name     Sex   Age  \\\n",
       "PassengerId                                                                    \n",
       "760          Rothes, the Countess. of (Lucy Noel Martha Dye...  female  33.0   \n",
       "\n",
       "             Ticket  Fare Cabin Embarked  Related     Salutation  AgeBucket  \n",
       "PassengerId                                                                  \n",
       "760          110152  86.5   B77        S        0   the Countess       30.0  "
      ]
     },
     "execution_count": 27,
     "metadata": {},
     "output_type": "execute_result"
    }
   ],
   "source": [
    "train.loc[train[\"Salutation\"] == \" the Countess\"]"
   ]
  },
  {
   "cell_type": "code",
   "execution_count": 28,
   "id": "26711c23-16de-41cf-bd9b-ba35b460c481",
   "metadata": {
    "tags": []
   },
   "outputs": [],
   "source": [
    "cat_attri = [\"Sex\", \"Embarked\", \"Salutation\", \"Ticket\"]\n",
    "attri_to_use = [\"Pclass\", \"Sex\", \"Age\", \"AgeBucket\", \"Ticket\", \"Fare\", \"Salutation\",\"Embarked\", \"Related\"]"
   ]
  },
  {
   "cell_type": "code",
   "execution_count": 29,
   "id": "99d90bde-8612-4cae-9a0e-ed3070bec975",
   "metadata": {},
   "outputs": [],
   "source": [
    "# Change categorical features that would lead to many features using onehot using label encoder.\n",
    "label_encoder = LabelEncoder()\n",
    "\n",
    "for col in cat_attri:\n",
    "    train[col] = label_encoder.fit_transform(train[col])\n",
    "    test[col] = label_encoder.fit_transform(test[col])"
   ]
  },
  {
   "cell_type": "code",
   "execution_count": 30,
   "id": "ddfe86e4-9687-4ab6-b1fa-c349e28ac8b3",
   "metadata": {
    "tags": []
   },
   "outputs": [],
   "source": [
    "X_train = train[attri_to_use].to_numpy()\n",
    "y_train = train[\"Survived\"].to_numpy()\n",
    "X_test = test[attri_to_use].to_numpy()"
   ]
  },
  {
   "cell_type": "code",
   "execution_count": 31,
   "id": "f398b06d-7f93-4b87-b79d-af302e1c4d41",
   "metadata": {},
   "outputs": [
    {
     "name": "stdout",
     "output_type": "stream",
     "text": [
      "(891, 9)\n",
      "(418, 9)\n"
     ]
    }
   ],
   "source": [
    "print(X_train.shape)\n",
    "print(X_test.shape)"
   ]
  },
  {
   "cell_type": "code",
   "execution_count": 32,
   "id": "580809a7-3f9d-47e9-8d61-c12aa9dc8eb2",
   "metadata": {
    "tags": []
   },
   "outputs": [],
   "source": [
    "scaler = StandardScaler()\n",
    "X_train_scaled = scaler.fit_transform(X_train)\n",
    "X_test_scaled = scaler.fit_transform(X_test)"
   ]
  },
  {
   "cell_type": "markdown",
   "id": "ba188926-1b14-48bf-9023-3d61e4219216",
   "metadata": {},
   "source": [
    "### Build some ML models."
   ]
  },
  {
   "cell_type": "code",
   "execution_count": 34,
   "id": "d932e66e-05c6-4e30-9304-95b4c444ddba",
   "metadata": {
    "tags": []
   },
   "outputs": [],
   "source": [
    "from sklearn.ensemble import RandomForestClassifier\n",
    "from sklearn.model_selection import cross_val_score"
   ]
  },
  {
   "cell_type": "code",
   "execution_count": 35,
   "id": "8c03bd5d-d891-40b1-8f63-66a5f1654ff5",
   "metadata": {},
   "outputs": [],
   "source": [
    "rand_clf = RandomForestClassifier()\n",
    "rand_clf.fit(X_train_scaled, y_train)\n",
    "rand_pred = rand_clf.predict(X_test_scaled)"
   ]
  },
  {
   "cell_type": "code",
   "execution_count": 36,
   "id": "2fa4c5e2-2823-466b-a4c7-6d60cd2ce94d",
   "metadata": {
    "tags": []
   },
   "outputs": [],
   "source": [
    "gender_submission[\"Survived\"] = rand_pred\n",
    "rand_gender_submission = gender_submission"
   ]
  },
  {
   "cell_type": "code",
   "execution_count": 37,
   "id": "11f209e5-28b4-4508-a9c2-09a1c23490f1",
   "metadata": {
    "tags": []
   },
   "outputs": [],
   "source": [
    "rand_gender_submission.to_csv(\"rand_gender_submission.csv\", index=False)"
   ]
  },
  {
   "cell_type": "code",
   "execution_count": 38,
   "id": "63e50f79-20f1-41be-8e13-141d8238e9b4",
   "metadata": {},
   "outputs": [],
   "source": [
    "score = cross_val_score(rand_clf, X_train_scaled, y_train, cv=10, scoring=\"accuracy\")"
   ]
  },
  {
   "cell_type": "code",
   "execution_count": 39,
   "id": "8b3f5f08-f9d2-48ff-9d23-04169140c887",
   "metadata": {},
   "outputs": [
    {
     "data": {
      "text/plain": [
       "0.8384519350811486"
      ]
     },
     "execution_count": 39,
     "metadata": {},
     "output_type": "execute_result"
    }
   ],
   "source": [
    "np.mean(score)"
   ]
  },
  {
   "cell_type": "code",
   "execution_count": null,
   "id": "394cba89-2425-4f3b-9177-eba8e31bceb6",
   "metadata": {},
   "outputs": [],
   "source": []
  }
 ],
 "metadata": {
  "kernelspec": {
   "display_name": "Python 3 (ipykernel)",
   "language": "python",
   "name": "python3"
  },
  "language_info": {
   "codemirror_mode": {
    "name": "ipython",
    "version": 3
   },
   "file_extension": ".py",
   "mimetype": "text/x-python",
   "name": "python",
   "nbconvert_exporter": "python",
   "pygments_lexer": "ipython3",
   "version": "3.11.5"
  }
 },
 "nbformat": 4,
 "nbformat_minor": 5
}
