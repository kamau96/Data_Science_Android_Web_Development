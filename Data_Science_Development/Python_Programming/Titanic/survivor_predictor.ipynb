{
 "cells": [
  {
   "cell_type": "markdown",
   "id": "a4edb7e4-a49f-433c-839e-d62439b842c4",
   "metadata": {},
   "source": [
    "# Titanic Survivor Predictor\n",
    "**Authour:** *Kamau Wa Wainaina*"
   ]
  },
  {
   "cell_type": "markdown",
   "id": "e105fbc5-ff9d-4b57-bafe-3dccef1a96de",
   "metadata": {},
   "source": [
    "## Loading Datasets."
   ]
  },
  {
   "cell_type": "code",
   "execution_count": null,
   "id": "0a15753b-bd50-4355-92ef-c1125f133883",
   "metadata": {
    "tags": []
   },
   "outputs": [],
   "source": [
    "# Library for loading datasets.\n",
    "import pandas as pd\n",
    "# Library for linear algebra.\n",
    "import numpy as np"
   ]
  },
  {
   "cell_type": "code",
   "execution_count": null,
   "id": "a6b52f8c-3d9a-4e04-bdd8-3a7c8c6c91ff",
   "metadata": {
    "tags": []
   },
   "outputs": [],
   "source": [
    "# Load the datasets.\n",
    "path = \"../../../Data/titanic/\"\n",
    "train = pd.read_csv(path+\"train.csv\")\n",
    "test = pd.read_csv(path+\"test.csv\")"
   ]
  },
  {
   "cell_type": "code",
   "execution_count": null,
   "id": "aa373054-ba79-4a70-b486-a8dfa8827841",
   "metadata": {
    "tags": []
   },
   "outputs": [],
   "source": [
    "pd.set_option(\"display.max_colwidth\", None) # Ensures column content isn't truncated."
   ]
  },
  {
   "cell_type": "markdown",
   "id": "6f08dd8f-e743-48e7-aef1-afd7c396213d",
   "metadata": {},
   "source": [
    "Let's peek at the first five rows of both train and test."
   ]
  },
  {
   "cell_type": "code",
   "execution_count": null,
   "id": "bac117c7-3849-4781-b18a-7431a7152de3",
   "metadata": {
    "tags": []
   },
   "outputs": [],
   "source": [
    "train.head()"
   ]
  },
  {
   "cell_type": "code",
   "execution_count": null,
   "id": "08b63ea9-3e40-4e68-94aa-86742df64e8f",
   "metadata": {
    "tags": []
   },
   "outputs": [],
   "source": [
    "test.head()"
   ]
  },
  {
   "cell_type": "markdown",
   "id": "34241701-d413-4c35-9091-dbacc2e5903f",
   "metadata": {},
   "source": [
    "We observe the following about the data:\n",
    "- PassengerId seems to identify each observation (should make it the index).\n",
    "- Survived column in train is the target we're trying to predict.\n",
    "- Next we should perform EDA to know more about the data. "
   ]
  },
  {
   "cell_type": "code",
   "execution_count": null,
   "id": "032ca807-2264-4917-9773-f4a4955029c9",
   "metadata": {
    "tags": []
   },
   "outputs": [],
   "source": [
    "# First, let's make passenger id the index in both datasets.\n",
    "train = train.set_index(\"PassengerId\")\n",
    "test = test.set_index(\"PassengerId\")"
   ]
  },
  {
   "cell_type": "markdown",
   "id": "7c453ec4-5551-42f4-95a9-a2cd934c608b",
   "metadata": {},
   "source": [
    "## Exploratory Data Analysis."
   ]
  },
  {
   "cell_type": "markdown",
   "id": "2f8b8aa6-9682-4940-be24-47749d4f7044",
   "metadata": {},
   "source": [
    "In this section I want to investigate the following (will focus on train to avoid data snooping):\n",
    "1. Data types and columns with missing values.\n",
    "2. Number of those whose survived.\n",
    "    - Categorized by Sex, Age, and Pclass.\n",
    "3. How expensive was the trip.\n",
    "4. How name can be used to predict survivors.\n",
    "5. Similarily, how is ticket related to survivors."
   ]
  },
  {
   "cell_type": "markdown",
   "id": "cc304018-10e9-44eb-b6cb-b9d912941055",
   "metadata": {},
   "source": [
    "1. **Data types and columns with missing values.**"
   ]
  },
  {
   "cell_type": "markdown",
   "id": "d5df86f1-c2ee-44d4-ae56-18178db88fc1",
   "metadata": {},
   "source": [
    "The info function shows both data types and missing values."
   ]
  },
  {
   "cell_type": "code",
   "execution_count": null,
   "id": "137eb313-9693-41a3-8fec-61509054b081",
   "metadata": {
    "tags": []
   },
   "outputs": [],
   "source": [
    "train.info()"
   ]
  },
  {
   "cell_type": "markdown",
   "id": "01dce001-b48f-4636-9781-564710443457",
   "metadata": {},
   "source": [
    "Let's create a function to calculate percentage of missing information."
   ]
  },
  {
   "cell_type": "code",
   "execution_count": null,
   "id": "54c9bd7d-ef39-427c-8c89-8d141970e280",
   "metadata": {
    "tags": []
   },
   "outputs": [],
   "source": [
    "def missing_percent(data):\n",
    "    has_missing_vals = data.isnull().any() # Checks if any column has missing values.\n",
    "    cols_with_missing = []\n",
    "    for col, val in zip(has_missing_vals.index, has_missing_vals.values):\n",
    "        if val == True:\n",
    "            cols_with_missing.append(col)\n",
    "            \n",
    "    for col in cols_with_missing:\n",
    "        missing_count = data[col].isnull().sum() # Counts number of True since True == 1.\n",
    "        total_count = len(data[col])\n",
    "        missing_percent = np.round((missing_count/total_count)*100, 2)\n",
    "        print(f\"{col} has {missing_percent}% of the values missing.\")\n",
    "        \n",
    "missing_percent(train)"
   ]
  },
  {
   "cell_type": "markdown",
   "id": "5ad86939-e325-459f-a691-454220bc8c9b",
   "metadata": {},
   "source": [
    "**It is evident that Cabin has the highest proportion of missing data, followed by Age, and then Embarked. Additionally, there are 6 numerical columns and 5 categorical columns in total.**"
   ]
  },
  {
   "cell_type": "markdown",
   "id": "21240132-de44-40f4-8462-951d244c724a",
   "metadata": {},
   "source": [
    "2. **Number of those whose survived.**"
   ]
  },
  {
   "cell_type": "markdown",
   "id": "06a001c4-a6c7-432f-8dce-d2622778d1fa",
   "metadata": {},
   "source": [
    "How many people survived?"
   ]
  },
  {
   "cell_type": "code",
   "execution_count": null,
   "id": "0503994b-fad1-4ff3-940f-99514553188a",
   "metadata": {
    "tags": []
   },
   "outputs": [],
   "source": [
    "survived = train[\"Survived\"].sum() # Survived records 1 as survived and 0 as perished.\n",
    "print(f\"{survived} people survived.\")"
   ]
  },
  {
   "cell_type": "markdown",
   "id": "ba5e1410-a364-40e3-a809-973c0d4ee64d",
   "metadata": {},
   "source": [
    "What was the surival rate? "
   ]
  },
  {
   "cell_type": "code",
   "execution_count": null,
   "id": "8479d1a9-aef7-4582-a75a-bd27cf5c11ab",
   "metadata": {
    "tags": []
   },
   "outputs": [],
   "source": [
    "total_passengers = len(train)\n",
    "survival_rate = np.round((survived/total_passengers)*100, 2)\n",
    "print(f\"The survival rate of boarding the titanic was {survival_rate}%.\")"
   ]
  },
  {
   "cell_type": "markdown",
   "id": "06f85479-69dc-45fc-bbcd-46446beab533",
   "metadata": {},
   "source": [
    "Of those who survived how many were female and male?"
   ]
  },
  {
   "cell_type": "code",
   "execution_count": null,
   "id": "0e86e5d3-6726-480f-88fd-9e0632e5b32b",
   "metadata": {
    "tags": []
   },
   "outputs": [],
   "source": [
    "survived_female = train.query(\"Sex == 'female'\")[\"Survived\"].sum() # Works because Survived has 1 and 0.\n",
    "survived_male = train.query(\"Sex == 'male'\")[\"Survived\"].sum()\n",
    "print(f\"{survived_female} females survived while {survived_male} males survived.\")"
   ]
  },
  {
   "cell_type": "markdown",
   "id": "30146bfa-d643-4fcc-b9b2-1c916223535d",
   "metadata": {},
   "source": [
    "Which gender had a better survival rate?"
   ]
  },
  {
   "cell_type": "code",
   "execution_count": null,
   "id": "f5024214-2b89-4df0-8686-69ded3191bdc",
   "metadata": {
    "tags": []
   },
   "outputs": [],
   "source": [
    "total_female = len(train.query(\"Sex == 'female'\"))\n",
    "total_male = len(train.query(\"Sex == 'male'\"))\n",
    "\n",
    "female_rate = np.round((survived_female/total_female)*100, 2)\n",
    "male_rate = np.round((survived_male/total_male)*100, 2)\n",
    "\n",
    "overall_female_rate = np.round((survived_female/total_passengers)*100, 2)\n",
    "overall_male_rate = np.round((survived_male/total_passengers)*100, 2)\n",
    "\n",
    "print(f\"Among females, the survival rate was {female_rate}% whereas among males it was {male_rate}%.\")\n",
    "print(f\"Females aboard the titanic had a survival rate of {overall_female_rate}% whereas males had {overall_male_rate}%.\")"
   ]
  },
  {
   "cell_type": "markdown",
   "id": "806b00c4-abb0-4560-bf16-b9bcaad45a3f",
   "metadata": {},
   "source": [
    "Did age affect surival rate?"
   ]
  },
  {
   "cell_type": "markdown",
   "id": "ed62dd74-e90a-440e-9903-ad50cd92e564",
   "metadata": {},
   "source": [
    "*To answer this question, I'll create age buckets to make analysis easier*"
   ]
  },
  {
   "cell_type": "code",
   "execution_count": null,
   "id": "947ab8e3-86b7-45f6-9541-56c6b4645228",
   "metadata": {
    "tags": []
   },
   "outputs": [],
   "source": [
    "print(f\" Minimum age: {train['Age'].min()} \\n Maximum age: {train['Age'].max()}\")"
   ]
  },
  {
   "cell_type": "code",
   "execution_count": null,
   "id": "8db916da-6656-4bf3-8971-94f9fd17ff8d",
   "metadata": {
    "tags": []
   },
   "outputs": [],
   "source": [
    "# Define age buckets\n",
    "bins = [0, 12, 18, 35, 60, 100]  # Specify bucket edges\n",
    "labels = ['Child', 'Teen', 'Young Adult', 'Adult', 'Senior']  # Specify labels for the buckets\n",
    "\n",
    "# Create the age buckets\n",
    "train['Age_group'] = pd.cut(train['Age'], bins=bins, labels=labels)"
   ]
  },
  {
   "cell_type": "markdown",
   "id": "b695a601-0c64-47b9-a52f-3e2daf1dbc3c",
   "metadata": {
    "tags": []
   },
   "source": [
    "*Next, I'll calculate how many people survived per age group*"
   ]
  },
  {
   "cell_type": "code",
   "execution_count": null,
   "id": "56b768c5-a68a-4602-8246-f4dc4277d525",
   "metadata": {
    "tags": []
   },
   "outputs": [],
   "source": [
    "survived_age_group_dict = {} # This dict will help while calculating survival rates.\n",
    "for group in train[\"Age_group\"].unique():\n",
    "    # I set the engine to be python as numexpr which runs .query doesn't support nullable.\n",
    "    survived_age_group = train.query(\"Age_group == @group\", engine=\"python\")[\"Survived\"].sum()\n",
    "    survived_age_group_dict[group] = survived_age_group\n",
    "    print(f\"{survived_age_group} {group} survived.\")"
   ]
  },
  {
   "cell_type": "markdown",
   "id": "4a533701-6f76-4dda-8694-5a6377a0476e",
   "metadata": {},
   "source": [
    "*I can now answer the question of whether age affected surival rate*"
   ]
  },
  {
   "cell_type": "code",
   "execution_count": null,
   "id": "c95b2db1-dc35-4ab5-a57b-0ec99a404cc9",
   "metadata": {
    "tags": []
   },
   "outputs": [],
   "source": [
    "for group, survival_count in survived_age_group_dict.items():\n",
    "    \n",
    "    if pd.isna(group): # This avoids cases where the age isn't known.\n",
    "        continue\n",
    "        \n",
    "    total_age_group = len(train.query(\"Age_group == @group\", engine=\"python\"))\n",
    "    age_group_rate = np.round((survival_count/total_age_group)*100, 2)\n",
    "    overall_age_group_rate = np.round((survival_count/total_passengers)*100, 2)\n",
    "    \n",
    "    print(f\"Among {group}, the survival rate was {age_group_rate}%.\")\n",
    "    print(f\"{group} aboard the titanic had a survival rate of {overall_age_group_rate}%.\")\n",
    "    print(f\"{'-'*60}\")"
   ]
  },
  {
   "cell_type": "markdown",
   "id": "365248cf-ac56-4287-a711-c060cf71ecc8",
   "metadata": {},
   "source": [
    "How did passenger classes affect survival?"
   ]
  },
  {
   "cell_type": "code",
   "execution_count": null,
   "id": "1b1f8501-c83a-47cd-a960-53ed61139c84",
   "metadata": {
    "tags": []
   },
   "outputs": [],
   "source": [
    "survived_pclass_dict = {} # This dict will help while calculating survival rates.\n",
    "for pclass in train[\"Pclass\"].unique():\n",
    "    survived_pclass = train.query(\"Pclass == @pclass\")[\"Survived\"].sum()\n",
    "    survived_pclass_dict[pclass] = survived_pclass\n",
    "    print(f\"{survived_pclass} passengers from passenger class {pclass} survived.\")"
   ]
  },
  {
   "cell_type": "code",
   "execution_count": null,
   "id": "a3428fb2-0489-4f61-b6c4-de5320a4d750",
   "metadata": {
    "tags": []
   },
   "outputs": [],
   "source": [
    "for pclass, survival_count in survived_pclass_dict.items():\n",
    "            \n",
    "    total_pclass = len(train.query(\"Pclass == @pclass\"))\n",
    "    pclass_rate = np.round((survival_count/total_pclass)*100, 2)\n",
    "    overall_pclass_rate = np.round((survival_count/total_passengers)*100, 2)\n",
    "    \n",
    "    print(f\"Among passenger class {pclass}, the survival rate was {pclass_rate}%.\")\n",
    "    print(f\"Passengers in class {pclass} aboard the titanic had a survival rate of {overall_pclass_rate}%.\")\n",
    "    print(f\"{'-'*70}\")"
   ]
  },
  {
   "cell_type": "markdown",
   "id": "38b9c20a-9577-4811-b289-c95f6e0e1bc8",
   "metadata": {},
   "source": [
    "**The overall survival rate on the Titanic was just 38%. Interestingly, women had a higher likelihood of survival compared to men. Among the age groups, children stood out with better chances of survival. Unsurprisingly, first-class passengers had a significantly higher probability of making it through the disaster.**"
   ]
  },
  {
   "cell_type": "markdown",
   "id": "02df893f-e04e-460a-844d-579723952e93",
   "metadata": {},
   "source": [
    "3. **How expensive was the trip.**"
   ]
  },
  {
   "cell_type": "markdown",
   "id": "e1c0712b-c5c1-4cbb-b195-325ff0cdda85",
   "metadata": {},
   "source": [
    "Overall, how expense was the trip?"
   ]
  },
  {
   "cell_type": "code",
   "execution_count": null,
   "id": "cc34d5d3-7523-456b-a244-269a307806b9",
   "metadata": {
    "tags": []
   },
   "outputs": [],
   "source": [
    "mean_fare = np.ceil(train[\"Fare\"].mean())\n",
    "print(f\"On average the passengers paid {mean_fare} pounds.\")"
   ]
  },
  {
   "cell_type": "markdown",
   "id": "db5d9683-ad66-454e-b9ed-df889f0b4f1a",
   "metadata": {},
   "source": [
    "Which age group paid the most? "
   ]
  },
  {
   "cell_type": "code",
   "execution_count": null,
   "id": "79a620d3-870f-4552-a14a-cf9e96dc5620",
   "metadata": {
    "tags": []
   },
   "outputs": [],
   "source": [
    "for group in train[\"Age_group\"].unique():\n",
    "    group_mean_fare = np.ceil(train.query(\"Age_group == @group\", engine=\"python\")[\"Fare\"].mean())\n",
    "    print(f\"{group} paid {group_mean_fare} pounds on average.\")\n",
    "    print(f\"{'-'*40}\")"
   ]
  },
  {
   "cell_type": "markdown",
   "id": "9c62f11a-4306-4e32-84e2-ba6410ee05de",
   "metadata": {},
   "source": [
    "**Age had an impact on the fare passengers paid, with older individuals typically paying more. However, young adults differ from this pattern, paying on average less, even less than children.**"
   ]
  },
  {
   "cell_type": "markdown",
   "id": "5dfbdef1-4083-43f1-90eb-8c9198dfd576",
   "metadata": {},
   "source": [
    "4. **How name can be used to predict survivors.**"
   ]
  },
  {
   "cell_type": "markdown",
   "id": "dc468713-713e-48d1-8ce1-dfc8e19178cc",
   "metadata": {},
   "source": [
    "This is a bit challenging I'll have to admit. However, let's look at dataframe and see if there is something we can extract."
   ]
  },
  {
   "cell_type": "code",
   "execution_count": null,
   "id": "a060583c-b1ac-47a2-b503-0a3a72fc7242",
   "metadata": {
    "tags": []
   },
   "outputs": [],
   "source": [
    "train.head(10)"
   ]
  },
  {
   "cell_type": "markdown",
   "id": "080bedd7-ee41-49e3-8b9b-c5a650030ec6",
   "metadata": {},
   "source": [
    "Let's start by extracting the salutations present in each name."
   ]
  },
  {
   "cell_type": "code",
   "execution_count": null,
   "id": "560e3e15-75ec-4865-8e8a-481a21e0ca2b",
   "metadata": {
    "tags": []
   },
   "outputs": [],
   "source": [
    "def extract_salutation(data):\n",
    "    other_names = data.split(\",\")[1] # Retrieves other names apart from surname. \n",
    "    salutation = other_names.split(\".\")[0] # All salutation seem to end in a fullstop.\n",
    "    salutation = salutation.strip()\n",
    "    return salutation"
   ]
  },
  {
   "cell_type": "code",
   "execution_count": null,
   "id": "6d0755cb-e31f-48ce-884a-780737145f6b",
   "metadata": {},
   "outputs": [],
   "source": [
    "def extract_surname(data):\n",
    "    surname = data.split(\",\")[0] \n",
    "    return surname"
   ]
  },
  {
   "cell_type": "code",
   "execution_count": null,
   "id": "396834b1-d476-4313-b4a6-6e2a92a6187f",
   "metadata": {
    "tags": []
   },
   "outputs": [],
   "source": [
    "train[\"Salutation\"] = train[\"Name\"].apply(extract_salutation)\n",
    "train[\"Surname\"] = train[\"Name\"].apply(extract_surname)"
   ]
  },
  {
   "cell_type": "markdown",
   "id": "5e5d7e78-864e-41dd-97b0-9b400e0de3dd",
   "metadata": {},
   "source": [
    "Is there any correlation between these salutations and survival?"
   ]
  },
  {
   "cell_type": "code",
   "execution_count": null,
   "id": "0925ab15-d45d-47af-9396-41084778777e",
   "metadata": {
    "tags": []
   },
   "outputs": [],
   "source": [
    "salutation_survived = train.groupby(\"Salutation\")[\"Survived\"].sum()\n",
    "salutation_survived "
   ]
  },
  {
   "cell_type": "markdown",
   "id": "78248c03-d5f1-4362-ba32-92a051daddc2",
   "metadata": {},
   "source": [
    "What was the survival rates of these groups?"
   ]
  },
  {
   "cell_type": "code",
   "execution_count": null,
   "id": "71ff5712-bca5-43ff-826b-0052d9a4be71",
   "metadata": {
    "tags": []
   },
   "outputs": [],
   "source": [
    "salutation_passenger_count = train.groupby(\"Salutation\")[\"Survived\"].count()\n",
    "for salutation, survived, total_count in zip(salutation_survived.index, salutation_survived, salutation_passenger_count):\n",
    "    survival_rate = np.round((survived/total_count)*100, 2)\n",
    "    total_survival_rate = np.round((survived/total_passengers)*100, 2)\n",
    "    print(f\"{salutation} had a survival rate of {survival_rate}% in their group.\")\n",
    "    print(f\"{salutation} had a survival rate of {total_survival_rate}% in on the titanic.\")\n",
    "    print(f\"{'-'*50}\")"
   ]
  },
  {
   "cell_type": "markdown",
   "id": "1aefe121-aa8b-4018-8024-b8ea10e3c1f1",
   "metadata": {},
   "source": [
    "5. **Similarily, how is ticket related to survivors.**"
   ]
  },
  {
   "cell_type": "markdown",
   "id": "5a6a675a-c133-447f-b6d1-75e2e221d5e7",
   "metadata": {},
   "source": [
    "I'm just trying to see if any part of ticket correlates to survival."
   ]
  },
  {
   "cell_type": "code",
   "execution_count": null,
   "id": "6cc13978-657f-41e1-a15b-a0099db66bfa",
   "metadata": {
    "tags": []
   },
   "outputs": [],
   "source": [
    "def extract_first(data):\n",
    "    return data[0]"
   ]
  },
  {
   "cell_type": "code",
   "execution_count": null,
   "id": "88b4b95d-ac66-4c94-9a78-e8e879236afb",
   "metadata": {
    "tags": []
   },
   "outputs": [],
   "source": [
    "train[\"Ticket_Length\"] = train[\"Ticket\"].apply(extract_first)"
   ]
  },
  {
   "cell_type": "markdown",
   "id": "57ef2538-f399-4e29-acd6-013ea874a173",
   "metadata": {
    "tags": []
   },
   "source": [
    "Let's see if length had a correlation to survival."
   ]
  },
  {
   "cell_type": "code",
   "execution_count": null,
   "id": "baf20150-93cb-4f3b-874a-83c416bf468f",
   "metadata": {
    "tags": []
   },
   "outputs": [],
   "source": [
    "train[[\"Ticket_Length\", \"Survived\"]].groupby(\"Ticket_Length\").mean()"
   ]
  },
  {
   "cell_type": "markdown",
   "id": "261b087e-449e-43ac-8aa6-3089ef41eb72",
   "metadata": {},
   "source": [
    "## Data Cleaning."
   ]
  },
  {
   "cell_type": "code",
   "execution_count": null,
   "id": "fd716129-b714-40e8-a87b-cd46d1b9d546",
   "metadata": {},
   "outputs": [],
   "source": [
    "train[\"Relationships\"] = train[\"SibSp\"] + train[\"Parch\"]"
   ]
  },
  {
   "cell_type": "code",
   "execution_count": null,
   "id": "c8a5d486-55dc-40b9-8450-ec36782ae1ad",
   "metadata": {},
   "outputs": [],
   "source": [
    "from sklearn.pipeline import Pipeline\n",
    "from sklearn.impute import SimpleImputer\n",
    "from sklearn.preprocessing import StandardScaler\n",
    "\n",
    "num_pipeline = Pipeline([\n",
    "        (\"imputer\", SimpleImputer(strategy=\"median\")),\n",
    "        (\"scaler\", StandardScaler())\n",
    "    ])"
   ]
  },
  {
   "cell_type": "code",
   "execution_count": null,
   "id": "7ae0bee9-277b-469d-93b6-beafb609999c",
   "metadata": {},
   "outputs": [],
   "source": [
    "from sklearn.preprocessing import OneHotEncoder"
   ]
  },
  {
   "cell_type": "code",
   "execution_count": null,
   "id": "16d69ec6-2085-4330-b36d-e574b91223a9",
   "metadata": {},
   "outputs": [],
   "source": [
    "cat_pipeline = Pipeline([\n",
    "        (\"imputer\", SimpleImputer(strategy=\"most_frequent\")),\n",
    "        (\"cat_encoder\", OneHotEncoder(sparse=False)),\n",
    "    ])"
   ]
  },
  {
   "cell_type": "code",
   "execution_count": null,
   "id": "98788b6d-c205-4a25-9af9-0cbe841ddb05",
   "metadata": {},
   "outputs": [],
   "source": [
    "from sklearn.compose import ColumnTransformer\n",
    "\n",
    "num_attribs = [\"Age\", \"Relationships\", \"Fare\"]\n",
    "cat_attribs = [\"Pclass\", \"Sex\", \"Embarked\", \"Salutation\"]\n",
    "\n",
    "preprocess_pipeline = ColumnTransformer([\n",
    "        (\"num\", num_pipeline, num_attribs),\n",
    "        (\"cat\", cat_pipeline, cat_attribs),\n",
    "    ])"
   ]
  },
  {
   "cell_type": "code",
   "execution_count": null,
   "id": "37c2dc98-3107-4b1b-a59b-bbc7acd94052",
   "metadata": {},
   "outputs": [],
   "source": [
    "X_train = preprocess_pipeline.fit_transform(\n",
    "    train[num_attribs + cat_attribs])\n",
    "X_train"
   ]
  },
  {
   "cell_type": "code",
   "execution_count": null,
   "id": "57fc9ef8-9c15-4ca2-80fb-974e2192a05a",
   "metadata": {},
   "outputs": [],
   "source": [
    "y_train = train[\"Survived\"]"
   ]
  },
  {
   "cell_type": "code",
   "execution_count": null,
   "id": "e427c699-de04-4a0b-b66d-9a91650b12b3",
   "metadata": {},
   "outputs": [],
   "source": [
    "from sklearn.svm import SVC\n",
    "from sklearn.model_selection import cross_val_score\n",
    "\n",
    "svm_clf = SVC(gamma=\"auto\")\n",
    "svm_scores = cross_val_score(svm_clf, X_train, y_train, cv=10)\n",
    "svm_scores.mean()"
   ]
  }
 ],
 "metadata": {
  "kernelspec": {
   "display_name": "Python 3 (ipykernel)",
   "language": "python",
   "name": "python3"
  },
  "language_info": {
   "codemirror_mode": {
    "name": "ipython",
    "version": 3
   },
   "file_extension": ".py",
   "mimetype": "text/x-python",
   "name": "python",
   "nbconvert_exporter": "python",
   "pygments_lexer": "ipython3",
   "version": "3.11.5"
  },
  "toc-autonumbering": false,
  "toc-showcode": false,
  "toc-showmarkdowntxt": false,
  "toc-showtags": false
 },
 "nbformat": 4,
 "nbformat_minor": 5
}
