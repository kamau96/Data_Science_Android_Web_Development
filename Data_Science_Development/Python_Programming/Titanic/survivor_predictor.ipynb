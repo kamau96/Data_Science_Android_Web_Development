{
 "cells": [
  {
   "cell_type": "markdown",
   "id": "a7131cd5-af7a-4b6b-9a28-bc4aa53bef72",
   "metadata": {
    "tags": []
   },
   "source": [
    "# This Notebook explores the Titanic dataset and tries to predict if a passenger died."
   ]
  },
  {
   "cell_type": "markdown",
   "id": "ab8571fa-7734-4aba-8ecc-a78a50cebf8d",
   "metadata": {},
   "source": [
    "We start by loading the datasets. "
   ]
  },
  {
   "cell_type": "code",
   "execution_count": 3,
   "id": "48fd571b-eb81-4d71-9692-e20ef95b68d2",
   "metadata": {
    "tags": []
   },
   "outputs": [],
   "source": [
    "# Load libraries for EDA.\n",
    "import pandas as pd\n",
    "import numpy as np \n",
    "import matplotlib.pyplot as plt"
   ]
  },
  {
   "cell_type": "code",
   "execution_count": 4,
   "id": "4e70d0f3-4873-4de3-91ff-8317e160f8bf",
   "metadata": {
    "tags": []
   },
   "outputs": [],
   "source": [
    "# Load required data\n",
    "path = \"../../../Data/titanic/\"\n",
    "train = pd.read_csv(path + \"train.csv\")\n",
    "test = pd.read_csv(path + \"test.csv\")\n",
    "gender_submission = pd.read_csv(path + \"gender_submission.csv\")"
   ]
  },
  {
   "cell_type": "markdown",
   "id": "04772cdb-8dc9-4f3b-b076-f51e361ecd43",
   "metadata": {},
   "source": [
    "Let's peek at the three datasets and observe their features."
   ]
  },
  {
   "cell_type": "code",
   "execution_count": 6,
   "id": "5dfa0136-2953-4954-b36b-36a37583c86a",
   "metadata": {
    "tags": []
   },
   "outputs": [
    {
     "data": {
      "text/html": [
       "<div>\n",
       "<style scoped>\n",
       "    .dataframe tbody tr th:only-of-type {\n",
       "        vertical-align: middle;\n",
       "    }\n",
       "\n",
       "    .dataframe tbody tr th {\n",
       "        vertical-align: top;\n",
       "    }\n",
       "\n",
       "    .dataframe thead th {\n",
       "        text-align: right;\n",
       "    }\n",
       "</style>\n",
       "<table border=\"1\" class=\"dataframe\">\n",
       "  <thead>\n",
       "    <tr style=\"text-align: right;\">\n",
       "      <th></th>\n",
       "      <th>PassengerId</th>\n",
       "      <th>Survived</th>\n",
       "      <th>Pclass</th>\n",
       "      <th>Name</th>\n",
       "      <th>Sex</th>\n",
       "      <th>Age</th>\n",
       "      <th>SibSp</th>\n",
       "      <th>Parch</th>\n",
       "      <th>Ticket</th>\n",
       "      <th>Fare</th>\n",
       "      <th>Cabin</th>\n",
       "      <th>Embarked</th>\n",
       "    </tr>\n",
       "  </thead>\n",
       "  <tbody>\n",
       "    <tr>\n",
       "      <th>0</th>\n",
       "      <td>1</td>\n",
       "      <td>0</td>\n",
       "      <td>3</td>\n",
       "      <td>Braund, Mr. Owen Harris</td>\n",
       "      <td>male</td>\n",
       "      <td>22.0</td>\n",
       "      <td>1</td>\n",
       "      <td>0</td>\n",
       "      <td>A/5 21171</td>\n",
       "      <td>7.2500</td>\n",
       "      <td>NaN</td>\n",
       "      <td>S</td>\n",
       "    </tr>\n",
       "    <tr>\n",
       "      <th>1</th>\n",
       "      <td>2</td>\n",
       "      <td>1</td>\n",
       "      <td>1</td>\n",
       "      <td>Cumings, Mrs. John Bradley (Florence Briggs Th...</td>\n",
       "      <td>female</td>\n",
       "      <td>38.0</td>\n",
       "      <td>1</td>\n",
       "      <td>0</td>\n",
       "      <td>PC 17599</td>\n",
       "      <td>71.2833</td>\n",
       "      <td>C85</td>\n",
       "      <td>C</td>\n",
       "    </tr>\n",
       "    <tr>\n",
       "      <th>2</th>\n",
       "      <td>3</td>\n",
       "      <td>1</td>\n",
       "      <td>3</td>\n",
       "      <td>Heikkinen, Miss. Laina</td>\n",
       "      <td>female</td>\n",
       "      <td>26.0</td>\n",
       "      <td>0</td>\n",
       "      <td>0</td>\n",
       "      <td>STON/O2. 3101282</td>\n",
       "      <td>7.9250</td>\n",
       "      <td>NaN</td>\n",
       "      <td>S</td>\n",
       "    </tr>\n",
       "    <tr>\n",
       "      <th>3</th>\n",
       "      <td>4</td>\n",
       "      <td>1</td>\n",
       "      <td>1</td>\n",
       "      <td>Futrelle, Mrs. Jacques Heath (Lily May Peel)</td>\n",
       "      <td>female</td>\n",
       "      <td>35.0</td>\n",
       "      <td>1</td>\n",
       "      <td>0</td>\n",
       "      <td>113803</td>\n",
       "      <td>53.1000</td>\n",
       "      <td>C123</td>\n",
       "      <td>S</td>\n",
       "    </tr>\n",
       "    <tr>\n",
       "      <th>4</th>\n",
       "      <td>5</td>\n",
       "      <td>0</td>\n",
       "      <td>3</td>\n",
       "      <td>Allen, Mr. William Henry</td>\n",
       "      <td>male</td>\n",
       "      <td>35.0</td>\n",
       "      <td>0</td>\n",
       "      <td>0</td>\n",
       "      <td>373450</td>\n",
       "      <td>8.0500</td>\n",
       "      <td>NaN</td>\n",
       "      <td>S</td>\n",
       "    </tr>\n",
       "  </tbody>\n",
       "</table>\n",
       "</div>"
      ],
      "text/plain": [
       "   PassengerId  Survived  Pclass  \\\n",
       "0            1         0       3   \n",
       "1            2         1       1   \n",
       "2            3         1       3   \n",
       "3            4         1       1   \n",
       "4            5         0       3   \n",
       "\n",
       "                                                Name     Sex   Age  SibSp  \\\n",
       "0                            Braund, Mr. Owen Harris    male  22.0      1   \n",
       "1  Cumings, Mrs. John Bradley (Florence Briggs Th...  female  38.0      1   \n",
       "2                             Heikkinen, Miss. Laina  female  26.0      0   \n",
       "3       Futrelle, Mrs. Jacques Heath (Lily May Peel)  female  35.0      1   \n",
       "4                           Allen, Mr. William Henry    male  35.0      0   \n",
       "\n",
       "   Parch            Ticket     Fare Cabin Embarked  \n",
       "0      0         A/5 21171   7.2500   NaN        S  \n",
       "1      0          PC 17599  71.2833   C85        C  \n",
       "2      0  STON/O2. 3101282   7.9250   NaN        S  \n",
       "3      0            113803  53.1000  C123        S  \n",
       "4      0            373450   8.0500   NaN        S  "
      ]
     },
     "execution_count": 6,
     "metadata": {},
     "output_type": "execute_result"
    }
   ],
   "source": [
    "train.head()"
   ]
  },
  {
   "cell_type": "markdown",
   "id": "66148045-8f98-473a-a8c9-2c1c47d5931e",
   "metadata": {},
   "source": [
    "The attributes have the following meaning:\n",
    "\n",
    "- PassengerId: a unique identifier for each passenger\n",
    "- Survived: that's the target, 0 means the passenger did not survive, while 1 means he/she survived.\n",
    "- Pclass: passenger class.\n",
    "- Name, Sex, Age: self-explanatory\n",
    "- SibSp: how many siblings & spouses of the passenger aboard the Titanic.\n",
    "- Parch: how many children & parents of the passenger aboard the Titanic.\n",
    "- Ticket: ticket id\n",
    "- Fare: price paid (in pounds)\n",
    "- Cabin: passenger's cabin number\n",
    "- Embarked: where the passenger embarked the Titanic"
   ]
  },
  {
   "cell_type": "code",
   "execution_count": 8,
   "id": "cef11d02-b0d2-4d13-b032-10341aefe7aa",
   "metadata": {
    "tags": []
   },
   "outputs": [
    {
     "data": {
      "text/html": [
       "<div>\n",
       "<style scoped>\n",
       "    .dataframe tbody tr th:only-of-type {\n",
       "        vertical-align: middle;\n",
       "    }\n",
       "\n",
       "    .dataframe tbody tr th {\n",
       "        vertical-align: top;\n",
       "    }\n",
       "\n",
       "    .dataframe thead th {\n",
       "        text-align: right;\n",
       "    }\n",
       "</style>\n",
       "<table border=\"1\" class=\"dataframe\">\n",
       "  <thead>\n",
       "    <tr style=\"text-align: right;\">\n",
       "      <th></th>\n",
       "      <th>PassengerId</th>\n",
       "      <th>Pclass</th>\n",
       "      <th>Name</th>\n",
       "      <th>Sex</th>\n",
       "      <th>Age</th>\n",
       "      <th>SibSp</th>\n",
       "      <th>Parch</th>\n",
       "      <th>Ticket</th>\n",
       "      <th>Fare</th>\n",
       "      <th>Cabin</th>\n",
       "      <th>Embarked</th>\n",
       "    </tr>\n",
       "  </thead>\n",
       "  <tbody>\n",
       "    <tr>\n",
       "      <th>0</th>\n",
       "      <td>892</td>\n",
       "      <td>3</td>\n",
       "      <td>Kelly, Mr. James</td>\n",
       "      <td>male</td>\n",
       "      <td>34.5</td>\n",
       "      <td>0</td>\n",
       "      <td>0</td>\n",
       "      <td>330911</td>\n",
       "      <td>7.8292</td>\n",
       "      <td>NaN</td>\n",
       "      <td>Q</td>\n",
       "    </tr>\n",
       "    <tr>\n",
       "      <th>1</th>\n",
       "      <td>893</td>\n",
       "      <td>3</td>\n",
       "      <td>Wilkes, Mrs. James (Ellen Needs)</td>\n",
       "      <td>female</td>\n",
       "      <td>47.0</td>\n",
       "      <td>1</td>\n",
       "      <td>0</td>\n",
       "      <td>363272</td>\n",
       "      <td>7.0000</td>\n",
       "      <td>NaN</td>\n",
       "      <td>S</td>\n",
       "    </tr>\n",
       "    <tr>\n",
       "      <th>2</th>\n",
       "      <td>894</td>\n",
       "      <td>2</td>\n",
       "      <td>Myles, Mr. Thomas Francis</td>\n",
       "      <td>male</td>\n",
       "      <td>62.0</td>\n",
       "      <td>0</td>\n",
       "      <td>0</td>\n",
       "      <td>240276</td>\n",
       "      <td>9.6875</td>\n",
       "      <td>NaN</td>\n",
       "      <td>Q</td>\n",
       "    </tr>\n",
       "    <tr>\n",
       "      <th>3</th>\n",
       "      <td>895</td>\n",
       "      <td>3</td>\n",
       "      <td>Wirz, Mr. Albert</td>\n",
       "      <td>male</td>\n",
       "      <td>27.0</td>\n",
       "      <td>0</td>\n",
       "      <td>0</td>\n",
       "      <td>315154</td>\n",
       "      <td>8.6625</td>\n",
       "      <td>NaN</td>\n",
       "      <td>S</td>\n",
       "    </tr>\n",
       "    <tr>\n",
       "      <th>4</th>\n",
       "      <td>896</td>\n",
       "      <td>3</td>\n",
       "      <td>Hirvonen, Mrs. Alexander (Helga E Lindqvist)</td>\n",
       "      <td>female</td>\n",
       "      <td>22.0</td>\n",
       "      <td>1</td>\n",
       "      <td>1</td>\n",
       "      <td>3101298</td>\n",
       "      <td>12.2875</td>\n",
       "      <td>NaN</td>\n",
       "      <td>S</td>\n",
       "    </tr>\n",
       "  </tbody>\n",
       "</table>\n",
       "</div>"
      ],
      "text/plain": [
       "   PassengerId  Pclass                                          Name     Sex  \\\n",
       "0          892       3                              Kelly, Mr. James    male   \n",
       "1          893       3              Wilkes, Mrs. James (Ellen Needs)  female   \n",
       "2          894       2                     Myles, Mr. Thomas Francis    male   \n",
       "3          895       3                              Wirz, Mr. Albert    male   \n",
       "4          896       3  Hirvonen, Mrs. Alexander (Helga E Lindqvist)  female   \n",
       "\n",
       "    Age  SibSp  Parch   Ticket     Fare Cabin Embarked  \n",
       "0  34.5      0      0   330911   7.8292   NaN        Q  \n",
       "1  47.0      1      0   363272   7.0000   NaN        S  \n",
       "2  62.0      0      0   240276   9.6875   NaN        Q  \n",
       "3  27.0      0      0   315154   8.6625   NaN        S  \n",
       "4  22.0      1      1  3101298  12.2875   NaN        S  "
      ]
     },
     "execution_count": 8,
     "metadata": {},
     "output_type": "execute_result"
    }
   ],
   "source": [
    "test.head()"
   ]
  },
  {
   "cell_type": "code",
   "execution_count": 9,
   "id": "e6882e10-3a41-449f-b99a-e4ef2ba63411",
   "metadata": {
    "tags": []
   },
   "outputs": [
    {
     "data": {
      "text/html": [
       "<div>\n",
       "<style scoped>\n",
       "    .dataframe tbody tr th:only-of-type {\n",
       "        vertical-align: middle;\n",
       "    }\n",
       "\n",
       "    .dataframe tbody tr th {\n",
       "        vertical-align: top;\n",
       "    }\n",
       "\n",
       "    .dataframe thead th {\n",
       "        text-align: right;\n",
       "    }\n",
       "</style>\n",
       "<table border=\"1\" class=\"dataframe\">\n",
       "  <thead>\n",
       "    <tr style=\"text-align: right;\">\n",
       "      <th></th>\n",
       "      <th>PassengerId</th>\n",
       "      <th>Survived</th>\n",
       "    </tr>\n",
       "  </thead>\n",
       "  <tbody>\n",
       "    <tr>\n",
       "      <th>0</th>\n",
       "      <td>892</td>\n",
       "      <td>0</td>\n",
       "    </tr>\n",
       "    <tr>\n",
       "      <th>1</th>\n",
       "      <td>893</td>\n",
       "      <td>1</td>\n",
       "    </tr>\n",
       "    <tr>\n",
       "      <th>2</th>\n",
       "      <td>894</td>\n",
       "      <td>0</td>\n",
       "    </tr>\n",
       "    <tr>\n",
       "      <th>3</th>\n",
       "      <td>895</td>\n",
       "      <td>0</td>\n",
       "    </tr>\n",
       "    <tr>\n",
       "      <th>4</th>\n",
       "      <td>896</td>\n",
       "      <td>1</td>\n",
       "    </tr>\n",
       "  </tbody>\n",
       "</table>\n",
       "</div>"
      ],
      "text/plain": [
       "   PassengerId  Survived\n",
       "0          892         0\n",
       "1          893         1\n",
       "2          894         0\n",
       "3          895         0\n",
       "4          896         1"
      ]
     },
     "execution_count": 9,
     "metadata": {},
     "output_type": "execute_result"
    }
   ],
   "source": [
    "gender_submission.head()"
   ]
  },
  {
   "cell_type": "code",
   "execution_count": 10,
   "id": "bc7a87f5-3b25-431f-b8e2-2bb33c9a5871",
   "metadata": {
    "tags": []
   },
   "outputs": [],
   "source": [
    "# Explicity make the passenger id the index.\n",
    "train = train.set_index(\"PassengerId\")\n",
    "test = test.set_index(\"PassengerId\")"
   ]
  },
  {
   "cell_type": "markdown",
   "id": "3c653822-6789-444b-994f-af3522ad8f90",
   "metadata": {
    "tags": []
   },
   "source": [
    "### Data Cleaning."
   ]
  },
  {
   "cell_type": "code",
   "execution_count": 12,
   "id": "d3cfdf4b-798e-466d-8f24-23812f526003",
   "metadata": {
    "tags": []
   },
   "outputs": [],
   "source": [
    "# Check data type and nulls.\n",
    "train.info()"
   ]
  },
  {
   "cell_type": "code",
   "execution_count": null,
   "id": "fa2fd29f-b363-4978-a0d6-5f29898ee79e",
   "metadata": {},
   "outputs": [],
   "source": [
    "test.info()"
   ]
  },
  {
   "cell_type": "code",
   "execution_count": null,
   "id": "0e4d510b-c03f-4778-8a08-3bcfb5c83cc3",
   "metadata": {},
   "outputs": [],
   "source": [
    "def percent_null(data):\n",
    "    \"\"\"\n",
    "    This function outputs columns with missing values with their percentages.\n",
    "    \"\"\"\n",
    "    cols_with_null = list()\n",
    "    cols = data.columns\n",
    "    for col in cols:\n",
    "        null_count = data[col].isnull().value_counts()\n",
    "        if len(null_count) == 2:\n",
    "            null_count_percent = np.round((null_count[True]/len(data))*100, 2)\n",
    "            cols_with_null.append(col)\n",
    "            print(f\"Column {col} has {null_count[True]} missing values which is {null_count_percent}%\")\n",
    "    return cols_with_null\n",
    "print(\"Train set has the following information missing:\")\n",
    "cols_with_null_train = percent_null(train)\n",
    "print(f\"\\n {'-'*50} \\n\")\n",
    "print(\"Test set has the following information missing:\")\n",
    "cols_with_null_test = percent_null(test)"
   ]
  },
  {
   "cell_type": "markdown",
   "id": "8e3c1b3e-6189-4a8d-97fb-f91c928ba85b",
   "metadata": {},
   "source": [
    "Will replace missing values based on passenger class i.e replace age by mean per passenger class."
   ]
  },
  {
   "cell_type": "code",
   "execution_count": 14,
   "id": "494cf905-d30f-435b-bd37-0f20da5bc4cf",
   "metadata": {
    "tags": []
   },
   "outputs": [
    {
     "ename": "NameError",
     "evalue": "name 'cols_with_null_train' is not defined",
     "output_type": "error",
     "traceback": [
      "\u001b[1;31m---------------------------------------------------------------------------\u001b[0m",
      "\u001b[1;31mNameError\u001b[0m                                 Traceback (most recent call last)",
      "Cell \u001b[1;32mIn[14], line 13\u001b[0m\n\u001b[0;32m     11\u001b[0m                 data\u001b[38;5;241m.\u001b[39mloc[data[\u001b[38;5;124m\"\u001b[39m\u001b[38;5;124mPclass\u001b[39m\u001b[38;5;124m\"\u001b[39m]\u001b[38;5;241m==\u001b[39mi, col] \u001b[38;5;241m=\u001b[39m data\u001b[38;5;241m.\u001b[39mloc[data[\u001b[38;5;124m\"\u001b[39m\u001b[38;5;124mPclass\u001b[39m\u001b[38;5;124m\"\u001b[39m]\u001b[38;5;241m==\u001b[39mi, col]\u001b[38;5;241m.\u001b[39mfillna(replace_val)\n\u001b[0;32m     12\u001b[0m     \u001b[38;5;28;01mreturn\u001b[39;00m data\n\u001b[1;32m---> 13\u001b[0m train \u001b[38;5;241m=\u001b[39m fill_missing(train, cols_with_null_train)\n\u001b[0;32m     14\u001b[0m test \u001b[38;5;241m=\u001b[39m fill_missing(test, cols_with_null_test)\n",
      "\u001b[1;31mNameError\u001b[0m: name 'cols_with_null_train' is not defined"
     ]
    }
   ],
   "source": [
    "def fill_missing(data, null_cols):\n",
    "    for col in null_cols:\n",
    "        if data[col].dtype == 'object':\n",
    "            for i in data[\"Pclass\"].unique():\n",
    "                replace_val = data.loc[data[\"Pclass\"]==i, col].mode()\n",
    "                replace_val = replace_val[0]\n",
    "                data.loc[data[\"Pclass\"]==i, col] = data.loc[data[\"Pclass\"]==i, col].fillna(replace_val)\n",
    "        else:\n",
    "            for i in data[\"Pclass\"].unique():\n",
    "                replace_val = data.loc[data[\"Pclass\"]==i, col].mean()\n",
    "                data.loc[data[\"Pclass\"]==i, col] = data.loc[data[\"Pclass\"]==i, col].fillna(replace_val)\n",
    "    return data\n",
    "train = fill_missing(train, cols_with_null_train)\n",
    "test = fill_missing(test, cols_with_null_test)"
   ]
  },
  {
   "cell_type": "code",
   "execution_count": null,
   "id": "0ed00b7b-5c9d-429b-96f3-ff192d0579bd",
   "metadata": {
    "tags": []
   },
   "outputs": [],
   "source": [
    "train.info()"
   ]
  },
  {
   "cell_type": "code",
   "execution_count": null,
   "id": "2349d97a-b766-4d23-aec9-40f631499ac0",
   "metadata": {
    "tags": []
   },
   "outputs": [],
   "source": [
    "test.info()"
   ]
  },
  {
   "cell_type": "markdown",
   "id": "74705dd6-d322-418a-b0cb-caa2262e6e2f",
   "metadata": {
    "tags": []
   },
   "source": [
    "### Let's do some light Exploratory Data Analysis."
   ]
  },
  {
   "cell_type": "code",
   "execution_count": null,
   "id": "b5193d1e-1aee-4313-8cd6-e88ccf9af2f4",
   "metadata": {},
   "outputs": [],
   "source": [
    "# Reduces the number of features.\n",
    "train[\"Related\"] = train[\"SibSp\"] + train[\"Parch\"]\n",
    "test[\"Related\"] = test[\"SibSp\"] + test[\"Parch\"]\n",
    "\n",
    "train.drop([\"SibSp\", \"Parch\"], axis=1, inplace=True)\n",
    "test.drop([\"SibSp\", \"Parch\"], axis=1, inplace=True)"
   ]
  },
  {
   "cell_type": "code",
   "execution_count": null,
   "id": "c0e4c5d4-e9ac-431a-b526-905cb145f203",
   "metadata": {
    "tags": []
   },
   "outputs": [],
   "source": [
    "survival = train[\"Survived\"].value_counts()\n",
    "print(f\"{survival[1]} people survived whereas {survival[0]} people died representing a {(survival[1]/len(train))*100:.2f}% survival rate\")"
   ]
  },
  {
   "cell_type": "code",
   "execution_count": null,
   "id": "a87e467f-9a7e-4510-86d1-b0b5aee9b171",
   "metadata": {
    "tags": []
   },
   "outputs": [],
   "source": [
    "train[\"Sex\"].value_counts()"
   ]
  },
  {
   "cell_type": "code",
   "execution_count": null,
   "id": "c14c7904-a22a-446e-a33e-d7cbdb03f221",
   "metadata": {
    "tags": []
   },
   "outputs": [],
   "source": [
    "np.mean(train[\"Age\"])"
   ]
  },
  {
   "cell_type": "code",
   "execution_count": null,
   "id": "397565db-854a-4923-9ed2-4ca9fb634439",
   "metadata": {},
   "outputs": [],
   "source": [
    "np.mean(train[\"Fare\"])"
   ]
  },
  {
   "cell_type": "code",
   "execution_count": null,
   "id": "0c3f5e6c-e131-4068-95a7-0b49a0d208ad",
   "metadata": {
    "tags": []
   },
   "outputs": [],
   "source": [
    "# Calculates aggregates of various columns based on Pclass column.\n",
    "pclass_group = train.groupby(\"Pclass\").agg(\n",
    "    pclass_count = pd.NamedAgg(column=\"Pclass\", aggfunc=\"count\"), \n",
    "    pclass_age = pd.NamedAgg(column=\"Age\", aggfunc=\"mean\"),\n",
    "    pclass_fare = pd.NamedAgg(column=\"Fare\", aggfunc=\"mean\"), \n",
    "    pclass_survived = pd.NamedAgg(column=\"Survived\", aggfunc=\"sum\"))\n",
    "pclass_group[\"pclass_survival_rate\"] = np.round((pclass_group[\"pclass_survived\"]/pclass_group[\"pclass_count\"])*100,0)\n",
    "pclass_group"
   ]
  },
  {
   "cell_type": "code",
   "execution_count": null,
   "id": "20cddea1-090a-43cf-ba8f-8489bad2357d",
   "metadata": {
    "tags": []
   },
   "outputs": [],
   "source": [
    "# Calculates aggregates of various columns based on Embarked column.\n",
    "embarked_group = train.groupby(\"Embarked\").agg(\n",
    "    embarked_count = pd.NamedAgg(column=\"Embarked\", aggfunc=\"count\"), \n",
    "    embarked_age = pd.NamedAgg(column=\"Age\", aggfunc=\"mean\"),\n",
    "    embarked_fare = pd.NamedAgg(column=\"Fare\", aggfunc=\"mean\"), \n",
    "    embarked_survived = pd.NamedAgg(column=\"Survived\", aggfunc=\"sum\"))\n",
    "embarked_group[\"embarked_survival_rate\"] = np.round((embarked_group[\"embarked_survived\"]/embarked_group[\"embarked_count\"])*100,0)\n",
    "embarked_group"
   ]
  },
  {
   "cell_type": "markdown",
   "id": "e789a945-354a-4aa2-a790-dfcc0b350022",
   "metadata": {},
   "source": [
    "Based on EDA the average fare for the trip was 32 pounds whereas the age was 29 years. As expected, the 1st class passenger paid more than the other class passenger but this margin appears to be very huge. Also, age influenced the ability of a passenger to board better classes with older passengers affording better passenger class. \n",
    "\n",
    "People in higher passenger classes seemed to have a better survival rate."
   ]
  },
  {
   "cell_type": "markdown",
   "id": "76f74f14-90fe-47ef-90ae-ff5d515c271c",
   "metadata": {
    "jp-MarkdownHeadingCollapsed": true,
    "tags": []
   },
   "source": [
    "### Preprocessing"
   ]
  },
  {
   "cell_type": "code",
   "execution_count": null,
   "id": "e4ccb46f-3646-4876-bd8c-17ec8f5f413b",
   "metadata": {
    "tags": []
   },
   "outputs": [],
   "source": [
    "from sklearn.preprocessing import OneHotEncoder, StandardScaler, LabelEncoder"
   ]
  },
  {
   "cell_type": "code",
   "execution_count": null,
   "id": "98526f51-5b48-4e56-b0f8-004b83e36f56",
   "metadata": {},
   "outputs": [],
   "source": [
    "def extract_salutation(name):\n",
    "    \"\"\"\n",
    "    Function to extract salutations people used.\n",
    "    \"\"\"\n",
    "    second_name = name.split(\",\")[1]\n",
    "    salutation = second_name.split(\".\")[0].strip()\n",
    "    return salutation\n",
    "train[\"Salutation\"] = train[\"Name\"].apply(extract_salutation)\n",
    "test[\"Salutation\"] = test[\"Name\"].apply(extract_salutation)"
   ]
  },
  {
   "cell_type": "code",
   "execution_count": null,
   "id": "7b525fb2-6a80-4da6-a95f-c3ced782b92d",
   "metadata": {
    "tags": []
   },
   "outputs": [],
   "source": [
    "# Checks if the newly added column adds valueable information in relation to survival. \n",
    "group = train[[\"Salutation\", \"Survived\", \"Age\"]].groupby(\"Salutation\").mean().sort_values(by=\"Survived\")\n",
    "count = train[\"Salutation\"].value_counts()\n",
    "salutation_survival_count_merge = group.merge(count, how=\"left\", on=\"Salutation\")"
   ]
  },
  {
   "cell_type": "code",
   "execution_count": null,
   "id": "0834e783-8eea-40fd-9a31-7536336910f5",
   "metadata": {
    "tags": []
   },
   "outputs": [],
   "source": [
    "salutation_survival_count_merge"
   ]
  },
  {
   "cell_type": "code",
   "execution_count": null,
   "id": "7e505172-5eae-498d-94ec-21b9095556cd",
   "metadata": {},
   "outputs": [],
   "source": [
    "# Transforms age into categorical column.\n",
    "train[\"AgeBucket\"] = train[\"Age\"] // 15 * 15\n",
    "test[\"AgeBucket\"] = test[\"Age\"] // 15 * 15"
   ]
  },
  {
   "cell_type": "code",
   "execution_count": null,
   "id": "f892e389-6da3-4d0c-b422-e6dbde68fb1d",
   "metadata": {
    "tags": []
   },
   "outputs": [],
   "source": [
    "# Checks if the newly added column adds valueable information in relation to survival. \n",
    "group = train[[\"AgeBucket\", \"Survived\"]].groupby(\"AgeBucket\").mean().sort_values(by=\"Survived\")\n",
    "count = train[\"AgeBucket\"].value_counts()\n",
    "agebucket_survival_count_merge = group.merge(count, how=\"left\", on=\"AgeBucket\")"
   ]
  },
  {
   "cell_type": "code",
   "execution_count": null,
   "id": "7a5d3ba3-ad48-46ac-8add-7bc1e3b5ddac",
   "metadata": {
    "tags": []
   },
   "outputs": [],
   "source": [
    "agebucket_survival_count_merge"
   ]
  },
  {
   "cell_type": "code",
   "execution_count": null,
   "id": "26711c23-16de-41cf-bd9b-ba35b460c481",
   "metadata": {
    "tags": []
   },
   "outputs": [],
   "source": [
    "one_hot_cat_attributes = [\"Sex\", \"Embarked\"]\n",
    "label_cat_attributes = [\"Salutation\", \"Ticket\", \"Cabin\"]\n",
    "attributes_to_use = [\"Pclass\", \"AgeBucket\", \"Ticket\", \"Fare\", \"Salutation\", \"Related\", \"Cabin\"]"
   ]
  },
  {
   "cell_type": "code",
   "execution_count": null,
   "id": "99d90bde-8612-4cae-9a0e-ed3070bec975",
   "metadata": {},
   "outputs": [],
   "source": [
    "# Change categorical features that would lead to many features using onehot using label encoder.\n",
    "label_encoder = LabelEncoder()\n",
    "\n",
    "for col in label_cat_attributes:\n",
    "    train[col] = label_encoder.fit_transform(train[col])\n",
    "    test[col] = label_encoder.fit_transform(test[col])\n",
    "    "
   ]
  },
  {
   "cell_type": "code",
   "execution_count": null,
   "id": "9ee7adab-cb10-4e6c-8ddc-1dbca64aea33",
   "metadata": {
    "tags": []
   },
   "outputs": [],
   "source": [
    "one_hot_encoder = OneHotEncoder()\n",
    "one_hot_train = one_hot_encoder.fit_transform(train[one_hot_cat_attributes])\n",
    "one_hot_test = one_hot_encoder.fit_transform(test[one_hot_cat_attributes])\n",
    "one_hot_train = one_hot_train.toarray()\n",
    "one_hot_test = one_hot_test.toarray()"
   ]
  },
  {
   "cell_type": "code",
   "execution_count": null,
   "id": "e1083e38-9ee9-46af-94f6-22ae626c4bc2",
   "metadata": {},
   "outputs": [],
   "source": [
    "y_train = train[\"Survived\"].to_numpy()\n",
    "train = train[attributes_to_use].to_numpy()\n",
    "test = test[attributes_to_use].to_numpy()"
   ]
  },
  {
   "cell_type": "code",
   "execution_count": null,
   "id": "ddfe86e4-9687-4ab6-b1fa-c349e28ac8b3",
   "metadata": {
    "tags": []
   },
   "outputs": [],
   "source": [
    "X_train = np.c_[train, one_hot_train]\n",
    "X_test = np.c_[test, one_hot_test]"
   ]
  },
  {
   "cell_type": "code",
   "execution_count": null,
   "id": "f398b06d-7f93-4b87-b79d-af302e1c4d41",
   "metadata": {},
   "outputs": [],
   "source": [
    "print(X_train.shape)\n",
    "print(X_test.shape)"
   ]
  },
  {
   "cell_type": "code",
   "execution_count": null,
   "id": "580809a7-3f9d-47e9-8d61-c12aa9dc8eb2",
   "metadata": {
    "tags": []
   },
   "outputs": [],
   "source": [
    "scaler = StandardScaler()\n",
    "X_train_scaled = scaler.fit_transform(X_train)\n",
    "X_test_scaled = scaler.fit_transform(X_test)"
   ]
  },
  {
   "cell_type": "markdown",
   "id": "ba188926-1b14-48bf-9023-3d61e4219216",
   "metadata": {
    "tags": []
   },
   "source": [
    "### Build some ML models."
   ]
  },
  {
   "cell_type": "code",
   "execution_count": null,
   "id": "d932e66e-05c6-4e30-9304-95b4c444ddba",
   "metadata": {
    "tags": []
   },
   "outputs": [],
   "source": [
    "from sklearn.ensemble import RandomForestClassifier\n",
    "from sklearn.svm import SVC\n",
    "from sklearn.neighbors import KNeighborsClassifier\n",
    "from sklearn.linear_model import LogisticRegression\n",
    "from sklearn.tree import DecisionTreeClassifier\n",
    "from sklearn.model_selection import cross_val_score"
   ]
  },
  {
   "cell_type": "code",
   "execution_count": null,
   "id": "8c03bd5d-d891-40b1-8f63-66a5f1654ff5",
   "metadata": {},
   "outputs": [],
   "source": [
    "forest_clf = RandomForestClassifier()\n",
    "svm_clf = SVC()\n",
    "neighbor_clf = KNeighborsClassifier()\n",
    "logistic_clf = LogisticRegression()\n",
    "tree_clf = DecisionTreeClassifier()"
   ]
  },
  {
   "cell_type": "code",
   "execution_count": null,
   "id": "617310b7-879a-4afa-96b5-306931788f75",
   "metadata": {},
   "outputs": [],
   "source": [
    "tree_clf.fit(X_train_scaled, y_train)"
   ]
  },
  {
   "cell_type": "code",
   "execution_count": null,
   "id": "c921e239-6af1-4231-8667-77cdcd6a5d81",
   "metadata": {},
   "outputs": [],
   "source": [
    "logistic_clf.fit(X_train_scaled, y_train)"
   ]
  },
  {
   "cell_type": "code",
   "execution_count": null,
   "id": "cc84c94d-21ac-4501-b980-da2fe8daafcc",
   "metadata": {},
   "outputs": [],
   "source": [
    "neighbor_clf.fit(X_train_scaled, y_train)"
   ]
  },
  {
   "cell_type": "code",
   "execution_count": null,
   "id": "131171cd-1238-499d-ab90-10c96b859f48",
   "metadata": {},
   "outputs": [],
   "source": [
    "forest_clf.fit(X_train_scaled, y_train)"
   ]
  },
  {
   "cell_type": "code",
   "execution_count": null,
   "id": "2eccedbc-6cdd-4911-9bfa-67435d341979",
   "metadata": {},
   "outputs": [],
   "source": [
    "svm_clf.fit(X_train_scaled, y_train)"
   ]
  },
  {
   "cell_type": "code",
   "execution_count": null,
   "id": "78d436df-70a1-4aea-9263-008ba4c24ea3",
   "metadata": {},
   "outputs": [],
   "source": [
    "forest_pred = forest_clf.predict(X_test_scaled)\n",
    "svm_pred = svm_clf.predict(X_test_scaled)\n",
    "neighbor_pred = neighbor_clf.predict(X_test_scaled)\n",
    "logistic_pred = logistic_clf.predict(X_test_scaled)\n",
    "tree_pred = tree_clf.predict(X_test_scaled)"
   ]
  },
  {
   "cell_type": "code",
   "execution_count": null,
   "id": "2fa4c5e2-2823-466b-a4c7-6d60cd2ce94d",
   "metadata": {
    "tags": []
   },
   "outputs": [],
   "source": [
    "gender_submission[\"Survived\"] = forest_pred\n",
    "random_forest_submission = gender_submission\n",
    "gender_submission[\"Survived\"] = svm_pred\n",
    "svm_submission = gender_submission\n",
    "gender_submission[\"Survived\"] = neighbor_pred\n",
    "neighbor_submission = gender_submission\n",
    "gender_submission[\"Survived\"] = logistic_pred\n",
    "logistic_submission = gender_submission\n",
    "gender_submission[\"Survived\"] = tree_pred\n",
    "tree_submission = gender_submission"
   ]
  },
  {
   "cell_type": "code",
   "execution_count": null,
   "id": "11f209e5-28b4-4508-a9c2-09a1c23490f1",
   "metadata": {
    "tags": []
   },
   "outputs": [],
   "source": [
    "random_forest_submission.to_csv(\"random_forest_submission.csv\", index=False)\n",
    "svm_submission.to_csv(\"svm_submission.csv\", index=False)\n",
    "neighbor_submission.to_csv(\"neighbor_submission.csv\", index=False)\n",
    "logistic_submission.to_csv(\"logistic_submission.csv\", index=False)\n",
    "tree_submission.to_csv(\"tree_submission.csv\", index=False)"
   ]
  },
  {
   "cell_type": "code",
   "execution_count": null,
   "id": "63e50f79-20f1-41be-8e13-141d8238e9b4",
   "metadata": {},
   "outputs": [],
   "source": [
    "forest_score = cross_val_score(forest_clf, X_train_scaled, y_train, cv=10, scoring=\"accuracy\")\n",
    "np.mean(forest_score)"
   ]
  },
  {
   "cell_type": "code",
   "execution_count": null,
   "id": "8b3f5f08-f9d2-48ff-9d23-04169140c887",
   "metadata": {},
   "outputs": [],
   "source": [
    "svm_score = cross_val_score(svm_clf, X_train_scaled, y_train, cv=10, scoring=\"accuracy\")\n",
    "np.mean(svm_score)"
   ]
  },
  {
   "cell_type": "code",
   "execution_count": null,
   "id": "1e2d928b-fe85-4870-ad2c-bcb6c62c9500",
   "metadata": {
    "tags": []
   },
   "outputs": [],
   "source": [
    "neighbor_score = cross_val_score(neighbor_clf, X_train_scaled, y_train, cv=10, scoring=\"accuracy\")\n",
    "np.mean(neighbor_score)"
   ]
  },
  {
   "cell_type": "code",
   "execution_count": null,
   "id": "1fb903b6-0452-4add-bd75-7f5c4aca9703",
   "metadata": {
    "tags": []
   },
   "outputs": [],
   "source": [
    "logistic_score = cross_val_score(logistic_clf, X_train_scaled, y_train, cv=10, scoring=\"accuracy\")\n",
    "np.mean(logistic_score)"
   ]
  },
  {
   "cell_type": "code",
   "execution_count": null,
   "id": "872982e3-1b20-4dd6-8c0e-e7c785e37b90",
   "metadata": {
    "tags": []
   },
   "outputs": [],
   "source": [
    "tree_score = cross_val_score(tree_clf, X_train_scaled, y_train, cv=10, scoring=\"accuracy\")\n",
    "np.mean(tree_score)"
   ]
  }
 ],
 "metadata": {
  "kernelspec": {
   "display_name": "Python 3 (ipykernel)",
   "language": "python",
   "name": "python3"
  },
  "language_info": {
   "codemirror_mode": {
    "name": "ipython",
    "version": 3
   },
   "file_extension": ".py",
   "mimetype": "text/x-python",
   "name": "python",
   "nbconvert_exporter": "python",
   "pygments_lexer": "ipython3",
   "version": "3.11.5"
  }
 },
 "nbformat": 4,
 "nbformat_minor": 5
}
