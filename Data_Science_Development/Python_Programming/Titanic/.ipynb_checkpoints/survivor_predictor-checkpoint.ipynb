{
 "cells": [
  {
   "cell_type": "markdown",
   "id": "1e5df0a9-2100-4bb5-a9dc-bb014d97375b",
   "metadata": {},
   "source": [
    "## Today I'll be working on the cabin column."
   ]
  },
  {
   "cell_type": "code",
   "execution_count": 2,
   "id": "a5369aad-bfd5-41d4-bb3d-e109065a69b6",
   "metadata": {
    "tags": []
   },
   "outputs": [],
   "source": [
    "import pandas as pd\n",
    "import numpy as np\n",
    "import matplotlib.pyplot as plt"
   ]
  },
  {
   "cell_type": "code",
   "execution_count": 3,
   "id": "8a1085c8-0bab-476a-ba70-20519c866ba2",
   "metadata": {
    "tags": []
   },
   "outputs": [],
   "source": [
    "path = \"../../../Data/titanic/\"\n",
    "train = pd.read_csv(path+\"train.csv\")\n",
    "test = pd.read_csv(path+\"test.csv\")"
   ]
  },
  {
   "cell_type": "code",
   "execution_count": 4,
   "id": "41cbb356-5d7f-4712-96f1-91523a4aa2de",
   "metadata": {},
   "outputs": [],
   "source": [
    "train = train.set_index(\"PassengerId\")\n",
    "test = test.set_index(\"PassengerId\")"
   ]
  },
  {
   "cell_type": "code",
   "execution_count": 5,
   "id": "7fdc370b-c300-46a2-ae5a-1a98533daafc",
   "metadata": {
    "tags": []
   },
   "outputs": [],
   "source": [
    "train[\"Deck\"] = train[\"Cabin\"].apply(lambda x: x[0] if pd.notnull(x) else \"M\")\n",
    "train.drop(\"Cabin\", axis=1, inplace=True)"
   ]
  },
  {
   "cell_type": "markdown",
   "id": "390eb51e-cb70-4e63-a36e-52ad9601861f",
   "metadata": {},
   "source": [
    "### Visualization of Deck in Train."
   ]
  },
  {
   "cell_type": "markdown",
   "id": "587574e1-e3f8-425d-8150-70f52ee526e8",
   "metadata": {},
   "source": [
    "Let's start by viewing passenger class distribution in each deck."
   ]
  },
  {
   "cell_type": "code",
   "execution_count": 8,
   "id": "3bb08af3-f365-4a7f-ba01-1e4ae80d02a2",
   "metadata": {
    "tags": []
   },
   "outputs": [],
   "source": [
    "decks_ = [\"A\", \"B\", \"C\", \"D\", \"E\", \"F\", \"G\", \"T\", \"M\"]\n",
    "deck_dist = np.zeros((9, 3))\n",
    "\n",
    "# We fill the matrix with the passenger distributions.\n",
    "for i in range(len(decks_)):\n",
    "    pclass_dist = train[train[\"Deck\"]==decks_[i]].groupby(\"Pclass\")[\"Pclass\"].count()\n",
    "    for pclass, pclass_count in pclass_dist.items():\n",
    "        deck_dist[i, pclass-1] = pclass_count"
   ]
  },
  {
   "cell_type": "code",
   "execution_count": 21,
   "id": "979874ba-c5cf-4412-8c0c-fbac4d7a6aed",
   "metadata": {
    "tags": []
   },
   "outputs": [
    {
     "data": {
      "image/png": "[encoded data removed]",
      "text/plain": [
       "<Figure size 640x480 with 1 Axes>"
      ]
     },
     "metadata": {},
     "output_type": "display_data"
    }
   ],
   "source": [
    "fig, ax = plt.subplots()\n",
    "ax.bar(decks_, deck_dist[:, 0], label=\"Pclass 1\")\n",
    "ax.bar(decks_, deck_dist[:, 1], bottom=deck_dist[:, 0], label=\"Pclass 2\")\n",
    "ax.bar(decks_, deck_dist[:, 2], bottom=deck_dist[:, 0] + deck_dist[:, 1], label=\"Pclass 3\")\n",
    "plt.legend()\n",
    "plt.show()"
   ]
  },
  {
   "cell_type": "code",
   "execution_count": null,
   "id": "476a01b8-1df9-4b3f-97d5-f903bf2f11c4",
   "metadata": {},
   "outputs": [],
   "source": []
  }
 ],
 "metadata": {
  "kernelspec": {
   "display_name": "Python 3 (ipykernel)",
   "language": "python",
   "name": "python3"
  },
  "language_info": {
   "codemirror_mode": {
    "name": "ipython",
    "version": 3
   },
   "file_extension": ".py",
   "mimetype": "text/x-python",
   "name": "python",
   "nbconvert_exporter": "python",
   "pygments_lexer": "ipython3",
   "version": "3.11.5"
  },
  "toc-autonumbering": false,
  "toc-showcode": false,
  "toc-showmarkdowntxt": false,
  "toc-showtags": false
 },
 "nbformat": 4,
 "nbformat_minor": 5
}
