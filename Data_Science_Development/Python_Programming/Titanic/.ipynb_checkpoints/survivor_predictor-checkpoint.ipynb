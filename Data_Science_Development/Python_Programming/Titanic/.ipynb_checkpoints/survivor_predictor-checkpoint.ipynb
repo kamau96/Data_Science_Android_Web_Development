{
 "cells": [
  {
   "cell_type": "markdown",
   "id": "1e5df0a9-2100-4bb5-a9dc-bb014d97375b",
   "metadata": {},
   "source": [
    "## Today I'll be working on the cabin column."
   ]
  },
  {
   "cell_type": "code",
   "execution_count": 2,
   "id": "a5369aad-bfd5-41d4-bb3d-e109065a69b6",
   "metadata": {
    "tags": []
   },
   "outputs": [],
   "source": [
    "import pandas as pd\n",
    "import numpy as np\n",
    "import matplotlib.pyplot as plt"
   ]
  },
  {
   "cell_type": "code",
   "execution_count": 3,
   "id": "8a1085c8-0bab-476a-ba70-20519c866ba2",
   "metadata": {
    "tags": []
   },
   "outputs": [],
   "source": [
    "path = \"../../../Data/titanic/\"\n",
    "train = pd.read_csv(path+\"train.csv\")\n",
    "test = pd.read_csv(path+\"test.csv\")"
   ]
  },
  {
   "cell_type": "code",
   "execution_count": 4,
   "id": "41cbb356-5d7f-4712-96f1-91523a4aa2de",
   "metadata": {},
   "outputs": [],
   "source": [
    "train = train.set_index(\"PassengerId\")\n",
    "test = test.set_index(\"PassengerId\")"
   ]
  },
  {
   "cell_type": "code",
   "execution_count": 5,
   "id": "7fdc370b-c300-46a2-ae5a-1a98533daafc",
   "metadata": {
    "tags": []
   },
   "outputs": [],
   "source": [
    "train[\"Deck\"] = train[\"Cabin\"].apply(lambda x: x[0] if pd.notnull(x) else \"M\")\n",
    "train.drop(\"Cabin\", axis=1, inplace=True)"
   ]
  },
  {
   "cell_type": "markdown",
   "id": "390eb51e-cb70-4e63-a36e-52ad9601861f",
   "metadata": {},
   "source": [
    "### Visualization of Deck in Train."
   ]
  },
  {
   "cell_type": "code",
   "execution_count": null,
   "id": "347d705a-07c8-45f5-81a2-900e5c8e5f57",
   "metadata": {},
   "outputs": [],
   "source": []
  }
 ],
 "metadata": {
  "kernelspec": {
   "display_name": "Python 3 (ipykernel)",
   "language": "python",
   "name": "python3"
  },
  "language_info": {
   "codemirror_mode": {
    "name": "ipython",
    "version": 3
   },
   "file_extension": ".py",
   "mimetype": "text/x-python",
   "name": "python",
   "nbconvert_exporter": "python",
   "pygments_lexer": "ipython3",
   "version": "3.11.5"
  },
  "toc-autonumbering": false,
  "toc-showcode": false,
  "toc-showmarkdowntxt": false,
  "toc-showtags": false
 },
 "nbformat": 4,
 "nbformat_minor": 5
}
