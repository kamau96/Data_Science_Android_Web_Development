{
 "cells": [
  {
   "cell_type": "markdown",
   "id": "a4edb7e4-a49f-433c-839e-d62439b842c4",
   "metadata": {},
   "source": [
    "# Titanic Survivor Predictor\n",
    "**Authour:** *Kamau Wa Wainaina*"
   ]
  },
  {
   "cell_type": "markdown",
   "id": "e105fbc5-ff9d-4b57-bafe-3dccef1a96de",
   "metadata": {},
   "source": [
    "## Loading Datasets."
   ]
  },
  {
   "cell_type": "code",
   "execution_count": 3,
   "id": "0a15753b-bd50-4355-92ef-c1125f133883",
   "metadata": {
    "tags": []
   },
   "outputs": [],
   "source": [
    "# Library for loading datasets.\n",
    "import pandas as pd\n",
    "# Library for linear algebra.\n",
    "import numpy as np"
   ]
  },
  {
   "cell_type": "code",
   "execution_count": 5,
   "id": "a6b52f8c-3d9a-4e04-bdd8-3a7c8c6c91ff",
   "metadata": {
    "tags": []
   },
   "outputs": [],
   "source": [
    "# Load the datasets.\n",
    "path = \"../../../Data/titanic/\"\n",
    "train = pd.read_csv(path+\"train.csv\")\n",
    "test = pd.read_csv(path+\"test.csv\")"
   ]
  },
  {
   "cell_type": "code",
   "execution_count": 7,
   "id": "aa373054-ba79-4a70-b486-a8dfa8827841",
   "metadata": {
    "tags": []
   },
   "outputs": [],
   "source": [
    "pd.set_option(\"display.max_colwidth\", None) # Ensures column content isn't truncated."
   ]
  },
  {
   "cell_type": "markdown",
   "id": "6f08dd8f-e743-48e7-aef1-afd7c396213d",
   "metadata": {},
   "source": [
    "Let's peek at the first five rows of both train and test."
   ]
  },
  {
   "cell_type": "code",
   "execution_count": 10,
   "id": "bac117c7-3849-4781-b18a-7431a7152de3",
   "metadata": {
    "tags": []
   },
   "outputs": [
    {
     "data": {
      "text/html": [
       "<div>\n",
       "<style scoped>\n",
       "    .dataframe tbody tr th:only-of-type {\n",
       "        vertical-align: middle;\n",
       "    }\n",
       "\n",
       "    .dataframe tbody tr th {\n",
       "        vertical-align: top;\n",
       "    }\n",
       "\n",
       "    .dataframe thead th {\n",
       "        text-align: right;\n",
       "    }\n",
       "</style>\n",
       "<table border=\"1\" class=\"dataframe\">\n",
       "  <thead>\n",
       "    <tr style=\"text-align: right;\">\n",
       "      <th></th>\n",
       "      <th>PassengerId</th>\n",
       "      <th>Survived</th>\n",
       "      <th>Pclass</th>\n",
       "      <th>Name</th>\n",
       "      <th>Sex</th>\n",
       "      <th>Age</th>\n",
       "      <th>SibSp</th>\n",
       "      <th>Parch</th>\n",
       "      <th>Ticket</th>\n",
       "      <th>Fare</th>\n",
       "      <th>Cabin</th>\n",
       "      <th>Embarked</th>\n",
       "    </tr>\n",
       "  </thead>\n",
       "  <tbody>\n",
       "    <tr>\n",
       "      <th>0</th>\n",
       "      <td>1</td>\n",
       "      <td>0</td>\n",
       "      <td>3</td>\n",
       "      <td>Braund, Mr. Owen Harris</td>\n",
       "      <td>male</td>\n",
       "      <td>22.0</td>\n",
       "      <td>1</td>\n",
       "      <td>0</td>\n",
       "      <td>A/5 21171</td>\n",
       "      <td>7.2500</td>\n",
       "      <td>NaN</td>\n",
       "      <td>S</td>\n",
       "    </tr>\n",
       "    <tr>\n",
       "      <th>1</th>\n",
       "      <td>2</td>\n",
       "      <td>1</td>\n",
       "      <td>1</td>\n",
       "      <td>Cumings, Mrs. John Bradley (Florence Briggs Thayer)</td>\n",
       "      <td>female</td>\n",
       "      <td>38.0</td>\n",
       "      <td>1</td>\n",
       "      <td>0</td>\n",
       "      <td>PC 17599</td>\n",
       "      <td>71.2833</td>\n",
       "      <td>C85</td>\n",
       "      <td>C</td>\n",
       "    </tr>\n",
       "    <tr>\n",
       "      <th>2</th>\n",
       "      <td>3</td>\n",
       "      <td>1</td>\n",
       "      <td>3</td>\n",
       "      <td>Heikkinen, Miss. Laina</td>\n",
       "      <td>female</td>\n",
       "      <td>26.0</td>\n",
       "      <td>0</td>\n",
       "      <td>0</td>\n",
       "      <td>STON/O2. 3101282</td>\n",
       "      <td>7.9250</td>\n",
       "      <td>NaN</td>\n",
       "      <td>S</td>\n",
       "    </tr>\n",
       "    <tr>\n",
       "      <th>3</th>\n",
       "      <td>4</td>\n",
       "      <td>1</td>\n",
       "      <td>1</td>\n",
       "      <td>Futrelle, Mrs. Jacques Heath (Lily May Peel)</td>\n",
       "      <td>female</td>\n",
       "      <td>35.0</td>\n",
       "      <td>1</td>\n",
       "      <td>0</td>\n",
       "      <td>113803</td>\n",
       "      <td>53.1000</td>\n",
       "      <td>C123</td>\n",
       "      <td>S</td>\n",
       "    </tr>\n",
       "    <tr>\n",
       "      <th>4</th>\n",
       "      <td>5</td>\n",
       "      <td>0</td>\n",
       "      <td>3</td>\n",
       "      <td>Allen, Mr. William Henry</td>\n",
       "      <td>male</td>\n",
       "      <td>35.0</td>\n",
       "      <td>0</td>\n",
       "      <td>0</td>\n",
       "      <td>373450</td>\n",
       "      <td>8.0500</td>\n",
       "      <td>NaN</td>\n",
       "      <td>S</td>\n",
       "    </tr>\n",
       "  </tbody>\n",
       "</table>\n",
       "</div>"
      ],
      "text/plain": [
       "   PassengerId  Survived  Pclass  \\\n",
       "0            1         0       3   \n",
       "1            2         1       1   \n",
       "2            3         1       3   \n",
       "3            4         1       1   \n",
       "4            5         0       3   \n",
       "\n",
       "                                                  Name     Sex   Age  SibSp  \\\n",
       "0                              Braund, Mr. Owen Harris    male  22.0      1   \n",
       "1  Cumings, Mrs. John Bradley (Florence Briggs Thayer)  female  38.0      1   \n",
       "2                               Heikkinen, Miss. Laina  female  26.0      0   \n",
       "3         Futrelle, Mrs. Jacques Heath (Lily May Peel)  female  35.0      1   \n",
       "4                             Allen, Mr. William Henry    male  35.0      0   \n",
       "\n",
       "   Parch            Ticket     Fare Cabin Embarked  \n",
       "0      0         A/5 21171   7.2500   NaN        S  \n",
       "1      0          PC 17599  71.2833   C85        C  \n",
       "2      0  STON/O2. 3101282   7.9250   NaN        S  \n",
       "3      0            113803  53.1000  C123        S  \n",
       "4      0            373450   8.0500   NaN        S  "
      ]
     },
     "execution_count": 10,
     "metadata": {},
     "output_type": "execute_result"
    }
   ],
   "source": [
    "train.head()"
   ]
  },
  {
   "cell_type": "code",
   "execution_count": 12,
   "id": "08b63ea9-3e40-4e68-94aa-86742df64e8f",
   "metadata": {
    "tags": []
   },
   "outputs": [
    {
     "data": {
      "text/html": [
       "<div>\n",
       "<style scoped>\n",
       "    .dataframe tbody tr th:only-of-type {\n",
       "        vertical-align: middle;\n",
       "    }\n",
       "\n",
       "    .dataframe tbody tr th {\n",
       "        vertical-align: top;\n",
       "    }\n",
       "\n",
       "    .dataframe thead th {\n",
       "        text-align: right;\n",
       "    }\n",
       "</style>\n",
       "<table border=\"1\" class=\"dataframe\">\n",
       "  <thead>\n",
       "    <tr style=\"text-align: right;\">\n",
       "      <th></th>\n",
       "      <th>PassengerId</th>\n",
       "      <th>Pclass</th>\n",
       "      <th>Name</th>\n",
       "      <th>Sex</th>\n",
       "      <th>Age</th>\n",
       "      <th>SibSp</th>\n",
       "      <th>Parch</th>\n",
       "      <th>Ticket</th>\n",
       "      <th>Fare</th>\n",
       "      <th>Cabin</th>\n",
       "      <th>Embarked</th>\n",
       "    </tr>\n",
       "  </thead>\n",
       "  <tbody>\n",
       "    <tr>\n",
       "      <th>0</th>\n",
       "      <td>892</td>\n",
       "      <td>3</td>\n",
       "      <td>Kelly, Mr. James</td>\n",
       "      <td>male</td>\n",
       "      <td>34.5</td>\n",
       "      <td>0</td>\n",
       "      <td>0</td>\n",
       "      <td>330911</td>\n",
       "      <td>7.8292</td>\n",
       "      <td>NaN</td>\n",
       "      <td>Q</td>\n",
       "    </tr>\n",
       "    <tr>\n",
       "      <th>1</th>\n",
       "      <td>893</td>\n",
       "      <td>3</td>\n",
       "      <td>Wilkes, Mrs. James (Ellen Needs)</td>\n",
       "      <td>female</td>\n",
       "      <td>47.0</td>\n",
       "      <td>1</td>\n",
       "      <td>0</td>\n",
       "      <td>363272</td>\n",
       "      <td>7.0000</td>\n",
       "      <td>NaN</td>\n",
       "      <td>S</td>\n",
       "    </tr>\n",
       "    <tr>\n",
       "      <th>2</th>\n",
       "      <td>894</td>\n",
       "      <td>2</td>\n",
       "      <td>Myles, Mr. Thomas Francis</td>\n",
       "      <td>male</td>\n",
       "      <td>62.0</td>\n",
       "      <td>0</td>\n",
       "      <td>0</td>\n",
       "      <td>240276</td>\n",
       "      <td>9.6875</td>\n",
       "      <td>NaN</td>\n",
       "      <td>Q</td>\n",
       "    </tr>\n",
       "    <tr>\n",
       "      <th>3</th>\n",
       "      <td>895</td>\n",
       "      <td>3</td>\n",
       "      <td>Wirz, Mr. Albert</td>\n",
       "      <td>male</td>\n",
       "      <td>27.0</td>\n",
       "      <td>0</td>\n",
       "      <td>0</td>\n",
       "      <td>315154</td>\n",
       "      <td>8.6625</td>\n",
       "      <td>NaN</td>\n",
       "      <td>S</td>\n",
       "    </tr>\n",
       "    <tr>\n",
       "      <th>4</th>\n",
       "      <td>896</td>\n",
       "      <td>3</td>\n",
       "      <td>Hirvonen, Mrs. Alexander (Helga E Lindqvist)</td>\n",
       "      <td>female</td>\n",
       "      <td>22.0</td>\n",
       "      <td>1</td>\n",
       "      <td>1</td>\n",
       "      <td>3101298</td>\n",
       "      <td>12.2875</td>\n",
       "      <td>NaN</td>\n",
       "      <td>S</td>\n",
       "    </tr>\n",
       "  </tbody>\n",
       "</table>\n",
       "</div>"
      ],
      "text/plain": [
       "   PassengerId  Pclass                                          Name     Sex  \\\n",
       "0          892       3                              Kelly, Mr. James    male   \n",
       "1          893       3              Wilkes, Mrs. James (Ellen Needs)  female   \n",
       "2          894       2                     Myles, Mr. Thomas Francis    male   \n",
       "3          895       3                              Wirz, Mr. Albert    male   \n",
       "4          896       3  Hirvonen, Mrs. Alexander (Helga E Lindqvist)  female   \n",
       "\n",
       "    Age  SibSp  Parch   Ticket     Fare Cabin Embarked  \n",
       "0  34.5      0      0   330911   7.8292   NaN        Q  \n",
       "1  47.0      1      0   363272   7.0000   NaN        S  \n",
       "2  62.0      0      0   240276   9.6875   NaN        Q  \n",
       "3  27.0      0      0   315154   8.6625   NaN        S  \n",
       "4  22.0      1      1  3101298  12.2875   NaN        S  "
      ]
     },
     "execution_count": 12,
     "metadata": {},
     "output_type": "execute_result"
    }
   ],
   "source": [
    "test.head()"
   ]
  },
  {
   "cell_type": "markdown",
   "id": "34241701-d413-4c35-9091-dbacc2e5903f",
   "metadata": {},
   "source": [
    "We observe the following about the data:\n",
    "- PassengerId seems to identify each observation (should make it the index).\n",
    "- Survived column in train is the target we're trying to predict.\n",
    "- Next we should perform EDA to know more about the data. "
   ]
  },
  {
   "cell_type": "code",
   "execution_count": 15,
   "id": "032ca807-2264-4917-9773-f4a4955029c9",
   "metadata": {
    "tags": []
   },
   "outputs": [],
   "source": [
    "# First, let's make passenger id the index in both datasets.\n",
    "train = train.set_index(\"PassengerId\")\n",
    "test = test.set_index(\"PassengerId\")"
   ]
  },
  {
   "cell_type": "markdown",
   "id": "7c453ec4-5551-42f4-95a9-a2cd934c608b",
   "metadata": {},
   "source": [
    "## Exploratory Data Analysis."
   ]
  },
  {
   "cell_type": "markdown",
   "id": "2f8b8aa6-9682-4940-be24-47749d4f7044",
   "metadata": {},
   "source": [
    "In this section I want to investigate the following (will focus on train to avoid data snooping):\n",
    "1. Data types and columns with missing values.\n",
    "2. Number of those whose survived.\n",
    "    - Categorized by Sex, Age, and Pclass.\n",
    "3. How expensive was the trip.\n",
    "4. How name can be used to predict survivors.\n",
    "5. Similarily, how is ticket related to survivors."
   ]
  },
  {
   "cell_type": "markdown",
   "id": "cc304018-10e9-44eb-b6cb-b9d912941055",
   "metadata": {},
   "source": [
    "1. **Data types and columns with missing values.**"
   ]
  },
  {
   "cell_type": "markdown",
   "id": "d5df86f1-c2ee-44d4-ae56-18178db88fc1",
   "metadata": {},
   "source": [
    "The info function shows both data types and missing values."
   ]
  },
  {
   "cell_type": "code",
   "execution_count": 21,
   "id": "137eb313-9693-41a3-8fec-61509054b081",
   "metadata": {
    "tags": []
   },
   "outputs": [
    {
     "name": "stdout",
     "output_type": "stream",
     "text": [
      "<class 'pandas.core.frame.DataFrame'>\n",
      "Index: 891 entries, 1 to 891\n",
      "Data columns (total 11 columns):\n",
      " #   Column    Non-Null Count  Dtype  \n",
      "---  ------    --------------  -----  \n",
      " 0   Survived  891 non-null    int64  \n",
      " 1   Pclass    891 non-null    int64  \n",
      " 2   Name      891 non-null    object \n",
      " 3   Sex       891 non-null    object \n",
      " 4   Age       714 non-null    float64\n",
      " 5   SibSp     891 non-null    int64  \n",
      " 6   Parch     891 non-null    int64  \n",
      " 7   Ticket    891 non-null    object \n",
      " 8   Fare      891 non-null    float64\n",
      " 9   Cabin     204 non-null    object \n",
      " 10  Embarked  889 non-null    object \n",
      "dtypes: float64(2), int64(4), object(5)\n",
      "memory usage: 83.5+ KB\n"
     ]
    }
   ],
   "source": [
    "train.info()"
   ]
  },
  {
   "cell_type": "markdown",
   "id": "01dce001-b48f-4636-9781-564710443457",
   "metadata": {},
   "source": [
    "Let's create a function to calculate percentage of missing information."
   ]
  },
  {
   "cell_type": "code",
   "execution_count": 24,
   "id": "54c9bd7d-ef39-427c-8c89-8d141970e280",
   "metadata": {
    "tags": []
   },
   "outputs": [
    {
     "name": "stdout",
     "output_type": "stream",
     "text": [
      "Age has 19.87% of the values missing.\n",
      "Cabin has 77.1% of the values missing.\n",
      "Embarked has 0.22% of the values missing.\n"
     ]
    }
   ],
   "source": [
    "def missing_percent(data):\n",
    "    has_missing_vals = data.isnull().any() # Checks if any column has missing values.\n",
    "    cols_with_missing = []\n",
    "    for col, val in zip(has_missing_vals.index, has_missing_vals.values):\n",
    "        if val == True:\n",
    "            cols_with_missing.append(col)\n",
    "            \n",
    "    for col in cols_with_missing:\n",
    "        missing_count = data[col].isnull().sum() # Counts number of True since True == 1.\n",
    "        total_count = len(data[col])\n",
    "        missing_percent = np.round((missing_count/total_count)*100, 2)\n",
    "        print(f\"{col} has {missing_percent}% of the values missing.\")\n",
    "        \n",
    "missing_percent(train)"
   ]
  },
  {
   "cell_type": "markdown",
   "id": "5ad86939-e325-459f-a691-454220bc8c9b",
   "metadata": {},
   "source": [
    "**It is evident that Cabin has the highest proportion of missing data, followed by Age, and then Embarked. Additionally, there are 6 numerical columns and 5 categorical columns in total.**"
   ]
  },
  {
   "cell_type": "markdown",
   "id": "21240132-de44-40f4-8462-951d244c724a",
   "metadata": {},
   "source": [
    "2. **Number of those whose survived.**"
   ]
  },
  {
   "cell_type": "markdown",
   "id": "06a001c4-a6c7-432f-8dce-d2622778d1fa",
   "metadata": {},
   "source": [
    "How many people survived?"
   ]
  },
  {
   "cell_type": "code",
   "execution_count": 29,
   "id": "0503994b-fad1-4ff3-940f-99514553188a",
   "metadata": {
    "tags": []
   },
   "outputs": [
    {
     "name": "stdout",
     "output_type": "stream",
     "text": [
      "342 people survived.\n"
     ]
    }
   ],
   "source": [
    "survived = train[\"Survived\"].sum() # Survived records 1 as survived and 0 as perished.\n",
    "print(f\"{survived} people survived.\")"
   ]
  },
  {
   "cell_type": "markdown",
   "id": "ba5e1410-a364-40e3-a809-973c0d4ee64d",
   "metadata": {},
   "source": [
    "What was the surival rate? "
   ]
  },
  {
   "cell_type": "code",
   "execution_count": 32,
   "id": "8479d1a9-aef7-4582-a75a-bd27cf5c11ab",
   "metadata": {
    "tags": []
   },
   "outputs": [
    {
     "name": "stdout",
     "output_type": "stream",
     "text": [
      "The survival rate of boarding the titanic was 38.38%.\n"
     ]
    }
   ],
   "source": [
    "total_passengers = len(train)\n",
    "survival_rate = np.round((survived/total_passengers)*100, 2)\n",
    "print(f\"The survival rate of boarding the titanic was {survival_rate}%.\")"
   ]
  },
  {
   "cell_type": "markdown",
   "id": "06f85479-69dc-45fc-bbcd-46446beab533",
   "metadata": {},
   "source": [
    "Of those who survived how many were female and male?"
   ]
  },
  {
   "cell_type": "code",
   "execution_count": 35,
   "id": "0e86e5d3-6726-480f-88fd-9e0632e5b32b",
   "metadata": {
    "tags": []
   },
   "outputs": [
    {
     "name": "stdout",
     "output_type": "stream",
     "text": [
      "233 females survived while 109 males survived.\n"
     ]
    }
   ],
   "source": [
    "survived_female = train.query(\"Sex == 'female'\")[\"Survived\"].sum() # Works because Survived has 1 and 0.\n",
    "survived_male = train.query(\"Sex == 'male'\")[\"Survived\"].sum()\n",
    "print(f\"{survived_female} females survived while {survived_male} males survived.\")"
   ]
  },
  {
   "cell_type": "markdown",
   "id": "30146bfa-d643-4fcc-b9b2-1c916223535d",
   "metadata": {},
   "source": [
    "Which gender had a better survival rate?"
   ]
  },
  {
   "cell_type": "code",
   "execution_count": 38,
   "id": "f5024214-2b89-4df0-8686-69ded3191bdc",
   "metadata": {
    "tags": []
   },
   "outputs": [
    {
     "name": "stdout",
     "output_type": "stream",
     "text": [
      "Among females, the survival rate was 74.2% whereas among males it was 18.89%.\n",
      "Females aboard the titanic had a survival rate of 26.15% whereas males had 12.23%.\n"
     ]
    }
   ],
   "source": [
    "total_female = len(train.query(\"Sex == 'female'\"))\n",
    "total_male = len(train.query(\"Sex == 'male'\"))\n",
    "\n",
    "female_rate = np.round((survived_female/total_female)*100, 2)\n",
    "male_rate = np.round((survived_male/total_male)*100, 2)\n",
    "\n",
    "overall_female_rate = np.round((survived_female/total_passengers)*100, 2)\n",
    "overall_male_rate = np.round((survived_male/total_passengers)*100, 2)\n",
    "\n",
    "print(f\"Among females, the survival rate was {female_rate}% whereas among males it was {male_rate}%.\")\n",
    "print(f\"Females aboard the titanic had a survival rate of {overall_female_rate}% whereas males had {overall_male_rate}%.\")"
   ]
  },
  {
   "cell_type": "markdown",
   "id": "806b00c4-abb0-4560-bf16-b9bcaad45a3f",
   "metadata": {},
   "source": [
    "Did age affect surival rate?"
   ]
  },
  {
   "cell_type": "markdown",
   "id": "ed62dd74-e90a-440e-9903-ad50cd92e564",
   "metadata": {},
   "source": [
    "*To answer this question, I'll create age buckets to make analysis easier*"
   ]
  },
  {
   "cell_type": "code",
   "execution_count": 42,
   "id": "947ab8e3-86b7-45f6-9541-56c6b4645228",
   "metadata": {
    "tags": []
   },
   "outputs": [
    {
     "name": "stdout",
     "output_type": "stream",
     "text": [
      " Minimum age: 0.42 \n",
      " Maximum age: 80.0\n"
     ]
    }
   ],
   "source": [
    "print(f\" Minimum age: {train['Age'].min()} \\n Maximum age: {train['Age'].max()}\")"
   ]
  },
  {
   "cell_type": "code",
   "execution_count": 44,
   "id": "8db916da-6656-4bf3-8971-94f9fd17ff8d",
   "metadata": {
    "tags": []
   },
   "outputs": [],
   "source": [
    "# Define age buckets\n",
    "bins = [0, 12, 18, 35, 60, 100]  # Specify bucket edges\n",
    "labels = ['Child', 'Teen', 'Young Adult', 'Adult', 'Senior']  # Specify labels for the buckets\n",
    "\n",
    "# Create the age buckets\n",
    "train['Age_group'] = pd.cut(train['Age'], bins=bins, labels=labels)"
   ]
  },
  {
   "cell_type": "markdown",
   "id": "b695a601-0c64-47b9-a52f-3e2daf1dbc3c",
   "metadata": {
    "tags": []
   },
   "source": [
    "*Next, I'll calculate how many people survived per age group*"
   ]
  },
  {
   "cell_type": "code",
   "execution_count": 47,
   "id": "56b768c5-a68a-4602-8246-f4dc4277d525",
   "metadata": {
    "tags": []
   },
   "outputs": [
    {
     "name": "stdout",
     "output_type": "stream",
     "text": [
      "137 Young Adult survived.\n",
      "78 Adult survived.\n",
      "0 nan survived.\n",
      "40 Child survived.\n",
      "30 Teen survived.\n",
      "5 Senior survived.\n"
     ]
    }
   ],
   "source": [
    "survived_age_group_dict = {} # This dict will help while calculating survival rates.\n",
    "for group in train[\"Age_group\"].unique():\n",
    "    # I set the engine to be python as numexpr which runs .query doesn't support nullable.\n",
    "    survived_age_group = train.query(\"Age_group == @group\", engine=\"python\")[\"Survived\"].sum()\n",
    "    survived_age_group_dict[group] = survived_age_group\n",
    "    print(f\"{survived_age_group} {group} survived.\")"
   ]
  },
  {
   "cell_type": "markdown",
   "id": "4a533701-6f76-4dda-8694-5a6377a0476e",
   "metadata": {},
   "source": [
    "*I can now answer the question of whether age affected surival rate*"
   ]
  },
  {
   "cell_type": "code",
   "execution_count": 50,
   "id": "c95b2db1-dc35-4ab5-a57b-0ec99a404cc9",
   "metadata": {
    "tags": []
   },
   "outputs": [
    {
     "name": "stdout",
     "output_type": "stream",
     "text": [
      "Among Young Adult, the survival rate was 38.27%.\n",
      "Young Adult aboard the titanic had a survival rate of 15.38%.\n",
      "------------------------------------------------------------\n",
      "Among Adult, the survival rate was 40.0%.\n",
      "Adult aboard the titanic had a survival rate of 8.75%.\n",
      "------------------------------------------------------------\n",
      "Among Child, the survival rate was 57.97%.\n",
      "Child aboard the titanic had a survival rate of 4.49%.\n",
      "------------------------------------------------------------\n",
      "Among Teen, the survival rate was 42.86%.\n",
      "Teen aboard the titanic had a survival rate of 3.37%.\n",
      "------------------------------------------------------------\n",
      "Among Senior, the survival rate was 22.73%.\n",
      "Senior aboard the titanic had a survival rate of 0.56%.\n",
      "------------------------------------------------------------\n"
     ]
    }
   ],
   "source": [
    "for group, survival_count in survived_age_group_dict.items():\n",
    "    \n",
    "    if pd.isna(group): # This avoids cases where the age isn't known.\n",
    "        continue\n",
    "        \n",
    "    total_age_group = len(train.query(\"Age_group == @group\", engine=\"python\"))\n",
    "    age_group_rate = np.round((survival_count/total_age_group)*100, 2)\n",
    "    overall_age_group_rate = np.round((survival_count/total_passengers)*100, 2)\n",
    "    \n",
    "    print(f\"Among {group}, the survival rate was {age_group_rate}%.\")\n",
    "    print(f\"{group} aboard the titanic had a survival rate of {overall_age_group_rate}%.\")\n",
    "    print(f\"{'-'*60}\")"
   ]
  },
  {
   "cell_type": "markdown",
   "id": "365248cf-ac56-4287-a711-c060cf71ecc8",
   "metadata": {},
   "source": [
    "How did passenger classes affect survival?"
   ]
  },
  {
   "cell_type": "code",
   "execution_count": 53,
   "id": "1b1f8501-c83a-47cd-a960-53ed61139c84",
   "metadata": {
    "tags": []
   },
   "outputs": [
    {
     "name": "stdout",
     "output_type": "stream",
     "text": [
      "119 passengers from passenger class 3 survived.\n",
      "136 passengers from passenger class 1 survived.\n",
      "87 passengers from passenger class 2 survived.\n"
     ]
    }
   ],
   "source": [
    "survived_pclass_dict = {} # This dict will help while calculating survival rates.\n",
    "for pclass in train[\"Pclass\"].unique():\n",
    "    survived_pclass = train.query(\"Pclass == @pclass\")[\"Survived\"].sum()\n",
    "    survived_pclass_dict[pclass] = survived_pclass\n",
    "    print(f\"{survived_pclass} passengers from passenger class {pclass} survived.\")"
   ]
  },
  {
   "cell_type": "code",
   "execution_count": 55,
   "id": "a3428fb2-0489-4f61-b6c4-de5320a4d750",
   "metadata": {
    "tags": []
   },
   "outputs": [
    {
     "name": "stdout",
     "output_type": "stream",
     "text": [
      "Among passenger class 3, the survival rate was 24.24%.\n",
      "Passengers in class 3 aboard the titanic had a survival rate of 13.36%.\n",
      "----------------------------------------------------------------------\n",
      "Among passenger class 1, the survival rate was 62.96%.\n",
      "Passengers in class 1 aboard the titanic had a survival rate of 15.26%.\n",
      "----------------------------------------------------------------------\n",
      "Among passenger class 2, the survival rate was 47.28%.\n",
      "Passengers in class 2 aboard the titanic had a survival rate of 9.76%.\n",
      "----------------------------------------------------------------------\n"
     ]
    }
   ],
   "source": [
    "for pclass, survival_count in survived_pclass_dict.items():\n",
    "            \n",
    "    total_pclass = len(train.query(\"Pclass == @pclass\"))\n",
    "    pclass_rate = np.round((survival_count/total_pclass)*100, 2)\n",
    "    overall_pclass_rate = np.round((survival_count/total_passengers)*100, 2)\n",
    "    \n",
    "    print(f\"Among passenger class {pclass}, the survival rate was {pclass_rate}%.\")\n",
    "    print(f\"Passengers in class {pclass} aboard the titanic had a survival rate of {overall_pclass_rate}%.\")\n",
    "    print(f\"{'-'*70}\")"
   ]
  },
  {
   "cell_type": "markdown",
   "id": "38b9c20a-9577-4811-b289-c95f6e0e1bc8",
   "metadata": {},
   "source": [
    "**The overall survival rate on the Titanic was just 38%. Interestingly, women had a higher likelihood of survival compared to men. Among the age groups, children stood out with better chances of survival. Unsurprisingly, first-class passengers had a significantly higher probability of making it through the disaster.**"
   ]
  },
  {
   "cell_type": "markdown",
   "id": "02df893f-e04e-460a-844d-579723952e93",
   "metadata": {},
   "source": [
    "3. **How expensive was the trip.**"
   ]
  },
  {
   "cell_type": "markdown",
   "id": "e1c0712b-c5c1-4cbb-b195-325ff0cdda85",
   "metadata": {},
   "source": [
    "Overall, how expense was the trip?"
   ]
  },
  {
   "cell_type": "code",
   "execution_count": 60,
   "id": "cc34d5d3-7523-456b-a244-269a307806b9",
   "metadata": {
    "tags": []
   },
   "outputs": [
    {
     "name": "stdout",
     "output_type": "stream",
     "text": [
      "On average the passengers paid 33.0 pounds.\n"
     ]
    }
   ],
   "source": [
    "mean_fare = np.ceil(train[\"Fare\"].mean())\n",
    "print(f\"On average the passengers paid {mean_fare} pounds.\")"
   ]
  },
  {
   "cell_type": "markdown",
   "id": "db5d9683-ad66-454e-b9ed-df889f0b4f1a",
   "metadata": {},
   "source": [
    "Which age group paid the most? "
   ]
  },
  {
   "cell_type": "code",
   "execution_count": 63,
   "id": "79a620d3-870f-4552-a14a-cf9e96dc5620",
   "metadata": {
    "tags": []
   },
   "outputs": [
    {
     "name": "stdout",
     "output_type": "stream",
     "text": [
      "Young Adult paid 30.0 pounds on average.\n",
      "----------------------------------------\n",
      "Adult paid 45.0 pounds on average.\n",
      "----------------------------------------\n",
      "nan paid nan pounds on average.\n",
      "----------------------------------------\n",
      "Child paid 32.0 pounds on average.\n",
      "----------------------------------------\n",
      "Teen paid 34.0 pounds on average.\n",
      "----------------------------------------\n",
      "Senior paid 42.0 pounds on average.\n",
      "----------------------------------------\n"
     ]
    }
   ],
   "source": [
    "for group in train[\"Age_group\"].unique():\n",
    "    group_mean_fare = np.ceil(train.query(\"Age_group == @group\", engine=\"python\")[\"Fare\"].mean())\n",
    "    print(f\"{group} paid {group_mean_fare} pounds on average.\")\n",
    "    print(f\"{'-'*40}\")"
   ]
  },
  {
   "cell_type": "markdown",
   "id": "9c62f11a-4306-4e32-84e2-ba6410ee05de",
   "metadata": {},
   "source": [
    "**Age had an impact on the fare passengers paid, with older individuals typically paying more. However, young adults differ from this pattern, paying on average less, even less than children.**"
   ]
  },
  {
   "cell_type": "markdown",
   "id": "5dfbdef1-4083-43f1-90eb-8c9198dfd576",
   "metadata": {},
   "source": [
    "4. **How name can be used to predict survivors.**"
   ]
  },
  {
   "cell_type": "markdown",
   "id": "dc468713-713e-48d1-8ce1-dfc8e19178cc",
   "metadata": {},
   "source": [
    "This is a bit challenging I'll have to admit. However, let's look at dataframe and see if there is something we can extract."
   ]
  },
  {
   "cell_type": "code",
   "execution_count": 77,
   "id": "a060583c-b1ac-47a2-b503-0a3a72fc7242",
   "metadata": {
    "tags": []
   },
   "outputs": [
    {
     "data": {
      "text/html": [
       "<div>\n",
       "<style scoped>\n",
       "    .dataframe tbody tr th:only-of-type {\n",
       "        vertical-align: middle;\n",
       "    }\n",
       "\n",
       "    .dataframe tbody tr th {\n",
       "        vertical-align: top;\n",
       "    }\n",
       "\n",
       "    .dataframe thead th {\n",
       "        text-align: right;\n",
       "    }\n",
       "</style>\n",
       "<table border=\"1\" class=\"dataframe\">\n",
       "  <thead>\n",
       "    <tr style=\"text-align: right;\">\n",
       "      <th></th>\n",
       "      <th>Survived</th>\n",
       "      <th>Pclass</th>\n",
       "      <th>Name</th>\n",
       "      <th>Sex</th>\n",
       "      <th>Age</th>\n",
       "      <th>SibSp</th>\n",
       "      <th>Parch</th>\n",
       "      <th>Ticket</th>\n",
       "      <th>Fare</th>\n",
       "      <th>Cabin</th>\n",
       "      <th>Embarked</th>\n",
       "      <th>Age_group</th>\n",
       "      <th>Salutation</th>\n",
       "    </tr>\n",
       "    <tr>\n",
       "      <th>PassengerId</th>\n",
       "      <th></th>\n",
       "      <th></th>\n",
       "      <th></th>\n",
       "      <th></th>\n",
       "      <th></th>\n",
       "      <th></th>\n",
       "      <th></th>\n",
       "      <th></th>\n",
       "      <th></th>\n",
       "      <th></th>\n",
       "      <th></th>\n",
       "      <th></th>\n",
       "      <th></th>\n",
       "    </tr>\n",
       "  </thead>\n",
       "  <tbody>\n",
       "    <tr>\n",
       "      <th>1</th>\n",
       "      <td>0</td>\n",
       "      <td>3</td>\n",
       "      <td>Braund, Mr. Owen Harris</td>\n",
       "      <td>male</td>\n",
       "      <td>22.0</td>\n",
       "      <td>1</td>\n",
       "      <td>0</td>\n",
       "      <td>A/5 21171</td>\n",
       "      <td>7.2500</td>\n",
       "      <td>NaN</td>\n",
       "      <td>S</td>\n",
       "      <td>Young Adult</td>\n",
       "      <td>Mr</td>\n",
       "    </tr>\n",
       "    <tr>\n",
       "      <th>2</th>\n",
       "      <td>1</td>\n",
       "      <td>1</td>\n",
       "      <td>Cumings, Mrs. John Bradley (Florence Briggs Thayer)</td>\n",
       "      <td>female</td>\n",
       "      <td>38.0</td>\n",
       "      <td>1</td>\n",
       "      <td>0</td>\n",
       "      <td>PC 17599</td>\n",
       "      <td>71.2833</td>\n",
       "      <td>C85</td>\n",
       "      <td>C</td>\n",
       "      <td>Adult</td>\n",
       "      <td>Mrs</td>\n",
       "    </tr>\n",
       "    <tr>\n",
       "      <th>3</th>\n",
       "      <td>1</td>\n",
       "      <td>3</td>\n",
       "      <td>Heikkinen, Miss. Laina</td>\n",
       "      <td>female</td>\n",
       "      <td>26.0</td>\n",
       "      <td>0</td>\n",
       "      <td>0</td>\n",
       "      <td>STON/O2. 3101282</td>\n",
       "      <td>7.9250</td>\n",
       "      <td>NaN</td>\n",
       "      <td>S</td>\n",
       "      <td>Young Adult</td>\n",
       "      <td>Miss</td>\n",
       "    </tr>\n",
       "    <tr>\n",
       "      <th>4</th>\n",
       "      <td>1</td>\n",
       "      <td>1</td>\n",
       "      <td>Futrelle, Mrs. Jacques Heath (Lily May Peel)</td>\n",
       "      <td>female</td>\n",
       "      <td>35.0</td>\n",
       "      <td>1</td>\n",
       "      <td>0</td>\n",
       "      <td>113803</td>\n",
       "      <td>53.1000</td>\n",
       "      <td>C123</td>\n",
       "      <td>S</td>\n",
       "      <td>Young Adult</td>\n",
       "      <td>Mrs</td>\n",
       "    </tr>\n",
       "    <tr>\n",
       "      <th>5</th>\n",
       "      <td>0</td>\n",
       "      <td>3</td>\n",
       "      <td>Allen, Mr. William Henry</td>\n",
       "      <td>male</td>\n",
       "      <td>35.0</td>\n",
       "      <td>0</td>\n",
       "      <td>0</td>\n",
       "      <td>373450</td>\n",
       "      <td>8.0500</td>\n",
       "      <td>NaN</td>\n",
       "      <td>S</td>\n",
       "      <td>Young Adult</td>\n",
       "      <td>Mr</td>\n",
       "    </tr>\n",
       "    <tr>\n",
       "      <th>6</th>\n",
       "      <td>0</td>\n",
       "      <td>3</td>\n",
       "      <td>Moran, Mr. James</td>\n",
       "      <td>male</td>\n",
       "      <td>NaN</td>\n",
       "      <td>0</td>\n",
       "      <td>0</td>\n",
       "      <td>330877</td>\n",
       "      <td>8.4583</td>\n",
       "      <td>NaN</td>\n",
       "      <td>Q</td>\n",
       "      <td>NaN</td>\n",
       "      <td>Mr</td>\n",
       "    </tr>\n",
       "    <tr>\n",
       "      <th>7</th>\n",
       "      <td>0</td>\n",
       "      <td>1</td>\n",
       "      <td>McCarthy, Mr. Timothy J</td>\n",
       "      <td>male</td>\n",
       "      <td>54.0</td>\n",
       "      <td>0</td>\n",
       "      <td>0</td>\n",
       "      <td>17463</td>\n",
       "      <td>51.8625</td>\n",
       "      <td>E46</td>\n",
       "      <td>S</td>\n",
       "      <td>Adult</td>\n",
       "      <td>Mr</td>\n",
       "    </tr>\n",
       "    <tr>\n",
       "      <th>8</th>\n",
       "      <td>0</td>\n",
       "      <td>3</td>\n",
       "      <td>Palsson, Master. Gosta Leonard</td>\n",
       "      <td>male</td>\n",
       "      <td>2.0</td>\n",
       "      <td>3</td>\n",
       "      <td>1</td>\n",
       "      <td>349909</td>\n",
       "      <td>21.0750</td>\n",
       "      <td>NaN</td>\n",
       "      <td>S</td>\n",
       "      <td>Child</td>\n",
       "      <td>Master</td>\n",
       "    </tr>\n",
       "    <tr>\n",
       "      <th>9</th>\n",
       "      <td>1</td>\n",
       "      <td>3</td>\n",
       "      <td>Johnson, Mrs. Oscar W (Elisabeth Vilhelmina Berg)</td>\n",
       "      <td>female</td>\n",
       "      <td>27.0</td>\n",
       "      <td>0</td>\n",
       "      <td>2</td>\n",
       "      <td>347742</td>\n",
       "      <td>11.1333</td>\n",
       "      <td>NaN</td>\n",
       "      <td>S</td>\n",
       "      <td>Young Adult</td>\n",
       "      <td>Mrs</td>\n",
       "    </tr>\n",
       "    <tr>\n",
       "      <th>10</th>\n",
       "      <td>1</td>\n",
       "      <td>2</td>\n",
       "      <td>Nasser, Mrs. Nicholas (Adele Achem)</td>\n",
       "      <td>female</td>\n",
       "      <td>14.0</td>\n",
       "      <td>1</td>\n",
       "      <td>0</td>\n",
       "      <td>237736</td>\n",
       "      <td>30.0708</td>\n",
       "      <td>NaN</td>\n",
       "      <td>C</td>\n",
       "      <td>Teen</td>\n",
       "      <td>Mrs</td>\n",
       "    </tr>\n",
       "  </tbody>\n",
       "</table>\n",
       "</div>"
      ],
      "text/plain": [
       "             Survived  Pclass  \\\n",
       "PassengerId                     \n",
       "1                   0       3   \n",
       "2                   1       1   \n",
       "3                   1       3   \n",
       "4                   1       1   \n",
       "5                   0       3   \n",
       "6                   0       3   \n",
       "7                   0       1   \n",
       "8                   0       3   \n",
       "9                   1       3   \n",
       "10                  1       2   \n",
       "\n",
       "                                                            Name     Sex  \\\n",
       "PassengerId                                                                \n",
       "1                                        Braund, Mr. Owen Harris    male   \n",
       "2            Cumings, Mrs. John Bradley (Florence Briggs Thayer)  female   \n",
       "3                                         Heikkinen, Miss. Laina  female   \n",
       "4                   Futrelle, Mrs. Jacques Heath (Lily May Peel)  female   \n",
       "5                                       Allen, Mr. William Henry    male   \n",
       "6                                               Moran, Mr. James    male   \n",
       "7                                        McCarthy, Mr. Timothy J    male   \n",
       "8                                 Palsson, Master. Gosta Leonard    male   \n",
       "9              Johnson, Mrs. Oscar W (Elisabeth Vilhelmina Berg)  female   \n",
       "10                           Nasser, Mrs. Nicholas (Adele Achem)  female   \n",
       "\n",
       "              Age  SibSp  Parch            Ticket     Fare Cabin Embarked  \\\n",
       "PassengerId                                                                 \n",
       "1            22.0      1      0         A/5 21171   7.2500   NaN        S   \n",
       "2            38.0      1      0          PC 17599  71.2833   C85        C   \n",
       "3            26.0      0      0  STON/O2. 3101282   7.9250   NaN        S   \n",
       "4            35.0      1      0            113803  53.1000  C123        S   \n",
       "5            35.0      0      0            373450   8.0500   NaN        S   \n",
       "6             NaN      0      0            330877   8.4583   NaN        Q   \n",
       "7            54.0      0      0             17463  51.8625   E46        S   \n",
       "8             2.0      3      1            349909  21.0750   NaN        S   \n",
       "9            27.0      0      2            347742  11.1333   NaN        S   \n",
       "10           14.0      1      0            237736  30.0708   NaN        C   \n",
       "\n",
       "               Age_group Salutation  \n",
       "PassengerId                          \n",
       "1            Young Adult         Mr  \n",
       "2                  Adult        Mrs  \n",
       "3            Young Adult       Miss  \n",
       "4            Young Adult        Mrs  \n",
       "5            Young Adult         Mr  \n",
       "6                    NaN         Mr  \n",
       "7                  Adult         Mr  \n",
       "8                  Child     Master  \n",
       "9            Young Adult        Mrs  \n",
       "10                  Teen        Mrs  "
      ]
     },
     "execution_count": 77,
     "metadata": {},
     "output_type": "execute_result"
    }
   ],
   "source": [
    "train.head(10)"
   ]
  },
  {
   "cell_type": "markdown",
   "id": "080bedd7-ee41-49e3-8b9b-c5a650030ec6",
   "metadata": {},
   "source": [
    "Let's start by extracting the salutations present in each name."
   ]
  },
  {
   "cell_type": "code",
   "execution_count": 73,
   "id": "560e3e15-75ec-4865-8e8a-481a21e0ca2b",
   "metadata": {
    "tags": []
   },
   "outputs": [],
   "source": [
    "def extract_salutation(data):\n",
    "    other_names = data.split(\",\")[1] # Retrieves other names apart from surname. \n",
    "    salutation = other_names.split(\".\")[0] # All salutation seem to end in a fullstop.\n",
    "    salutation = salutation.strip()\n",
    "    return salutation"
   ]
  },
  {
   "cell_type": "code",
   "execution_count": 75,
   "id": "396834b1-d476-4313-b4a6-6e2a92a6187f",
   "metadata": {
    "tags": []
   },
   "outputs": [],
   "source": [
    "train[\"Salutation\"] = train[\"Name\"].apply(extract_salutation)"
   ]
  },
  {
   "cell_type": "markdown",
   "id": "5e5d7e78-864e-41dd-97b0-9b400e0de3dd",
   "metadata": {},
   "source": [
    "Is there any correlation between these salutations and survival?"
   ]
  },
  {
   "cell_type": "code",
   "execution_count": 81,
   "id": "0925ab15-d45d-47af-9396-41084778777e",
   "metadata": {
    "tags": []
   },
   "outputs": [
    {
     "data": {
      "text/plain": [
       "Salutation\n",
       "Capt              0\n",
       "Col               1\n",
       "Don               0\n",
       "Dr                3\n",
       "Jonkheer          0\n",
       "Lady              1\n",
       "Major             1\n",
       "Master           23\n",
       "Miss            127\n",
       "Mlle              2\n",
       "Mme               1\n",
       "Mr               81\n",
       "Mrs              99\n",
       "Ms                1\n",
       "Rev               0\n",
       "Sir               1\n",
       "the Countess      1\n",
       "Name: Survived, dtype: int64"
      ]
     },
     "execution_count": 81,
     "metadata": {},
     "output_type": "execute_result"
    }
   ],
   "source": [
    "salutation_survived = train.groupby(\"Salutation\")[\"Survived\"].sum()\n",
    "salutation_survived "
   ]
  },
  {
   "cell_type": "markdown",
   "id": "78248c03-d5f1-4362-ba32-92a051daddc2",
   "metadata": {},
   "source": [
    "What was the survival rates of these groups?"
   ]
  },
  {
   "cell_type": "code",
   "execution_count": null,
   "id": "71ff5712-bca5-43ff-826b-0052d9a4be71",
   "metadata": {},
   "outputs": [],
   "source": []
  }
 ],
 "metadata": {
  "kernelspec": {
   "display_name": "Python 3 (ipykernel)",
   "language": "python",
   "name": "python3"
  },
  "language_info": {
   "codemirror_mode": {
    "name": "ipython",
    "version": 3
   },
   "file_extension": ".py",
   "mimetype": "text/x-python",
   "name": "python",
   "nbconvert_exporter": "python",
   "pygments_lexer": "ipython3",
   "version": "3.11.5"
  },
  "toc-autonumbering": false,
  "toc-showcode": false,
  "toc-showmarkdowntxt": false,
  "toc-showtags": false
 },
 "nbformat": 4,
 "nbformat_minor": 5
}
