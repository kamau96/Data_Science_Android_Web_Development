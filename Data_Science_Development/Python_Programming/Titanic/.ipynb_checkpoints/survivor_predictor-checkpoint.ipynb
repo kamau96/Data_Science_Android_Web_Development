{
 "cells": [
  {
   "cell_type": "markdown",
   "id": "a4edb7e4-a49f-433c-839e-d62439b842c4",
   "metadata": {},
   "source": [
    "# Titanic Survivor Predictor\n",
    "**Authour:** *Kamau Wa Wainaina*"
   ]
  },
  {
   "cell_type": "markdown",
   "id": "e105fbc5-ff9d-4b57-bafe-3dccef1a96de",
   "metadata": {},
   "source": [
    "## Loading Datasets."
   ]
  },
  {
   "cell_type": "code",
   "execution_count": null,
   "id": "0a15753b-bd50-4355-92ef-c1125f133883",
   "metadata": {
    "tags": []
   },
   "outputs": [],
   "source": [
    "# Library for loading datasets.\n",
    "import pandas as pd\n",
    "# Library for linear algebra.\n",
    "import numpy as np"
   ]
  },
  {
   "cell_type": "code",
   "execution_count": null,
   "id": "a6b52f8c-3d9a-4e04-bdd8-3a7c8c6c91ff",
   "metadata": {
    "tags": []
   },
   "outputs": [],
   "source": [
    "# Load the datasets.\n",
    "path = \"../../../Data/titanic/\"\n",
    "train = pd.read_csv(path+\"train.csv\")\n",
    "test = pd.read_csv(path+\"test.csv\")"
   ]
  },
  {
   "cell_type": "markdown",
   "id": "6f08dd8f-e743-48e7-aef1-afd7c396213d",
   "metadata": {},
   "source": [
    "Let's peek at the first five rows for both train and test."
   ]
  },
  {
   "cell_type": "code",
   "execution_count": null,
   "id": "bac117c7-3849-4781-b18a-7431a7152de3",
   "metadata": {
    "tags": []
   },
   "outputs": [],
   "source": [
    "train.head()"
   ]
  },
  {
   "cell_type": "code",
   "execution_count": null,
   "id": "08b63ea9-3e40-4e68-94aa-86742df64e8f",
   "metadata": {
    "tags": []
   },
   "outputs": [],
   "source": [
    "test.head()"
   ]
  },
  {
   "cell_type": "markdown",
   "id": "34241701-d413-4c35-9091-dbacc2e5903f",
   "metadata": {},
   "source": [
    "We observe the following about the data:\n",
    "- PassengerId seems to identify each observation (should make it the index).\n",
    "- Survived column in train is the target we're trying to predict.\n",
    "- Next we should perform EDA to know more about the data. "
   ]
  },
  {
   "cell_type": "code",
   "execution_count": null,
   "id": "032ca807-2264-4917-9773-f4a4955029c9",
   "metadata": {
    "tags": []
   },
   "outputs": [],
   "source": [
    "# First, let's make passenger id the index in both datasets.\n",
    "train = train.set_index(\"PassengerId\")\n",
    "test = test.set_index(\"PassengerId\")"
   ]
  },
  {
   "cell_type": "markdown",
   "id": "7c453ec4-5551-42f4-95a9-a2cd934c608b",
   "metadata": {},
   "source": [
    "## Exploratory Data Analysis."
   ]
  },
  {
   "cell_type": "markdown",
   "id": "2f8b8aa6-9682-4940-be24-47749d4f7044",
   "metadata": {},
   "source": [
    "In this section I want to investigate the following (will focus on train to avoid data snooping):\n",
    "1. Data types and columns with missing values.\n",
    "2. Number of those whose survived.\n",
    "    - Categorized by Sex, Age, and Pclass.\n",
    "3. How name can be used to predict survivors.\n",
    "4. Similarily, how is ticket related to survivors.\n",
    "5. Expense of the trip.\n",
    "    - Curious if area of Embarkment influenced this."
   ]
  },
  {
   "cell_type": "markdown",
   "id": "cc304018-10e9-44eb-b6cb-b9d912941055",
   "metadata": {},
   "source": [
    "1. **Data types and columns with missing values.**"
   ]
  },
  {
   "cell_type": "markdown",
   "id": "d5df86f1-c2ee-44d4-ae56-18178db88fc1",
   "metadata": {},
   "source": [
    "The info function shows both data types and missing values."
   ]
  },
  {
   "cell_type": "code",
   "execution_count": null,
   "id": "137eb313-9693-41a3-8fec-61509054b081",
   "metadata": {
    "tags": []
   },
   "outputs": [],
   "source": [
    "train.info()"
   ]
  },
  {
   "cell_type": "markdown",
   "id": "01dce001-b48f-4636-9781-564710443457",
   "metadata": {},
   "source": [
    "Let's create a function to calculate percentage of missing information."
   ]
  },
  {
   "cell_type": "code",
   "execution_count": null,
   "id": "54c9bd7d-ef39-427c-8c89-8d141970e280",
   "metadata": {
    "tags": []
   },
   "outputs": [],
   "source": [
    "def missing_percent(data):\n",
    "    has_missing_vals = data.isnull().any() # Checks if column has missing values.\n",
    "    cols_with_missing = []\n",
    "    for col, val in zip(has_missing_vals.index, has_missing_vals.values):\n",
    "        if val == True:\n",
    "            cols_with_missing.append(col)\n",
    "            \n",
    "    for col in cols_with_missing:\n",
    "        missing_count = data[col].isnull().sum() # Counts number of True since True == 1.\n",
    "        total_count = len(data[col])\n",
    "        missing_percent = np.round((missing_count/total_count)*100, 2)\n",
    "        print(f\"{col} has {missing_percent}% of the values missing.\")\n",
    "        \n",
    "missing_percent(train)"
   ]
  }
 ],
 "metadata": {
  "kernelspec": {
   "display_name": "Python 3 (ipykernel)",
   "language": "python",
   "name": "python3"
  },
  "language_info": {
   "codemirror_mode": {
    "name": "ipython",
    "version": 3
   },
   "file_extension": ".py",
   "mimetype": "text/x-python",
   "name": "python",
   "nbconvert_exporter": "python",
   "pygments_lexer": "ipython3",
   "version": "3.11.5"
  },
  "toc-autonumbering": false,
  "toc-showcode": false,
  "toc-showmarkdowntxt": false,
  "toc-showtags": false
 },
 "nbformat": 4,
 "nbformat_minor": 5
}
