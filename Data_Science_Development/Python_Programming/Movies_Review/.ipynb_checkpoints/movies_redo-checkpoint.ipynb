{
 "cells": [
  {
   "cell_type": "markdown",
   "id": "c4297bab-ff8f-4657-b991-57f255ad17ed",
   "metadata": {
    "tags": []
   },
   "source": [
    "# Machine Learning Checklist\n",
    "1. Frame the problem and look at the big picture.\n",
    "2. Get the data.\n",
    "3. Explore the data to gain insights.\n",
    "4. Prepare the data to better expose the underlying data patterns to Machine Learning algorithms.\n",
    "5. Explore many different models and shortlist the best ones.\n",
    "6. Fine-tune your models and combine them into a great solution.\n",
    "7. Present your solution.\n",
    "8. Launch, monitor, and maintain your system."
   ]
  },
  {
   "cell_type": "markdown",
   "id": "0aa7f40f-e571-4858-abaf-0eb425a24270",
   "metadata": {
    "tags": []
   },
   "source": [
    "## i). Frame the problem and Look at the Big Picture.\n",
    "1. Define the objective in business terms.\n",
    "    - The objective is to estimate the revenue.\n",
    "2. How will your solution be used?\n",
    "    - Gauge profitability of a movie.\n",
    "3. What are the current solutions/workarounds (if any)?\n",
    "    - No current solutions are available.\n",
    "4. How should you frame this problem (supervised/unsupervised, online/offline, etc.)?\n",
    "    - This is a supervised, offline problem.\n",
    "5. How should performance be measured?\n",
    "    - RSME/MSE will be used to gauge performance.\n",
    "6. Is the performance measure aligned with the business objective?\n",
    "    - Yes.\n",
    "7. What would be the minimum performance needed to reach the business objective?\n",
    "    - A 90% performance is needed.\n",
    "8. What are comparable problems? Can you reuse experience or tools?\n",
    "    - Assume none. \n",
    "9. Is human expertise available?\n",
    "    - No\n",
    "10. How would you solve the problem manually?\n",
    "    - Monitoring revenue from sales made.\n",
    "11. List the assumptions you (or others) have made so far.\n",
    "    - The features predicting revenue are known beforehand.\n",
    "12. Verify assumptions if possible.\n",
    "    - These assumption isn't what typically happens as the features and revenue will generally be known cocurrently. "
   ]
  },
  {
   "cell_type": "markdown",
   "id": "6ba259f9-fa32-44a8-baee-a7e8bbdf682c",
   "metadata": {
    "tags": []
   },
   "source": [
    "## ii). Get the Data\n",
    "1. List the data you need and how much you need.\n",
    "    - Here, I initially work with data from The Movie Database.\n",
    "2. Find and document where you can get that data.\n",
    "    - https://github.com/celiao/tmdbsimple/blob/master/tmdbsimple/movies.py\n",
    "3. Check how much space it will take.\n",
    "    - Less than 1GB.\n",
    "4. Check legal obligations, and get authorization if necessary.\n",
    "    - Free to use.\n",
    "5. Get access authorizations.\n",
    "    - Already have.\n",
    "6. Create a workspace (with enough storage space).\n",
    "    - I have and later will create a virtual environment.\n",
    "7. Get the data.\n",
    "    - Already have the data.\n",
    "8. Convert the data to a format you can easily manipulate (without changing the data itself).\n",
    "    - Will convert during data cleaning.\n",
    "9. Ensure sensitive information is deleted or protected (e.g.,anonymized).\n",
    "    - No sensitive information.\n",
    "10. Check the size and type of data (time series, sample, geographical, etc.).\n",
    "    - Approximately 50k instances representing various data types. \n",
    "11. Sample a test set, put it aside, and never look at it (no data snooping!).\n",
    "    - Done :)"
   ]
  },
  {
   "cell_type": "code",
   "execution_count": 1,
   "id": "b2249e0b-d69b-419c-8a21-ae23ea198553",
   "metadata": {},
   "outputs": [],
   "source": [
    "# EDA libraries.\n",
    "import pandas as pd\n",
    "import numpy as np\n",
    "import matplotlib.pyplot as plt\n",
    "import seaborn as sns"
   ]
  },
  {
   "cell_type": "code",
   "execution_count": 2,
   "id": "83883eed-7c3a-4371-acfd-fe01a2562121",
   "metadata": {
    "tags": []
   },
   "outputs": [],
   "source": [
    "# setting column view maximum.\n",
    "pd.set_option(\"display.max_colwidth\", None)"
   ]
  },
  {
   "cell_type": "code",
   "execution_count": 3,
   "id": "bd19554d-f7e8-478c-8ff9-ec3506129d09",
   "metadata": {
    "tags": []
   },
   "outputs": [],
   "source": [
    "# load data.\n",
    "movies = pd.read_csv(\"../../../Data/archive/movies_metadata.csv\", low_memory=False)"
   ]
  },
  {
   "cell_type": "code",
   "execution_count": 4,
   "id": "b69338fe-b204-4001-8b55-79f2fbdaa63d",
   "metadata": {
    "tags": []
   },
   "outputs": [],
   "source": [
    "# seperate data into train and test.\n",
    "# this is to avoid data snooping.\n",
    "\n",
    "from sklearn.model_selection import train_test_split\n",
    "train_set, test_set = train_test_split(movies, test_size=0.2, random_state=44)"
   ]
  },
  {
   "cell_type": "code",
   "execution_count": 5,
   "id": "65525731-c284-4e59-ac20-fa9d7561d62b",
   "metadata": {
    "tags": []
   },
   "outputs": [],
   "source": [
    "movies = train_set"
   ]
  },
  {
   "cell_type": "markdown",
   "id": "4a134f7b-ddca-4257-bfd7-66e57daeb147",
   "metadata": {
    "tags": []
   },
   "source": [
    "## iii). Explore the Data\n",
    "1. Create a copy of the data for exploration (sampling it down to a manageable size if necessary).\n",
    "    - Done.\n",
    "2. Create a Jupyter notebook to keep a record of your data exploration.\n",
    "    - Done.\n",
    "3. Study each attribute and its characteristics:\n",
    "    - Name\n",
    "    - Type (categorical, int/float, bounded/unbounded, text, structured, etc.)\n",
    "    - % of missing values\n",
    "    - Noisiness and type of noise (stochastic, outliers, rounding errors, etc.)\n",
    "    - Usefulness for the task\n",
    "    - Type of distribution (Gaussian, uniform, logarithmic, etc.)\n",
    "    - **[Above have being done but not entirely due to lack of skill]**\n",
    "4. For supervised learning tasks, identify the target attribute(s).\n",
    "    - Identified.\n",
    "5. Visualize the data.\n",
    "6. Study the correlations between attributes.\n",
    "7. Study how you would solve the problem manually.\n",
    "8. Identify the promising transformations you may want to apply.\n",
    "9. Identify extra data that would be useful (go back to “Get the Data”).\n",
    "10. Document what you have learned."
   ]
  },
  {
   "cell_type": "code",
   "execution_count": 11,
   "id": "06776079-c803-4da2-ac1b-3c7ee40fa202",
   "metadata": {
    "tags": []
   },
   "outputs": [],
   "source": [
    "explo_data = movies.copy()"
   ]
  },
  {
   "cell_type": "code",
   "execution_count": 13,
   "id": "bba0eeef-d3f3-4ae7-9dd6-f4d8ca385516",
   "metadata": {},
   "outputs": [
    {
     "name": "stdout",
     "output_type": "stream",
     "text": [
      "<class 'pandas.core.frame.DataFrame'>\n",
      "Index: 36372 entries, 9522 to 14100\n",
      "Data columns (total 24 columns):\n",
      " #   Column                 Non-Null Count  Dtype  \n",
      "---  ------                 --------------  -----  \n",
      " 0   adult                  36372 non-null  object \n",
      " 1   belongs_to_collection  3626 non-null   object \n",
      " 2   budget                 36372 non-null  object \n",
      " 3   genres                 36372 non-null  object \n",
      " 4   homepage               6245 non-null   object \n",
      " 5   id                     36372 non-null  object \n",
      " 6   imdb_id                36358 non-null  object \n",
      " 7   original_language      36362 non-null  object \n",
      " 8   original_title         36372 non-null  object \n",
      " 9   overview               35594 non-null  object \n",
      " 10  popularity             36367 non-null  object \n",
      " 11  poster_path            36069 non-null  object \n",
      " 12  production_companies   36369 non-null  object \n",
      " 13  production_countries   36369 non-null  object \n",
      " 14  release_date           36297 non-null  object \n",
      " 15  revenue                36366 non-null  float64\n",
      " 16  runtime                36156 non-null  float64\n",
      " 17  spoken_languages       36366 non-null  object \n",
      " 18  status                 36301 non-null  object \n",
      " 19  tagline                16402 non-null  object \n",
      " 20  title                  36366 non-null  object \n",
      " 21  video                  36366 non-null  object \n",
      " 22  vote_average           36366 non-null  float64\n",
      " 23  vote_count             36366 non-null  float64\n",
      "dtypes: float64(4), object(20)\n",
      "memory usage: 6.9+ MB\n"
     ]
    }
   ],
   "source": [
    "explo_data.info()"
   ]
  },
  {
   "cell_type": "code",
   "execution_count": 15,
   "id": "bc0ec7c7-a092-4fa1-a47a-1c5d30fc9aaf",
   "metadata": {
    "tags": []
   },
   "outputs": [
    {
     "data": {
      "text/html": [
       "<div>\n",
       "<style scoped>\n",
       "    .dataframe tbody tr th:only-of-type {\n",
       "        vertical-align: middle;\n",
       "    }\n",
       "\n",
       "    .dataframe tbody tr th {\n",
       "        vertical-align: top;\n",
       "    }\n",
       "\n",
       "    .dataframe thead th {\n",
       "        text-align: right;\n",
       "    }\n",
       "</style>\n",
       "<table border=\"1\" class=\"dataframe\">\n",
       "  <thead>\n",
       "    <tr style=\"text-align: right;\">\n",
       "      <th></th>\n",
       "      <th>adult</th>\n",
       "      <th>belongs_to_collection</th>\n",
       "      <th>budget</th>\n",
       "      <th>genres</th>\n",
       "      <th>homepage</th>\n",
       "      <th>id</th>\n",
       "      <th>imdb_id</th>\n",
       "      <th>original_language</th>\n",
       "      <th>original_title</th>\n",
       "      <th>overview</th>\n",
       "      <th>popularity</th>\n",
       "      <th>poster_path</th>\n",
       "      <th>production_companies</th>\n",
       "      <th>production_countries</th>\n",
       "      <th>release_date</th>\n",
       "      <th>spoken_languages</th>\n",
       "      <th>status</th>\n",
       "      <th>tagline</th>\n",
       "      <th>title</th>\n",
       "      <th>video</th>\n",
       "    </tr>\n",
       "  </thead>\n",
       "  <tbody>\n",
       "    <tr>\n",
       "      <th>count</th>\n",
       "      <td>36372</td>\n",
       "      <td>3626</td>\n",
       "      <td>36372</td>\n",
       "      <td>36372</td>\n",
       "      <td>6245</td>\n",
       "      <td>36372</td>\n",
       "      <td>36358</td>\n",
       "      <td>36362</td>\n",
       "      <td>36372</td>\n",
       "      <td>35594</td>\n",
       "      <td>36367</td>\n",
       "      <td>36069</td>\n",
       "      <td>36369</td>\n",
       "      <td>36369</td>\n",
       "      <td>36297</td>\n",
       "      <td>36366</td>\n",
       "      <td>36301</td>\n",
       "      <td>16402</td>\n",
       "      <td>36366</td>\n",
       "      <td>36366</td>\n",
       "    </tr>\n",
       "    <tr>\n",
       "      <th>unique</th>\n",
       "      <td>5</td>\n",
       "      <td>1592</td>\n",
       "      <td>1073</td>\n",
       "      <td>3531</td>\n",
       "      <td>6171</td>\n",
       "      <td>36354</td>\n",
       "      <td>36338</td>\n",
       "      <td>88</td>\n",
       "      <td>34964</td>\n",
       "      <td>35443</td>\n",
       "      <td>35120</td>\n",
       "      <td>36037</td>\n",
       "      <td>18600</td>\n",
       "      <td>2052</td>\n",
       "      <td>15478</td>\n",
       "      <td>1636</td>\n",
       "      <td>6</td>\n",
       "      <td>16300</td>\n",
       "      <td>34228</td>\n",
       "      <td>2</td>\n",
       "    </tr>\n",
       "    <tr>\n",
       "      <th>top</th>\n",
       "      <td>False</td>\n",
       "      <td>{'id': 421566, 'name': 'Totò Collection', 'poster_path': '/4ayJsjC3djGwU9eCWUokdBWvdLC.jpg', 'backdrop_path': '/jaUuprubvAxXLAY5hUfrNjxccUh.jpg'}</td>\n",
       "      <td>0</td>\n",
       "      <td>[{'id': 18, 'name': 'Drama'}]</td>\n",
       "      <td>http://www.georgecarlin.com</td>\n",
       "      <td>141971</td>\n",
       "      <td>tt1180333</td>\n",
       "      <td>en</td>\n",
       "      <td>Cinderella</td>\n",
       "      <td>No overview found.</td>\n",
       "      <td>0.0</td>\n",
       "      <td>/2kslZXOaW0HmnGuVPCnQlCdXFR9.jpg</td>\n",
       "      <td>[]</td>\n",
       "      <td>[{'iso_3166_1': 'US', 'name': 'United States of America'}]</td>\n",
       "      <td>2007-01-01</td>\n",
       "      <td>[{'iso_639_1': 'en', 'name': 'English'}]</td>\n",
       "      <td>Released</td>\n",
       "      <td>Based on a true story.</td>\n",
       "      <td>Cinderella</td>\n",
       "      <td>False</td>\n",
       "    </tr>\n",
       "    <tr>\n",
       "      <th>freq</th>\n",
       "      <td>36363</td>\n",
       "      <td>24</td>\n",
       "      <td>29286</td>\n",
       "      <td>3986</td>\n",
       "      <td>10</td>\n",
       "      <td>3</td>\n",
       "      <td>3</td>\n",
       "      <td>25806</td>\n",
       "      <td>7</td>\n",
       "      <td>102</td>\n",
       "      <td>55</td>\n",
       "      <td>4</td>\n",
       "      <td>9470</td>\n",
       "      <td>14223</td>\n",
       "      <td>102</td>\n",
       "      <td>17920</td>\n",
       "      <td>35998</td>\n",
       "      <td>7</td>\n",
       "      <td>10</td>\n",
       "      <td>36297</td>\n",
       "    </tr>\n",
       "  </tbody>\n",
       "</table>\n",
       "</div>"
      ],
      "text/plain": [
       "        adult  \\\n",
       "count   36372   \n",
       "unique      5   \n",
       "top     False   \n",
       "freq    36363   \n",
       "\n",
       "                                                                                                                                    belongs_to_collection  \\\n",
       "count                                                                                                                                                3626   \n",
       "unique                                                                                                                                               1592   \n",
       "top     {'id': 421566, 'name': 'Totò Collection', 'poster_path': '/4ayJsjC3djGwU9eCWUokdBWvdLC.jpg', 'backdrop_path': '/jaUuprubvAxXLAY5hUfrNjxccUh.jpg'}   \n",
       "freq                                                                                                                                                   24   \n",
       "\n",
       "       budget                         genres                     homepage  \\\n",
       "count   36372                          36372                         6245   \n",
       "unique   1073                           3531                         6171   \n",
       "top         0  [{'id': 18, 'name': 'Drama'}]  http://www.georgecarlin.com   \n",
       "freq    29286                           3986                           10   \n",
       "\n",
       "            id    imdb_id original_language original_title  \\\n",
       "count    36372      36358             36362          36372   \n",
       "unique   36354      36338                88          34964   \n",
       "top     141971  tt1180333                en     Cinderella   \n",
       "freq         3          3             25806              7   \n",
       "\n",
       "                  overview popularity                       poster_path  \\\n",
       "count                35594      36367                             36069   \n",
       "unique               35443      35120                             36037   \n",
       "top     No overview found.        0.0  /2kslZXOaW0HmnGuVPCnQlCdXFR9.jpg   \n",
       "freq                   102         55                                 4   \n",
       "\n",
       "       production_companies  \\\n",
       "count                 36369   \n",
       "unique                18600   \n",
       "top                      []   \n",
       "freq                   9470   \n",
       "\n",
       "                                              production_countries  \\\n",
       "count                                                        36369   \n",
       "unique                                                        2052   \n",
       "top     [{'iso_3166_1': 'US', 'name': 'United States of America'}]   \n",
       "freq                                                         14223   \n",
       "\n",
       "       release_date                          spoken_languages    status  \\\n",
       "count         36297                                     36366     36301   \n",
       "unique        15478                                      1636         6   \n",
       "top      2007-01-01  [{'iso_639_1': 'en', 'name': 'English'}]  Released   \n",
       "freq            102                                     17920     35998   \n",
       "\n",
       "                       tagline       title  video  \n",
       "count                    16402       36366  36366  \n",
       "unique                   16300       34228      2  \n",
       "top     Based on a true story.  Cinderella  False  \n",
       "freq                         7          10  36297  "
      ]
     },
     "execution_count": 15,
     "metadata": {},
     "output_type": "execute_result"
    }
   ],
   "source": [
    "explo_data.describe(include='O')"
   ]
  },
  {
   "cell_type": "code",
   "execution_count": 17,
   "id": "648d9a0f-0e38-469b-9f9a-d604c0fc449a",
   "metadata": {
    "tags": []
   },
   "outputs": [
    {
     "data": {
      "text/html": [
       "<div>\n",
       "<style scoped>\n",
       "    .dataframe tbody tr th:only-of-type {\n",
       "        vertical-align: middle;\n",
       "    }\n",
       "\n",
       "    .dataframe tbody tr th {\n",
       "        vertical-align: top;\n",
       "    }\n",
       "\n",
       "    .dataframe thead th {\n",
       "        text-align: right;\n",
       "    }\n",
       "</style>\n",
       "<table border=\"1\" class=\"dataframe\">\n",
       "  <thead>\n",
       "    <tr style=\"text-align: right;\">\n",
       "      <th></th>\n",
       "      <th>revenue</th>\n",
       "      <th>runtime</th>\n",
       "      <th>vote_average</th>\n",
       "      <th>vote_count</th>\n",
       "    </tr>\n",
       "  </thead>\n",
       "  <tbody>\n",
       "    <tr>\n",
       "      <th>count</th>\n",
       "      <td>3.636600e+04</td>\n",
       "      <td>36156.000000</td>\n",
       "      <td>36366.000000</td>\n",
       "      <td>36366.000000</td>\n",
       "    </tr>\n",
       "    <tr>\n",
       "      <th>mean</th>\n",
       "      <td>1.115906e+07</td>\n",
       "      <td>94.190452</td>\n",
       "      <td>5.618737</td>\n",
       "      <td>109.285926</td>\n",
       "    </tr>\n",
       "    <tr>\n",
       "      <th>std</th>\n",
       "      <td>6.413562e+07</td>\n",
       "      <td>37.946414</td>\n",
       "      <td>1.922103</td>\n",
       "      <td>485.863405</td>\n",
       "    </tr>\n",
       "    <tr>\n",
       "      <th>min</th>\n",
       "      <td>0.000000e+00</td>\n",
       "      <td>0.000000</td>\n",
       "      <td>0.000000</td>\n",
       "      <td>0.000000</td>\n",
       "    </tr>\n",
       "    <tr>\n",
       "      <th>25%</th>\n",
       "      <td>0.000000e+00</td>\n",
       "      <td>85.000000</td>\n",
       "      <td>5.000000</td>\n",
       "      <td>3.000000</td>\n",
       "    </tr>\n",
       "    <tr>\n",
       "      <th>50%</th>\n",
       "      <td>0.000000e+00</td>\n",
       "      <td>95.000000</td>\n",
       "      <td>6.000000</td>\n",
       "      <td>10.000000</td>\n",
       "    </tr>\n",
       "    <tr>\n",
       "      <th>75%</th>\n",
       "      <td>0.000000e+00</td>\n",
       "      <td>107.000000</td>\n",
       "      <td>6.800000</td>\n",
       "      <td>34.000000</td>\n",
       "    </tr>\n",
       "    <tr>\n",
       "      <th>max</th>\n",
       "      <td>2.787965e+09</td>\n",
       "      <td>1256.000000</td>\n",
       "      <td>10.000000</td>\n",
       "      <td>14075.000000</td>\n",
       "    </tr>\n",
       "  </tbody>\n",
       "</table>\n",
       "</div>"
      ],
      "text/plain": [
       "            revenue       runtime  vote_average    vote_count\n",
       "count  3.636600e+04  36156.000000  36366.000000  36366.000000\n",
       "mean   1.115906e+07     94.190452      5.618737    109.285926\n",
       "std    6.413562e+07     37.946414      1.922103    485.863405\n",
       "min    0.000000e+00      0.000000      0.000000      0.000000\n",
       "25%    0.000000e+00     85.000000      5.000000      3.000000\n",
       "50%    0.000000e+00     95.000000      6.000000     10.000000\n",
       "75%    0.000000e+00    107.000000      6.800000     34.000000\n",
       "max    2.787965e+09   1256.000000     10.000000  14075.000000"
      ]
     },
     "execution_count": 17,
     "metadata": {},
     "output_type": "execute_result"
    }
   ],
   "source": [
    "explo_data.describe()"
   ]
  },
  {
   "cell_type": "code",
   "execution_count": 19,
   "id": "c217c38f-2f26-4749-b667-85557196f179",
   "metadata": {
    "tags": []
   },
   "outputs": [],
   "source": [
    "# will study each attribute.\n",
    "# I'll focus on the following areas.\n",
    "# 1. Type of data.\n",
    "# 2. % of missing data.\n",
    "# 3. Type of distribution. "
   ]
  },
  {
   "cell_type": "code",
   "execution_count": 21,
   "id": "b9aeb2b7-fe75-4de7-8bc3-22e9c0df6d74",
   "metadata": {
    "tags": []
   },
   "outputs": [
    {
     "data": {
      "text/plain": [
       "Index(['adult', 'belongs_to_collection', 'budget', 'genres', 'homepage', 'id',\n",
       "       'imdb_id', 'original_language', 'original_title', 'overview',\n",
       "       'popularity', 'poster_path', 'production_companies',\n",
       "       'production_countries', 'release_date', 'revenue', 'runtime',\n",
       "       'spoken_languages', 'status', 'tagline', 'title', 'video',\n",
       "       'vote_average', 'vote_count'],\n",
       "      dtype='object')"
      ]
     },
     "execution_count": 21,
     "metadata": {},
     "output_type": "execute_result"
    }
   ],
   "source": [
    "explo_data.columns"
   ]
  },
  {
   "cell_type": "markdown",
   "id": "07d9e197-022e-4a7e-a3c2-d0685a7a8495",
   "metadata": {
    "tags": []
   },
   "source": [
    "# These are the observations per attribute.\n",
    "    1. adult:\n",
    "        a). has three values that appear corrupt.\n",
    "        b). appears to be of type boolean.\n",
    "    2. belongs_to_collection:\n",
    "         a). data type is a string object which appears to be a dictionary.\n",
    "         b). only 10% is non null.\n",
    "    3. budget:\n",
    "         a). is numeric but there are values that are pure string types.\n",
    "    4. genres:\n",
    "         a). data type is a string object which is a list with dictionary objects.\n",
    "    5. homepage:\n",
    "         a). data types appears to be web links.\n",
    "         b). only 17% is non null.\n",
    "    6. id:\n",
    "       a). 18 values aren't unique.\n",
    "    7. imdb_id:\n",
    "            a). 34 values aren't unique.\n",
    "    8. original_language:\n",
    "                      a). 10 values are null.\n",
    "                      b). some values are numeric whereas the rest are strings.\n",
    "    9. original title:\n",
    "                   a). data type is strings. \n",
    "    10. overview:\n",
    "              a). 2% is null.\n",
    "              b). data type is string.\n",
    "    11. popularity:\n",
    "              a). 0.01% is null.\n",
    "              b). data type is numeric however there are pure strings present.\n",
    "    12. poster_path:\n",
    "                 a). 0.8% is null.\n",
    "                 b). data type appears path file to a jpg.\n",
    "    13. production_companies:\n",
    "                          a). 0.008% is null.\n",
    "                          b). data type is a string of list with dictionary objects.\n",
    "    14. production_countries:\n",
    "                          a). 0.008% is null.\n",
    "                          b). data type is a string of list with dictionary objects.\n",
    "    15. release_date:\n",
    "                  a). 0.2% is null.\n",
    "                  b). date type is datetime.\n",
    "    16. revenue:\n",
    "             a). 0.016% is null.\n",
    "             b). data type is numeric.\n",
    "    17. runtime: \n",
    "             a). 0.6% is null.\n",
    "             b). data type is numeric.\n",
    "    18. spoken_languages:\n",
    "                      a). 0.016% is null.\n",
    "                      b). data type is string of list with dictionary objects.\n",
    "    19. status:\n",
    "            a). 0.195% is null.\n",
    "            b). data type is categorical.\n",
    "    20. tagline:\n",
    "             a). 45% is null.\n",
    "             b). data type is string.\n",
    "    21. title:\n",
    "           a). 0.016% is null.\n",
    "           b). data is string.\n",
    "    22. video:\n",
    "           a). 0.016% is null.\n",
    "           b). data type is boolean.\n",
    "    23. vote_average:\n",
    "                  a). 0.016% is null.\n",
    "                  b). data type is numeric.\n",
    "    24. vote_count:\n",
    "                a). 0.016% is null.\n",
    "                b). data type is numeric."
   ]
  },
  {
   "cell_type": "markdown",
   "id": "61423882-1714-49ad-aadf-a2c97f7e6c26",
   "metadata": {
    "tags": []
   },
   "source": [
    "### Important notes after Data Exploration.\n",
    "1). There are missing values in the following columns:\n",
    "- belongs_to_collection (90%).\n",
    "- homepage (83%)\n",
    "- tagline (45%)\n",
    "- overview (2%)\n",
    "- poster_path (0.8%)\n",
    "- runtime (0.6%)\n",
    "- release_date (0.2%)\n",
    "- status (0.195%)\n",
    "- revenue (0.016%)\n",
    "- spoken_languages (0.016%)\n",
    "- title (0.016%)\n",
    "- video (0.016%)\n",
    "- vote_average (0.016%)\n",
    "- vote_count (0.016%)\n",
    "- popularity (0.01%)\n",
    "- production_companies (0.008%)\n",
    "- production_countries (0.008%)\n",
    "\n",
    "2). It's hard to visualize the data without first cleaning it."
   ]
  },
  {
   "cell_type": "code",
   "execution_count": 23,
   "id": "973ca3da-a2bd-464a-a4e7-70b1efab805e",
   "metadata": {
    "tags": []
   },
   "outputs": [],
   "source": [
    "# below is the data cleaning process for each attribute.\n",
    "# will use classes so as to facilitate use of pipelines.\n",
    "# three classes will be created.\n",
    "# one for numeric columns cleaning.\n",
    "# second for strings of list objects.\n",
    "# third for string objects."
   ]
  },
  {
   "cell_type": "code",
   "execution_count": 25,
   "id": "3d5a3161-11e2-4f25-aaf9-f6fb83dc9eec",
   "metadata": {
    "tags": []
   },
   "outputs": [],
   "source": [
    "from sklearn.base import BaseEstimator, TransformerMixin"
   ]
  },
  {
   "cell_type": "code",
   "execution_count": 27,
   "id": "e6f65458-4a05-4f63-8f9f-0f16c7a44925",
   "metadata": {
    "tags": []
   },
   "outputs": [],
   "source": [
    "numeric_cols = [\"budget\", \"popularity\", \"revenue\", \"runtime\", \"vote_average\", \"vote_count\"]\n",
    "class NumericCleaning(BaseEstimator, TransformerMixin):\n",
    "    def __init__(self):\n",
    "        pass\n",
    "    \n",
    "    def fit(self, X, y=None):\n",
    "        return self\n",
    "    \n",
    "    def transform(self, X, y=None):\n",
    "        for col in numeric_cols:\n",
    "            for key, val in X[col].items(): \n",
    "                try:\n",
    "                    float(val)\n",
    "                except:\n",
    "                    X.loc[key,col] = None\n",
    "        return X     "
   ]
  },
  {
   "cell_type": "code",
   "execution_count": 29,
   "id": "b185cf34-cc96-4dd8-9339-830d2a202f83",
   "metadata": {
    "tags": []
   },
   "outputs": [],
   "source": [
    "numeric_clean = NumericCleaning()\n",
    "explo_data = numeric_clean.transform(explo_data)"
   ]
  },
  {
   "cell_type": "code",
   "execution_count": 31,
   "id": "e84f5949-9c14-4823-8884-88708a22d0a2",
   "metadata": {
    "tags": []
   },
   "outputs": [],
   "source": [
    "import ast\n",
    "list_dict_cols = [\"genres\", \"production_companies\", \"production_countries\", \"spoken_languages\"]\n",
    "class ToListDictionary(BaseEstimator, TransformerMixin):\n",
    "    def __init__(self):\n",
    "        pass\n",
    "    \n",
    "    def fit(self, X, y=None):\n",
    "        return self\n",
    "    \n",
    "    def change(self, val):\n",
    "        try: \n",
    "            return ast.literal_eval(val)\n",
    "        except:\n",
    "            return []\n",
    "    \n",
    "    def transform(self, X, y=None):\n",
    "        for col in list_dict_cols:\n",
    "            X[col + \"_edit\"] = X[col].apply(self.change)\n",
    "        return X"
   ]
  },
  {
   "cell_type": "code",
   "execution_count": 33,
   "id": "936647cf-e6f2-46bf-9c14-8f12b05c6ca0",
   "metadata": {
    "tags": []
   },
   "outputs": [],
   "source": [
    "to_list = ToListDictionary()\n",
    "explo_data = to_list.transform(explo_data)\n",
    "explo_data.drop(list_dict_cols, axis=1, inplace=True)"
   ]
  },
  {
   "cell_type": "code",
   "execution_count": 34,
   "id": "8ee492ad-0144-4968-94ca-9c16d3a955ed",
   "metadata": {
    "tags": []
   },
   "outputs": [],
   "source": [
    "string_cols = [\"adult\", \"original_language\", \"original_title\", \n",
    "                \"overview\", \"status\", \"tagline\", \"title\", \"video\"]\n",
    "\n",
    "class StringCleaning(BaseEstimator, TransformerMixin):\n",
    "    def __init__(self):\n",
    "        pass\n",
    "    \n",
    "    def fit(self, X, y=None):\n",
    "        return self\n",
    "    \n",
    "    def transform(self, X, y=None):\n",
    "        for col in string_cols:\n",
    "            for key, val in X[col].items(): \n",
    "                try:\n",
    "                    float(val)\n",
    "                    X.loc[key, col] = None\n",
    "                except:\n",
    "                    X.loc[key,col] = val\n",
    "        return X     "
   ]
  },
  {
   "cell_type": "code",
   "execution_count": null,
   "id": "de7288a9-5615-4880-bb11-f6cf69226801",
   "metadata": {
    "tags": []
   },
   "outputs": [],
   "source": [
    "str_clean = StringCleaning()\n",
    "explo_data = str_clean.transform(explo_data)"
   ]
  },
  {
   "cell_type": "code",
   "execution_count": null,
   "id": "3b4d8d66-9ae9-41a6-bd44-aa1d229cb747",
   "metadata": {
    "tags": []
   },
   "outputs": [],
   "source": [
    "explo_data.info()"
   ]
  },
  {
   "cell_type": "code",
   "execution_count": 3,
   "id": "171dddf5-3bc9-4f33-94b1-f1f3f77768bf",
   "metadata": {},
   "outputs": [
    {
     "ename": "NameError",
     "evalue": "name 'join' is not defined",
     "output_type": "error",
     "traceback": [
      "\u001b[1;31m---------------------------------------------------------------------------\u001b[0m",
      "\u001b[1;31mNameError\u001b[0m                                 Traceback (most recent call last)",
      "Cell \u001b[1;32mIn[3], line 2\u001b[0m\n\u001b[0;32m      1\u001b[0m sr \u001b[38;5;241m=\u001b[39m [\u001b[38;5;241m1\u001b[39m, \u001b[38;5;241m2\u001b[39m, \u001b[38;5;241m3\u001b[39m, \u001b[38;5;241m4\u001b[39m]\n\u001b[1;32m----> 2\u001b[0m join(sr)\n",
      "\u001b[1;31mNameError\u001b[0m: name 'join' is not defined"
     ]
    }
   ],
   "source": [
    "sr = [1, 2, 3, 4]"
   ]
  },
  {
   "cell_type": "code",
   "execution_count": null,
   "id": "b53c2699-ef87-4deb-a3ad-6c40b09d1226",
   "metadata": {},
   "outputs": [],
   "source": []
  }
 ],
 "metadata": {
  "kernelspec": {
   "display_name": "Python 3 (ipykernel)",
   "language": "python",
   "name": "python3"
  },
  "language_info": {
   "codemirror_mode": {
    "name": "ipython",
    "version": 3
   },
   "file_extension": ".py",
   "mimetype": "text/x-python",
   "name": "python",
   "nbconvert_exporter": "python",
   "pygments_lexer": "ipython3",
   "version": "3.11.5"
  }
 },
 "nbformat": 4,
 "nbformat_minor": 5
}
