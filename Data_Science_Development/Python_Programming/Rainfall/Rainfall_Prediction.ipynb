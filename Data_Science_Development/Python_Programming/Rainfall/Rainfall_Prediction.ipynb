{
 "cells": [
  {
   "cell_type": "markdown",
   "id": "af09c7d0",
   "metadata": {},
   "source": [
    "# Rainfall Prediction\n",
    "*Author: Kamau Wa Wainaina*"
   ]
  },
  {
   "cell_type": "markdown",
   "id": "f06005f0",
   "metadata": {},
   "source": [
    "The problem I'm trying to solve is predicting if it will rain given past data. "
   ]
  },
  {
   "cell_type": "code",
   "execution_count": 1,
   "id": "06cd5b19",
   "metadata": {},
   "outputs": [
    {
     "name": "stderr",
     "output_type": "stream",
     "text": [
      "C:\\Users\\Admin\\AppData\\Roaming\\Python\\Python311\\site-packages\\pandas\\core\\arrays\\masked.py:60: UserWarning: Pandas requires version '1.3.6' or newer of 'bottleneck' (version '1.3.5' currently installed).\n",
      "  from pandas.core import (\n"
     ]
    }
   ],
   "source": [
    "# Librabries I'll use\n",
    "import pandas as pd\n",
    "import numpy as np\n",
    "import matplotlib.pyplot as plt\n",
    "import seaborn as sns\n",
    "from sklearn.linear_model import LogisticRegression\n",
    "from sklearn.preprocessing import StandardScaler\n",
    "from sklearn.metrics import roc_curve, roc_auc_score"
   ]
  },
  {
   "cell_type": "code",
   "execution_count": 2,
   "id": "660cb646",
   "metadata": {},
   "outputs": [],
   "source": [
    "# Data files used\n",
    "path = \"../../../Data/playground-series-s5e3/\"\n",
    "train = pd.read_csv(path+\"train.csv\")\n",
    "test = pd.read_csv(path+\"test.csv\")\n",
    "sample_submission = pd.read_csv(path+\"sample_submission.csv\")"
   ]
  },
  {
   "cell_type": "code",
   "execution_count": null,
   "id": "58fe0f47",
   "metadata": {},
   "outputs": [],
   "source": []
  }
 ],
 "metadata": {
  "kernelspec": {
   "display_name": "Python 3 (ipykernel)",
   "language": "python",
   "name": "python3"
  },
  "language_info": {
   "codemirror_mode": {
    "name": "ipython",
    "version": 3
   },
   "file_extension": ".py",
   "mimetype": "text/x-python",
   "name": "python",
   "nbconvert_exporter": "python",
   "pygments_lexer": "ipython3",
   "version": "3.11.5"
  }
 },
 "nbformat": 4,
 "nbformat_minor": 5
}
